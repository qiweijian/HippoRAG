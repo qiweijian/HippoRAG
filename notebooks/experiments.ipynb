{
 "cells": [
  {
   "cell_type": "code",
   "execution_count": 1,
   "metadata": {},
   "outputs": [
    {
     "name": "stdout",
     "output_type": "stream",
     "text": [
      "/home/qwj/code/HippoRAG\n"
     ]
    }
   ],
   "source": [
    "%cd ../"
   ]
  },
  {
   "cell_type": "code",
   "execution_count": 2,
   "metadata": {},
   "outputs": [],
   "source": [
    "import pandas as pd\n",
    "import os\n",
    "\n",
    "# Export environment variables\n",
    "os.environ['OPENAI_API_KEY'] = 'aegsdvfhuijoak'\n",
    "os.environ['CUDA_VISIBLE_DEVICES'] = '0'"
   ]
  },
  {
   "cell_type": "code",
   "execution_count": 3,
   "metadata": {},
   "outputs": [
    {
     "name": "stdout",
     "output_type": "stream",
     "text": [
      "Building Graph: 100%|███████████████| 519167/519167 [00:00<00:00, 581827.06it/s]\n",
      "2024-07-12 09:31:23,981 - hipporag_v2 - INFO - Graph built: num vertices: 113611, num_edges: 519056\n",
      "\n",
      "\n",
      "[Jul 12, 09:31:34] #> Note: Output directory data/lm_vectors/colbert/musique/phrase/indexes/nbits_2 already exists\n",
      "\n",
      "\n",
      "[Jul 12, 09:31:44] #> Loading collection...\n",
      "0M \n",
      "[Jul 12, 09:31:56] #> Loading codec...\n",
      "[Jul 12, 09:31:56] Loading decompress_residuals_cpp extension (set COLBERT_LOAD_TORCH_EXTENSION_VERBOSE=True for more info)...\n",
      "[Jul 12, 09:31:56] Loading packbits_cpp extension (set COLBERT_LOAD_TORCH_EXTENSION_VERBOSE=True for more info)...\n",
      "[Jul 12, 09:31:56] #> Loading IVF...\n",
      "[Jul 12, 09:31:56] #> Loading doclens...\n",
      "100%|███████████████████████████████████████████| 5/5 [00:00<00:00, 1913.11it/s]\n",
      "[Jul 12, 09:31:56] #> Loading codes and residuals...\n",
      "100%|████████████████████████████████████████████| 5/5 [00:00<00:00, 378.86it/s]\n",
      "\n",
      "\n",
      "[Jul 12, 09:32:06] #> Note: Output directory data/lm_vectors/colbert/musique/corpus/indexes/nbits_2 already exists\n",
      "\n",
      "\n",
      "[Jul 12, 09:32:17] #> Loading collection...\n",
      "0M \n",
      "[Jul 12, 09:32:27] #> Loading codec...\n",
      "[Jul 12, 09:32:27] #> Loading IVF...\n",
      "[Jul 12, 09:32:27] #> Loading doclens...\n",
      "100%|███████████████████████████████████████████| 1/1 [00:00<00:00, 2714.76it/s]\n",
      "[Jul 12, 09:32:27] #> Loading codes and residuals...\n",
      "100%|█████████████████████████████████████████████| 1/1 [00:00<00:00, 45.85it/s]\n",
      "[Errno 2] No such file or directory: 'output/ircot_v2/ircot_results_musique_hipporag_colbertv2_demo_1_gpt-3_5-turbo-1106_doc_ensemble_0.9_step_1_top_10_sim_thresh_0.8_damping_0.5.json'\n",
      "Results file maybe empty, cannot be loaded.\n",
      "Loaded 0 results from output/ircot_v2/ircot_results_musique_hipporag_colbertv2_demo_1_gpt-3_5-turbo-1106_doc_ensemble_0.9_step_1_top_10_sim_thresh_0.8_damping_0.5.json\n",
      "IRCoT retrieval: 100%|██████████████████████| 1000/1000 [08:53<00:00,  1.88it/s]\n",
      "Saved 1000 results to output/ircot_v2/ircot_results_musique_hipporag_colbertv2_demo_1_gpt-3_5-turbo-1106_doc_ensemble_0.9_step_1_top_10_sim_thresh_0.8_damping_0.5.json\n"
     ]
    }
   ],
   "source": [
    "!python3 src/ircot_hipporag_v2.py --dataset musique --retriever colbertv2 --max_steps 1 --doc_ensemble t --top_k 10 --sim_threshold 0.8 --damping 0.5\n"
   ]
  },
  {
   "cell_type": "code",
   "execution_count": 4,
   "metadata": {},
   "outputs": [],
   "source": [
    "import pandas as pd\n",
    "\n",
    "def recall_dict_to_columns(recall_dict):\n",
    "    return pd.Series({f'recall@{k}': v for k, v in recall_dict.items()})"
   ]
  },
  {
   "cell_type": "code",
   "execution_count": 5,
   "metadata": {},
   "outputs": [
    {
     "data": {
      "text/plain": [
       "recall@1      0.280492\n",
       "recall@2      0.394163\n",
       "recall@5      0.541417\n",
       "recall@10     0.632753\n",
       "recall@15     0.632753\n",
       "recall@20     0.632753\n",
       "recall@30     0.632753\n",
       "recall@40     0.632753\n",
       "recall@50     0.632753\n",
       "recall@80     0.632753\n",
       "recall@100    0.632753\n",
       "dtype: float64"
      ]
     },
     "execution_count": 5,
     "metadata": {},
     "output_type": "execute_result"
    }
   ],
   "source": [
    "output_path = \"output/ircot_v2/ircot_results_musique_hipporag_colbertv2_demo_1_gpt-3_5-turbo-1106_doc_ensemble_0.9_step_1_top_10_sim_thresh_0.8_damping_0.5.json\"\n",
    "result = pd.read_json(output_path)\n",
    "\n",
    "# 对每一行的 recall 列应用上述函数，并将结果拼接到新的 DataFrame\n",
    "recall_df = result['recall'].apply(recall_dict_to_columns)\n",
    "\n",
    "# 显示新创建的 DataFrame\n",
    "recall_df.mean()\n"
   ]
  },
  {
   "cell_type": "markdown",
   "metadata": {},
   "source": [
    "W/o DPR"
   ]
  },
  {
   "cell_type": "code",
   "execution_count": 6,
   "metadata": {},
   "outputs": [
    {
     "name": "stdout",
     "output_type": "stream",
     "text": [
      "Building Graph: 100%|███████████████| 519167/519167 [00:00<00:00, 524882.22it/s]\n",
      "2024-07-12 09:49:10,834 - hipporag_v2 - INFO - Graph built: num vertices: 113611, num_edges: 519056\n",
      "\n",
      "\n",
      "[Jul 12, 09:49:20] #> Note: Output directory data/lm_vectors/colbert/musique/phrase/indexes/nbits_2 already exists\n",
      "\n",
      "\n",
      "[Jul 12, 09:49:31] #> Loading collection...\n",
      "0M \n",
      "[Jul 12, 09:49:42] #> Loading codec...\n",
      "[Jul 12, 09:49:42] Loading decompress_residuals_cpp extension (set COLBERT_LOAD_TORCH_EXTENSION_VERBOSE=True for more info)...\n",
      "[Jul 12, 09:49:42] Loading packbits_cpp extension (set COLBERT_LOAD_TORCH_EXTENSION_VERBOSE=True for more info)...\n",
      "[Jul 12, 09:49:43] #> Loading IVF...\n",
      "[Jul 12, 09:49:43] #> Loading doclens...\n",
      "100%|███████████████████████████████████████████| 5/5 [00:00<00:00, 1037.83it/s]\n",
      "[Jul 12, 09:49:43] #> Loading codes and residuals...\n",
      "100%|████████████████████████████████████████████| 5/5 [00:00<00:00, 295.88it/s]\n",
      "[Errno 2] No such file or directory: 'output/ircot_v2/ircot_results_musique_hipporag_colbertv2_demo_1_gpt-3_5-turbo-1106_no_ensemble_step_1_top_10_sim_thresh_0.8_damping_0.5.json'\n",
      "Results file maybe empty, cannot be loaded.\n",
      "Loaded 0 results from output/ircot_v2/ircot_results_musique_hipporag_colbertv2_demo_1_gpt-3_5-turbo-1106_no_ensemble_step_1_top_10_sim_thresh_0.8_damping_0.5.json\n",
      "IRCoT retrieval: 100%|██████████████████████| 1000/1000 [08:16<00:00,  2.02it/s]\n",
      "Saved 1000 results to output/ircot_v2/ircot_results_musique_hipporag_colbertv2_demo_1_gpt-3_5-turbo-1106_no_ensemble_step_1_top_10_sim_thresh_0.8_damping_0.5.json\n"
     ]
    }
   ],
   "source": [
    "# Run the script with the specified arguments\n",
    "!python3 src/ircot_hipporag_v2.py --dataset musique --retriever colbertv2 --max_steps 1 --doc_ensemble f --top_k 10 --sim_threshold 0.8 --damping 0.5"
   ]
  },
  {
   "cell_type": "code",
   "execution_count": 7,
   "metadata": {},
   "outputs": [
    {
     "data": {
      "text/plain": [
       "recall@1      0.259576\n",
       "recall@2      0.353329\n",
       "recall@5      0.462580\n",
       "recall@10     0.529665\n",
       "recall@15     0.529665\n",
       "recall@20     0.529665\n",
       "recall@30     0.529665\n",
       "recall@40     0.529665\n",
       "recall@50     0.529665\n",
       "recall@80     0.529665\n",
       "recall@100    0.529665\n",
       "dtype: float64"
      ]
     },
     "execution_count": 7,
     "metadata": {},
     "output_type": "execute_result"
    }
   ],
   "source": [
    "output_path = \"output/ircot_v2/ircot_results_musique_hipporag_colbertv2_demo_1_gpt-3_5-turbo-1106_no_ensemble_step_1_top_10_sim_thresh_0.8_damping_0.5.json\"\n",
    "result = pd.read_json(output_path)\n",
    "\n",
    "# 对每一行的 recall 列应用上述函数，并将结果拼接到新的 DataFrame\n",
    "recall_df = result['recall'].apply(recall_dict_to_columns)\n",
    "\n",
    "# 显示新创建的 DataFrame\n",
    "recall_df.mean()\n"
   ]
  },
  {
   "cell_type": "code",
   "execution_count": 9,
   "metadata": {},
   "outputs": [
    {
     "name": "stdout",
     "output_type": "stream",
     "text": [
      "Building Graph: 100%|███████████████| 519167/519167 [00:00<00:00, 596872.49it/s]\n",
      "2024-07-12 09:59:51,899 - hipporag - INFO - Graph built: num vertices: 113611, num_edges: 519056\n",
      "\n",
      "\n",
      "[Jul 12, 10:00:02] #> Note: Output directory data/lm_vectors/colbert/musique/phrase/indexes/nbits_2 already exists\n",
      "\n",
      "\n",
      "[Jul 12, 10:00:12] #> Loading collection...\n",
      "0M \n",
      "[Jul 12, 10:00:23] #> Loading codec...\n",
      "[Jul 12, 10:00:23] Loading decompress_residuals_cpp extension (set COLBERT_LOAD_TORCH_EXTENSION_VERBOSE=True for more info)...\n",
      "[Jul 12, 10:00:23] Loading packbits_cpp extension (set COLBERT_LOAD_TORCH_EXTENSION_VERBOSE=True for more info)...\n",
      "[Jul 12, 10:00:24] #> Loading IVF...\n",
      "[Jul 12, 10:00:24] #> Loading doclens...\n",
      "100%|███████████████████████████████████████████| 5/5 [00:00<00:00, 1083.69it/s]\n",
      "[Jul 12, 10:00:24] #> Loading codes and residuals...\n",
      "100%|████████████████████████████████████████████| 5/5 [00:00<00:00, 313.94it/s]\n",
      "[Errno 2] No such file or directory: 'output/ircot/ircot_results_musique_hipporag_colbertv2_demo_1_gpt-3_5-turbo-1106_no_ensemble_step_1_top_10_sim_thresh_0.8_damping_0.5.json'\n",
      "Results file maybe empty, cannot be loaded.\n",
      "Loaded 0 results from output/ircot/ircot_results_musique_hipporag_colbertv2_demo_1_gpt-3_5-turbo-1106_no_ensemble_step_1_top_10_sim_thresh_0.8_damping_0.5.json\n",
      "IRCoT retrieval: 100%|██████████████████████| 1000/1000 [04:33<00:00,  3.65it/s]\n",
      "Saved 1000 results to output/ircot/ircot_results_musique_hipporag_colbertv2_demo_1_gpt-3_5-turbo-1106_no_ensemble_step_1_top_10_sim_thresh_0.8_damping_0.5.json\n"
     ]
    }
   ],
   "source": [
    "# Run the script with the specified arguments\n",
    "!python3 src/ircot_hipporag.py --dataset musique --retriever colbertv2 --max_steps 1 --doc_ensemble f --top_k 10 --sim_threshold 0.8 --damping 0.5"
   ]
  },
  {
   "cell_type": "code",
   "execution_count": 10,
   "metadata": {},
   "outputs": [
    {
     "data": {
      "text/plain": [
       "recall@1      0.290742\n",
       "recall@2      0.401746\n",
       "recall@5      0.504164\n",
       "recall@10     0.568248\n",
       "recall@15     0.568248\n",
       "recall@20     0.568248\n",
       "recall@30     0.568248\n",
       "recall@40     0.568248\n",
       "recall@50     0.568248\n",
       "recall@80     0.568248\n",
       "recall@100    0.568248\n",
       "dtype: float64"
      ]
     },
     "execution_count": 10,
     "metadata": {},
     "output_type": "execute_result"
    }
   ],
   "source": [
    "output_path = \"output/ircot/ircot_results_musique_hipporag_colbertv2_demo_1_gpt-3_5-turbo-1106_no_ensemble_step_1_top_10_sim_thresh_0.8_damping_0.5.json\"\n",
    "result = pd.read_json(output_path)\n",
    "\n",
    "# 对每一行的 recall 列应用上述函数，并将结果拼接到新的 DataFrame\n",
    "recall_df = result['recall'].apply(recall_dict_to_columns)\n",
    "\n",
    "# 显示新创建的 DataFrame\n",
    "recall_df.mean()\n"
   ]
  },
  {
   "cell_type": "markdown",
   "metadata": {},
   "source": [
    "## W/o bidirectional edges"
   ]
  },
  {
   "cell_type": "code",
   "execution_count": 4,
   "metadata": {},
   "outputs": [
    {
     "name": "stdout",
     "output_type": "stream",
     "text": [
      "Building Graph: 100%|███████████████| 314631/314631 [00:00<00:00, 595001.26it/s]\n",
      "2024-07-08 04:02:27,699 - hipporag_v2 - INFO - Graph built: num vertices: 113611, num_edges: 314631\n",
      "\n",
      "\n",
      "[Jul 08, 04:02:37] #> Note: Output directory data/lm_vectors/colbert/musique/phrase/indexes/nbits_2 already exists\n",
      "\n",
      "\n",
      "[Jul 08, 04:02:47] #> Loading collection...\n",
      "0M \n",
      "[Jul 08, 04:02:59] #> Loading codec...\n",
      "[Jul 08, 04:02:59] Loading decompress_residuals_cpp extension (set COLBERT_LOAD_TORCH_EXTENSION_VERBOSE=True for more info)...\n",
      "[Jul 08, 04:02:59] Loading packbits_cpp extension (set COLBERT_LOAD_TORCH_EXTENSION_VERBOSE=True for more info)...\n",
      "[Jul 08, 04:02:59] #> Loading IVF...\n",
      "[Jul 08, 04:02:59] #> Loading doclens...\n",
      "100%|███████████████████████████████████████████| 5/5 [00:00<00:00, 1154.25it/s]\n",
      "[Jul 08, 04:02:59] #> Loading codes and residuals...\n",
      "100%|████████████████████████████████████████████| 5/5 [00:00<00:00, 327.15it/s]\n",
      "\n",
      "\n",
      "[Jul 08, 04:03:09] #> Note: Output directory data/lm_vectors/colbert/musique/corpus/indexes/nbits_2 already exists\n",
      "\n",
      "\n",
      "[Jul 08, 04:03:19] #> Loading collection...\n",
      "0M \n",
      "[Jul 08, 04:03:30] #> Loading codec...\n",
      "[Jul 08, 04:03:30] #> Loading IVF...\n",
      "[Jul 08, 04:03:30] #> Loading doclens...\n",
      "100%|███████████████████████████████████████████| 1/1 [00:00<00:00, 2319.86it/s]\n",
      "[Jul 08, 04:03:30] #> Loading codes and residuals...\n",
      "100%|█████████████████████████████████████████████| 1/1 [00:00<00:00, 99.92it/s]\n",
      "[Errno 2] No such file or directory: 'output/ircot/ircot_results_musique_hipporag_colbertv2_demo_1_gpt-3_5-turbo-1106_doc_ensemble_0.9_step_1_top_10_sim_thresh_0.8_damping_0.5.json'\n",
      "Results file maybe empty, cannot be loaded.\n",
      "Loaded 0 results from output/ircot/ircot_results_musique_hipporag_colbertv2_demo_1_gpt-3_5-turbo-1106_doc_ensemble_0.9_step_1_top_10_sim_thresh_0.8_damping_0.5.json\n",
      "IRCoT retrieval: 100%|██████████████████████| 1000/1000 [08:45<00:00,  1.90it/s]\n",
      "Saved 1000 results to output/ircot/ircot_results_musique_hipporag_colbertv2_demo_1_gpt-3_5-turbo-1106_doc_ensemble_0.9_step_1_top_10_sim_thresh_0.8_damping_0.5.json\n"
     ]
    }
   ],
   "source": [
    "import os\n",
    "\n",
    "# Export environment variables\n",
    "os.environ['OPENAI_API_KEY'] = 'aegsdvfhuijoak'\n",
    "os.environ['CUDA_VISIBLE_DEVICES'] = '4,5'\n",
    "\n",
    "# Run the script with the specified arguments\n",
    "!python3 src/ircot_hipporag.py --dataset musique --retriever colbertv2 --max_steps 1 --doc_ensemble t --top_k 10 --sim_threshold 0.8 --damping 0.5"
   ]
  },
  {
   "cell_type": "code",
   "execution_count": 6,
   "metadata": {},
   "outputs": [
    {
     "data": {
      "text/html": [
       "<div>\n",
       "<style scoped>\n",
       "    .dataframe tbody tr th:only-of-type {\n",
       "        vertical-align: middle;\n",
       "    }\n",
       "\n",
       "    .dataframe tbody tr th {\n",
       "        vertical-align: top;\n",
       "    }\n",
       "\n",
       "    .dataframe thead th {\n",
       "        text-align: right;\n",
       "    }\n",
       "</style>\n",
       "<table border=\"1\" class=\"dataframe\">\n",
       "  <thead>\n",
       "    <tr style=\"text-align: right;\">\n",
       "      <th></th>\n",
       "      <th>recall@1</th>\n",
       "      <th>recall@2</th>\n",
       "      <th>recall@5</th>\n",
       "      <th>recall@10</th>\n",
       "      <th>recall@15</th>\n",
       "      <th>recall@20</th>\n",
       "      <th>recall@30</th>\n",
       "      <th>recall@40</th>\n",
       "      <th>recall@50</th>\n",
       "      <th>recall@80</th>\n",
       "      <th>recall@100</th>\n",
       "    </tr>\n",
       "  </thead>\n",
       "  <tbody>\n",
       "    <tr>\n",
       "      <th>0</th>\n",
       "      <td>0.0</td>\n",
       "      <td>0.5</td>\n",
       "      <td>0.5</td>\n",
       "      <td>0.5000</td>\n",
       "      <td>0.5000</td>\n",
       "      <td>0.5000</td>\n",
       "      <td>0.5000</td>\n",
       "      <td>0.5000</td>\n",
       "      <td>0.5000</td>\n",
       "      <td>0.5000</td>\n",
       "      <td>0.5000</td>\n",
       "    </tr>\n",
       "    <tr>\n",
       "      <th>1</th>\n",
       "      <td>0.0</td>\n",
       "      <td>0.0</td>\n",
       "      <td>0.0</td>\n",
       "      <td>0.3333</td>\n",
       "      <td>0.3333</td>\n",
       "      <td>0.3333</td>\n",
       "      <td>0.3333</td>\n",
       "      <td>0.3333</td>\n",
       "      <td>0.3333</td>\n",
       "      <td>0.3333</td>\n",
       "      <td>0.3333</td>\n",
       "    </tr>\n",
       "    <tr>\n",
       "      <th>2</th>\n",
       "      <td>0.5</td>\n",
       "      <td>0.5</td>\n",
       "      <td>0.5</td>\n",
       "      <td>0.5000</td>\n",
       "      <td>0.5000</td>\n",
       "      <td>0.5000</td>\n",
       "      <td>0.5000</td>\n",
       "      <td>0.5000</td>\n",
       "      <td>0.5000</td>\n",
       "      <td>0.5000</td>\n",
       "      <td>0.5000</td>\n",
       "    </tr>\n",
       "    <tr>\n",
       "      <th>3</th>\n",
       "      <td>0.5</td>\n",
       "      <td>0.5</td>\n",
       "      <td>0.5</td>\n",
       "      <td>0.5000</td>\n",
       "      <td>0.5000</td>\n",
       "      <td>0.5000</td>\n",
       "      <td>0.5000</td>\n",
       "      <td>0.5000</td>\n",
       "      <td>0.5000</td>\n",
       "      <td>0.5000</td>\n",
       "      <td>0.5000</td>\n",
       "    </tr>\n",
       "    <tr>\n",
       "      <th>4</th>\n",
       "      <td>0.0</td>\n",
       "      <td>0.5</td>\n",
       "      <td>0.5</td>\n",
       "      <td>1.0000</td>\n",
       "      <td>1.0000</td>\n",
       "      <td>1.0000</td>\n",
       "      <td>1.0000</td>\n",
       "      <td>1.0000</td>\n",
       "      <td>1.0000</td>\n",
       "      <td>1.0000</td>\n",
       "      <td>1.0000</td>\n",
       "    </tr>\n",
       "  </tbody>\n",
       "</table>\n",
       "</div>"
      ],
      "text/plain": [
       "   recall@1  recall@2  recall@5  recall@10  recall@15  recall@20  recall@30  \\\n",
       "0       0.0       0.5       0.5     0.5000     0.5000     0.5000     0.5000   \n",
       "1       0.0       0.0       0.0     0.3333     0.3333     0.3333     0.3333   \n",
       "2       0.5       0.5       0.5     0.5000     0.5000     0.5000     0.5000   \n",
       "3       0.5       0.5       0.5     0.5000     0.5000     0.5000     0.5000   \n",
       "4       0.0       0.5       0.5     1.0000     1.0000     1.0000     1.0000   \n",
       "\n",
       "   recall@40  recall@50  recall@80  recall@100  \n",
       "0     0.5000     0.5000     0.5000      0.5000  \n",
       "1     0.3333     0.3333     0.3333      0.3333  \n",
       "2     0.5000     0.5000     0.5000      0.5000  \n",
       "3     0.5000     0.5000     0.5000      0.5000  \n",
       "4     1.0000     1.0000     1.0000      1.0000  "
      ]
     },
     "execution_count": 6,
     "metadata": {},
     "output_type": "execute_result"
    }
   ],
   "source": [
    "output_path = \"output/ircot/ircot_results_musique_hipporag_colbertv2_demo_1_gpt-3_5-turbo-1106_doc_ensemble_0.9_step_1_top_10_sim_thresh_0.8_damping_0.5.json\"\n",
    "\n",
    "result = pd.read_json(output_path)\n",
    "\n",
    "def recall_dict_to_columns(recall_dict):\n",
    "    return pd.Series({f'recall@{k}': v for k, v in recall_dict.items()})\n",
    "\n",
    "# 对每一行的 recall 列应用上述函数，并将结果拼接到新的 DataFrame\n",
    "recall_df = result['recall'].apply(recall_dict_to_columns)\n",
    "\n",
    "# 显示新创建的 DataFrame\n",
    "recall_df.head()\n"
   ]
  },
  {
   "cell_type": "code",
   "execution_count": 7,
   "metadata": {},
   "outputs": [
    {
     "data": {
      "text/plain": [
       "recall@1      0.283075\n",
       "recall@2      0.390247\n",
       "recall@5      0.505917\n",
       "recall@10     0.580669\n",
       "recall@15     0.580669\n",
       "recall@20     0.580669\n",
       "recall@30     0.580669\n",
       "recall@40     0.580669\n",
       "recall@50     0.580669\n",
       "recall@80     0.580669\n",
       "recall@100    0.580669\n",
       "dtype: float64"
      ]
     },
     "execution_count": 7,
     "metadata": {},
     "output_type": "execute_result"
    }
   ],
   "source": [
    "recall_df.mean()"
   ]
  },
  {
   "cell_type": "markdown",
   "metadata": {},
   "source": [
    "## Rel Bidirectional"
   ]
  },
  {
   "cell_type": "code",
   "execution_count": 2,
   "metadata": {},
   "outputs": [
    {
     "name": "stdout",
     "output_type": "stream",
     "text": [
      "Building Graph: 100%|███████████████| 491748/491748 [00:00<00:00, 597091.41it/s]\n",
      "2024-07-08 04:53:35,595 - hipporag_v2 - INFO - Graph built: num vertices: 113611, num_edges: 491748\n",
      "\n",
      "\n",
      "[Jul 08, 04:53:35] #> Note: Output directory data/lm_vectors/colbert/musique/phrase/indexes/nbits_2 already exists\n",
      "\n",
      "\n",
      "[Jul 08, 04:53:35] #> Loading collection...\n",
      "0M \n",
      "[Jul 08, 04:53:37] #> Loading codec...\n",
      "[Jul 08, 04:53:37] Loading decompress_residuals_cpp extension (set COLBERT_LOAD_TORCH_EXTENSION_VERBOSE=True for more info)...\n",
      "[Jul 08, 04:53:37] Loading packbits_cpp extension (set COLBERT_LOAD_TORCH_EXTENSION_VERBOSE=True for more info)...\n",
      "[Jul 08, 04:53:37] #> Loading IVF...\n",
      "[Jul 08, 04:53:37] #> Loading doclens...\n",
      "100%|███████████████████████████████████████████| 5/5 [00:00<00:00, 1369.08it/s]\n",
      "[Jul 08, 04:53:37] #> Loading codes and residuals...\n",
      "100%|████████████████████████████████████████████| 5/5 [00:00<00:00, 341.23it/s]\n",
      "\n",
      "\n",
      "[Jul 08, 04:53:37] #> Note: Output directory data/lm_vectors/colbert/musique/corpus/indexes/nbits_2 already exists\n",
      "\n",
      "\n",
      "[Jul 08, 04:53:37] #> Loading collection...\n",
      "0M \n",
      "[Jul 08, 04:53:38] #> Loading codec...\n",
      "[Jul 08, 04:53:38] #> Loading IVF...\n",
      "[Jul 08, 04:53:38] #> Loading doclens...\n",
      "100%|███████████████████████████████████████████| 1/1 [00:00<00:00, 2344.50it/s]\n",
      "[Jul 08, 04:53:38] #> Loading codes and residuals...\n",
      "100%|█████████████████████████████████████████████| 1/1 [00:00<00:00, 47.43it/s]\n",
      "[Errno 2] No such file or directory: 'output/ircot/ircot_results_musique_hipporag_colbertv2_demo_1_gpt-3_5-turbo-1106_doc_ensemble_0.9_step_1_top_10_sim_thresh_0.8_damping_0.5.json'\n",
      "Results file maybe empty, cannot be loaded.\n",
      "Loaded 0 results from output/ircot/ircot_results_musique_hipporag_colbertv2_demo_1_gpt-3_5-turbo-1106_doc_ensemble_0.9_step_1_top_10_sim_thresh_0.8_damping_0.5.json\n",
      "IRCoT retrieval: 100%|██████████████████████| 1000/1000 [08:56<00:00,  1.86it/s]\n",
      "Saved 1000 results to output/ircot/ircot_results_musique_hipporag_colbertv2_demo_1_gpt-3_5-turbo-1106_doc_ensemble_0.9_step_1_top_10_sim_thresh_0.8_damping_0.5.json\n"
     ]
    }
   ],
   "source": [
    "import os\n",
    "\n",
    "# Export environment variables\n",
    "os.environ['OPENAI_API_KEY'] = 'aegsdvfhuijoak'\n",
    "os.environ['CUDA_VISIBLE_DEVICES'] = '4,5'\n",
    "\n",
    "# Run the script with the specified arguments\n",
    "!rm -f output/ircot/ircot_results_musique_hipporag_colbertv2_demo_1_gpt-3_5-turbo-1106_doc_ensemble_0.9_step_1_top_10_sim_thresh_0.8_damping_0.5.json\n",
    "!python3 src/ircot_hipporag.py --dataset musique --retriever colbertv2 --max_steps 1 --doc_ensemble t --top_k 10 --sim_threshold 0.8 --damping 0.5"
   ]
  },
  {
   "cell_type": "code",
   "execution_count": 5,
   "metadata": {},
   "outputs": [
    {
     "data": {
      "text/plain": [
       "recall@1      0.281075\n",
       "recall@2      0.387663\n",
       "recall@5      0.504500\n",
       "recall@10     0.578669\n",
       "recall@15     0.578669\n",
       "recall@20     0.578669\n",
       "recall@30     0.578669\n",
       "recall@40     0.578669\n",
       "recall@50     0.578669\n",
       "recall@80     0.578669\n",
       "recall@100    0.578669\n",
       "dtype: float64"
      ]
     },
     "execution_count": 5,
     "metadata": {},
     "output_type": "execute_result"
    }
   ],
   "source": [
    "output_path = \"output/ircot/ircot_results_musique_hipporag_colbertv2_demo_1_gpt-3_5-turbo-1106_doc_ensemble_0.9_step_1_top_10_sim_thresh_0.8_damping_0.5.json\"\n",
    "\n",
    "result = pd.read_json(output_path)\n",
    "\n",
    "def recall_dict_to_columns(recall_dict):\n",
    "    return pd.Series({f'recall@{k}': v for k, v in recall_dict.items()})\n",
    "\n",
    "# 对每一行的 recall 列应用上述函数，并将结果拼接到新的 DataFrame\n",
    "recall_df = result['recall'].apply(recall_dict_to_columns)\n",
    "\n",
    "# 显示新创建的 DataFrame\n",
    "recall_df.mean()"
   ]
  },
  {
   "cell_type": "markdown",
   "metadata": {},
   "source": [
    "## Rel Bidirectional + Entt Bid"
   ]
  },
  {
   "cell_type": "code",
   "execution_count": 6,
   "metadata": {},
   "outputs": [
    {
     "name": "stdout",
     "output_type": "stream",
     "text": [
      "Building Graph: 100%|███████████████| 696273/696273 [00:01<00:00, 549187.97it/s]\n",
      "2024-07-08 05:11:22,797 - hipporag_v2 - INFO - Graph built: num vertices: 113611, num_edges: 696162\n",
      "\n",
      "\n",
      "[Jul 08, 05:11:22] #> Note: Output directory data/lm_vectors/colbert/musique/phrase/indexes/nbits_2 already exists\n",
      "\n",
      "\n",
      "[Jul 08, 05:11:22] #> Loading collection...\n",
      "0M \n",
      "[Jul 08, 05:11:24] #> Loading codec...\n",
      "[Jul 08, 05:11:24] Loading decompress_residuals_cpp extension (set COLBERT_LOAD_TORCH_EXTENSION_VERBOSE=True for more info)...\n",
      "[Jul 08, 05:11:24] Loading packbits_cpp extension (set COLBERT_LOAD_TORCH_EXTENSION_VERBOSE=True for more info)...\n",
      "[Jul 08, 05:11:24] #> Loading IVF...\n",
      "[Jul 08, 05:11:24] #> Loading doclens...\n",
      "100%|███████████████████████████████████████████| 5/5 [00:00<00:00, 1392.99it/s]\n",
      "[Jul 08, 05:11:24] #> Loading codes and residuals...\n",
      "100%|████████████████████████████████████████████| 5/5 [00:00<00:00, 380.41it/s]\n",
      "\n",
      "\n",
      "[Jul 08, 05:11:24] #> Note: Output directory data/lm_vectors/colbert/musique/corpus/indexes/nbits_2 already exists\n",
      "\n",
      "\n",
      "[Jul 08, 05:11:24] #> Loading collection...\n",
      "0M \n",
      "[Jul 08, 05:11:25] #> Loading codec...\n",
      "[Jul 08, 05:11:25] #> Loading IVF...\n",
      "[Jul 08, 05:11:25] #> Loading doclens...\n",
      "100%|███████████████████████████████████████████| 1/1 [00:00<00:00, 2302.03it/s]\n",
      "[Jul 08, 05:11:25] #> Loading codes and residuals...\n",
      "100%|████████████████████████████████████████████| 1/1 [00:00<00:00, 106.21it/s]\n",
      "[Errno 2] No such file or directory: 'output/ircot/ircot_results_musique_hipporag_colbertv2_demo_1_gpt-3_5-turbo-1106_doc_ensemble_0.9_step_1_top_10_sim_thresh_0.8_damping_0.5.json'\n",
      "Results file maybe empty, cannot be loaded.\n",
      "Loaded 0 results from output/ircot/ircot_results_musique_hipporag_colbertv2_demo_1_gpt-3_5-turbo-1106_doc_ensemble_0.9_step_1_top_10_sim_thresh_0.8_damping_0.5.json\n",
      "IRCoT retrieval: 100%|██████████████████████| 1000/1000 [09:16<00:00,  1.80it/s]\n",
      "Saved 1000 results to output/ircot/ircot_results_musique_hipporag_colbertv2_demo_1_gpt-3_5-turbo-1106_doc_ensemble_0.9_step_1_top_10_sim_thresh_0.8_damping_0.5.json\n"
     ]
    }
   ],
   "source": [
    "import os\n",
    "\n",
    "# Export environment variables\n",
    "os.environ['OPENAI_API_KEY'] = 'aegsdvfhuijoak'\n",
    "os.environ['CUDA_VISIBLE_DEVICES'] = '4,5'\n",
    "\n",
    "# Run the script with the specified arguments\n",
    "!rm -f output/ircot/ircot_results_musique_hipporag_colbertv2_demo_1_gpt-3_5-turbo-1106_doc_ensemble_0.9_step_1_top_10_sim_thresh_0.8_damping_0.5.json\n",
    "!python3 src/ircot_hipporag.py --dataset musique --retriever colbertv2 --max_steps 1 --doc_ensemble t --top_k 10 --sim_threshold 0.8 --damping 0.5"
   ]
  },
  {
   "cell_type": "code",
   "execution_count": 7,
   "metadata": {},
   "outputs": [
    {
     "data": {
      "text/plain": [
       "recall@1      0.283242\n",
       "recall@2      0.394080\n",
       "recall@5      0.533251\n",
       "recall@10     0.627753\n",
       "recall@15     0.627753\n",
       "recall@20     0.627753\n",
       "recall@30     0.627753\n",
       "recall@40     0.627753\n",
       "recall@50     0.627753\n",
       "recall@80     0.627753\n",
       "recall@100    0.627753\n",
       "dtype: float64"
      ]
     },
     "execution_count": 7,
     "metadata": {},
     "output_type": "execute_result"
    }
   ],
   "source": [
    "output_path = \"output/ircot/ircot_results_musique_hipporag_colbertv2_demo_1_gpt-3_5-turbo-1106_doc_ensemble_0.9_step_1_top_10_sim_thresh_0.8_damping_0.5.json\"\n",
    "\n",
    "result = pd.read_json(output_path)\n",
    "\n",
    "def recall_dict_to_columns(recall_dict):\n",
    "    return pd.Series({f'recall@{k}': v for k, v in recall_dict.items()})\n",
    "\n",
    "# 对每一行的 recall 列应用上述函数，并将结果拼接到新的 DataFrame\n",
    "recall_df = result['recall'].apply(recall_dict_to_columns)\n",
    "\n",
    "# 显示新创建的 DataFrame\n",
    "recall_df.mean()"
   ]
  }
 ],
 "metadata": {
  "kernelspec": {
   "display_name": "hipporag",
   "language": "python",
   "name": "python3"
  },
  "language_info": {
   "codemirror_mode": {
    "name": "ipython",
    "version": 3
   },
   "file_extension": ".py",
   "mimetype": "text/x-python",
   "name": "python",
   "nbconvert_exporter": "python",
   "pygments_lexer": "ipython3",
   "version": "3.9.19"
  }
 },
 "nbformat": 4,
 "nbformat_minor": 2
}
