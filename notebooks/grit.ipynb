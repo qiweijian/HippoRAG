{
 "cells": [
  {
   "cell_type": "code",
   "execution_count": 1,
   "metadata": {},
   "outputs": [
    {
     "name": "stdout",
     "output_type": "stream",
     "text": [
      "/home/qwj/code/HippoRAG\n"
     ]
    }
   ],
   "source": [
    "%cd ../"
   ]
  },
  {
   "cell_type": "code",
   "execution_count": 2,
   "metadata": {},
   "outputs": [],
   "source": [
    "import os\n",
    "\n",
    "os.environ[\"CUDA_VISIBLE_DEVICES\"]=\"2,3\""
   ]
  },
  {
   "cell_type": "code",
   "execution_count": 3,
   "metadata": {},
   "outputs": [],
   "source": [
    "import pandas as pd\n",
    "import numpy as np\n",
    "from typing import List, Tuple"
   ]
  },
  {
   "cell_type": "code",
   "execution_count": 4,
   "metadata": {},
   "outputs": [
    {
     "data": {
      "text/plain": [
       "22222"
      ]
     },
     "execution_count": 4,
     "metadata": {},
     "output_type": "execute_result"
    }
   ],
   "source": [
    "all_relations = pd.read_csv(\"./output/musique_gpt/relations.tsv\", sep='\\t', header=None)\n",
    "all_relations_names = all_relations[1].tolist()\n",
    "len(all_relations_names)\n"
   ]
  },
  {
   "cell_type": "code",
   "execution_count": 5,
   "metadata": {},
   "outputs": [
    {
     "name": "stderr",
     "output_type": "stream",
     "text": [
      "/home/qwj/miniconda3/envs/hipporag/lib/python3.9/site-packages/tqdm/auto.py:21: TqdmWarning: IProgress not found. Please update jupyter and ipywidgets. See https://ipywidgets.readthedocs.io/en/stable/user_install.html\n",
      "  from .autonotebook import tqdm as notebook_tqdm\n"
     ]
    }
   ],
   "source": [
    "from gritlm import GritLM\n",
    "class GritWrapper:\n",
    "    def __init__(self) -> None:\n",
    "        super().__init__()\n",
    "        self.retrieval_model = GritLM(\"/data/qwj/model/GritLM-7B\", torch_dtype=\"auto\")\n",
    "        # self.tokenizer = AutoTokenizer.from_pretrained(retrieval_model_name)\n",
    "        instruction = \"Given a relation, retrieve the relevant relations\"\n",
    "        self.query_instruction = \"<|user|>\\n\" + instruction + \"\\n<|embed|>\\n\" \n",
    "\n",
    "    def index(self, corpus: List[str]):\n",
    "        self.docs = corpus\n",
    "        self.doc_embedding_mat = self.retrieval_model.encode_corpus(corpus, instruction='<|embed|>\\n')\n",
    "    \n",
    "    def retrieve_one_query(self, query: str) -> List[Tuple[float, str]]:\n",
    "        query_embedding = self.retrieval_model.encode(query, instruction=self.query_instruction)\n",
    "        query_doc_scores = np.dot(self.doc_embedding_mat, query_embedding.T)\n",
    "        sorted_indices = np.argsort(query_doc_scores)[::-1]\n",
    "        sorted_scores = [query_doc_scores[idx] for idx in sorted_indices]\n",
    "        sorted_docs = [self.docs[idx] for idx in sorted_indices]\n",
    "        return sorted_scores, sorted_docs"
   ]
  },
  {
   "cell_type": "code",
   "execution_count": 6,
   "metadata": {},
   "outputs": [
    {
     "name": "stderr",
     "output_type": "stream",
     "text": [
      "Loading checkpoint shards: 100%|██████████| 3/3 [00:00<00:00,  3.11it/s]\n"
     ]
    },
    {
     "name": "stdout",
     "output_type": "stream",
     "text": [
      "Created GritLM: torch.bfloat16 dtype, mean pool, unified mode, bbcc attn\n"
     ]
    },
    {
     "name": "stderr",
     "output_type": "stream",
     "text": [
      "Batches: 100%|██████████| 87/87 [01:38<00:00,  1.13s/it]\n"
     ]
    }
   ],
   "source": [
    "retriever = GritWrapper()\n",
    "retriever.index(all_relations_names)"
   ]
  },
  {
   "cell_type": "code",
   "execution_count": 10,
   "metadata": {},
   "outputs": [
    {
     "data": {
      "text/plain": [
       "(22222,)"
      ]
     },
     "execution_count": 10,
     "metadata": {},
     "output_type": "execute_result"
    }
   ],
   "source": [
    "query = \"immediately north of\"\n",
    "query_embedding = retriever.retrieval_model.encode(query, instruction=retriever.query_instruction)\n",
    "query_doc_scores = np.dot(retriever.doc_embedding_mat, query_embedding.T)\n",
    "# query_doc_scores = query_doc_scores.T[0]\n",
    "query_doc_scores.shape"
   ]
  },
  {
   "cell_type": "code",
   "execution_count": 11,
   "metadata": {},
   "outputs": [],
   "source": [
    "sorted_indices = np.argsort(query_doc_scores)[::-1]\n",
    "sorted_scores = [query_doc_scores[idx] for idx in sorted_indices]\n",
    "sorted_docs = [retriever.docs[idx] for idx in sorted_indices]\n"
   ]
  },
  {
   "cell_type": "code",
   "execution_count": 7,
   "metadata": {},
   "outputs": [
    {
     "name": "stdout",
     "output_type": "stream",
     "text": [
      "birthplace ['birth place', 'birthplace of', 'place of birth is', 'is the place of birth of', 'places birth of', 'was born near', 'was born in', 'born near', 'is hometown of', 'has its birthplace in']\n",
      "immediately north of ['directly north of', 'located just north of', 'located north of', 'situated north of', 'lies just north of', 'located to the north of', 'lies north of', 'lies to the north of', 'located about north of', 'is located just north of']\n",
      "is located ['is located', 'is located in', 'located in', 'located', 'located at', 'is located on', 'located on', 'is located at', 'is located on the', 'was located in']\n",
      "named after ['named after', 'was named after', 'is named after', 'named it after', 'named for', 'was named for', 'are named after', 'is named for', 'was named in honor of', 'was named in honour of']\n",
      "is capital of ['is capital of', 'is the capital of', 'is the capital city of', 'capital of', 'serves as capital of', 'capital city is', 'capital is located in', 'was capital of', 'is administrative capital of', 'was capital city of']\n",
      "the headquarters of ['headquarters of', 'has headquarters of', 'houses the headquarters of', 'headquarters at', 'is the headquarters of', 'headquarters located on', 'headquarters located at', 'headquarters in', 'headquarters is', 'is headquarters of']\n"
     ]
    }
   ],
   "source": [
    "for query in [\n",
    "    \"birthplace\",\n",
    "    \"immediately north of\",\n",
    "    \"is located\",\n",
    "    \"named after\",\n",
    "    \"is capital of\",\n",
    "    \"the headquarters of\"\n",
    "]:\n",
    "    sorted_scores, sorted_docs = retriever.retrieve_one_query(query)\n",
    "    print(query, sorted_docs[:10])"
   ]
  },
  {
   "cell_type": "code",
   "execution_count": 8,
   "metadata": {},
   "outputs": [
    {
     "name": "stdout",
     "output_type": "stream",
     "text": [
      "an example of ['an example of', 'example of', 'is an example of', 'was an example of', 'exemplified by', 'sample of', 'has instances of', 'such as', 'one of', 'for illustration of']\n",
      "a part of ['part of', 'is a part of', 'forms a part of', 'is part of', 'forms part of', 'formed part of', 'form part of', 'was a part of', 'was part of', 'are part of']\n",
      "follow ['follow', 'follows', 'followed', 'followed in', 'followed by', 'followed from', 'is followed by', 'followed into', 'had following on', 'follower of']\n",
      "an instance of ['has instances of', 'is an example of', 'an example of', 'was an example of', 'example of', 'is a subclass of', 'is a subtype of', 'is a subset of', 'is a type of', 'is an entity of']\n",
      "named commander in chief ['commander in chief of', 'is commander in chief of', 'became commander of', 'was commander of', 'placed in command of', 'named as president of', 'was a commander of', 'named president of', 'was military commander in', 'named to head']\n",
      "a member of ['is member of', 'is a member of', 'member of', 'was a member of', 'was member of', 'has member', 'are members of', 'has members in', 'served as a member of', 'has members']\n",
      "the cast member of ['cast member of', 'was cast member of', 'is a cast member of', 'was a cast member of', 'has cast member', 'was a cast member for', 'cast members include', 'former cast member of', 'fellow cast member of', 'joined the cast of']\n"
     ]
    }
   ],
   "source": [
    "for query in [\n",
    "    \"an example of\",\n",
    "    \"a part of\",\n",
    "    \"follow\",\n",
    "    \"an instance of\",\n",
    "    \"named commander in chief\",\n",
    "    \"a member of\",\n",
    "    \"the cast member of\"\n",
    "]:\n",
    "    sorted_scores, sorted_docs = retriever.retrieve_one_query(query)\n",
    "    print(query, sorted_docs[:10])"
   ]
  },
  {
   "cell_type": "code",
   "execution_count": 9,
   "metadata": {},
   "outputs": [
    {
     "name": "stdout",
     "output_type": "stream",
     "text": [
      "influenced ['influenced', 'influenced by', 'was influenced by', 'had influence in', 'faced influence from', 'was influential in', 'influences', 'exerted influence over', 'had influence over', 'came under influence of']\n",
      "occurred in ['occurred in', 'occurred at', 'happened in', 'occurred during', 'occurred on', 'took place in', 'occurred within', 'occurred', 'occurred near', 'occur in']\n",
      "caused ['caused', 'caused by', 'was caused by', 'resulted from', 'brought about by', 'reportedly caused', 'caused damage of', 'cause of', 'are caused by', 'led to by']\n",
      "helped ['helped', 'helped by', 'provided assistance for', 'received help from', 'aided in', 'gave aid to', 'helped lead', 'helped bring', 'offered help to', 'helped organize']\n",
      "the symbol of ['symbol of', 'symbol is', 'has symbol', 'is symbol of', 'symbolized by', 'was a symbol of', 'symbolizes', 'symbolises', 'symbolize', 'logo symbolized']\n",
      "the owner of ['owner of', 'is the owner of', 'is owner of', 'owner is', 'owner', 'proprietor of', 'has owner', 'owned by', 'is owned by', 'became owner of']\n",
      "went to ['went to', 'went', 'people went to', 'went on', 'goes to', 'went to number', 'traveled to', 'travelled to', 'went to benefit', 'went from']\n"
     ]
    }
   ],
   "source": [
    "for query in ['influenced', 'occurred in', 'caused', 'helped', 'the symbol of', 'the owner of', 'went to']:\n",
    "    sorted_scores, sorted_docs = retriever.retrieve_one_query(query)\n",
    "    print(query, sorted_docs[:10])"
   ]
  },
  {
   "cell_type": "code",
   "execution_count": 10,
   "metadata": {},
   "outputs": [
    {
     "name": "stdout",
     "output_type": "stream",
     "text": [
      "about ['about', 'are about', 'is about', 'exists about', 'regarding', 'related to', 'has information about', 'around', 'written about', 'contains information about']\n",
      "talk about ['discussed about', 'talks to', 'spoke of', 'discussing', 'discusses', 'discussion of', 'discuss', 'speaks of', 'discussed', 'talked with']\n",
      "wrote a book about ['wrote book on', 'wrote books on', 'wrote about', 'has written books on', 'has written about', 'published book entitled', 'written about', 'authored books on', 'is a book about', 'published book in']\n"
     ]
    }
   ],
   "source": [
    "for query in ['about', 'talk about', 'wrote a book about']:\n",
    "    sorted_scores, sorted_docs = retriever.retrieve_one_query(query)\n",
    "    print(query, sorted_docs[:10])"
   ]
  }
 ],
 "metadata": {
  "kernelspec": {
   "display_name": "hipporag",
   "language": "python",
   "name": "python3"
  },
  "language_info": {
   "codemirror_mode": {
    "name": "ipython",
    "version": 3
   },
   "file_extension": ".py",
   "mimetype": "text/x-python",
   "name": "python",
   "nbconvert_exporter": "python",
   "pygments_lexer": "ipython3",
   "version": "3.9.19"
  }
 },
 "nbformat": 4,
 "nbformat_minor": 2
}
