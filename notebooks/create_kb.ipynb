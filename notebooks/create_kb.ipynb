{
 "cells": [
  {
   "cell_type": "code",
   "execution_count": 2,
   "metadata": {},
   "outputs": [
    {
     "name": "stdout",
     "output_type": "stream",
     "text": [
      "/home/qwj/code/HippoRAG\n"
     ]
    }
   ],
   "source": [
    "%cd ../"
   ]
  },
  {
   "cell_type": "markdown",
   "metadata": {},
   "source": [
    "## `create_graph`\n"
   ]
  },
  {
   "cell_type": "code",
   "execution_count": 7,
   "metadata": {},
   "outputs": [
    {
     "name": "stdout",
     "output_type": "stream",
     "text": [
      "usage: create_graph.py [-h] [--dataset DATASET] [--model_name MODEL_NAME]\n",
      "                       [--extraction_model EXTRACTION_MODEL]\n",
      "                       [--threshold THRESHOLD] [--save_facts_only]\n",
      "                       [--create_graph] [--extraction_type EXTRACTION_TYPE]\n",
      "                       [--cosine_sim_edges]\n",
      "\n",
      "optional arguments:\n",
      "  -h, --help            show this help message and exit\n",
      "  --dataset DATASET\n",
      "  --model_name MODEL_NAME\n",
      "  --extraction_model EXTRACTION_MODEL\n",
      "  --threshold THRESHOLD\n",
      "  --save_facts_only\n",
      "  --create_graph\n",
      "  --extraction_type EXTRACTION_TYPE\n",
      "  --cosine_sim_edges\n"
     ]
    }
   ],
   "source": [
    "!python src/create_graph.py --help"
   ]
  },
  {
   "cell_type": "markdown",
   "metadata": {},
   "source": [
    "### musique "
   ]
  },
  {
   "cell_type": "code",
   "execution_count": 8,
   "metadata": {},
   "outputs": [
    {
     "name": "stdout",
     "output_type": "stream",
     "text": [
      "100%|███████████████████████████████████| 11656/11656 [00:01<00:00, 9842.49it/s]\n",
      "Correct Wiki Format: 0 out of 11656\n",
      "100%|████████████████████████████████████| 1006/1006 [00:00<00:00, 66010.70it/s]\n"
     ]
    }
   ],
   "source": [
    "!python src/create_graph.py \\\n",
    "    --dataset musique \\\n",
    "    --model_name colbertv2 \\\n",
    "    --extraction_model gpt-3.5-turbo-1106 \\\n",
    "    --extraction_type ner \\\n",
    "    --save_facts_only"
   ]
  },
  {
   "cell_type": "markdown",
   "metadata": {},
   "source": [
    "move files"
   ]
  },
  {
   "cell_type": "code",
   "execution_count": 9,
   "metadata": {},
   "outputs": [],
   "source": [
    "import os\n",
    "import shutil\n",
    "\n",
    "def move_files(subfolder_name):\n",
    "    # 定义新子文件夹的名称\n",
    "    new_subfolder = os.path.join('output', subfolder_name)\n",
    "    \n",
    "    # 如果新子文件夹不存在，创建它\n",
    "    if not os.path.exists(new_subfolder):\n",
    "        os.makedirs(new_subfolder)\n",
    "\n",
    "    # 获取文件夹下的所有文件（不包含子文件夹）\n",
    "    for file_name in os.listdir('output'):\n",
    "        file_path = os.path.join('output', file_name)\n",
    "        \n",
    "        if os.path.isfile(file_path):\n",
    "            # 检查文件名是否以openie_开头或者以named_entity_output.tsv结尾\n",
    "            if not (file_name.startswith(\"openie_\") or file_name.startswith('.') or file_name.endswith(\"named_entity_output.tsv\")):\n",
    "                # 移动文件到新子文件夹\n",
    "                print(f\"Moved: {file_name}\")\n",
    "                shutil.move(file_path, os.path.join(new_subfolder, file_name))\n"
   ]
  },
  {
   "cell_type": "code",
   "execution_count": 10,
   "metadata": {},
   "outputs": [
    {
     "name": "stdout",
     "output_type": "stream",
     "text": [
      "Moved: musique_facts_graph_nodes_chatgpt_openIE.ents_only_lower_preprocess_ner.v3.subset.json\n",
      "Moved: .gitkeep\n",
      "Moved: musique_facts_graph_passage_chatgpt_openIE.ents_only_lower_preprocess_ner.v3.subset.json\n",
      "Moved: query_to_kb.tsv\n",
      "Moved: rel_kb_to_kb.tsv\n",
      "Moved: kb_to_kb.tsv\n",
      "Moved: musique_facts_graph_fact_dict_ents_only_lower_preprocess_ner.v3.subset.p\n",
      "Moved: musique_facts_graph_phrase_dict_ents_only_lower_preprocess_ner.v3.subset.p\n",
      "Moved: musique_facts_graph_clean_facts_chatgpt_openIE.ents_only_lower_preprocess_ner.v3.subset.json\n"
     ]
    }
   ],
   "source": [
    "move_files('musique_gpt')"
   ]
  },
  {
   "cell_type": "code",
   "execution_count": null,
   "metadata": {},
   "outputs": [],
   "source": []
  }
 ],
 "metadata": {
  "kernelspec": {
   "display_name": "hipporag",
   "language": "python",
   "name": "python3"
  },
  "language_info": {
   "codemirror_mode": {
    "name": "ipython",
    "version": 3
   },
   "file_extension": ".py",
   "mimetype": "text/x-python",
   "name": "python",
   "nbconvert_exporter": "python",
   "pygments_lexer": "ipython3",
   "version": "3.9.19"
  }
 },
 "nbformat": 4,
 "nbformat_minor": 2
}
