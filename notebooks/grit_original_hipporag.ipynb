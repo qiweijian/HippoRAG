{
 "cells": [
  {
   "cell_type": "code",
   "execution_count": 1,
   "metadata": {},
   "outputs": [
    {
     "name": "stdout",
     "output_type": "stream",
     "text": [
      "/home/qwj/code/HippoRAG\n"
     ]
    }
   ],
   "source": [
    "%cd ../"
   ]
  },
  {
   "cell_type": "code",
   "execution_count": 10,
   "metadata": {},
   "outputs": [],
   "source": [
    "import pandas as pd\n",
    "import subprocess\n",
    "import os\n",
    "os.environ['OPENAI_API_KEY'] = 'aegsdvfhuijoak'\n",
    "os.environ['CUDA_VISIBLE_DEVICES'] = '0,1'"
   ]
  },
  {
   "cell_type": "code",
   "execution_count": 12,
   "metadata": {},
   "outputs": [],
   "source": [
    "def calculate_recall_mean(output_path):\n",
    "    result = pd.read_json(output_path)\n",
    "    def recall_dict_to_columns(recall_dict):\n",
    "        return pd.Series({f'recall@{k}': v for k, v in recall_dict.items()})\n",
    "    recall_df = result['recall'].apply(recall_dict_to_columns)\n",
    "    return recall_df.mean()"
   ]
  },
  {
   "cell_type": "markdown",
   "metadata": {},
   "source": [
    "To get familiar with the RETRIEVAL_MODULE\n",
    "\n",
    "## Create Graph"
   ]
  },
  {
   "cell_type": "code",
   "execution_count": 3,
   "metadata": {},
   "outputs": [],
   "source": [
    "import os\n",
    "import shutil\n",
    "\n",
    "def is_new_files(file_name):\n",
    "    return not (file_name.startswith(\"openie_\") or file_name.startswith('.') or file_name.endswith(\"named_entity_output.tsv\") or file_name.endswith(\"entity_and_relations.tsv\"))\n",
    "\n",
    "def move_files(subfolder_name):\n",
    "    # 定义新子文件夹的名称\n",
    "    new_subfolder = os.path.join('output', subfolder_name)\n",
    "    \n",
    "    # 如果新子文件夹不存在，创建它\n",
    "    if not os.path.exists(new_subfolder):\n",
    "        os.makedirs(new_subfolder)\n",
    "\n",
    "    # 获取文件夹下的所有文件（不包含子文件夹）\n",
    "    for file_name in os.listdir('output'):\n",
    "        file_path = os.path.join('output', file_name)\n",
    "        \n",
    "        if os.path.isfile(file_path):\n",
    "            # 检查文件名是否以openie_开头或者以named_entity_output.tsv结尾\n",
    "            if is_new_files(file_name):\n",
    "                # 移动文件到新子文件夹\n",
    "                print(f\"Moved: {file_name}\")\n",
    "                shutil.move(file_path, os.path.join(new_subfolder, file_name))\n",
    "\n",
    "def show_new_files():\n",
    "    for file_name in os.listdir('output'):\n",
    "        file_path = os.path.join('output', file_name)\n",
    "    \n",
    "        if os.path.isfile(file_path):\n",
    "            # 检查文件名是否以openie_开头或者以named_entity_output.tsv结尾\n",
    "            if is_new_files(file_name):\n",
    "                print(file_name)\n",
    "\n",
    "def remove_new_files():\n",
    "    for file_name in os.listdir('output'):\n",
    "        file_path = os.path.join('output', file_name)\n",
    "\n",
    "        if os.path.isfile(file_path):\n",
    "            # 检查文件名是否以openie_开头或者以named_entity_output.tsv结尾\n",
    "            if is_new_files(file_name):\n",
    "                print(f\"Removed: {file_name}\")\n",
    "                os.remove(file_path)\n"
   ]
  },
  {
   "cell_type": "code",
   "execution_count": 4,
   "metadata": {},
   "outputs": [
    {
     "name": "stdout",
     "output_type": "stream",
     "text": [
      "Removed: musique_facts_and_sim_graph_clean_facts_chatgpt_openIE.ents_only_lower_preprocess_ner.v3.subset.json\n",
      "Removed: musique_facts_and_sim_graph_relation_dict_ents_only_lower_preprocess_ner_grit-7b.v3.subset.p\n",
      "Removed: musique_facts_and_sim_graph_nodes_chatgpt_openIE.ents_only_lower_preprocess_ner.v3.subset.json\n",
      "Removed: query_to_kb.tsv\n",
      "Removed: rel_kb_to_kb.tsv\n",
      "Removed: musique_similarity_edges_mean_0.7_thresh_ents_only_lower_preprocess_ner_grit-7b.v3.subset.p\n",
      "Removed: musique_facts_and_sim_graph_fact_dict_ents_only_lower_preprocess_ner.v3.subset.p\n",
      "Removed: musique_facts_and_sim_graph_chatgpt_openIE.ents_only_lower_preprocess_ner.v3.subset.json\n",
      "Removed: musique_facts_and_sim_graph_mean_0.7_thresh_ents_only_lower_preprocess_ner_grit-7b.v3.subset.p\n",
      "Removed: musique_facts_and_sim_graph_passage_chatgpt_openIE.ents_only_lower_preprocess_ner.v3.subset.json\n",
      "Removed: musique_facts_and_sim_graph_fact_doc_edges_ents_only_lower_preprocess_ner.v3.subset.p\n",
      "Removed: kb_to_kb.tsv\n",
      "Removed: musique_facts_and_sim_graph_doc_to_facts_ents_only_lower_preprocess_ner.v3.subset.p\n",
      "Removed: musique_similarity_edges_mean_0.8_thresh_ents_only_lower_preprocess_ner_grit-7b.v3.subset.p\n",
      "Removed: musique_facts_and_sim_graph_phrase_dict_ents_only_lower_preprocess_ner.v3.subset.p\n",
      "Removed: musique_facts_and_sim_graph_doc_to_facts_csr_ents_only_lower_preprocess_ner.v3.subset.p\n",
      "Removed: musique_facts_and_sim_graph_facts_to_phrases_ents_only_lower_preprocess_ner.v3.subset.p\n",
      "Removed: musique_facts_and_sim_graph_facts_to_phrases_csr_ents_only_lower_preprocess_ner.v3.subset.p\n",
      "Removed: musique_facts_and_sim_graph_mean_0.8_thresh_ents_only_lower_preprocess_ner_grit-7b.v3.subset.p\n"
     ]
    }
   ],
   "source": [
    "remove_new_files()\n",
    "show_new_files()"
   ]
  },
  {
   "cell_type": "code",
   "execution_count": 5,
   "metadata": {},
   "outputs": [
    {
     "name": "stdout",
     "output_type": "stream",
     "text": [
      "100%|███████████████████████████████████| 11656/11656 [00:01<00:00, 9811.51it/s]\n",
      "Correct Wiki Format: 0 out of 11656\n",
      "100%|████████████████████████████████████| 1006/1006 [00:00<00:00, 65784.28it/s]\n"
     ]
    }
   ],
   "source": [
    "!CUDA_VISIBLE_DEVICES=\"4\" python src/create_graph.py \\\n",
    "    --dataset musique \\\n",
    "    --model_name facebook/contriever \\\n",
    "    --extraction_model gpt-3.5-turbo-1106 \\\n",
    "    --threshold 0.8 \\\n",
    "    --extraction_type ner"
   ]
  },
  {
   "cell_type": "code",
   "execution_count": 6,
   "metadata": {},
   "outputs": [
    {
     "name": "stdout",
     "output_type": "stream",
     "text": [
      "query_to_kb.tsv\n",
      "rel_kb_to_kb.tsv\n",
      "kb_to_kb.tsv\n"
     ]
    }
   ],
   "source": [
    "show_new_files()"
   ]
  },
  {
   "cell_type": "markdown",
   "metadata": {},
   "source": [
    "### Index by contriever"
   ]
  },
  {
   "cell_type": "code",
   "execution_count": 7,
   "metadata": {},
   "outputs": [
    {
     "name": "stdout",
     "output_type": "stream",
     "text": [
      "No Pre-Computed Vectors. Confirming PLM Model.\n",
      "Loading PLM Vectors.\n",
      "100%|█████████████████████████████████████████████| 3/3 [00:00<00:00,  3.33it/s]\n",
      "100%|████████████████████████████████| 92963/92963 [00:00<00:00, 2891901.53it/s]\n",
      "Populating Vector Dict\n",
      "100%|██████████████████████████████████| 92963/92963 [00:03<00:00, 25443.41it/s]\n",
      "Vectors Loaded.\n",
      "Chunking\n",
      "Building Index\n",
      "Running Index Part 0\n",
      "\n",
      "100%|████████████████████████████████████████| 100/100 [00:00<00:00, 295.02it/s]\n",
      "Running Index Part 1\n",
      "\n",
      "100%|████████████████████████████████████████| 100/100 [00:00<00:00, 372.68it/s]\n",
      "Running Index Part 2\n",
      "\n",
      "100%|████████████████████████████████████████| 100/100 [00:00<00:00, 366.73it/s]\n",
      "Running Index Part 3\n",
      "\n",
      "100%|████████████████████████████████████████| 100/100 [00:00<00:00, 375.35it/s]\n",
      "Combining Index Chunks\n",
      "1234it [00:00, 5869.24it/s]\n",
      "1234it [00:00, 3763.63it/s]\n"
     ]
    }
   ],
   "source": [
    "!CUDA_VISIBLE_DEVICES=\"4\" python src/RetrievalModule.py --retriever_name facebook/contriever --string_filename output/query_to_kb.tsv"
   ]
  },
  {
   "cell_type": "code",
   "execution_count": 13,
   "metadata": {},
   "outputs": [
    {
     "name": "stdout",
     "output_type": "stream",
     "text": [
      "No Pre-Computed Vectors. Confirming PLM Model.\n",
      "Loading PLM Vectors.\n",
      "100%|█████████████████████████████████████████████| 2/2 [00:00<00:00, 16.25it/s]\n",
      "100%|██████████████████████████████| 183458/183458 [00:00<00:00, 2907247.44it/s]\n",
      "Populating Vector Dict\n",
      "100%|████████████████████████████████| 183458/183458 [00:06<00:00, 26259.03it/s]\n",
      "Vectors Loaded.\n",
      "Chunking\n",
      "Building Index\n",
      "Running Index Part 0\n",
      "\n",
      "100%|█████████████████████████████████████████| 100/100 [00:02<00:00, 46.12it/s]\n",
      "Running Index Part 1\n",
      "\n",
      "100%|█████████████████████████████████████████| 100/100 [00:02<00:00, 45.99it/s]\n",
      "Running Index Part 2\n",
      "\n",
      "100%|█████████████████████████████████████████| 100/100 [00:02<00:00, 47.20it/s]\n",
      "Running Index Part 3\n",
      "\n",
      "100%|█████████████████████████████████████████| 100/100 [00:01<00:00, 52.17it/s]\n",
      "Combining Index Chunks\n",
      "91729it [00:15, 5746.26it/s]\n",
      "91729it [00:23, 3878.19it/s]\n"
     ]
    }
   ],
   "source": [
    "!CUDA_VISIBLE_DEVICES=\"4,5\" python src/RetrievalModule.py --retriever_name facebook/contriever --string_filename output/kb_to_kb.tsv"
   ]
  },
  {
   "cell_type": "code",
   "execution_count": 14,
   "metadata": {},
   "outputs": [
    {
     "name": "stdout",
     "output_type": "stream",
     "text": [
      "No Pre-Computed Vectors. Confirming PLM Model.\n",
      "Loading PLM Vectors.\n",
      "100%|█████████████████████████████████████████████| 2/2 [00:00<00:00,  9.54it/s]\n",
      "100%|████████████████████████████████| 43428/43428 [00:00<00:00, 2863592.17it/s]\n",
      "Encoding 21377 Missing Strings\n",
      "100%|███████████████████████████████████| 21377/21377 [00:03<00:00, 5846.28it/s]\n",
      "3it [00:00,  3.36it/s]\n",
      "Populating Vector Dict\n",
      "100%|██████████████████████████████████| 43428/43428 [00:01<00:00, 25736.81it/s]\n",
      "Vectors Loaded.\n",
      "Chunking\n",
      "Building Index\n",
      "Running Index Part 0\n",
      "\n",
      "100%|████████████████████████████████████████| 100/100 [00:00<00:00, 188.62it/s]\n",
      "Running Index Part 1\n",
      "\n",
      "100%|████████████████████████████████████████| 100/100 [00:00<00:00, 191.70it/s]\n",
      "Running Index Part 2\n",
      "\n",
      "100%|████████████████████████████████████████| 100/100 [00:00<00:00, 192.34it/s]\n",
      "Running Index Part 3\n",
      "\n",
      "100%|████████████████████████████████████████| 100/100 [00:00<00:00, 200.26it/s]\n",
      "Combining Index Chunks\n",
      "21714it [00:03, 6311.68it/s]\n",
      "21714it [00:05, 4311.91it/s]\n"
     ]
    }
   ],
   "source": [
    "!CUDA_VISIBLE_DEVICES=\"4,5\" python src/RetrievalModule.py --retriever_name facebook/contriever --string_filename output/rel_kb_to_kb.tsv"
   ]
  },
  {
   "cell_type": "code",
   "execution_count": 8,
   "metadata": {},
   "outputs": [
    {
     "name": "stdout",
     "output_type": "stream",
     "text": [
      "Removed: query_to_kb.tsv\n",
      "Removed: rel_kb_to_kb.tsv\n",
      "Removed: kb_to_kb.tsv\n",
      "100%|███████████████████████████████████| 11656/11656 [00:01<00:00, 9431.26it/s]\n",
      "Correct Wiki Format: 0 out of 11656\n",
      "100%|████████████████████████████████████| 1006/1006 [00:00<00:00, 55028.43it/s]\n",
      "Creating Graph\n",
      "100%|██████████████████████████████████| 11656/11656 [00:00<00:00, 11813.48it/s]\n",
      "Loading Vectors\n",
      "Augmenting Graph from Similarity\n",
      "100%|██████████████████████████████████| 91729/91729 [00:03<00:00, 28135.31it/s]\n",
      "Saving Graph\n",
      "                                                         1\n",
      "0                                                         \n",
      "Total Phrases                                       327435\n",
      "Unique Phrases                                       91729\n",
      "Number of Individual Triples                        109145\n",
      "Number of Incorrectly Formatted Triples (ChatGP...    1136\n",
      "Number of Triples w/o NER Entities (ChatGPT Error)    6762\n",
      "Number of Unique Individual Triples                 107448\n",
      "Number of Entities                                  218290\n",
      "Number of Relations                                 249395\n",
      "Number of Unique Entities                            91729\n",
      "Number of Synonymy Edges                            145990\n",
      "Number of Unique Relations                           21714\n"
     ]
    }
   ],
   "source": [
    "remove_new_files()\n",
    "!CUDA_VISIBLE_DEVICES=\"4\" python src/create_graph.py \\\n",
    "    --dataset musique \\\n",
    "    --model_name facebook/contriever \\\n",
    "    --extraction_model gpt-3.5-turbo-1106 \\\n",
    "    --threshold 0.8 \\\n",
    "    --extraction_type ner \\\n",
    "    --create_graph \\\n",
    "    --cosine_sim_edges"
   ]
  },
  {
   "cell_type": "code",
   "execution_count": 16,
   "metadata": {},
   "outputs": [
    {
     "name": "stdout",
     "output_type": "stream",
     "text": [
      "musique_facts_and_sim_graph_clean_facts_chatgpt_openIE.ents_only_lower_preprocess_ner.v3.subset.json\n",
      "musique_similarity_edges_mean_0.8_thresh_ents_only_lower_preprocess_ner_facebook_contriever.v3.subset.p\n",
      "musique_facts_and_sim_graph_nodes_chatgpt_openIE.ents_only_lower_preprocess_ner.v3.subset.json\n",
      "musique_facts_and_sim_graph_mean_0.8_thresh_ents_only_lower_preprocess_ner_facebook_contriever.v3.subset.p\n",
      "query_to_kb.tsv\n",
      "rel_kb_to_kb.tsv\n",
      "musique_facts_and_sim_graph_fact_dict_ents_only_lower_preprocess_ner.v3.subset.p\n",
      "musique_facts_and_sim_graph_chatgpt_openIE.ents_only_lower_preprocess_ner.v3.subset.json\n",
      "musique_facts_and_sim_graph_passage_chatgpt_openIE.ents_only_lower_preprocess_ner.v3.subset.json\n",
      "musique_facts_and_sim_graph_fact_doc_edges_ents_only_lower_preprocess_ner.v3.subset.p\n",
      "kb_to_kb.tsv\n",
      "musique_facts_and_sim_graph_relation_dict_ents_only_lower_preprocess_ner_facebook_contriever.v3.subset.p\n",
      "musique_facts_and_sim_graph_doc_to_facts_ents_only_lower_preprocess_ner.v3.subset.p\n",
      "musique_facts_and_sim_graph_phrase_dict_ents_only_lower_preprocess_ner.v3.subset.p\n",
      "musique_facts_and_sim_graph_doc_to_facts_csr_ents_only_lower_preprocess_ner.v3.subset.p\n",
      "musique_facts_and_sim_graph_facts_to_phrases_ents_only_lower_preprocess_ner.v3.subset.p\n",
      "musique_facts_and_sim_graph_facts_to_phrases_csr_ents_only_lower_preprocess_ner.v3.subset.p\n"
     ]
    }
   ],
   "source": [
    "show_new_files()"
   ]
  },
  {
   "cell_type": "code",
   "execution_count": null,
   "metadata": {},
   "outputs": [],
   "source": [
    "import os\n",
    "\n",
    "# Export environment variables\n",
    "os.environ['OPENAI_API_KEY'] = 'aegsdvfhuijoak'\n",
    "os.environ['CUDA_VISIBLE_DEVICES'] = '4,5'\n",
    "\n",
    "# Run the script with the specified arguments\n",
    "!python3 src/ircot_hipporag.py --dataset musique --retriever facebook/contriever --max_steps 1 --doc_ensemble t --top_k 10 --sim_threshold 0.8 --damping 0.5\n"
   ]
  },
  {
   "cell_type": "code",
   "execution_count": 19,
   "metadata": {},
   "outputs": [
    {
     "data": {
      "text/plain": [
       "recall@1      0.290575\n",
       "recall@2      0.423080\n",
       "recall@5      0.544833\n",
       "recall@10     0.626001\n",
       "recall@15     0.626001\n",
       "recall@20     0.626001\n",
       "recall@30     0.626001\n",
       "recall@40     0.626001\n",
       "recall@50     0.626001\n",
       "recall@80     0.626001\n",
       "recall@100    0.626001\n",
       "dtype: float64"
      ]
     },
     "execution_count": 19,
     "metadata": {},
     "output_type": "execute_result"
    }
   ],
   "source": [
    "output_path = \"output/ircot/ircot_results_musique_hipporag_facebook_contriever_demo_1_gpt-3_5-turbo-1106_doc_ensemble_0.9_step_1_top_10_sim_thresh_0.8_damping_0.5.json\"\n",
    "\n",
    "result = pd.read_json(output_path)\n",
    "\n",
    "def recall_dict_to_columns(recall_dict):\n",
    "    return pd.Series({f'recall@{k}': v for k, v in recall_dict.items()})\n",
    "\n",
    "# 对每一行的 recall 列应用上述函数，并将结果拼接到新的 DataFrame\n",
    "recall_df = result['recall'].apply(recall_dict_to_columns)\n",
    "\n",
    "# 显示新创建的 DataFrame\n",
    "recall_df.mean()"
   ]
  },
  {
   "cell_type": "code",
   "execution_count": 10,
   "metadata": {},
   "outputs": [
    {
     "name": "stdout",
     "output_type": "stream",
     "text": [
      "Building Graph: 100%|███████████████| 349755/349755 [00:00<00:00, 559509.82it/s]\n",
      "2024-07-10 08:14:53,234 - hipporag - INFO - Graph built: num vertices: 91729, num_edges: 349644\n",
      "2024-07-10 08:14:53,259 - hipporag - INFO - Loading node vectors from: data/lm_vectors/facebook_contriever_mean/encoded_strings.txt\n",
      "2024-07-10 08:14:53,893 - hipporag - INFO - 1 phrases did not have vectors.\n",
      "[Errno 2] No such file or directory: 'output/ircot/ircot_results_musique_hipporag_facebook_contriever_demo_1_gpt-3_5-turbo-1106_no_ensemble_step_1_top_10_sim_thresh_0.8_damping_0.5.json'\n",
      "Results file maybe empty, cannot be loaded.\n",
      "Loaded 0 results from output/ircot/ircot_results_musique_hipporag_facebook_contriever_demo_1_gpt-3_5-turbo-1106_no_ensemble_step_1_top_10_sim_thresh_0.8_damping_0.5.json\n",
      "IRCoT retrieval:   0%|                                 | 0/1000 [00:00<?, ?it/s]\n",
      "HF model facebook/contriever encoding:   0%|              | 0/3 [00:00<?, ?it/s]\u001b[A\n",
      "HF model facebook/contriever encoding: 100%|██████| 3/3 [00:01<00:00,  2.31it/s]\u001b[A\n",
      "IRCoT retrieval:   0%|                         | 1/1000 [00:01<23:58,  1.44s/it]\n",
      "HF model facebook/contriever encoding: 100%|██████| 3/3 [00:00<00:00, 97.86it/s]\u001b[A\n",
      "IRCoT retrieval:   0%|▏                        | 5/1000 [00:01<03:53,  4.27it/s]\n",
      "HF model facebook/contriever encoding: 100%|██████| 3/3 [00:00<00:00, 98.51it/s]\u001b[A\n",
      "IRCoT retrieval:   1%|▏                        | 6/1000 [00:02<03:22,  4.90it/s]\n",
      "HF model facebook/contriever encoding: 100%|█████| 2/2 [00:00<00:00, 116.61it/s]\u001b[A\n",
      "IRCoT retrieval:   1%|▏                        | 8/1000 [00:02<02:37,  6.28it/s]\n",
      "HF model facebook/contriever encoding: 100%|██████| 2/2 [00:00<00:00, 81.59it/s]\u001b[A\n",
      "IRCoT retrieval:   1%|▏                       | 10/1000 [00:02<02:20,  7.03it/s]\n",
      "HF model facebook/contriever encoding: 100%|██████| 2/2 [00:00<00:00, 79.82it/s]\u001b[A\n",
      "IRCoT retrieval:   1%|▎                       | 11/1000 [00:02<02:16,  7.23it/s]\n",
      "HF model facebook/contriever encoding: 100%|█████| 3/3 [00:00<00:00, 122.27it/s]\u001b[A\n",
      "IRCoT retrieval:   1%|▎                       | 14/1000 [00:03<02:05,  7.87it/s]\n",
      "HF model facebook/contriever encoding: 100%|██████| 3/3 [00:00<00:00, 94.43it/s]\u001b[A\n",
      "IRCoT retrieval:   2%|▍                       | 16/1000 [00:03<02:04,  7.88it/s]\n",
      "HF model facebook/contriever encoding: 100%|██████| 3/3 [00:00<00:00, 90.97it/s]\u001b[A\n",
      "IRCoT retrieval:   2%|▍                       | 20/1000 [00:03<02:02,  7.98it/s]\n",
      "HF model facebook/contriever encoding: 100%|██████| 4/4 [00:00<00:00, 98.04it/s]\u001b[A\n",
      "IRCoT retrieval:   2%|▌                       | 23/1000 [00:04<02:02,  8.00it/s]\n",
      "HF model facebook/contriever encoding: 100%|██████| 2/2 [00:00<00:00, 80.59it/s]\u001b[A\n",
      "IRCoT retrieval:   2%|▌                       | 24/1000 [00:04<02:03,  7.91it/s]\n",
      "HF model facebook/contriever encoding: 100%|██████| 3/3 [00:00<00:00, 89.36it/s]\u001b[A\n",
      "IRCoT retrieval:   3%|▋                       | 28/1000 [00:04<01:58,  8.22it/s]\n",
      "HF model facebook/contriever encoding: 100%|██████| 2/2 [00:00<00:00, 93.83it/s]\u001b[A\n",
      "IRCoT retrieval:   3%|▋                       | 30/1000 [00:05<02:02,  7.94it/s]\n",
      "HF model facebook/contriever encoding: 100%|██████| 2/2 [00:00<00:00, 89.19it/s]\u001b[A\n",
      "IRCoT retrieval:   3%|▋                       | 31/1000 [00:05<02:03,  7.87it/s]\n",
      "HF model facebook/contriever encoding: 100%|██████| 2/2 [00:00<00:00, 89.70it/s]\u001b[A\n",
      "IRCoT retrieval:   3%|▊                       | 33/1000 [00:05<02:00,  8.02it/s]\n",
      "HF model facebook/contriever encoding: 100%|██████| 2/2 [00:00<00:00, 78.77it/s]\u001b[A\n",
      "IRCoT retrieval:   3%|▊                       | 34/1000 [00:05<02:02,  7.87it/s]\n",
      "HF model facebook/contriever encoding: 100%|██████| 2/2 [00:00<00:00, 82.61it/s]\u001b[A\n",
      "IRCoT retrieval:   4%|▊                       | 36/1000 [00:05<02:00,  8.00it/s]\n",
      "HF model facebook/contriever encoding: 100%|██████| 3/3 [00:00<00:00, 98.23it/s]\u001b[A\n",
      "IRCoT retrieval:   4%|▉                       | 37/1000 [00:05<02:03,  7.78it/s]\n",
      "HF model facebook/contriever encoding: 100%|██████| 3/3 [00:00<00:00, 82.63it/s]\u001b[A\n",
      "IRCoT retrieval:   4%|▉                       | 38/1000 [00:06<02:07,  7.56it/s]\n",
      "HF model facebook/contriever encoding: 100%|██████| 2/2 [00:00<00:00, 93.90it/s]\u001b[A\n",
      "IRCoT retrieval:   4%|▉                       | 39/1000 [00:06<02:05,  7.66it/s]\n",
      "HF model facebook/contriever encoding: 100%|██████| 2/2 [00:00<00:00, 82.19it/s]\u001b[A\n",
      "IRCoT retrieval:   4%|▉                       | 40/1000 [00:06<02:10,  7.35it/s]\n",
      "HF model facebook/contriever encoding: 100%|██████| 2/2 [00:00<00:00, 96.57it/s]\u001b[A\n",
      "IRCoT retrieval:   4%|█                       | 42/1000 [00:06<02:01,  7.86it/s]\n",
      "HF model facebook/contriever encoding: 100%|█████| 3/3 [00:00<00:00, 100.60it/s]\u001b[A\n",
      "IRCoT retrieval:   4%|█                       | 43/1000 [00:06<02:04,  7.71it/s]\n",
      "HF model facebook/contriever encoding: 100%|██████| 4/4 [00:00<00:00, 97.27it/s]\u001b[A\n",
      "IRCoT retrieval:   4%|█                       | 44/1000 [00:06<02:08,  7.41it/s]\n",
      "HF model facebook/contriever encoding: 100%|██████| 2/2 [00:00<00:00, 78.39it/s]\u001b[A\n",
      "IRCoT retrieval:   5%|█                       | 46/1000 [00:07<02:02,  7.79it/s]\n",
      "HF model facebook/contriever encoding: 100%|██████| 3/3 [00:00<00:00, 91.26it/s]\u001b[A\n",
      "IRCoT retrieval:   5%|█▏                      | 47/1000 [00:07<02:09,  7.35it/s]\n",
      "HF model facebook/contriever encoding: 100%|█████| 2/2 [00:00<00:00, 114.19it/s]\u001b[A\n",
      "IRCoT retrieval:   5%|█▏                      | 48/1000 [00:07<02:06,  7.51it/s]\n",
      "HF model facebook/contriever encoding: 100%|█████| 2/2 [00:00<00:00, 120.55it/s]\u001b[A\n",
      "IRCoT retrieval:   5%|█▏                      | 50/1000 [00:07<02:16,  6.94it/s]\n",
      "HF model facebook/contriever encoding: 100%|██████| 4/4 [00:00<00:00, 88.84it/s]\u001b[A\n",
      "IRCoT retrieval:   5%|█▏                      | 51/1000 [00:07<02:19,  6.81it/s]\n",
      "HF model facebook/contriever encoding: 100%|██████| 2/2 [00:00<00:00, 79.57it/s]\u001b[A\n",
      "IRCoT retrieval:   5%|█▏                      | 52/1000 [00:08<02:15,  7.02it/s]\n",
      "HF model facebook/contriever encoding: 100%|█████| 2/2 [00:00<00:00, 124.66it/s]\u001b[A\n",
      "IRCoT retrieval:   5%|█▎                      | 54/1000 [00:08<02:05,  7.56it/s]\n",
      "HF model facebook/contriever encoding: 100%|█████| 2/2 [00:00<00:00, 104.18it/s]\u001b[A\n",
      "IRCoT retrieval:   6%|█▎                      | 56/1000 [00:08<02:00,  7.85it/s]\n",
      "HF model facebook/contriever encoding: 100%|██████| 2/2 [00:00<00:00, 81.71it/s]\u001b[A\n",
      "IRCoT retrieval:   6%|█▍                      | 58/1000 [00:08<01:58,  7.96it/s]\n",
      "HF model facebook/contriever encoding: 100%|█████| 4/4 [00:00<00:00, 104.64it/s]\u001b[A\n",
      "IRCoT retrieval:   6%|█▍                      | 59/1000 [00:08<02:03,  7.61it/s]\n",
      "HF model facebook/contriever encoding: 100%|██████| 2/2 [00:00<00:00, 81.53it/s]\u001b[A\n",
      "IRCoT retrieval:   6%|█▍                      | 61/1000 [00:09<02:04,  7.55it/s]\n",
      "HF model facebook/contriever encoding: 100%|██████| 2/2 [00:00<00:00, 78.18it/s]\u001b[A\n",
      "IRCoT retrieval:   6%|█▍                      | 62/1000 [00:09<02:03,  7.57it/s]\n",
      "HF model facebook/contriever encoding: 100%|██████| 2/2 [00:00<00:00, 82.38it/s]\u001b[A\n",
      "IRCoT retrieval:   6%|█▌                      | 63/1000 [00:09<02:03,  7.60it/s]\n",
      "HF model facebook/contriever encoding: 100%|██████| 2/2 [00:00<00:00, 87.96it/s]\u001b[A\n",
      "IRCoT retrieval:   6%|█▌                      | 64/1000 [00:09<02:02,  7.66it/s]\n",
      "HF model facebook/contriever encoding: 100%|██████| 2/2 [00:00<00:00, 85.15it/s]\u001b[A\n",
      "IRCoT retrieval:   6%|█▌                      | 65/1000 [00:09<02:01,  7.68it/s]\n",
      "HF model facebook/contriever encoding: 100%|██████| 3/3 [00:00<00:00, 94.82it/s]\u001b[A\n",
      "IRCoT retrieval:   7%|█▌                      | 66/1000 [00:09<02:03,  7.57it/s]\n",
      "HF model facebook/contriever encoding: 100%|██████| 2/2 [00:00<00:00, 80.89it/s]\u001b[A\n",
      "IRCoT retrieval:   7%|█▋                      | 69/1000 [00:10<01:55,  8.07it/s]\n",
      "HF model facebook/contriever encoding: 100%|██████| 2/2 [00:00<00:00, 81.93it/s]\u001b[A\n",
      "IRCoT retrieval:   8%|█▊                      | 75/1000 [00:11<01:53,  8.15it/s]\n",
      "HF model facebook/contriever encoding: 100%|██████| 3/3 [00:00<00:00, 85.46it/s]\u001b[A\n",
      "IRCoT retrieval:   8%|█▊                      | 77/1000 [00:11<01:55,  7.97it/s]\n",
      "HF model facebook/contriever encoding: 100%|██████| 2/2 [00:00<00:00, 85.81it/s]\u001b[A\n",
      "IRCoT retrieval:   8%|█▊                      | 78/1000 [00:11<01:57,  7.87it/s]\n",
      "HF model facebook/contriever encoding: 100%|█████| 2/2 [00:00<00:00, 118.85it/s]\u001b[A\n",
      "IRCoT retrieval:   8%|█▉                      | 79/1000 [00:11<01:55,  8.00it/s]\n",
      "HF model facebook/contriever encoding: 100%|██████| 2/2 [00:00<00:00, 81.90it/s]\u001b[A\n",
      "IRCoT retrieval:   8%|█▉                      | 81/1000 [00:11<01:50,  8.30it/s]\n",
      "HF model facebook/contriever encoding: 100%|█████| 2/2 [00:00<00:00, 107.27it/s]\u001b[A\n",
      "IRCoT retrieval:   8%|██                      | 84/1000 [00:12<01:50,  8.29it/s]\n",
      "HF model facebook/contriever encoding: 100%|█████| 2/2 [00:00<00:00, 101.64it/s]\u001b[A\n",
      "IRCoT retrieval:   9%|██                      | 86/1000 [00:12<01:49,  8.35it/s]\n",
      "HF model facebook/contriever encoding: 100%|██████| 2/2 [00:00<00:00, 80.97it/s]\u001b[A\n",
      "IRCoT retrieval:   9%|██▏                     | 89/1000 [00:12<01:50,  8.28it/s]\n",
      "HF model facebook/contriever encoding: 100%|██████| 2/2 [00:00<00:00, 87.49it/s]\u001b[A\n",
      "IRCoT retrieval:   9%|██▏                     | 90/1000 [00:12<02:02,  7.44it/s]\n",
      "HF model facebook/contriever encoding: 100%|██████| 3/3 [00:00<00:00, 90.52it/s]\u001b[A\n",
      "IRCoT retrieval:   9%|██▏                     | 91/1000 [00:13<02:03,  7.38it/s]\n",
      "HF model facebook/contriever encoding: 100%|█████| 2/2 [00:00<00:00, 118.79it/s]\u001b[A\n",
      "IRCoT retrieval:   9%|██▏                     | 92/1000 [00:13<01:59,  7.61it/s]\n",
      "HF model facebook/contriever encoding: 100%|█████| 3/3 [00:00<00:00, 122.99it/s]\u001b[A\n",
      "IRCoT retrieval:   9%|██▏                     | 93/1000 [00:13<01:58,  7.65it/s]\n",
      "HF model facebook/contriever encoding: 100%|██████| 4/4 [00:00<00:00, 92.38it/s]\u001b[A\n",
      "IRCoT retrieval:   9%|██▎                     | 94/1000 [00:13<02:03,  7.33it/s]\n",
      "HF model facebook/contriever encoding: 100%|██████| 2/2 [00:00<00:00, 91.74it/s]\u001b[A\n",
      "IRCoT retrieval:  10%|██▎                     | 95/1000 [00:13<02:01,  7.47it/s]\n",
      "HF model facebook/contriever encoding: 100%|█████| 2/2 [00:00<00:00, 118.87it/s]\u001b[A\n",
      "IRCoT retrieval:  10%|██▍                     | 99/1000 [00:14<01:49,  8.24it/s]\n",
      "HF model facebook/contriever encoding: 100%|██████| 2/2 [00:00<00:00, 83.84it/s]\u001b[A\n",
      "IRCoT retrieval:  10%|██▎                    | 100/1000 [00:14<02:12,  6.78it/s]\n",
      "HF model facebook/contriever encoding: 100%|██████| 2/2 [00:00<00:00, 87.01it/s]\u001b[A\n",
      "IRCoT retrieval:  10%|██▎                    | 101/1000 [00:14<02:06,  7.08it/s]\n",
      "HF model facebook/contriever encoding: 100%|██████| 3/3 [00:00<00:00, 91.69it/s]\u001b[A\n",
      "IRCoT retrieval:  10%|██▍                    | 104/1000 [00:14<01:53,  7.89it/s]\n",
      "HF model facebook/contriever encoding: 100%|██████| 2/2 [00:00<00:00, 86.69it/s]\u001b[A\n",
      "IRCoT retrieval:  10%|██▍                    | 105/1000 [00:14<01:54,  7.85it/s]\n",
      "HF model facebook/contriever encoding: 100%|██████| 3/3 [00:00<00:00, 98.20it/s]\u001b[A\n",
      "IRCoT retrieval:  11%|██▍                    | 106/1000 [00:15<01:55,  7.71it/s]\n",
      "HF model facebook/contriever encoding: 100%|██████| 2/2 [00:00<00:00, 87.46it/s]\u001b[A\n",
      "IRCoT retrieval:  11%|██▍                    | 107/1000 [00:15<01:55,  7.73it/s]\n",
      "HF model facebook/contriever encoding: 100%|█████| 4/4 [00:00<00:00, 105.73it/s]\u001b[A\n",
      "IRCoT retrieval:  11%|██▌                    | 110/1000 [00:15<01:59,  7.42it/s]\n",
      "HF model facebook/contriever encoding: 100%|██████| 2/2 [00:00<00:00, 97.48it/s]\u001b[A\n",
      "IRCoT retrieval:  11%|██▌                    | 111/1000 [00:15<01:58,  7.49it/s]\n",
      "HF model facebook/contriever encoding: 100%|██████| 2/2 [00:00<00:00, 84.16it/s]\u001b[A\n",
      "IRCoT retrieval:  11%|██▌                    | 112/1000 [00:15<01:58,  7.48it/s]\n",
      "HF model facebook/contriever encoding: 100%|█████| 2/2 [00:00<00:00, 104.22it/s]\u001b[A\n",
      "IRCoT retrieval:  11%|██▌                    | 113/1000 [00:15<01:56,  7.60it/s]\n",
      "HF model facebook/contriever encoding: 100%|██████| 4/4 [00:00<00:00, 94.50it/s]\u001b[A\n",
      "IRCoT retrieval:  11%|██▌                    | 114/1000 [00:16<02:03,  7.17it/s]\n",
      "HF model facebook/contriever encoding: 100%|█████| 6/6 [00:00<00:00, 131.39it/s]\u001b[A\n",
      "IRCoT retrieval:  12%|██▋                    | 115/1000 [00:16<02:11,  6.72it/s]\n",
      "HF model facebook/contriever encoding: 100%|█████| 5/5 [00:00<00:00, 130.49it/s]\u001b[A\n",
      "IRCoT retrieval:  12%|██▋                    | 117/1000 [00:16<02:02,  7.24it/s]\n",
      "HF model facebook/contriever encoding: 100%|██████| 2/2 [00:00<00:00, 87.11it/s]\u001b[A\n",
      "IRCoT retrieval:  12%|██▊                    | 120/1000 [00:16<02:04,  7.08it/s]\n",
      "HF model facebook/contriever encoding: 100%|██████| 3/3 [00:00<00:00, 94.78it/s]\u001b[A\n",
      "IRCoT retrieval:  13%|██▉                    | 129/1000 [00:18<01:40,  8.63it/s]\n",
      "HF model facebook/contriever encoding: 100%|██████| 5/5 [00:00<00:00, 99.43it/s]\u001b[A\n",
      "IRCoT retrieval:  13%|███                    | 133/1000 [00:18<01:48,  7.97it/s]\n",
      "HF model facebook/contriever encoding: 100%|██████| 3/3 [00:00<00:00, 84.30it/s]\u001b[A\n",
      "IRCoT retrieval:  14%|███▏                   | 138/1000 [00:19<01:43,  8.32it/s]\n",
      "HF model facebook/contriever encoding: 100%|██████| 2/2 [00:00<00:00, 81.87it/s]\u001b[A\n",
      "IRCoT retrieval:  14%|███▏                   | 140/1000 [00:19<02:10,  6.58it/s]\n",
      "HF model facebook/contriever encoding: 100%|█████| 3/3 [00:00<00:00, 113.34it/s]\u001b[A\n",
      "IRCoT retrieval:  14%|███▏                   | 141/1000 [00:19<02:03,  6.95it/s]\n",
      "HF model facebook/contriever encoding: 100%|█████| 2/2 [00:00<00:00, 115.77it/s]\u001b[A\n",
      "IRCoT retrieval:  14%|███▎                   | 144/1000 [00:20<01:49,  7.82it/s]\n",
      "HF model facebook/contriever encoding: 100%|██████| 2/2 [00:00<00:00, 83.72it/s]\u001b[A\n",
      "IRCoT retrieval:  15%|███▎                   | 146/1000 [00:20<01:48,  7.84it/s]\n",
      "HF model facebook/contriever encoding: 100%|██████| 2/2 [00:00<00:00, 79.00it/s]\u001b[A\n",
      "IRCoT retrieval:  15%|███▍                   | 148/1000 [00:20<01:47,  7.90it/s]\n",
      "HF model facebook/contriever encoding: 100%|██████| 3/3 [00:00<00:00, 91.61it/s]\u001b[A\n",
      "IRCoT retrieval:  15%|███▍                   | 149/1000 [00:20<01:50,  7.70it/s]\n",
      "HF model facebook/contriever encoding: 100%|██████| 2/2 [00:00<00:00, 82.52it/s]\u001b[A\n",
      "IRCoT retrieval:  15%|███▍                   | 150/1000 [00:20<02:06,  6.70it/s]\n",
      "HF model facebook/contriever encoding: 100%|██████| 2/2 [00:00<00:00, 82.38it/s]\u001b[A\n",
      "IRCoT retrieval:  15%|███▍                   | 152/1000 [00:21<01:55,  7.33it/s]\n",
      "HF model facebook/contriever encoding: 100%|█████| 2/2 [00:00<00:00, 102.16it/s]\u001b[A\n",
      "IRCoT retrieval:  16%|███▌                   | 156/1000 [00:21<01:43,  8.13it/s]\n",
      "HF model facebook/contriever encoding: 100%|██████| 2/2 [00:00<00:00, 82.29it/s]\u001b[A\n",
      "IRCoT retrieval:  16%|███▌                   | 157/1000 [00:21<01:45,  7.99it/s]\n",
      "HF model facebook/contriever encoding: 100%|█████| 5/5 [00:00<00:00, 102.54it/s]\u001b[A\n",
      "IRCoT retrieval:  16%|███▋                   | 158/1000 [00:21<01:53,  7.45it/s]\n",
      "HF model facebook/contriever encoding: 100%|██████| 2/2 [00:00<00:00, 84.48it/s]\u001b[A\n",
      "IRCoT retrieval:  16%|███▋                   | 159/1000 [00:22<01:51,  7.55it/s]\n",
      "HF model facebook/contriever encoding: 100%|██████| 2/2 [00:00<00:00, 87.14it/s]\u001b[A\n",
      "IRCoT retrieval:  16%|███▊                   | 164/1000 [00:22<02:08,  6.49it/s]\n",
      "HF model facebook/contriever encoding: 100%|█████| 2/2 [00:00<00:00, 100.11it/s]\u001b[A\n",
      "IRCoT retrieval:  17%|███▉                   | 171/1000 [00:23<01:47,  7.70it/s]\n",
      "HF model facebook/contriever encoding: 100%|██████| 3/3 [00:00<00:00, 84.57it/s]\u001b[A\n",
      "IRCoT retrieval:  17%|████                   | 174/1000 [00:24<01:41,  8.16it/s]\n",
      "HF model facebook/contriever encoding: 100%|██████| 2/2 [00:00<00:00, 79.27it/s]\u001b[A\n",
      "IRCoT retrieval:  18%|████                   | 175/1000 [00:24<01:42,  8.03it/s]\n",
      "HF model facebook/contriever encoding: 100%|██████| 2/2 [00:00<00:00, 82.68it/s]\u001b[A\n",
      "IRCoT retrieval:  18%|████                   | 176/1000 [00:24<01:44,  7.91it/s]\n",
      "HF model facebook/contriever encoding: 100%|██████| 3/3 [00:00<00:00, 93.39it/s]\u001b[A\n",
      "IRCoT retrieval:  18%|████                   | 177/1000 [00:24<01:47,  7.65it/s]\n",
      "HF model facebook/contriever encoding: 100%|██████| 4/4 [00:00<00:00, 92.02it/s]\u001b[A\n",
      "IRCoT retrieval:  18%|████                   | 178/1000 [00:24<01:51,  7.35it/s]\n",
      "HF model facebook/contriever encoding: 100%|██████| 2/2 [00:00<00:00, 86.43it/s]\u001b[A\n",
      "IRCoT retrieval:  18%|████▏                  | 180/1000 [00:25<02:03,  6.66it/s]\n",
      "HF model facebook/contriever encoding: 100%|██████| 2/2 [00:00<00:00, 91.86it/s]\u001b[A\n",
      "IRCoT retrieval:  18%|████▏                  | 182/1000 [00:25<01:50,  7.44it/s]\n",
      "HF model facebook/contriever encoding: 100%|█████| 5/5 [00:00<00:00, 101.35it/s]\u001b[A\n",
      "IRCoT retrieval:  18%|████▏                  | 184/1000 [00:25<01:51,  7.34it/s]\n",
      "HF model facebook/contriever encoding: 100%|██████| 2/2 [00:00<00:00, 78.87it/s]\u001b[A\n",
      "IRCoT retrieval:  19%|████▎                  | 188/1000 [00:26<01:38,  8.25it/s]\n",
      "HF model facebook/contriever encoding: 100%|██████| 4/4 [00:00<00:00, 85.25it/s]\u001b[A\n",
      "IRCoT retrieval:  19%|████▍                  | 191/1000 [00:26<01:52,  7.19it/s]\n",
      "HF model facebook/contriever encoding: 100%|█████| 2/2 [00:00<00:00, 117.60it/s]\u001b[A\n",
      "IRCoT retrieval:  19%|████▍                  | 192/1000 [00:26<01:47,  7.50it/s]\n",
      "HF model facebook/contriever encoding: 100%|█████| 2/2 [00:00<00:00, 123.17it/s]\u001b[A\n",
      "IRCoT retrieval:  19%|████▍                  | 193/1000 [00:26<01:44,  7.73it/s]\n",
      "HF model facebook/contriever encoding: 100%|█████| 2/2 [00:00<00:00, 120.11it/s]\u001b[A\n",
      "IRCoT retrieval:  19%|████▍                  | 194/1000 [00:26<01:41,  7.91it/s]\n",
      "HF model facebook/contriever encoding: 100%|██████| 2/2 [00:00<00:00, 88.27it/s]\u001b[A\n",
      "IRCoT retrieval:  20%|████▍                  | 195/1000 [00:27<01:41,  7.91it/s]\n",
      "HF model facebook/contriever encoding: 100%|██████| 2/2 [00:00<00:00, 78.47it/s]\u001b[A\n",
      "IRCoT retrieval:  20%|████▌                  | 196/1000 [00:27<01:43,  7.77it/s]\n",
      "HF model facebook/contriever encoding: 100%|██████| 2/2 [00:00<00:00, 82.12it/s]\u001b[A\n",
      "IRCoT retrieval:  20%|████▌                  | 197/1000 [00:27<01:43,  7.76it/s]\n",
      "HF model facebook/contriever encoding: 100%|█████| 2/2 [00:00<00:00, 116.97it/s]\u001b[A\n",
      "IRCoT retrieval:  20%|████▌                  | 198/1000 [00:27<01:41,  7.94it/s]\n",
      "HF model facebook/contriever encoding: 100%|██████| 3/3 [00:00<00:00, 88.92it/s]\u001b[A\n",
      "IRCoT retrieval:  20%|████▋                  | 202/1000 [00:27<01:46,  7.52it/s]\n",
      "HF model facebook/contriever encoding: 100%|██████| 2/2 [00:00<00:00, 96.51it/s]\u001b[A\n",
      "IRCoT retrieval:  20%|████▋                  | 203/1000 [00:28<01:44,  7.66it/s]\n",
      "HF model facebook/contriever encoding: 100%|██████| 2/2 [00:00<00:00, 83.67it/s]\u001b[A\n",
      "IRCoT retrieval:  20%|████▋                  | 204/1000 [00:28<01:44,  7.59it/s]\n",
      "HF model facebook/contriever encoding: 100%|█████| 2/2 [00:00<00:00, 102.39it/s]\u001b[A\n",
      "IRCoT retrieval:  20%|████▋                  | 205/1000 [00:28<01:48,  7.32it/s]\n",
      "HF model facebook/contriever encoding: 100%|██████| 2/2 [00:00<00:00, 79.10it/s]\u001b[A\n",
      "IRCoT retrieval:  21%|████▋                  | 206/1000 [00:28<01:46,  7.44it/s]\n",
      "HF model facebook/contriever encoding: 100%|██████| 2/2 [00:00<00:00, 84.81it/s]\u001b[A\n",
      "IRCoT retrieval:  21%|████▊                  | 208/1000 [00:28<01:41,  7.83it/s]\n",
      "HF model facebook/contriever encoding: 100%|██████| 3/3 [00:00<00:00, 86.11it/s]\u001b[A\n",
      "IRCoT retrieval:  21%|████▊                  | 209/1000 [00:28<01:43,  7.62it/s]\n",
      "HF model facebook/contriever encoding: 100%|██████| 3/3 [00:00<00:00, 89.57it/s]\u001b[A\n",
      "IRCoT retrieval:  21%|████▊                  | 210/1000 [00:29<02:08,  6.16it/s]\n",
      "HF model facebook/contriever encoding: 100%|██████| 2/2 [00:00<00:00, 81.63it/s]\u001b[A\n",
      "IRCoT retrieval:  21%|████▊                  | 211/1000 [00:29<02:00,  6.56it/s]\n",
      "HF model facebook/contriever encoding: 100%|██████| 2/2 [00:00<00:00, 81.12it/s]\u001b[A\n",
      "IRCoT retrieval:  21%|████▉                  | 214/1000 [00:29<01:42,  7.68it/s]\n",
      "HF model facebook/contriever encoding: 100%|██████| 2/2 [00:00<00:00, 82.99it/s]\u001b[A\n",
      "IRCoT retrieval:  22%|████▉                  | 215/1000 [00:29<01:41,  7.73it/s]\n",
      "HF model facebook/contriever encoding: 100%|██████| 3/3 [00:00<00:00, 96.85it/s]\u001b[A\n",
      "IRCoT retrieval:  22%|████▉                  | 217/1000 [00:30<01:39,  7.90it/s]\n",
      "HF model facebook/contriever encoding: 100%|█████| 4/4 [00:00<00:00, 107.93it/s]\u001b[A\n",
      "IRCoT retrieval:  22%|█████                  | 218/1000 [00:30<01:42,  7.60it/s]\n",
      "HF model facebook/contriever encoding: 100%|█████| 2/2 [00:00<00:00, 116.08it/s]\u001b[A\n",
      "IRCoT retrieval:  22%|█████                  | 219/1000 [00:30<01:40,  7.78it/s]\n",
      "HF model facebook/contriever encoding: 100%|█████| 6/6 [00:00<00:00, 129.10it/s]\u001b[A\n",
      "IRCoT retrieval:  22%|█████                  | 220/1000 [00:30<02:03,  6.29it/s]\n",
      "HF model facebook/contriever encoding: 100%|██████| 2/2 [00:00<00:00, 97.88it/s]\u001b[A\n",
      "IRCoT retrieval:  22%|█████                  | 222/1000 [00:30<01:39,  7.79it/s]\n",
      "HF model facebook/contriever encoding: 100%|██████| 2/2 [00:00<00:00, 97.84it/s]\u001b[A\n",
      "IRCoT retrieval:  22%|█████▏                 | 224/1000 [00:30<01:28,  8.78it/s]\n",
      "HF model facebook/contriever encoding: 100%|█████| 4/4 [00:00<00:00, 152.62it/s]\u001b[A\n",
      "IRCoT retrieval:  23%|█████▎                 | 231/1000 [00:31<01:27,  8.83it/s]\n",
      "HF model facebook/contriever encoding: 100%|██████| 2/2 [00:00<00:00, 83.47it/s]\u001b[A\n",
      "IRCoT retrieval:  23%|█████▍                 | 234/1000 [00:31<01:29,  8.53it/s]\n",
      "HF model facebook/contriever encoding: 100%|██████| 3/3 [00:00<00:00, 84.49it/s]\u001b[A\n",
      "IRCoT retrieval:  24%|█████▍                 | 235/1000 [00:32<01:34,  8.12it/s]\n",
      "HF model facebook/contriever encoding: 100%|██████| 2/2 [00:00<00:00, 99.31it/s]\u001b[A\n",
      "IRCoT retrieval:  24%|█████▍                 | 236/1000 [00:32<01:34,  8.06it/s]\n",
      "HF model facebook/contriever encoding: 100%|██████| 2/2 [00:00<00:00, 81.54it/s]\u001b[A\n",
      "IRCoT retrieval:  24%|█████▌                 | 241/1000 [00:32<01:46,  7.12it/s]\n",
      "HF model facebook/contriever encoding: 100%|██████| 2/2 [00:00<00:00, 82.81it/s]\u001b[A\n",
      "IRCoT retrieval:  24%|█████▌                 | 243/1000 [00:33<01:39,  7.64it/s]\n",
      "HF model facebook/contriever encoding: 100%|██████| 2/2 [00:00<00:00, 80.35it/s]\u001b[A\n",
      "IRCoT retrieval:  24%|█████▋                 | 245/1000 [00:33<01:34,  7.95it/s]\n",
      "HF model facebook/contriever encoding: 100%|██████| 2/2 [00:00<00:00, 88.34it/s]\u001b[A\n",
      "IRCoT retrieval:  25%|█████▋                 | 247/1000 [00:33<01:33,  8.06it/s]\n",
      "HF model facebook/contriever encoding: 100%|██████| 2/2 [00:00<00:00, 90.88it/s]\u001b[A\n",
      "IRCoT retrieval:  25%|█████▋                 | 248/1000 [00:33<01:34,  7.92it/s]\n",
      "HF model facebook/contriever encoding: 100%|█████| 2/2 [00:00<00:00, 116.24it/s]\u001b[A\n",
      "IRCoT retrieval:  25%|█████▋                 | 249/1000 [00:33<01:34,  7.96it/s]\n",
      "HF model facebook/contriever encoding: 100%|█████| 2/2 [00:00<00:00, 118.27it/s]\u001b[A\n",
      "IRCoT retrieval:  25%|█████▊                 | 251/1000 [00:34<01:47,  6.95it/s]\n",
      "HF model facebook/contriever encoding: 100%|██████| 3/3 [00:00<00:00, 87.89it/s]\u001b[A\n",
      "IRCoT retrieval:  25%|█████▊                 | 252/1000 [00:34<01:46,  7.01it/s]\n",
      "HF model facebook/contriever encoding: 100%|█████| 2/2 [00:00<00:00, 125.15it/s]\u001b[A\n",
      "IRCoT retrieval:  25%|█████▊                 | 254/1000 [00:34<01:36,  7.74it/s]\n",
      "HF model facebook/contriever encoding: 100%|█████| 2/2 [00:00<00:00, 119.40it/s]\u001b[A\n",
      "IRCoT retrieval:  26%|█████▉                 | 256/1000 [00:34<01:32,  8.08it/s]\n",
      "HF model facebook/contriever encoding: 100%|██████| 3/3 [00:00<00:00, 84.85it/s]\u001b[A\n",
      "IRCoT retrieval:  26%|█████▉                 | 257/1000 [00:35<01:36,  7.71it/s]\n",
      "HF model facebook/contriever encoding: 100%|██████| 2/2 [00:00<00:00, 88.67it/s]\u001b[A\n",
      "IRCoT retrieval:  26%|█████▉                 | 258/1000 [00:35<01:35,  7.77it/s]\n",
      "HF model facebook/contriever encoding: 100%|██████| 3/3 [00:00<00:00, 93.16it/s]\u001b[A\n",
      "IRCoT retrieval:  26%|█████▉                 | 259/1000 [00:35<01:37,  7.58it/s]\n",
      "HF model facebook/contriever encoding: 100%|██████| 2/2 [00:00<00:00, 94.44it/s]\u001b[A\n",
      "IRCoT retrieval:  26%|██████                 | 261/1000 [00:35<01:55,  6.42it/s]\n",
      "HF model facebook/contriever encoding: 100%|██████| 2/2 [00:00<00:00, 78.45it/s]\u001b[A\n",
      "IRCoT retrieval:  26%|██████                 | 263/1000 [00:35<01:44,  7.03it/s]\n",
      "HF model facebook/contriever encoding: 100%|██████| 2/2 [00:00<00:00, 85.69it/s]\u001b[A\n",
      "IRCoT retrieval:  26%|██████                 | 264/1000 [00:36<01:41,  7.24it/s]\n",
      "HF model facebook/contriever encoding: 100%|██████| 2/2 [00:00<00:00, 95.83it/s]\u001b[A\n",
      "IRCoT retrieval:  26%|██████                 | 265/1000 [00:36<01:38,  7.44it/s]\n",
      "HF model facebook/contriever encoding: 100%|██████| 3/3 [00:00<00:00, 99.68it/s]\u001b[A\n",
      "IRCoT retrieval:  27%|██████▏                | 268/1000 [00:36<01:31,  7.98it/s]\n",
      "HF model facebook/contriever encoding: 100%|██████| 2/2 [00:00<00:00, 84.75it/s]\u001b[A\n",
      "IRCoT retrieval:  27%|██████▏                | 269/1000 [00:36<01:32,  7.87it/s]\n",
      "HF model facebook/contriever encoding: 100%|██████| 2/2 [00:00<00:00, 82.24it/s]\u001b[A\n",
      "IRCoT retrieval:  27%|██████▎                | 273/1000 [00:37<01:35,  7.62it/s]\n",
      "HF model facebook/contriever encoding: 100%|█████| 3/3 [00:00<00:00, 122.68it/s]\u001b[A\n",
      "IRCoT retrieval:  27%|██████▎                | 274/1000 [00:37<01:35,  7.64it/s]\n",
      "HF model facebook/contriever encoding: 100%|█████| 5/5 [00:00<00:00, 124.53it/s]\u001b[A\n",
      "IRCoT retrieval:  28%|██████▎                | 276/1000 [00:37<01:34,  7.63it/s]\n",
      "HF model facebook/contriever encoding: 100%|██████| 4/4 [00:00<00:00, 87.69it/s]\u001b[A\n",
      "IRCoT retrieval:  28%|██████▎                | 277/1000 [00:37<01:39,  7.23it/s]\n",
      "HF model facebook/contriever encoding: 100%|██████| 2/2 [00:00<00:00, 84.58it/s]\u001b[A\n",
      "IRCoT retrieval:  28%|██████▍                | 280/1000 [00:38<01:55,  6.24it/s]\n",
      "HF model facebook/contriever encoding: 100%|██████| 3/3 [00:00<00:00, 85.59it/s]\u001b[A\n",
      "IRCoT retrieval:  28%|██████▍                | 281/1000 [00:38<01:51,  6.46it/s]\n",
      "HF model facebook/contriever encoding: 100%|██████| 2/2 [00:00<00:00, 87.21it/s]\u001b[A\n",
      "IRCoT retrieval:  28%|██████▍                | 282/1000 [00:38<01:45,  6.80it/s]\n",
      "HF model facebook/contriever encoding: 100%|██████| 3/3 [00:00<00:00, 87.51it/s]\u001b[A\n",
      "IRCoT retrieval:  28%|██████▌                | 284/1000 [00:38<01:37,  7.34it/s]\n",
      "HF model facebook/contriever encoding: 100%|██████| 2/2 [00:00<00:00, 96.69it/s]\u001b[A\n",
      "IRCoT retrieval:  29%|██████▌                | 288/1000 [00:39<01:25,  8.37it/s]\n",
      "HF model facebook/contriever encoding: 100%|██████| 2/2 [00:00<00:00, 84.81it/s]\u001b[A\n",
      "IRCoT retrieval:  29%|██████▋                | 289/1000 [00:39<01:26,  8.19it/s]\n",
      "HF model facebook/contriever encoding: 100%|█████| 3/3 [00:00<00:00, 119.73it/s]\u001b[A\n",
      "IRCoT retrieval:  29%|██████▋                | 291/1000 [00:39<01:46,  6.66it/s]\n",
      "HF model facebook/contriever encoding: 100%|██████| 2/2 [00:00<00:00, 80.98it/s]\u001b[A\n",
      "IRCoT retrieval:  29%|██████▋                | 293/1000 [00:40<01:36,  7.35it/s]\n",
      "HF model facebook/contriever encoding: 100%|██████| 2/2 [00:00<00:00, 79.76it/s]\u001b[A\n",
      "IRCoT retrieval:  29%|██████▊                | 294/1000 [00:40<01:34,  7.46it/s]\n",
      "HF model facebook/contriever encoding: 100%|█████| 2/2 [00:00<00:00, 120.97it/s]\u001b[A\n",
      "IRCoT retrieval:  30%|██████▊                | 298/1000 [00:40<01:24,  8.27it/s]\n",
      "HF model facebook/contriever encoding: 100%|██████| 3/3 [00:00<00:00, 95.28it/s]\u001b[A\n",
      "IRCoT retrieval:  30%|██████▉                | 299/1000 [00:40<01:28,  7.92it/s]\n",
      "HF model facebook/contriever encoding: 100%|█████| 2/2 [00:00<00:00, 101.35it/s]\u001b[A\n",
      "IRCoT retrieval:  30%|██████▉                | 300/1000 [00:41<01:53,  6.15it/s]\n",
      "HF model facebook/contriever encoding: 100%|██████| 3/3 [00:00<00:00, 93.29it/s]\u001b[A\n",
      "IRCoT retrieval:  30%|██████▉                | 301/1000 [00:41<01:48,  6.44it/s]\n",
      "HF model facebook/contriever encoding: 100%|██████| 4/4 [00:00<00:00, 92.23it/s]\u001b[A\n",
      "IRCoT retrieval:  30%|██████▉                | 302/1000 [00:41<01:47,  6.48it/s]\n",
      "HF model facebook/contriever encoding: 100%|██████| 2/2 [00:00<00:00, 93.82it/s]\u001b[A\n",
      "IRCoT retrieval:  30%|██████▉                | 304/1000 [00:41<01:35,  7.28it/s]\n",
      "HF model facebook/contriever encoding: 100%|██████| 2/2 [00:00<00:00, 82.70it/s]\u001b[A\n",
      "IRCoT retrieval:  30%|███████                | 305/1000 [00:41<01:33,  7.42it/s]\n",
      "HF model facebook/contriever encoding: 100%|██████| 2/2 [00:00<00:00, 95.96it/s]\u001b[A\n",
      "IRCoT retrieval:  31%|███████                | 307/1000 [00:41<01:28,  7.85it/s]\n",
      "HF model facebook/contriever encoding: 100%|██████| 3/3 [00:00<00:00, 88.04it/s]\u001b[A\n",
      "IRCoT retrieval:  31%|███████▏               | 310/1000 [00:42<01:45,  6.57it/s]\n",
      "HF model facebook/contriever encoding: 100%|█████| 4/4 [00:00<00:00, 131.77it/s]\u001b[A\n",
      "IRCoT retrieval:  31%|███████▏               | 313/1000 [00:42<01:20,  8.59it/s]\n",
      "HF model facebook/contriever encoding: 100%|██████| 2/2 [00:00<00:00, 98.22it/s]\u001b[A\n",
      "IRCoT retrieval:  32%|███████▎               | 317/1000 [00:43<01:07, 10.15it/s]\n",
      "HF model facebook/contriever encoding: 100%|█████| 2/2 [00:00<00:00, 147.20it/s]\u001b[A\n",
      "\n",
      "HF model facebook/contriever encoding: 100%|█████| 2/2 [00:00<00:00, 121.49it/s]\u001b[A\n",
      "IRCoT retrieval:  32%|███████▎               | 319/1000 [00:43<01:05, 10.37it/s]\n",
      "HF model facebook/contriever encoding: 100%|█████| 3/3 [00:00<00:00, 102.25it/s]\u001b[A\n",
      "IRCoT retrieval:  32%|███████▍               | 321/1000 [00:43<01:14,  9.08it/s]\n",
      "HF model facebook/contriever encoding: 100%|██████| 2/2 [00:00<00:00, 93.28it/s]\u001b[A\n",
      "IRCoT retrieval:  32%|███████▍               | 322/1000 [00:43<01:13,  9.24it/s]\n",
      "HF model facebook/contriever encoding: 100%|█████| 2/2 [00:00<00:00, 105.81it/s]\u001b[A\n",
      "IRCoT retrieval:  32%|███████▍               | 323/1000 [00:43<01:13,  9.18it/s]\n",
      "HF model facebook/contriever encoding: 100%|█████| 4/4 [00:00<00:00, 106.28it/s]\u001b[A\n",
      "IRCoT retrieval:  32%|███████▍               | 325/1000 [00:43<01:14,  9.01it/s]\n",
      "HF model facebook/contriever encoding: 100%|██████| 2/2 [00:00<00:00, 96.58it/s]\u001b[A\n",
      "IRCoT retrieval:  33%|███████▌               | 329/1000 [00:44<01:04, 10.41it/s]\n",
      "HF model facebook/contriever encoding: 100%|█████| 2/2 [00:00<00:00, 104.02it/s]\u001b[A\n",
      "IRCoT retrieval:  33%|███████▌               | 331/1000 [00:44<01:13,  9.15it/s]\n",
      "HF model facebook/contriever encoding: 100%|█████| 2/2 [00:00<00:00, 108.44it/s]\u001b[A\n",
      "\n",
      "HF model facebook/contriever encoding: 100%|██████| 2/2 [00:00<00:00, 98.79it/s]\u001b[A\n",
      "IRCoT retrieval:  33%|███████▋               | 333/1000 [00:44<01:09,  9.55it/s]\n",
      "HF model facebook/contriever encoding: 100%|█████| 2/2 [00:00<00:00, 108.70it/s]\u001b[A\n",
      "\n",
      "HF model facebook/contriever encoding: 100%|██████| 2/2 [00:00<00:00, 89.34it/s]\u001b[A\n",
      "IRCoT retrieval:  34%|███████▋               | 335/1000 [00:44<01:08,  9.76it/s]\n",
      "HF model facebook/contriever encoding: 100%|██████| 2/2 [00:00<00:00, 89.09it/s]\u001b[A\n",
      "IRCoT retrieval:  34%|███████▋               | 336/1000 [00:45<01:08,  9.75it/s]\n",
      "HF model facebook/contriever encoding: 100%|█████| 2/2 [00:00<00:00, 100.96it/s]\u001b[A\n",
      "IRCoT retrieval:  34%|███████▊               | 338/1000 [00:45<01:09,  9.50it/s]\n",
      "HF model facebook/contriever encoding: 100%|██████| 2/2 [00:00<00:00, 98.70it/s]\u001b[A\n",
      "IRCoT retrieval:  34%|███████▊               | 340/1000 [00:45<01:17,  8.47it/s]\n",
      "HF model facebook/contriever encoding: 100%|█████| 2/2 [00:00<00:00, 106.51it/s]\u001b[A\n",
      "\n",
      "HF model facebook/contriever encoding: 100%|██████| 2/2 [00:00<00:00, 86.83it/s]\u001b[A\n",
      "IRCoT retrieval:  34%|███████▊               | 342/1000 [00:45<01:14,  8.86it/s]\n",
      "HF model facebook/contriever encoding: 100%|█████| 2/2 [00:00<00:00, 125.81it/s]\u001b[A\n",
      "IRCoT retrieval:  34%|███████▉               | 345/1000 [00:46<01:11,  9.20it/s]\n",
      "HF model facebook/contriever encoding: 100%|██████| 4/4 [00:00<00:00, 93.98it/s]\u001b[A\n",
      "IRCoT retrieval:  35%|████████               | 349/1000 [00:46<01:05, 10.00it/s]\n",
      "HF model facebook/contriever encoding: 100%|█████| 2/2 [00:00<00:00, 112.91it/s]\u001b[A\n",
      "IRCoT retrieval:  35%|████████               | 351/1000 [00:46<01:13,  8.82it/s]\n",
      "HF model facebook/contriever encoding: 100%|██████| 2/2 [00:00<00:00, 94.89it/s]\u001b[A\n",
      "IRCoT retrieval:  35%|████████               | 353/1000 [00:46<01:08,  9.42it/s]\n",
      "HF model facebook/contriever encoding: 100%|██████| 2/2 [00:00<00:00, 94.32it/s]\u001b[A\n",
      "IRCoT retrieval:  35%|████████▏              | 354/1000 [00:47<01:09,  9.31it/s]\n",
      "HF model facebook/contriever encoding: 100%|█████| 2/2 [00:00<00:00, 118.19it/s]\u001b[A\n",
      "\n",
      "HF model facebook/contriever encoding: 100%|█████| 2/2 [00:00<00:00, 107.61it/s]\u001b[A\n",
      "IRCoT retrieval:  36%|████████▏              | 356/1000 [00:47<01:08,  9.39it/s]\n",
      "HF model facebook/contriever encoding: 100%|██████| 2/2 [00:00<00:00, 84.12it/s]\u001b[A\n",
      "IRCoT retrieval:  36%|████████▏              | 357/1000 [00:47<01:09,  9.29it/s]\n",
      "HF model facebook/contriever encoding: 100%|█████| 2/2 [00:00<00:00, 103.93it/s]\u001b[A\n",
      "IRCoT retrieval:  36%|████████▏              | 358/1000 [00:47<01:09,  9.23it/s]\n",
      "HF model facebook/contriever encoding: 100%|██████| 2/2 [00:00<00:00, 93.50it/s]\u001b[A\n",
      "IRCoT retrieval:  36%|████████▎              | 360/1000 [00:47<01:26,  7.40it/s]\n",
      "HF model facebook/contriever encoding: 100%|██████| 2/2 [00:00<00:00, 74.13it/s]\u001b[A\n",
      "IRCoT retrieval:  36%|████████▎              | 361/1000 [00:47<01:26,  7.36it/s]\n",
      "HF model facebook/contriever encoding: 100%|██████| 2/2 [00:00<00:00, 92.61it/s]\u001b[A\n",
      "IRCoT retrieval:  36%|████████▎              | 362/1000 [00:48<01:24,  7.55it/s]\n",
      "HF model facebook/contriever encoding: 100%|█████| 3/3 [00:00<00:00, 101.31it/s]\u001b[A\n",
      "IRCoT retrieval:  36%|████████▎              | 363/1000 [00:48<01:23,  7.59it/s]\n",
      "HF model facebook/contriever encoding: 100%|██████| 2/2 [00:00<00:00, 95.05it/s]\u001b[A\n",
      "IRCoT retrieval:  36%|████████▎              | 364/1000 [00:48<01:19,  7.98it/s]\n",
      "HF model facebook/contriever encoding: 100%|██████| 3/3 [00:00<00:00, 92.61it/s]\u001b[A\n",
      "IRCoT retrieval:  36%|████████▍              | 365/1000 [00:48<01:20,  7.93it/s]\n",
      "HF model facebook/contriever encoding: 100%|██████| 2/2 [00:00<00:00, 85.46it/s]\u001b[A\n",
      "IRCoT retrieval:  37%|████████▍              | 368/1000 [00:48<01:17,  8.18it/s]\n",
      "HF model facebook/contriever encoding: 100%|██████| 2/2 [00:00<00:00, 81.95it/s]\u001b[A\n",
      "IRCoT retrieval:  37%|████████▌              | 370/1000 [00:49<01:22,  7.59it/s]\n",
      "HF model facebook/contriever encoding: 100%|█████| 2/2 [00:00<00:00, 117.58it/s]\u001b[A\n",
      "\n",
      "HF model facebook/contriever encoding: 100%|█████| 2/2 [00:00<00:00, 105.83it/s]\u001b[A\n",
      "IRCoT retrieval:  37%|████████▌              | 372/1000 [00:49<01:14,  8.44it/s]\n",
      "HF model facebook/contriever encoding: 100%|█████| 3/3 [00:00<00:00, 130.22it/s]\u001b[A\n",
      "IRCoT retrieval:  37%|████████▌              | 374/1000 [00:49<01:09,  8.96it/s]\n",
      "HF model facebook/contriever encoding: 100%|█████| 3/3 [00:00<00:00, 151.07it/s]\u001b[A\n",
      "IRCoT retrieval:  38%|████████▋              | 376/1000 [00:49<01:04,  9.69it/s]\n",
      "HF model facebook/contriever encoding: 100%|██████| 2/2 [00:00<00:00, 99.40it/s]\u001b[A\n",
      "\n",
      "HF model facebook/contriever encoding: 100%|██████| 3/3 [00:00<00:00, 97.58it/s]\u001b[A\n",
      "IRCoT retrieval:  38%|████████▋              | 378/1000 [00:49<01:03,  9.73it/s]\n",
      "HF model facebook/contriever encoding: 100%|██████| 3/3 [00:00<00:00, 94.32it/s]\u001b[A\n",
      "IRCoT retrieval:  38%|████████▋              | 379/1000 [00:50<01:04,  9.63it/s]\n",
      "HF model facebook/contriever encoding: 100%|█████| 4/4 [00:00<00:00, 154.01it/s]\u001b[A\n",
      "IRCoT retrieval:  38%|████████▋              | 380/1000 [00:50<01:22,  7.47it/s]\n",
      "HF model facebook/contriever encoding: 100%|██████| 2/2 [00:00<00:00, 85.64it/s]\u001b[A\n",
      "IRCoT retrieval:  38%|████████▊              | 381/1000 [00:50<01:22,  7.54it/s]\n",
      "HF model facebook/contriever encoding: 100%|██████| 2/2 [00:00<00:00, 76.81it/s]\u001b[A\n",
      "IRCoT retrieval:  38%|████████▊              | 382/1000 [00:50<01:22,  7.47it/s]\n",
      "HF model facebook/contriever encoding: 100%|██████| 4/4 [00:00<00:00, 85.21it/s]\u001b[A\n",
      "IRCoT retrieval:  38%|████████▊              | 384/1000 [00:50<01:23,  7.34it/s]\n",
      "HF model facebook/contriever encoding: 100%|██████| 3/3 [00:00<00:00, 78.28it/s]\u001b[A\n",
      "IRCoT retrieval:  38%|████████▊              | 385/1000 [00:50<01:25,  7.17it/s]\n",
      "HF model facebook/contriever encoding: 100%|█████| 2/2 [00:00<00:00, 107.92it/s]\u001b[A\n",
      "\n",
      "HF model facebook/contriever encoding: 100%|██████| 4/4 [00:00<00:00, 94.87it/s]\u001b[A\n",
      "IRCoT retrieval:  39%|████████▉              | 388/1000 [00:51<01:17,  7.92it/s]\n",
      "HF model facebook/contriever encoding: 100%|██████| 3/3 [00:00<00:00, 87.29it/s]\u001b[A\n",
      "IRCoT retrieval:  39%|████████▉              | 389/1000 [00:51<01:19,  7.68it/s]\n",
      "HF model facebook/contriever encoding: 100%|██████| 4/4 [00:00<00:00, 91.25it/s]\u001b[A\n",
      "IRCoT retrieval:  39%|████████▉              | 390/1000 [00:51<01:48,  5.62it/s]\n",
      "HF model facebook/contriever encoding: 100%|██████| 4/4 [00:00<00:00, 99.27it/s]\u001b[A\n",
      "IRCoT retrieval:  39%|████████▉              | 391/1000 [00:51<01:43,  5.87it/s]\n",
      "HF model facebook/contriever encoding: 100%|██████| 4/4 [00:00<00:00, 96.53it/s]\u001b[A\n",
      "IRCoT retrieval:  39%|█████████              | 393/1000 [00:52<01:31,  6.64it/s]\n",
      "HF model facebook/contriever encoding: 100%|██████| 2/2 [00:00<00:00, 98.77it/s]\u001b[A\n",
      "IRCoT retrieval:  39%|█████████              | 394/1000 [00:52<01:26,  6.98it/s]\n",
      "HF model facebook/contriever encoding: 100%|██████| 3/3 [00:00<00:00, 96.79it/s]\u001b[A\n",
      "IRCoT retrieval:  40%|█████████              | 395/1000 [00:52<01:25,  7.10it/s]\n",
      "HF model facebook/contriever encoding: 100%|██████| 2/2 [00:00<00:00, 96.60it/s]\u001b[A\n",
      "\n",
      "HF model facebook/contriever encoding: 100%|█████| 2/2 [00:00<00:00, 110.14it/s]\u001b[A\n",
      "IRCoT retrieval:  40%|█████████▏             | 397/1000 [00:52<01:13,  8.25it/s]\n",
      "HF model facebook/contriever encoding: 100%|█████| 2/2 [00:00<00:00, 105.89it/s]\u001b[A\n",
      "IRCoT retrieval:  40%|█████████▏             | 398/1000 [00:52<01:09,  8.61it/s]\n",
      "HF model facebook/contriever encoding: 100%|██████| 2/2 [00:00<00:00, 84.39it/s]\u001b[A\n",
      "IRCoT retrieval:  40%|█████████▏             | 400/1000 [00:53<01:40,  5.99it/s]\n",
      "HF model facebook/contriever encoding: 100%|██████| 3/3 [00:00<00:00, 95.93it/s]\u001b[A\n",
      "IRCoT retrieval:  40%|█████████▏             | 401/1000 [00:53<01:35,  6.29it/s]\n",
      "HF model facebook/contriever encoding: 100%|██████| 2/2 [00:00<00:00, 80.04it/s]\u001b[A\n",
      "IRCoT retrieval:  40%|█████████▎             | 403/1000 [00:53<01:23,  7.16it/s]\n",
      "HF model facebook/contriever encoding: 100%|█████| 2/2 [00:00<00:00, 120.53it/s]\u001b[A\n",
      "IRCoT retrieval:  40%|█████████▎             | 404/1000 [00:53<01:20,  7.44it/s]\n",
      "HF model facebook/contriever encoding: 100%|██████| 2/2 [00:00<00:00, 92.33it/s]\u001b[A\n",
      "IRCoT retrieval:  40%|█████████▎             | 405/1000 [00:53<01:18,  7.58it/s]\n",
      "HF model facebook/contriever encoding: 100%|██████| 2/2 [00:00<00:00, 85.11it/s]\u001b[A\n",
      "IRCoT retrieval:  41%|█████████▎             | 407/1000 [00:54<01:15,  7.89it/s]\n",
      "HF model facebook/contriever encoding: 100%|██████| 4/4 [00:00<00:00, 98.24it/s]\u001b[A\n",
      "IRCoT retrieval:  41%|█████████▍             | 410/1000 [00:54<01:48,  5.45it/s]\n",
      "HF model facebook/contriever encoding: 100%|█████| 2/2 [00:00<00:00, 124.28it/s]\u001b[A\n",
      "IRCoT retrieval:  41%|█████████▍             | 412/1000 [00:54<01:22,  7.12it/s]\n",
      "HF model facebook/contriever encoding: 100%|██████| 3/3 [00:00<00:00, 95.55it/s]\u001b[A\n",
      "IRCoT retrieval:  41%|█████████▌             | 414/1000 [00:54<01:12,  8.11it/s]\n",
      "HF model facebook/contriever encoding: 100%|██████| 3/3 [00:00<00:00, 98.55it/s]\u001b[A\n",
      "IRCoT retrieval:  42%|█████████▌             | 415/1000 [00:55<01:10,  8.34it/s]\n",
      "HF model facebook/contriever encoding: 100%|█████| 3/3 [00:00<00:00, 150.19it/s]\u001b[A\n",
      "\n",
      "HF model facebook/contriever encoding: 100%|█████| 2/2 [00:00<00:00, 146.72it/s]\u001b[A\n",
      "IRCoT retrieval:  42%|█████████▋             | 421/1000 [00:55<01:16,  7.54it/s]\n",
      "HF model facebook/contriever encoding: 100%|██████| 3/3 [00:00<00:00, 94.39it/s]\u001b[A\n",
      "IRCoT retrieval:  43%|█████████▊             | 426/1000 [00:56<01:10,  8.16it/s]\n",
      "HF model facebook/contriever encoding: 100%|██████| 2/2 [00:00<00:00, 86.32it/s]\u001b[A\n",
      "IRCoT retrieval:  43%|█████████▊             | 428/1000 [00:56<01:10,  8.16it/s]\n",
      "HF model facebook/contriever encoding: 100%|██████| 2/2 [00:00<00:00, 92.11it/s]\u001b[A\n",
      "IRCoT retrieval:  43%|█████████▊             | 429/1000 [00:56<01:11,  7.95it/s]\n",
      "HF model facebook/contriever encoding: 100%|██████| 2/2 [00:00<00:00, 84.50it/s]\u001b[A\n",
      "IRCoT retrieval:  43%|█████████▉             | 431/1000 [00:57<01:29,  6.36it/s]\n",
      "HF model facebook/contriever encoding: 100%|██████| 2/2 [00:00<00:00, 90.99it/s]\u001b[A\n",
      "IRCoT retrieval:  43%|█████████▉             | 433/1000 [00:57<01:15,  7.53it/s]\n",
      "HF model facebook/contriever encoding: 100%|█████| 2/2 [00:00<00:00, 131.37it/s]\u001b[A\n",
      "IRCoT retrieval:  44%|██████████             | 435/1000 [00:57<01:05,  8.60it/s]\n",
      "HF model facebook/contriever encoding: 100%|█████| 2/2 [00:00<00:00, 143.60it/s]\u001b[A\n",
      "IRCoT retrieval:  44%|██████████             | 437/1000 [00:57<00:58,  9.65it/s]\n",
      "HF model facebook/contriever encoding: 100%|█████| 2/2 [00:00<00:00, 111.68it/s]\u001b[A\n",
      "\n",
      "HF model facebook/contriever encoding: 100%|██████| 2/2 [00:00<00:00, 95.45it/s]\u001b[A\n",
      "IRCoT retrieval:  44%|██████████             | 440/1000 [00:58<01:09,  8.04it/s]\n",
      "HF model facebook/contriever encoding: 100%|█████| 2/2 [00:00<00:00, 123.41it/s]\u001b[A\n",
      "IRCoT retrieval:  44%|██████████▏            | 442/1000 [00:58<01:02,  8.98it/s]\n",
      "HF model facebook/contriever encoding: 100%|█████| 3/3 [00:00<00:00, 104.41it/s]\u001b[A\n",
      "IRCoT retrieval:  44%|██████████▏            | 444/1000 [00:58<00:59,  9.40it/s]\n",
      "HF model facebook/contriever encoding: 100%|██████| 3/3 [00:00<00:00, 95.26it/s]\u001b[A\n",
      "IRCoT retrieval:  45%|██████████▎            | 447/1000 [00:58<00:55,  9.97it/s]\n",
      "HF model facebook/contriever encoding: 100%|█████| 4/4 [00:00<00:00, 104.58it/s]\u001b[A\n",
      "IRCoT retrieval:  45%|██████████▎            | 448/1000 [00:59<00:58,  9.47it/s]\n",
      "HF model facebook/contriever encoding: 100%|█████| 2/2 [00:00<00:00, 104.41it/s]\u001b[A\n",
      "IRCoT retrieval:  45%|██████████▎            | 449/1000 [00:59<00:59,  9.32it/s]\n",
      "HF model facebook/contriever encoding: 100%|██████| 2/2 [00:00<00:00, 83.23it/s]\u001b[A\n",
      "IRCoT retrieval:  45%|██████████▎            | 450/1000 [00:59<01:14,  7.34it/s]\n",
      "HF model facebook/contriever encoding: 100%|█████| 2/2 [00:00<00:00, 100.35it/s]\u001b[A\n",
      "IRCoT retrieval:  45%|██████████▍            | 453/1000 [00:59<01:05,  8.30it/s]\n",
      "HF model facebook/contriever encoding: 100%|█████| 4/4 [00:00<00:00, 111.74it/s]\u001b[A\n",
      "IRCoT retrieval:  45%|██████████▍            | 454/1000 [00:59<01:05,  8.35it/s]\n",
      "HF model facebook/contriever encoding: 100%|██████| 2/2 [00:00<00:00, 94.83it/s]\u001b[A\n",
      "IRCoT retrieval:  46%|██████████▍            | 455/1000 [00:59<01:02,  8.67it/s]\n",
      "HF model facebook/contriever encoding: 100%|██████| 3/3 [00:00<00:00, 98.17it/s]\u001b[A\n",
      "IRCoT retrieval:  46%|██████████▌            | 457/1000 [01:00<01:01,  8.77it/s]\n",
      "HF model facebook/contriever encoding: 100%|█████| 2/2 [00:00<00:00, 112.49it/s]\u001b[A\n",
      "IRCoT retrieval:  46%|██████████▌            | 459/1000 [01:00<00:59,  9.04it/s]\n",
      "HF model facebook/contriever encoding: 100%|█████| 2/2 [00:00<00:00, 109.11it/s]\u001b[A\n",
      "IRCoT retrieval:  46%|██████████▌            | 460/1000 [01:00<01:12,  7.46it/s]\n",
      "HF model facebook/contriever encoding: 100%|█████| 2/2 [00:00<00:00, 115.19it/s]\u001b[A\n",
      "IRCoT retrieval:  46%|██████████▋            | 462/1000 [01:00<01:03,  8.53it/s]\n",
      "HF model facebook/contriever encoding: 100%|█████| 2/2 [00:00<00:00, 112.08it/s]\u001b[A\n",
      "\n",
      "HF model facebook/contriever encoding: 100%|█████| 2/2 [00:00<00:00, 114.45it/s]\u001b[A\n",
      "IRCoT retrieval:  46%|██████████▋            | 464/1000 [01:00<00:58,  9.10it/s]\n",
      "HF model facebook/contriever encoding: 100%|██████| 2/2 [00:00<00:00, 89.68it/s]\u001b[A\n",
      "IRCoT retrieval:  47%|██████████▋            | 466/1000 [01:01<00:57,  9.23it/s]\n",
      "HF model facebook/contriever encoding: 100%|█████| 2/2 [00:00<00:00, 120.85it/s]\u001b[A\n",
      "IRCoT retrieval:  47%|██████████▋            | 467/1000 [01:01<00:59,  8.96it/s]\n",
      "HF model facebook/contriever encoding: 100%|█████| 2/2 [00:00<00:00, 117.22it/s]\u001b[A\n",
      "IRCoT retrieval:  47%|██████████▊            | 469/1000 [01:01<01:02,  8.53it/s]\n",
      "HF model facebook/contriever encoding: 100%|██████| 3/3 [00:00<00:00, 84.85it/s]\u001b[A\n",
      "IRCoT retrieval:  47%|██████████▊            | 470/1000 [01:01<01:27,  6.05it/s]\n",
      "HF model facebook/contriever encoding: 100%|█████| 3/3 [00:00<00:00, 144.41it/s]\u001b[A\n",
      "\n",
      "HF model facebook/contriever encoding: 100%|█████| 3/3 [00:00<00:00, 148.94it/s]\u001b[A\n",
      "IRCoT retrieval:  47%|██████████▊            | 472/1000 [01:01<01:11,  7.39it/s]\n",
      "HF model facebook/contriever encoding: 100%|█████| 2/2 [00:00<00:00, 100.59it/s]\u001b[A\n",
      "\n",
      "HF model facebook/contriever encoding: 100%|█████| 2/2 [00:00<00:00, 100.78it/s]\u001b[A\n",
      "IRCoT retrieval:  47%|██████████▉            | 474/1000 [01:02<01:05,  8.09it/s]\n",
      "HF model facebook/contriever encoding: 100%|█████| 3/3 [00:00<00:00, 103.71it/s]\u001b[A\n",
      "IRCoT retrieval:  48%|██████████▉            | 477/1000 [01:02<01:00,  8.67it/s]\n",
      "HF model facebook/contriever encoding: 100%|█████| 4/4 [00:00<00:00, 105.19it/s]\u001b[A\n",
      "IRCoT retrieval:  48%|███████████            | 481/1000 [01:03<01:06,  7.77it/s]\n",
      "HF model facebook/contriever encoding: 100%|██████| 3/3 [00:00<00:00, 85.25it/s]\u001b[A\n",
      "IRCoT retrieval:  48%|███████████▏           | 485/1000 [01:03<01:03,  8.12it/s]\n",
      "HF model facebook/contriever encoding: 100%|██████| 4/4 [00:00<00:00, 85.48it/s]\u001b[A\n",
      "IRCoT retrieval:  49%|███████████▏           | 486/1000 [01:03<01:07,  7.57it/s]\n",
      "HF model facebook/contriever encoding: 100%|██████| 2/2 [00:00<00:00, 93.10it/s]\u001b[A\n",
      "IRCoT retrieval:  49%|███████████▏           | 487/1000 [01:03<01:07,  7.66it/s]\n",
      "HF model facebook/contriever encoding: 100%|██████| 2/2 [00:00<00:00, 85.58it/s]\u001b[A\n",
      "IRCoT retrieval:  49%|███████████▏           | 488/1000 [01:03<01:06,  7.68it/s]\n",
      "HF model facebook/contriever encoding: 100%|██████| 2/2 [00:00<00:00, 79.16it/s]\u001b[A\n",
      "IRCoT retrieval:  49%|███████████▏           | 489/1000 [01:04<01:06,  7.69it/s]\n",
      "HF model facebook/contriever encoding: 100%|██████| 2/2 [00:00<00:00, 83.48it/s]\u001b[A\n",
      "IRCoT retrieval:  49%|███████████▎           | 490/1000 [01:04<01:33,  5.43it/s]\n",
      "HF model facebook/contriever encoding: 100%|██████| 2/2 [00:00<00:00, 90.33it/s]\u001b[A\n",
      "IRCoT retrieval:  49%|███████████▎           | 491/1000 [01:04<01:25,  5.93it/s]\n",
      "HF model facebook/contriever encoding: 100%|██████| 2/2 [00:00<00:00, 96.91it/s]\u001b[A\n",
      "IRCoT retrieval:  49%|███████████▎           | 494/1000 [01:04<01:11,  7.11it/s]\n",
      "HF model facebook/contriever encoding: 100%|██████| 2/2 [00:00<00:00, 82.51it/s]\u001b[A\n",
      "IRCoT retrieval:  50%|███████████▍           | 495/1000 [01:05<01:06,  7.58it/s]\n",
      "HF model facebook/contriever encoding: 100%|██████| 2/2 [00:00<00:00, 95.53it/s]\u001b[A\n",
      "IRCoT retrieval:  50%|███████████▌           | 500/1000 [01:05<01:26,  5.77it/s]\n",
      "HF model facebook/contriever encoding: 100%|█████| 2/2 [00:00<00:00, 100.65it/s]\u001b[A\n",
      "IRCoT retrieval:  50%|███████████▌           | 501/1000 [01:05<01:19,  6.29it/s]\n",
      "HF model facebook/contriever encoding: 100%|██████| 2/2 [00:00<00:00, 83.31it/s]\u001b[A\n",
      "IRCoT retrieval:  50%|███████████▌           | 503/1000 [01:06<01:09,  7.13it/s]\n",
      "HF model facebook/contriever encoding: 100%|█████| 2/2 [00:00<00:00, 101.87it/s]\u001b[A\n",
      "IRCoT retrieval:  50%|███████████▌           | 505/1000 [01:06<01:04,  7.71it/s]\n",
      "HF model facebook/contriever encoding: 100%|██████| 2/2 [00:00<00:00, 81.77it/s]\u001b[A\n",
      "IRCoT retrieval:  51%|███████████▋           | 506/1000 [01:06<01:04,  7.71it/s]\n",
      "HF model facebook/contriever encoding: 100%|██████| 3/3 [00:00<00:00, 97.65it/s]\u001b[A\n",
      "IRCoT retrieval:  51%|███████████▋           | 507/1000 [01:06<01:05,  7.56it/s]\n",
      "HF model facebook/contriever encoding: 100%|██████| 2/2 [00:00<00:00, 91.89it/s]\u001b[A\n",
      "IRCoT retrieval:  51%|███████████▋           | 509/1000 [01:06<01:02,  7.81it/s]\n",
      "HF model facebook/contriever encoding: 100%|██████| 3/3 [00:00<00:00, 95.27it/s]\u001b[A\n",
      "IRCoT retrieval:  51%|███████████▊           | 513/1000 [01:07<01:08,  7.11it/s]\n",
      "HF model facebook/contriever encoding: 100%|██████| 2/2 [00:00<00:00, 78.48it/s]\u001b[A\n",
      "IRCoT retrieval:  52%|███████████▊           | 515/1000 [01:07<01:04,  7.53it/s]\n",
      "HF model facebook/contriever encoding: 100%|██████| 2/2 [00:00<00:00, 76.92it/s]\u001b[A\n",
      "IRCoT retrieval:  52%|███████████▊           | 516/1000 [01:07<01:04,  7.50it/s]\n",
      "HF model facebook/contriever encoding: 100%|██████| 2/2 [00:00<00:00, 85.97it/s]\u001b[A\n",
      "IRCoT retrieval:  52%|███████████▉           | 517/1000 [01:08<01:06,  7.27it/s]\n",
      "HF model facebook/contriever encoding: 100%|██████| 2/2 [00:00<00:00, 84.74it/s]\u001b[A\n",
      "IRCoT retrieval:  52%|███████████▉           | 519/1000 [01:08<01:02,  7.73it/s]\n",
      "HF model facebook/contriever encoding: 100%|█████| 2/2 [00:00<00:00, 116.46it/s]\u001b[A\n",
      "IRCoT retrieval:  52%|████████████           | 522/1000 [01:08<01:04,  7.46it/s]\n",
      "HF model facebook/contriever encoding: 100%|██████| 2/2 [00:00<00:00, 92.64it/s]\u001b[A\n",
      "IRCoT retrieval:  52%|████████████           | 524/1000 [01:09<00:55,  8.53it/s]\n",
      "HF model facebook/contriever encoding: 100%|█████| 3/3 [00:00<00:00, 155.69it/s]\u001b[A\n",
      "IRCoT retrieval:  53%|████████████▏          | 528/1000 [01:09<00:47,  9.93it/s]\n",
      "HF model facebook/contriever encoding: 100%|██████| 2/2 [00:00<00:00, 80.55it/s]\u001b[A\n",
      "IRCoT retrieval:  53%|████████████▏          | 532/1000 [01:09<00:56,  8.35it/s]\n",
      "HF model facebook/contriever encoding: 100%|█████| 2/2 [00:00<00:00, 109.44it/s]\u001b[A\n",
      "IRCoT retrieval:  54%|████████████▎          | 536/1000 [01:10<00:47,  9.75it/s]\n",
      "HF model facebook/contriever encoding: 100%|██████| 2/2 [00:00<00:00, 95.36it/s]\u001b[A\n",
      "IRCoT retrieval:  54%|████████████▎          | 538/1000 [01:10<00:45, 10.05it/s]\n",
      "HF model facebook/contriever encoding: 100%|█████| 4/4 [00:00<00:00, 102.19it/s]\u001b[A\n",
      "\n",
      "HF model facebook/contriever encoding: 100%|██████| 2/2 [00:00<00:00, 98.05it/s]\u001b[A\n",
      "IRCoT retrieval:  54%|████████████▍          | 540/1000 [01:10<00:57,  8.06it/s]\n",
      "HF model facebook/contriever encoding: 100%|██████| 4/4 [00:00<00:00, 97.29it/s]\u001b[A\n",
      "IRCoT retrieval:  54%|████████████▍          | 543/1000 [01:11<00:50,  8.98it/s]\n",
      "HF model facebook/contriever encoding: 100%|█████| 6/6 [00:00<00:00, 108.80it/s]\u001b[A\n",
      "IRCoT retrieval:  54%|████████████▌          | 544/1000 [01:11<00:53,  8.59it/s]\n",
      "HF model facebook/contriever encoding: 100%|█████| 2/2 [00:00<00:00, 102.59it/s]\u001b[A\n",
      "IRCoT retrieval:  55%|████████████▌          | 546/1000 [01:11<00:51,  8.88it/s]\n",
      "HF model facebook/contriever encoding: 100%|██████| 4/4 [00:00<00:00, 86.63it/s]\u001b[A\n",
      "IRCoT retrieval:  55%|████████████▌          | 547/1000 [01:11<00:52,  8.58it/s]\n",
      "HF model facebook/contriever encoding: 100%|██████| 2/2 [00:00<00:00, 93.03it/s]\u001b[A\n",
      "IRCoT retrieval:  55%|████████████▌          | 548/1000 [01:11<00:52,  8.69it/s]\n",
      "HF model facebook/contriever encoding: 100%|██████| 2/2 [00:00<00:00, 71.33it/s]\u001b[A\n",
      "IRCoT retrieval:  55%|████████████▋          | 550/1000 [01:12<01:09,  6.49it/s]\n",
      "HF model facebook/contriever encoding: 100%|██████| 3/3 [00:00<00:00, 95.62it/s]\u001b[A\n",
      "IRCoT retrieval:  55%|████████████▋          | 551/1000 [01:12<01:03,  7.04it/s]\n",
      "HF model facebook/contriever encoding: 100%|██████| 2/2 [00:00<00:00, 97.78it/s]\u001b[A\n",
      "IRCoT retrieval:  55%|████████████▋          | 553/1000 [01:12<00:53,  8.30it/s]\n",
      "HF model facebook/contriever encoding: 100%|█████| 5/5 [00:00<00:00, 152.06it/s]\u001b[A\n",
      "IRCoT retrieval:  56%|████████████▊          | 557/1000 [01:12<00:45,  9.72it/s]\n",
      "HF model facebook/contriever encoding: 100%|█████| 2/2 [00:00<00:00, 100.16it/s]\u001b[A\n",
      "IRCoT retrieval:  56%|████████████▊          | 559/1000 [01:12<00:44, 10.01it/s]\n",
      "HF model facebook/contriever encoding: 100%|█████| 2/2 [00:00<00:00, 116.53it/s]\u001b[A\n",
      "IRCoT retrieval:  56%|████████████▉          | 562/1000 [01:13<00:56,  7.74it/s]\n",
      "HF model facebook/contriever encoding: 100%|█████| 2/2 [00:00<00:00, 121.54it/s]\u001b[A\n",
      "IRCoT retrieval:  56%|████████████▉          | 564/1000 [01:13<00:50,  8.58it/s]\n",
      "HF model facebook/contriever encoding: 100%|██████| 2/2 [00:00<00:00, 94.75it/s]\u001b[A\n",
      "IRCoT retrieval:  57%|█████████████          | 566/1000 [01:13<00:47,  9.18it/s]\n",
      "HF model facebook/contriever encoding: 100%|██████| 3/3 [00:00<00:00, 95.10it/s]\u001b[A\n",
      "IRCoT retrieval:  57%|█████████████          | 567/1000 [01:13<00:47,  9.14it/s]\n",
      "HF model facebook/contriever encoding: 100%|█████| 3/3 [00:00<00:00, 102.97it/s]\u001b[A\n",
      "IRCoT retrieval:  57%|█████████████          | 568/1000 [01:14<00:47,  9.15it/s]\n",
      "HF model facebook/contriever encoding: 100%|█████| 2/2 [00:00<00:00, 104.93it/s]\u001b[A\n",
      "IRCoT retrieval:  57%|█████████████          | 570/1000 [01:14<00:58,  7.39it/s]\n",
      "HF model facebook/contriever encoding: 100%|██████| 2/2 [00:00<00:00, 95.07it/s]\u001b[A\n",
      "\n",
      "HF model facebook/contriever encoding: 100%|█████| 2/2 [00:00<00:00, 116.81it/s]\u001b[A\n",
      "IRCoT retrieval:  57%|█████████████▏         | 572/1000 [01:14<00:52,  8.22it/s]\n",
      "HF model facebook/contriever encoding: 100%|██████| 2/2 [00:00<00:00, 98.73it/s]\u001b[A\n",
      "IRCoT retrieval:  57%|█████████████▏         | 573/1000 [01:14<00:53,  8.05it/s]\n",
      "HF model facebook/contriever encoding: 100%|█████| 2/2 [00:00<00:00, 105.89it/s]\u001b[A\n",
      "IRCoT retrieval:  57%|█████████████▏         | 575/1000 [01:14<00:48,  8.71it/s]\n",
      "HF model facebook/contriever encoding: 100%|██████| 2/2 [00:00<00:00, 98.35it/s]\u001b[A\n",
      "IRCoT retrieval:  58%|█████████████▎         | 577/1000 [01:15<00:44,  9.48it/s]\n",
      "HF model facebook/contriever encoding: 100%|█████| 2/2 [00:00<00:00, 107.97it/s]\u001b[A\n",
      "\n",
      "HF model facebook/contriever encoding: 100%|█████| 3/3 [00:00<00:00, 104.79it/s]\u001b[A\n",
      "IRCoT retrieval:  58%|█████████████▎         | 580/1000 [01:15<01:00,  6.92it/s]\n",
      "HF model facebook/contriever encoding: 100%|█████| 3/3 [00:00<00:00, 155.27it/s]\u001b[A\n",
      "IRCoT retrieval:  58%|█████████████▍         | 582/1000 [01:15<00:52,  8.03it/s]\n",
      "HF model facebook/contriever encoding: 100%|██████| 2/2 [00:00<00:00, 94.78it/s]\u001b[A\n",
      "IRCoT retrieval:  58%|█████████████▍         | 584/1000 [01:16<00:47,  8.79it/s]\n",
      "HF model facebook/contriever encoding: 100%|██████| 2/2 [00:00<00:00, 93.24it/s]\u001b[A\n",
      "IRCoT retrieval:  59%|█████████████▍         | 586/1000 [01:16<00:44,  9.36it/s]\n",
      "HF model facebook/contriever encoding: 100%|██████| 2/2 [00:00<00:00, 89.86it/s]\u001b[A\n",
      "IRCoT retrieval:  59%|█████████████▌         | 587/1000 [01:16<00:46,  8.97it/s]\n",
      "HF model facebook/contriever encoding: 100%|██████| 2/2 [00:00<00:00, 67.45it/s]\u001b[A\n",
      "IRCoT retrieval:  59%|█████████████▌         | 589/1000 [01:16<00:47,  8.71it/s]\n",
      "HF model facebook/contriever encoding: 100%|██████| 2/2 [00:00<00:00, 88.74it/s]\u001b[A\n",
      "IRCoT retrieval:  59%|█████████████▌         | 592/1000 [01:17<00:54,  7.47it/s]\n",
      "HF model facebook/contriever encoding: 100%|██████| 2/2 [00:00<00:00, 98.55it/s]\u001b[A\n",
      "IRCoT retrieval:  59%|█████████████▋         | 594/1000 [01:17<00:52,  7.74it/s]\n",
      "HF model facebook/contriever encoding: 100%|██████| 2/2 [00:00<00:00, 86.36it/s]\u001b[A\n",
      "IRCoT retrieval:  60%|█████████████▊         | 598/1000 [01:17<00:48,  8.32it/s]\n",
      "HF model facebook/contriever encoding: 100%|██████| 2/2 [00:00<00:00, 83.14it/s]\u001b[A\n",
      "IRCoT retrieval:  60%|█████████████▊         | 601/1000 [01:18<01:09,  5.77it/s]\n",
      "HF model facebook/contriever encoding: 100%|██████| 2/2 [00:00<00:00, 89.46it/s]\u001b[A\n",
      "IRCoT retrieval:  60%|█████████████▊         | 603/1000 [01:18<00:57,  6.88it/s]\n",
      "HF model facebook/contriever encoding: 100%|█████| 2/2 [00:00<00:00, 141.27it/s]\u001b[A\n",
      "\n",
      "HF model facebook/contriever encoding: 100%|█████| 2/2 [00:00<00:00, 139.88it/s]\u001b[A\n",
      "IRCoT retrieval:  61%|█████████████▉         | 607/1000 [01:19<00:42,  9.16it/s]\n",
      "HF model facebook/contriever encoding: 100%|██████| 2/2 [00:00<00:00, 92.53it/s]\u001b[A\n",
      "IRCoT retrieval:  61%|██████████████         | 612/1000 [01:19<00:51,  7.59it/s]\n",
      "HF model facebook/contriever encoding: 100%|█████| 3/3 [00:00<00:00, 107.89it/s]\u001b[A\n",
      "IRCoT retrieval:  61%|██████████████         | 613/1000 [01:19<00:49,  7.82it/s]\n",
      "HF model facebook/contriever encoding: 100%|█████| 2/2 [00:00<00:00, 100.62it/s]\u001b[A\n",
      "IRCoT retrieval:  62%|██████████████▏        | 615/1000 [01:20<00:47,  8.13it/s]\n",
      "HF model facebook/contriever encoding: 100%|█████| 3/3 [00:00<00:00, 112.32it/s]\u001b[A\n",
      "IRCoT retrieval:  62%|██████████████▏        | 616/1000 [01:20<00:45,  8.50it/s]\n",
      "HF model facebook/contriever encoding: 100%|█████| 3/3 [00:00<00:00, 107.84it/s]\u001b[A\n",
      "IRCoT retrieval:  62%|██████████████▏        | 619/1000 [01:20<00:38,  9.92it/s]\n",
      "HF model facebook/contriever encoding: 100%|██████| 2/2 [00:00<00:00, 94.02it/s]\u001b[A\n",
      "IRCoT retrieval:  62%|██████████████▎        | 620/1000 [01:20<00:54,  7.01it/s]\n",
      "HF model facebook/contriever encoding: 100%|█████| 3/3 [00:00<00:00, 114.87it/s]\u001b[A\n",
      "IRCoT retrieval:  62%|██████████████▎        | 621/1000 [01:20<00:50,  7.56it/s]\n",
      "HF model facebook/contriever encoding: 100%|█████| 2/2 [00:00<00:00, 114.42it/s]\u001b[A\n",
      "IRCoT retrieval:  62%|██████████████▎        | 623/1000 [01:21<00:43,  8.68it/s]\n",
      "HF model facebook/contriever encoding: 100%|█████| 2/2 [00:00<00:00, 100.16it/s]\u001b[A\n",
      "\n",
      "HF model facebook/contriever encoding: 100%|█████| 3/3 [00:00<00:00, 101.42it/s]\u001b[A\n",
      "IRCoT retrieval:  62%|██████████████▍        | 625/1000 [01:21<00:41,  9.06it/s]\n",
      "HF model facebook/contriever encoding: 100%|█████| 5/5 [00:00<00:00, 111.41it/s]\u001b[A\n",
      "IRCoT retrieval:  63%|██████████████▍        | 626/1000 [01:21<00:42,  8.81it/s]\n",
      "HF model facebook/contriever encoding: 100%|█████| 2/2 [00:00<00:00, 122.01it/s]\u001b[A\n",
      "\n",
      "HF model facebook/contriever encoding: 100%|██████| 2/2 [00:00<00:00, 97.99it/s]\u001b[A\n",
      "IRCoT retrieval:  63%|██████████████▍        | 628/1000 [01:21<00:39,  9.33it/s]\n",
      "HF model facebook/contriever encoding: 100%|█████| 2/2 [00:00<00:00, 145.52it/s]\u001b[A\n",
      "\n",
      "HF model facebook/contriever encoding: 100%|█████| 3/3 [00:00<00:00, 153.49it/s]\u001b[A\n",
      "IRCoT retrieval:  63%|██████████████▍        | 630/1000 [01:21<00:50,  7.26it/s]\n",
      "HF model facebook/contriever encoding: 100%|██████| 3/3 [00:00<00:00, 96.75it/s]\u001b[A\n",
      "IRCoT retrieval:  63%|██████████████▌        | 632/1000 [01:22<00:45,  8.06it/s]\n",
      "HF model facebook/contriever encoding: 100%|██████| 2/2 [00:00<00:00, 94.89it/s]\u001b[A\n",
      "\n",
      "HF model facebook/contriever encoding: 100%|██████| 2/2 [00:00<00:00, 96.27it/s]\u001b[A\n",
      "IRCoT retrieval:  63%|██████████████▌        | 634/1000 [01:22<00:42,  8.64it/s]\n",
      "HF model facebook/contriever encoding: 100%|█████| 4/4 [00:00<00:00, 113.53it/s]\u001b[A\n",
      "IRCoT retrieval:  64%|██████████████▋        | 636/1000 [01:22<00:39,  9.11it/s]\n",
      "HF model facebook/contriever encoding: 100%|██████| 3/3 [00:00<00:00, 95.54it/s]\u001b[A\n",
      "IRCoT retrieval:  64%|██████████████▋        | 637/1000 [01:22<00:41,  8.68it/s]\n",
      "HF model facebook/contriever encoding: 100%|██████| 2/2 [00:00<00:00, 83.55it/s]\u001b[A\n",
      "IRCoT retrieval:  64%|██████████████▋        | 638/1000 [01:22<00:41,  8.71it/s]\n",
      "HF model facebook/contriever encoding: 100%|█████| 3/3 [00:00<00:00, 104.24it/s]\u001b[A\n",
      "IRCoT retrieval:  64%|██████████████▋        | 640/1000 [01:23<01:01,  5.84it/s]\n",
      "HF model facebook/contriever encoding: 100%|██████| 2/2 [00:00<00:00, 99.42it/s]\u001b[A\n",
      "IRCoT retrieval:  64%|██████████████▊        | 642/1000 [01:23<00:51,  6.91it/s]\n",
      "HF model facebook/contriever encoding: 100%|█████| 2/2 [00:00<00:00, 114.28it/s]\u001b[A\n",
      "IRCoT retrieval:  64%|██████████████▊        | 644/1000 [01:23<00:42,  8.28it/s]\n",
      "HF model facebook/contriever encoding: 100%|█████| 3/3 [00:00<00:00, 114.80it/s]\u001b[A\n",
      "IRCoT retrieval:  64%|██████████████▊        | 645/1000 [01:23<00:41,  8.61it/s]\n",
      "HF model facebook/contriever encoding: 100%|██████| 2/2 [00:00<00:00, 92.93it/s]\u001b[A\n",
      "IRCoT retrieval:  65%|██████████████▉        | 647/1000 [01:23<00:37,  9.43it/s]\n",
      "HF model facebook/contriever encoding: 100%|█████| 3/3 [00:00<00:00, 100.36it/s]\u001b[A\n",
      "IRCoT retrieval:  65%|██████████████▉        | 649/1000 [01:24<00:36,  9.72it/s]\n",
      "HF model facebook/contriever encoding: 100%|█████| 4/4 [00:00<00:00, 111.48it/s]\u001b[A\n",
      "IRCoT retrieval:  65%|██████████████▉        | 650/1000 [01:24<00:50,  6.89it/s]\n",
      "HF model facebook/contriever encoding: 100%|██████| 2/2 [00:00<00:00, 96.28it/s]\u001b[A\n",
      "IRCoT retrieval:  65%|██████████████▉        | 652/1000 [01:24<00:43,  8.00it/s]\n",
      "HF model facebook/contriever encoding: 100%|█████| 2/2 [00:00<00:00, 100.93it/s]\u001b[A\n",
      "IRCoT retrieval:  65%|███████████████        | 654/1000 [01:24<00:39,  8.85it/s]\n",
      "HF model facebook/contriever encoding: 100%|██████| 2/2 [00:00<00:00, 96.28it/s]\u001b[A\n",
      "IRCoT retrieval:  66%|███████████████▏       | 658/1000 [01:25<00:36,  9.39it/s]\n",
      "HF model facebook/contriever encoding: 100%|██████| 3/3 [00:00<00:00, 94.99it/s]\u001b[A\n",
      "IRCoT retrieval:  66%|███████████████▏       | 659/1000 [01:25<00:36,  9.34it/s]\n",
      "HF model facebook/contriever encoding: 100%|██████| 2/2 [00:00<00:00, 93.71it/s]\u001b[A\n",
      "IRCoT retrieval:  66%|███████████████▏       | 660/1000 [01:25<00:49,  6.85it/s]\n",
      "HF model facebook/contriever encoding: 100%|█████| 2/2 [00:00<00:00, 140.61it/s]\u001b[A\n",
      "IRCoT retrieval:  66%|███████████████▏       | 662/1000 [01:25<00:42,  8.02it/s]\n",
      "HF model facebook/contriever encoding: 100%|█████| 3/3 [00:00<00:00, 111.88it/s]\u001b[A\n",
      "IRCoT retrieval:  66%|███████████████▏       | 663/1000 [01:25<00:40,  8.34it/s]\n",
      "HF model facebook/contriever encoding: 100%|█████| 3/3 [00:00<00:00, 111.06it/s]\u001b[A\n",
      "IRCoT retrieval:  66%|███████████████▎       | 664/1000 [01:26<00:38,  8.62it/s]\n",
      "HF model facebook/contriever encoding: 100%|█████| 2/2 [00:00<00:00, 103.22it/s]\u001b[A\n",
      "IRCoT retrieval:  66%|███████████████▎       | 665/1000 [01:26<00:38,  8.81it/s]\n",
      "HF model facebook/contriever encoding: 100%|██████| 2/2 [00:00<00:00, 93.35it/s]\u001b[A\n",
      "IRCoT retrieval:  67%|███████████████▍       | 669/1000 [01:26<00:36,  8.99it/s]\n",
      "HF model facebook/contriever encoding: 100%|██████| 3/3 [00:00<00:00, 83.55it/s]\u001b[A\n",
      "IRCoT retrieval:  67%|███████████████▍       | 672/1000 [01:27<00:44,  7.36it/s]\n",
      "HF model facebook/contriever encoding: 100%|█████| 2/2 [00:00<00:00, 103.96it/s]\u001b[A\n",
      "IRCoT retrieval:  67%|███████████████▌       | 674/1000 [01:27<00:39,  8.35it/s]\n",
      "HF model facebook/contriever encoding: 100%|██████| 2/2 [00:00<00:00, 89.14it/s]\u001b[A\n",
      "IRCoT retrieval:  68%|███████████████▌       | 676/1000 [01:27<00:35,  9.01it/s]\n",
      "HF model facebook/contriever encoding: 100%|█████| 2/2 [00:00<00:00, 103.28it/s]\u001b[A\n",
      "IRCoT retrieval:  68%|███████████████▌       | 678/1000 [01:27<00:33,  9.61it/s]\n",
      "HF model facebook/contriever encoding: 100%|██████| 2/2 [00:00<00:00, 94.14it/s]\u001b[A\n",
      "IRCoT retrieval:  68%|███████████████▋       | 680/1000 [01:28<00:42,  7.52it/s]\n",
      "HF model facebook/contriever encoding: 100%|██████| 3/3 [00:00<00:00, 92.22it/s]\u001b[A\n",
      "IRCoT retrieval:  68%|███████████████▋       | 683/1000 [01:28<00:36,  8.72it/s]\n",
      "HF model facebook/contriever encoding: 100%|█████| 2/2 [00:00<00:00, 142.02it/s]\u001b[A\n",
      "IRCoT retrieval:  68%|███████████████▋       | 684/1000 [01:28<00:35,  8.92it/s]\n",
      "HF model facebook/contriever encoding: 100%|█████| 2/2 [00:00<00:00, 109.25it/s]\u001b[A\n",
      "IRCoT retrieval:  68%|███████████████▊       | 685/1000 [01:28<00:37,  8.42it/s]\n",
      "HF model facebook/contriever encoding: 100%|█████| 2/2 [00:00<00:00, 112.75it/s]\u001b[A\n",
      "IRCoT retrieval:  69%|███████████████▊       | 687/1000 [01:28<00:33,  9.27it/s]\n",
      "HF model facebook/contriever encoding: 100%|██████| 3/3 [00:00<00:00, 97.07it/s]\u001b[A\n",
      "IRCoT retrieval:  69%|███████████████▉       | 692/1000 [01:29<00:40,  7.68it/s]\n",
      "HF model facebook/contriever encoding: 100%|██████| 3/3 [00:00<00:00, 95.52it/s]\u001b[A\n",
      "IRCoT retrieval:  69%|███████████████▉       | 694/1000 [01:29<00:36,  8.29it/s]\n",
      "HF model facebook/contriever encoding: 100%|█████| 4/4 [00:00<00:00, 101.81it/s]\u001b[A\n",
      "IRCoT retrieval:  70%|███████████████▉       | 695/1000 [01:29<00:36,  8.25it/s]\n",
      "HF model facebook/contriever encoding: 100%|██████| 2/2 [00:00<00:00, 96.55it/s]\u001b[A\n",
      "IRCoT retrieval:  70%|████████████████       | 696/1000 [01:29<00:36,  8.36it/s]\n",
      "HF model facebook/contriever encoding: 100%|██████| 2/2 [00:00<00:00, 98.81it/s]\u001b[A\n",
      "IRCoT retrieval:  70%|████████████████       | 699/1000 [01:30<00:36,  8.31it/s]\n",
      "HF model facebook/contriever encoding: 100%|██████| 4/4 [00:00<00:00, 85.00it/s]\u001b[A\n",
      "IRCoT retrieval:  70%|████████████████       | 700/1000 [01:30<00:56,  5.33it/s]\n",
      "HF model facebook/contriever encoding: 100%|██████| 2/2 [00:00<00:00, 85.35it/s]\u001b[A\n",
      "IRCoT retrieval:  70%|████████████████▏      | 702/1000 [01:30<00:47,  6.28it/s]\n",
      "HF model facebook/contriever encoding: 100%|█████| 3/3 [00:00<00:00, 103.91it/s]\u001b[A\n",
      "IRCoT retrieval:  70%|████████████████▏      | 703/1000 [01:31<00:43,  6.83it/s]\n",
      "HF model facebook/contriever encoding: 100%|█████| 3/3 [00:00<00:00, 107.26it/s]\u001b[A\n",
      "IRCoT retrieval:  70%|████████████████▏      | 704/1000 [01:31<00:43,  6.84it/s]\n",
      "HF model facebook/contriever encoding: 100%|██████| 3/3 [00:00<00:00, 86.50it/s]\u001b[A\n",
      "IRCoT retrieval:  70%|████████████████▏      | 705/1000 [01:31<00:42,  6.87it/s]\n",
      "HF model facebook/contriever encoding: 100%|█████| 2/2 [00:00<00:00, 108.38it/s]\u001b[A\n",
      "IRCoT retrieval:  71%|████████████████▎      | 707/1000 [01:31<00:35,  8.29it/s]\n",
      "HF model facebook/contriever encoding: 100%|██████| 2/2 [00:00<00:00, 98.09it/s]\u001b[A\n",
      "\n",
      "HF model facebook/contriever encoding: 100%|█████| 4/4 [00:00<00:00, 104.96it/s]\u001b[A\n",
      "IRCoT retrieval:  71%|████████████████▎      | 709/1000 [01:31<00:33,  8.70it/s]\n",
      "HF model facebook/contriever encoding: 100%|█████| 2/2 [00:00<00:00, 108.76it/s]\u001b[A\n",
      "IRCoT retrieval:  71%|████████████████▎      | 710/1000 [01:32<00:44,  6.49it/s]\n",
      "HF model facebook/contriever encoding: 100%|█████| 2/2 [00:00<00:00, 139.07it/s]\u001b[A\n",
      "IRCoT retrieval:  71%|████████████████▍      | 712/1000 [01:32<00:37,  7.62it/s]\n",
      "HF model facebook/contriever encoding: 100%|█████| 2/2 [00:00<00:00, 140.65it/s]\u001b[A\n",
      "\n",
      "HF model facebook/contriever encoding: 100%|██████| 2/2 [00:00<00:00, 96.95it/s]\u001b[A\n",
      "IRCoT retrieval:  71%|████████████████▍      | 714/1000 [01:32<00:33,  8.49it/s]\n",
      "HF model facebook/contriever encoding: 100%|██████| 2/2 [00:00<00:00, 97.40it/s]\u001b[A\n",
      "IRCoT retrieval:  72%|████████████████▍      | 715/1000 [01:32<00:33,  8.58it/s]\n",
      "HF model facebook/contriever encoding: 100%|██████| 2/2 [00:00<00:00, 97.31it/s]\u001b[A\n",
      "IRCoT retrieval:  72%|████████████████▍      | 716/1000 [01:32<00:32,  8.79it/s]\n",
      "HF model facebook/contriever encoding: 100%|██████| 2/2 [00:00<00:00, 88.00it/s]\u001b[A\n",
      "IRCoT retrieval:  72%|████████████████▍      | 717/1000 [01:32<00:31,  8.96it/s]\n",
      "HF model facebook/contriever encoding: 100%|█████| 2/2 [00:00<00:00, 142.07it/s]\u001b[A\n",
      "IRCoT retrieval:  72%|████████████████▌      | 719/1000 [01:32<00:28,  9.95it/s]\n",
      "HF model facebook/contriever encoding: 100%|█████| 2/2 [00:00<00:00, 120.19it/s]\u001b[A\n",
      "IRCoT retrieval:  72%|████████████████▌      | 721/1000 [01:33<00:39,  7.03it/s]\n",
      "HF model facebook/contriever encoding: 100%|█████| 2/2 [00:00<00:00, 113.08it/s]\u001b[A\n",
      "\n",
      "HF model facebook/contriever encoding: 100%|██████| 6/6 [00:00<00:00, 99.03it/s]\u001b[A\n",
      "IRCoT retrieval:  72%|████████████████▋      | 723/1000 [01:33<00:36,  7.50it/s]\n",
      "HF model facebook/contriever encoding: 100%|██████| 2/2 [00:00<00:00, 94.44it/s]\u001b[A\n",
      "IRCoT retrieval:  72%|████████████████▋      | 724/1000 [01:33<00:35,  7.82it/s]\n",
      "HF model facebook/contriever encoding: 100%|█████| 2/2 [00:00<00:00, 112.71it/s]\u001b[A\n",
      "\n",
      "HF model facebook/contriever encoding: 100%|██████| 4/4 [00:00<00:00, 98.45it/s]\u001b[A\n",
      "IRCoT retrieval:  73%|████████████████▋      | 726/1000 [01:33<00:32,  8.35it/s]\n",
      "HF model facebook/contriever encoding: 100%|█████| 2/2 [00:00<00:00, 116.85it/s]\u001b[A\n",
      "\n",
      "HF model facebook/contriever encoding: 100%|█████| 2/2 [00:00<00:00, 105.06it/s]\u001b[A\n",
      "IRCoT retrieval:  73%|████████████████▋      | 728/1000 [01:34<00:30,  8.80it/s]\n",
      "HF model facebook/contriever encoding: 100%|██████| 4/4 [00:00<00:00, 90.24it/s]\u001b[A\n",
      "IRCoT retrieval:  73%|████████████████▊      | 729/1000 [01:34<00:31,  8.53it/s]\n",
      "HF model facebook/contriever encoding: 100%|█████| 2/2 [00:00<00:00, 100.21it/s]\u001b[A\n",
      "IRCoT retrieval:  73%|████████████████▊      | 730/1000 [01:34<00:44,  6.11it/s]\n",
      "HF model facebook/contriever encoding: 100%|█████| 5/5 [00:00<00:00, 101.26it/s]\u001b[A\n",
      "IRCoT retrieval:  73%|████████████████▊      | 732/1000 [01:34<00:40,  6.67it/s]\n",
      "HF model facebook/contriever encoding: 100%|██████| 2/2 [00:00<00:00, 80.97it/s]\u001b[A\n",
      "IRCoT retrieval:  73%|████████████████▊      | 733/1000 [01:34<00:38,  6.90it/s]\n",
      "HF model facebook/contriever encoding: 100%|██████| 2/2 [00:00<00:00, 96.51it/s]\u001b[A\n",
      "IRCoT retrieval:  74%|████████████████▉      | 736/1000 [01:35<00:33,  7.80it/s]\n",
      "HF model facebook/contriever encoding: 100%|█████| 5/5 [00:00<00:00, 129.12it/s]\u001b[A\n",
      "IRCoT retrieval:  74%|████████████████▉      | 737/1000 [01:35<00:35,  7.48it/s]\n",
      "HF model facebook/contriever encoding: 100%|█████| 3/3 [00:00<00:00, 123.00it/s]\u001b[A\n",
      "IRCoT retrieval:  74%|████████████████▉      | 738/1000 [01:35<00:34,  7.58it/s]\n",
      "HF model facebook/contriever encoding: 100%|█████| 2/2 [00:00<00:00, 121.63it/s]\u001b[A\n",
      "IRCoT retrieval:  74%|█████████████████      | 740/1000 [01:36<00:48,  5.38it/s]\n",
      "HF model facebook/contriever encoding: 100%|█████| 3/3 [00:00<00:00, 150.63it/s]\u001b[A\n",
      "IRCoT retrieval:  74%|█████████████████      | 742/1000 [01:36<00:36,  7.01it/s]\n",
      "HF model facebook/contriever encoding: 100%|█████| 4/4 [00:00<00:00, 110.49it/s]\u001b[A\n",
      "IRCoT retrieval:  74%|█████████████████      | 744/1000 [01:36<00:33,  7.62it/s]\n",
      "HF model facebook/contriever encoding: 100%|██████| 2/2 [00:00<00:00, 91.45it/s]\u001b[A\n",
      "IRCoT retrieval:  74%|█████████████████▏     | 745/1000 [01:36<00:32,  7.91it/s]\n",
      "HF model facebook/contriever encoding: 100%|█████| 3/3 [00:00<00:00, 111.40it/s]\u001b[A\n",
      "IRCoT retrieval:  75%|█████████████████▏     | 746/1000 [01:36<00:32,  7.89it/s]\n",
      "HF model facebook/contriever encoding: 100%|██████| 2/2 [00:00<00:00, 94.02it/s]\u001b[A\n",
      "IRCoT retrieval:  75%|█████████████████▏     | 747/1000 [01:36<00:30,  8.29it/s]\n",
      "HF model facebook/contriever encoding: 100%|██████| 2/2 [00:00<00:00, 88.91it/s]\u001b[A\n",
      "IRCoT retrieval:  75%|█████████████████▏     | 749/1000 [01:36<00:28,  8.74it/s]\n",
      "HF model facebook/contriever encoding: 100%|█████| 3/3 [00:00<00:00, 116.35it/s]\u001b[A\n",
      "IRCoT retrieval:  75%|█████████████████▎     | 750/1000 [01:37<00:39,  6.27it/s]\n",
      "HF model facebook/contriever encoding: 100%|██████| 2/2 [00:00<00:00, 96.96it/s]\u001b[A\n",
      "IRCoT retrieval:  75%|█████████████████▎     | 751/1000 [01:37<00:36,  6.78it/s]\n",
      "HF model facebook/contriever encoding: 100%|██████| 4/4 [00:00<00:00, 89.15it/s]\u001b[A\n",
      "IRCoT retrieval:  75%|█████████████████▎     | 752/1000 [01:37<00:36,  6.75it/s]\n",
      "HF model facebook/contriever encoding: 100%|██████| 2/2 [00:00<00:00, 93.46it/s]\u001b[A\n",
      "IRCoT retrieval:  75%|█████████████████▎     | 753/1000 [01:37<00:35,  7.04it/s]\n",
      "HF model facebook/contriever encoding: 100%|█████| 2/2 [00:00<00:00, 107.40it/s]\u001b[A\n",
      "IRCoT retrieval:  76%|█████████████████▍     | 757/1000 [01:38<00:26,  9.31it/s]\n",
      "HF model facebook/contriever encoding: 100%|██████| 4/4 [00:00<00:00, 94.76it/s]\u001b[A\n",
      "IRCoT retrieval:  76%|█████████████████▍     | 760/1000 [01:38<00:36,  6.55it/s]\n",
      "HF model facebook/contriever encoding: 100%|█████| 3/3 [00:00<00:00, 152.59it/s]\u001b[A\n",
      "IRCoT retrieval:  76%|█████████████████▌     | 762/1000 [01:38<00:31,  7.50it/s]\n",
      "HF model facebook/contriever encoding: 100%|█████| 2/2 [00:00<00:00, 145.67it/s]\u001b[A\n",
      "\n",
      "HF model facebook/contriever encoding: 100%|█████| 2/2 [00:00<00:00, 139.98it/s]\u001b[A\n",
      "IRCoT retrieval:  76%|█████████████████▌     | 764/1000 [01:38<00:28,  8.29it/s]\n",
      "HF model facebook/contriever encoding: 100%|██████| 2/2 [00:00<00:00, 94.16it/s]\u001b[A\n",
      "IRCoT retrieval:  77%|█████████████████▌     | 766/1000 [01:39<00:25,  9.02it/s]\n",
      "HF model facebook/contriever encoding: 100%|██████| 2/2 [00:00<00:00, 95.22it/s]\u001b[A\n",
      "IRCoT retrieval:  77%|█████████████████▋     | 768/1000 [01:39<00:24,  9.54it/s]\n",
      "HF model facebook/contriever encoding: 100%|██████| 2/2 [00:00<00:00, 96.90it/s]\u001b[A\n",
      "\n",
      "HF model facebook/contriever encoding: 100%|█████| 2/2 [00:00<00:00, 143.48it/s]\u001b[A\n",
      "IRCoT retrieval:  77%|█████████████████▋     | 770/1000 [01:39<00:31,  7.20it/s]\n",
      "HF model facebook/contriever encoding: 100%|█████| 2/2 [00:00<00:00, 118.37it/s]\u001b[A\n",
      "IRCoT retrieval:  77%|█████████████████▊     | 772/1000 [01:39<00:28,  8.09it/s]\n",
      "HF model facebook/contriever encoding: 100%|█████| 2/2 [00:00<00:00, 111.86it/s]\u001b[A\n",
      "IRCoT retrieval:  77%|█████████████████▊     | 774/1000 [01:40<00:25,  8.83it/s]\n",
      "HF model facebook/contriever encoding: 100%|██████| 2/2 [00:00<00:00, 97.95it/s]\u001b[A\n",
      "\n",
      "HF model facebook/contriever encoding: 100%|██████| 2/2 [00:00<00:00, 98.18it/s]\u001b[A\n",
      "IRCoT retrieval:  78%|█████████████████▉     | 778/1000 [01:40<00:22,  9.87it/s]\n",
      "HF model facebook/contriever encoding: 100%|█████| 2/2 [00:00<00:00, 107.76it/s]\u001b[A\n",
      "IRCoT retrieval:  78%|█████████████████▉     | 780/1000 [01:40<00:28,  7.72it/s]\n",
      "HF model facebook/contriever encoding: 100%|█████| 2/2 [00:00<00:00, 102.10it/s]\u001b[A\n",
      "IRCoT retrieval:  78%|█████████████████▉     | 782/1000 [01:41<00:26,  8.19it/s]\n",
      "HF model facebook/contriever encoding: 100%|█████| 3/3 [00:00<00:00, 104.04it/s]\u001b[A\n",
      "IRCoT retrieval:  78%|██████████████████     | 784/1000 [01:41<00:26,  8.21it/s]\n",
      "HF model facebook/contriever encoding: 100%|█████| 2/2 [00:00<00:00, 115.01it/s]\u001b[A\n",
      "IRCoT retrieval:  78%|██████████████████     | 785/1000 [01:41<00:25,  8.30it/s]\n",
      "HF model facebook/contriever encoding: 100%|██████| 4/4 [00:00<00:00, 81.25it/s]\u001b[A\n",
      "IRCoT retrieval:  79%|██████████████████     | 787/1000 [01:41<00:26,  8.02it/s]\n",
      "HF model facebook/contriever encoding: 100%|█████| 3/3 [00:00<00:00, 125.18it/s]\u001b[A\n",
      "IRCoT retrieval:  79%|██████████████████     | 788/1000 [01:41<00:26,  7.93it/s]\n",
      "HF model facebook/contriever encoding: 100%|█████| 3/3 [00:00<00:00, 123.24it/s]\u001b[A\n",
      "IRCoT retrieval:  79%|██████████████████▏    | 789/1000 [01:41<00:26,  7.90it/s]\n",
      "HF model facebook/contriever encoding: 100%|██████| 2/2 [00:00<00:00, 78.95it/s]\u001b[A\n",
      "IRCoT retrieval:  79%|██████████████████▏    | 790/1000 [01:42<00:42,  4.95it/s]\n",
      "HF model facebook/contriever encoding: 100%|█████| 2/2 [00:00<00:00, 145.70it/s]\u001b[A\n",
      "IRCoT retrieval:  79%|██████████████████▏    | 791/1000 [01:42<00:37,  5.62it/s]\n",
      "HF model facebook/contriever encoding: 100%|██████| 2/2 [00:00<00:00, 81.94it/s]\u001b[A\n",
      "IRCoT retrieval:  79%|██████████████████▏    | 792/1000 [01:42<00:34,  6.11it/s]\n",
      "HF model facebook/contriever encoding: 100%|██████| 2/2 [00:00<00:00, 84.06it/s]\u001b[A\n",
      "IRCoT retrieval:  79%|██████████████████▏    | 793/1000 [01:42<00:31,  6.47it/s]\n",
      "HF model facebook/contriever encoding: 100%|██████| 2/2 [00:00<00:00, 78.99it/s]\u001b[A\n",
      "IRCoT retrieval:  79%|██████████████████▎    | 794/1000 [01:42<00:30,  6.77it/s]\n",
      "HF model facebook/contriever encoding: 100%|██████| 2/2 [00:00<00:00, 83.69it/s]\u001b[A\n",
      "IRCoT retrieval:  80%|██████████████████▍    | 802/1000 [01:44<00:32,  6.17it/s]\n",
      "HF model facebook/contriever encoding: 100%|██████| 4/4 [00:00<00:00, 94.88it/s]\u001b[A\n",
      "IRCoT retrieval:  80%|██████████████████▍    | 803/1000 [01:44<00:31,  6.28it/s]\n",
      "HF model facebook/contriever encoding: 100%|██████| 2/2 [00:00<00:00, 96.27it/s]\u001b[A\n",
      "IRCoT retrieval:  80%|██████████████████▍    | 804/1000 [01:44<00:29,  6.68it/s]\n",
      "HF model facebook/contriever encoding: 100%|██████| 2/2 [00:00<00:00, 91.37it/s]\u001b[A\n",
      "IRCoT retrieval:  80%|██████████████████▌    | 805/1000 [01:44<00:28,  6.96it/s]\n",
      "HF model facebook/contriever encoding: 100%|██████| 3/3 [00:00<00:00, 88.45it/s]\u001b[A\n",
      "IRCoT retrieval:  81%|██████████████████▌    | 807/1000 [01:44<00:25,  7.43it/s]\n",
      "HF model facebook/contriever encoding: 100%|██████| 2/2 [00:00<00:00, 90.18it/s]\u001b[A\n",
      "IRCoT retrieval:  81%|██████████████████▋    | 814/1000 [01:45<00:25,  7.27it/s]\n",
      "HF model facebook/contriever encoding: 100%|██████| 2/2 [00:00<00:00, 94.15it/s]\u001b[A\n",
      "IRCoT retrieval:  82%|██████████████████▋    | 815/1000 [01:46<00:24,  7.44it/s]\n",
      "HF model facebook/contriever encoding: 100%|██████| 2/2 [00:00<00:00, 80.09it/s]\u001b[A\n",
      "IRCoT retrieval:  82%|██████████████████▊    | 817/1000 [01:46<00:23,  7.78it/s]\n",
      "HF model facebook/contriever encoding: 100%|█████| 2/2 [00:00<00:00, 122.18it/s]\u001b[A\n",
      "IRCoT retrieval:  82%|██████████████████▊    | 819/1000 [01:46<00:22,  8.21it/s]\n",
      "HF model facebook/contriever encoding: 100%|██████| 2/2 [00:00<00:00, 84.97it/s]\u001b[A\n",
      "IRCoT retrieval:  82%|██████████████████▊    | 820/1000 [01:46<00:36,  4.88it/s]\n",
      "HF model facebook/contriever encoding: 100%|█████| 2/2 [00:00<00:00, 101.80it/s]\u001b[A\n",
      "IRCoT retrieval:  82%|██████████████████▉    | 821/1000 [01:47<00:32,  5.52it/s]\n",
      "HF model facebook/contriever encoding: 100%|██████| 2/2 [00:00<00:00, 99.06it/s]\u001b[A\n",
      "IRCoT retrieval:  82%|██████████████████▉    | 822/1000 [01:47<00:29,  6.08it/s]\n",
      "HF model facebook/contriever encoding: 100%|██████| 3/3 [00:00<00:00, 97.65it/s]\u001b[A\n",
      "IRCoT retrieval:  82%|██████████████████▉    | 823/1000 [01:47<00:25,  6.81it/s]\n",
      "HF model facebook/contriever encoding: 100%|█████| 2/2 [00:00<00:00, 118.54it/s]\u001b[A\n",
      "IRCoT retrieval:  82%|██████████████████▉    | 825/1000 [01:47<00:21,  8.30it/s]\n",
      "HF model facebook/contriever encoding: 100%|█████| 2/2 [00:00<00:00, 117.18it/s]\u001b[A\n",
      "\n",
      "HF model facebook/contriever encoding: 100%|██████| 2/2 [00:00<00:00, 92.72it/s]\u001b[A\n",
      "IRCoT retrieval:  83%|███████████████████    | 829/1000 [01:47<00:17,  9.61it/s]\n",
      "HF model facebook/contriever encoding: 100%|██████| 2/2 [00:00<00:00, 94.22it/s]\u001b[A\n",
      "IRCoT retrieval:  83%|███████████████████    | 830/1000 [01:48<00:26,  6.36it/s]\n",
      "HF model facebook/contriever encoding: 100%|█████| 2/2 [00:00<00:00, 145.12it/s]\u001b[A\n",
      "\n",
      "HF model facebook/contriever encoding: 100%|█████| 4/4 [00:00<00:00, 131.64it/s]\u001b[A\n",
      "IRCoT retrieval:  83%|███████████████████▏   | 832/1000 [01:48<00:23,  7.27it/s]\n",
      "HF model facebook/contriever encoding: 100%|█████| 2/2 [00:00<00:00, 114.29it/s]\u001b[A\n",
      "\n",
      "HF model facebook/contriever encoding: 100%|██████| 3/3 [00:00<00:00, 94.11it/s]\u001b[A\n",
      "IRCoT retrieval:  83%|███████████████████▏   | 834/1000 [01:48<00:20,  7.99it/s]\n",
      "HF model facebook/contriever encoding: 100%|██████| 2/2 [00:00<00:00, 96.41it/s]\u001b[A\n",
      "IRCoT retrieval:  84%|███████████████████▏   | 835/1000 [01:48<00:20,  8.21it/s]\n",
      "HF model facebook/contriever encoding: 100%|██████| 2/2 [00:00<00:00, 94.70it/s]\u001b[A\n",
      "\n",
      "HF model facebook/contriever encoding: 100%|█████| 2/2 [00:00<00:00, 148.89it/s]\u001b[A\n",
      "IRCoT retrieval:  84%|███████████████████▎   | 839/1000 [01:49<00:17,  9.18it/s]\n",
      "HF model facebook/contriever encoding: 100%|██████| 2/2 [00:00<00:00, 98.97it/s]\u001b[A\n",
      "IRCoT retrieval:  84%|███████████████████▎   | 841/1000 [01:49<00:25,  6.25it/s]\n",
      "HF model facebook/contriever encoding: 100%|█████| 2/2 [00:00<00:00, 116.38it/s]\u001b[A\n",
      "IRCoT retrieval:  84%|███████████████████▍   | 844/1000 [01:49<00:20,  7.66it/s]\n",
      "HF model facebook/contriever encoding: 100%|██████| 3/3 [00:00<00:00, 87.99it/s]\u001b[A\n",
      "IRCoT retrieval:  84%|███████████████████▍   | 845/1000 [01:50<00:19,  7.90it/s]\n",
      "HF model facebook/contriever encoding: 100%|██████| 2/2 [00:00<00:00, 94.05it/s]\u001b[A\n",
      "IRCoT retrieval:  85%|███████████████████▍   | 846/1000 [01:50<00:18,  8.13it/s]\n",
      "HF model facebook/contriever encoding: 100%|██████| 3/3 [00:00<00:00, 96.43it/s]\u001b[A\n",
      "IRCoT retrieval:  85%|███████████████████▍   | 847/1000 [01:50<00:18,  8.39it/s]\n",
      "HF model facebook/contriever encoding: 100%|██████| 2/2 [00:00<00:00, 96.48it/s]\u001b[A\n",
      "IRCoT retrieval:  85%|███████████████████▌   | 849/1000 [01:50<00:16,  9.38it/s]\n",
      "HF model facebook/contriever encoding: 100%|██████| 4/4 [00:00<00:00, 97.86it/s]\u001b[A\n",
      "IRCoT retrieval:  85%|███████████████████▌   | 850/1000 [01:50<00:25,  5.90it/s]\n",
      "HF model facebook/contriever encoding: 100%|██████| 3/3 [00:00<00:00, 98.81it/s]\u001b[A\n",
      "IRCoT retrieval:  85%|███████████████████▌   | 852/1000 [01:51<00:20,  7.10it/s]\n",
      "HF model facebook/contriever encoding: 100%|█████| 2/2 [00:00<00:00, 109.11it/s]\u001b[A\n",
      "\n",
      "HF model facebook/contriever encoding: 100%|█████| 2/2 [00:00<00:00, 137.94it/s]\u001b[A\n",
      "IRCoT retrieval:  86%|███████████████████▋   | 855/1000 [01:51<00:17,  8.24it/s]\n",
      "HF model facebook/contriever encoding: 100%|██████| 3/3 [00:00<00:00, 88.28it/s]\u001b[A\n",
      "IRCoT retrieval:  86%|███████████████████▋   | 857/1000 [01:51<00:17,  8.24it/s]\n",
      "HF model facebook/contriever encoding: 100%|██████| 2/2 [00:00<00:00, 85.17it/s]\u001b[A\n",
      "IRCoT retrieval:  86%|███████████████████▊   | 859/1000 [01:51<00:16,  8.39it/s]\n",
      "HF model facebook/contriever encoding: 100%|█████| 2/2 [00:00<00:00, 141.68it/s]\u001b[A\n",
      "IRCoT retrieval:  86%|███████████████████▊   | 860/1000 [01:52<00:25,  5.39it/s]\n",
      "HF model facebook/contriever encoding: 100%|██████| 2/2 [00:00<00:00, 94.77it/s]\u001b[A\n",
      "IRCoT retrieval:  86%|███████████████████▊   | 862/1000 [01:52<00:20,  6.77it/s]\n",
      "HF model facebook/contriever encoding: 100%|██████| 2/2 [00:00<00:00, 92.16it/s]\u001b[A\n",
      "IRCoT retrieval:  86%|███████████████████▊   | 864/1000 [01:52<00:17,  7.77it/s]\n",
      "HF model facebook/contriever encoding: 100%|██████| 2/2 [00:00<00:00, 80.04it/s]\u001b[A\n",
      "IRCoT retrieval:  87%|███████████████████▉   | 866/1000 [01:52<00:16,  7.90it/s]\n",
      "HF model facebook/contriever encoding: 100%|██████| 2/2 [00:00<00:00, 94.07it/s]\u001b[A\n",
      "IRCoT retrieval:  87%|███████████████████▉   | 868/1000 [01:53<00:15,  8.44it/s]\n",
      "HF model facebook/contriever encoding: 100%|█████| 2/2 [00:00<00:00, 102.47it/s]\u001b[A\n",
      "IRCoT retrieval:  87%|████████████████████   | 870/1000 [01:53<00:19,  6.54it/s]\n",
      "HF model facebook/contriever encoding: 100%|██████| 2/2 [00:00<00:00, 94.53it/s]\u001b[A\n",
      "\n",
      "HF model facebook/contriever encoding: 100%|██████| 2/2 [00:00<00:00, 97.88it/s]\u001b[A\n",
      "IRCoT retrieval:  87%|████████████████████   | 874/1000 [01:53<00:15,  8.34it/s]\n",
      "HF model facebook/contriever encoding: 100%|█████| 2/2 [00:00<00:00, 123.66it/s]\u001b[A\n",
      "IRCoT retrieval:  88%|████████████████████▏  | 877/1000 [01:54<00:14,  8.77it/s]\n",
      "HF model facebook/contriever encoding: 100%|█████| 2/2 [00:00<00:00, 101.89it/s]\u001b[A\n",
      "IRCoT retrieval:  88%|████████████████████▏  | 879/1000 [01:54<00:12,  9.35it/s]\n",
      "HF model facebook/contriever encoding: 100%|██████| 2/2 [00:00<00:00, 95.83it/s]\u001b[A\n",
      "IRCoT retrieval:  88%|████████████████████▏  | 880/1000 [01:54<00:19,  6.19it/s]\n",
      "HF model facebook/contriever encoding: 100%|█████| 3/3 [00:00<00:00, 103.22it/s]\u001b[A\n",
      "IRCoT retrieval:  88%|████████████████████▎  | 882/1000 [01:54<00:16,  7.23it/s]\n",
      "HF model facebook/contriever encoding: 100%|██████| 2/2 [00:00<00:00, 88.52it/s]\u001b[A\n",
      "IRCoT retrieval:  88%|████████████████████▎  | 884/1000 [01:55<00:14,  8.10it/s]\n",
      "HF model facebook/contriever encoding: 100%|█████| 3/3 [00:00<00:00, 109.37it/s]\u001b[A\n",
      "IRCoT retrieval:  88%|████████████████████▎  | 885/1000 [01:55<00:13,  8.33it/s]\n",
      "HF model facebook/contriever encoding: 100%|██████| 2/2 [00:00<00:00, 94.75it/s]\u001b[A\n",
      "\n",
      "HF model facebook/contriever encoding: 100%|██████| 3/3 [00:00<00:00, 98.19it/s]\u001b[A\n",
      "IRCoT retrieval:  89%|████████████████████▍  | 887/1000 [01:55<00:12,  8.78it/s]\n",
      "HF model facebook/contriever encoding: 100%|█████| 3/3 [00:00<00:00, 107.26it/s]\u001b[A\n",
      "IRCoT retrieval:  89%|████████████████████▍  | 889/1000 [01:55<00:11,  9.33it/s]\n",
      "HF model facebook/contriever encoding: 100%|█████| 2/2 [00:00<00:00, 125.85it/s]\u001b[A\n",
      "IRCoT retrieval:  89%|████████████████████▍  | 890/1000 [01:55<00:17,  6.44it/s]\n",
      "HF model facebook/contriever encoding: 100%|█████| 2/2 [00:00<00:00, 125.09it/s]\u001b[A\n",
      "IRCoT retrieval:  89%|████████████████████▌  | 892/1000 [01:56<00:15,  7.07it/s]\n",
      "HF model facebook/contriever encoding: 100%|██████| 4/4 [00:00<00:00, 95.09it/s]\u001b[A\n",
      "IRCoT retrieval:  89%|████████████████████▌  | 893/1000 [01:56<00:15,  6.96it/s]\n",
      "HF model facebook/contriever encoding: 100%|██████| 3/3 [00:00<00:00, 92.48it/s]\u001b[A\n",
      "IRCoT retrieval:  89%|████████████████████▌  | 894/1000 [01:56<00:14,  7.10it/s]\n",
      "HF model facebook/contriever encoding: 100%|█████| 3/3 [00:00<00:00, 103.53it/s]\u001b[A\n",
      "IRCoT retrieval:  90%|████████████████████▌  | 895/1000 [01:56<00:14,  7.34it/s]\n",
      "HF model facebook/contriever encoding: 100%|██████| 2/2 [00:00<00:00, 92.77it/s]\u001b[A\n",
      "IRCoT retrieval:  90%|████████████████████▌  | 896/1000 [01:56<00:13,  7.68it/s]\n",
      "HF model facebook/contriever encoding: 100%|██████| 2/2 [00:00<00:00, 93.03it/s]\u001b[A\n",
      "IRCoT retrieval:  90%|████████████████████▋  | 897/1000 [01:56<00:12,  7.94it/s]\n",
      "HF model facebook/contriever encoding: 100%|██████| 2/2 [00:00<00:00, 92.08it/s]\u001b[A\n",
      "IRCoT retrieval:  90%|████████████████████▋  | 898/1000 [01:56<00:12,  8.25it/s]\n",
      "HF model facebook/contriever encoding: 100%|██████| 2/2 [00:00<00:00, 90.94it/s]\u001b[A\n",
      "IRCoT retrieval:  91%|████████████████████▊  | 906/1000 [01:58<00:11,  8.31it/s]\n",
      "HF model facebook/contriever encoding: 100%|██████| 2/2 [00:00<00:00, 96.07it/s]\u001b[A\n",
      "IRCoT retrieval:  91%|████████████████████▊  | 907/1000 [01:58<00:10,  8.57it/s]\n",
      "HF model facebook/contriever encoding: 100%|██████| 2/2 [00:00<00:00, 89.55it/s]\u001b[A\n",
      "IRCoT retrieval:  91%|████████████████████▉  | 908/1000 [01:58<00:11,  8.26it/s]\n",
      "HF model facebook/contriever encoding: 100%|█████| 2/2 [00:00<00:00, 140.48it/s]\u001b[A\n",
      "IRCoT retrieval:  91%|████████████████████▉  | 910/1000 [01:58<00:15,  5.83it/s]\n",
      "HF model facebook/contriever encoding: 100%|█████| 3/3 [00:00<00:00, 100.15it/s]\u001b[A\n",
      "IRCoT retrieval:  91%|████████████████████▉  | 911/1000 [01:58<00:14,  6.33it/s]\n",
      "HF model facebook/contriever encoding: 100%|██████| 2/2 [00:00<00:00, 86.07it/s]\u001b[A\n",
      "IRCoT retrieval:  91%|████████████████████▉  | 912/1000 [01:59<00:12,  6.92it/s]\n",
      "HF model facebook/contriever encoding: 100%|█████| 3/3 [00:00<00:00, 104.82it/s]\u001b[A\n",
      "IRCoT retrieval:  91%|████████████████████▉  | 913/1000 [01:59<00:11,  7.42it/s]\n",
      "HF model facebook/contriever encoding: 100%|█████| 3/3 [00:00<00:00, 107.04it/s]\u001b[A\n",
      "IRCoT retrieval:  91%|█████████████████████  | 914/1000 [01:59<00:11,  7.69it/s]\n",
      "HF model facebook/contriever encoding: 100%|█████| 3/3 [00:00<00:00, 114.94it/s]\u001b[A\n",
      "IRCoT retrieval:  92%|█████████████████████  | 916/1000 [01:59<00:10,  8.27it/s]\n",
      "HF model facebook/contriever encoding: 100%|██████| 4/4 [00:00<00:00, 91.04it/s]\u001b[A\n",
      "IRCoT retrieval:  92%|█████████████████████  | 917/1000 [01:59<00:10,  7.91it/s]\n",
      "HF model facebook/contriever encoding: 100%|█████| 2/2 [00:00<00:00, 103.34it/s]\u001b[A\n",
      "IRCoT retrieval:  92%|█████████████████████  | 918/1000 [01:59<00:10,  8.04it/s]\n",
      "HF model facebook/contriever encoding: 100%|█████| 3/3 [00:00<00:00, 100.12it/s]\u001b[A\n",
      "IRCoT retrieval:  92%|█████████████████████▏ | 920/1000 [02:00<00:15,  5.10it/s]\n",
      "HF model facebook/contriever encoding: 100%|██████| 3/3 [00:00<00:00, 98.31it/s]\u001b[A\n",
      "IRCoT retrieval:  92%|█████████████████████▏ | 923/1000 [02:00<00:11,  6.86it/s]\n",
      "HF model facebook/contriever encoding: 100%|█████| 2/2 [00:00<00:00, 112.28it/s]\u001b[A\n",
      "IRCoT retrieval:  92%|█████████████████████▎ | 925/1000 [02:00<00:09,  7.67it/s]\n",
      "HF model facebook/contriever encoding: 100%|██████| 2/2 [00:00<00:00, 76.41it/s]\u001b[A\n",
      "IRCoT retrieval:  93%|█████████████████████▎ | 926/1000 [02:00<00:09,  7.41it/s]\n",
      "HF model facebook/contriever encoding: 100%|█████| 3/3 [00:00<00:00, 101.25it/s]\u001b[A\n",
      "IRCoT retrieval:  93%|█████████████████████▎ | 927/1000 [02:01<00:09,  7.56it/s]\n",
      "HF model facebook/contriever encoding: 100%|██████| 2/2 [00:00<00:00, 99.03it/s]\u001b[A\n",
      "IRCoT retrieval:  93%|█████████████████████▍ | 931/1000 [02:01<00:12,  5.61it/s]\n",
      "HF model facebook/contriever encoding: 100%|██████| 2/2 [00:00<00:00, 94.27it/s]\u001b[A\n",
      "IRCoT retrieval:  94%|█████████████████████▌ | 935/1000 [02:02<00:08,  7.40it/s]\n",
      "HF model facebook/contriever encoding: 100%|██████| 2/2 [00:00<00:00, 91.82it/s]\u001b[A\n",
      "IRCoT retrieval:  94%|█████████████████████▋ | 943/1000 [02:03<00:08,  6.39it/s]\n",
      "HF model facebook/contriever encoding: 100%|██████| 2/2 [00:00<00:00, 80.17it/s]\u001b[A\n",
      "IRCoT retrieval:  94%|█████████████████████▋ | 944/1000 [02:03<00:08,  6.85it/s]\n",
      "HF model facebook/contriever encoding: 100%|██████| 2/2 [00:00<00:00, 93.09it/s]\u001b[A\n",
      "IRCoT retrieval:  94%|█████████████████████▋ | 945/1000 [02:03<00:07,  7.39it/s]\n",
      "HF model facebook/contriever encoding: 100%|██████| 3/3 [00:00<00:00, 93.98it/s]\u001b[A\n",
      "IRCoT retrieval:  95%|█████████████████████▊ | 946/1000 [02:03<00:07,  7.64it/s]\n",
      "HF model facebook/contriever encoding: 100%|█████| 3/3 [00:00<00:00, 104.67it/s]\u001b[A\n",
      "IRCoT retrieval:  95%|█████████████████████▊ | 948/1000 [02:04<00:06,  8.23it/s]\n",
      "HF model facebook/contriever encoding: 100%|█████| 3/3 [00:00<00:00, 113.61it/s]\u001b[A\n",
      "IRCoT retrieval:  95%|█████████████████████▉ | 953/1000 [02:05<00:07,  6.57it/s]\n",
      "HF model facebook/contriever encoding: 100%|█████| 2/2 [00:00<00:00, 116.74it/s]\u001b[A\n",
      "IRCoT retrieval:  95%|█████████████████████▉ | 954/1000 [02:05<00:06,  7.06it/s]\n",
      "HF model facebook/contriever encoding: 100%|█████| 2/2 [00:00<00:00, 115.26it/s]\u001b[A\n",
      "IRCoT retrieval:  96%|█████████████████████▉ | 956/1000 [02:05<00:05,  7.75it/s]\n",
      "HF model facebook/contriever encoding: 100%|██████| 5/5 [00:00<00:00, 99.95it/s]\u001b[A\n",
      "IRCoT retrieval:  96%|██████████████████████ | 957/1000 [02:05<00:06,  7.00it/s]\n",
      "HF model facebook/contriever encoding: 100%|██████| 2/2 [00:00<00:00, 81.07it/s]\u001b[A\n",
      "IRCoT retrieval:  96%|██████████████████████ | 958/1000 [02:05<00:06,  6.91it/s]\n",
      "HF model facebook/contriever encoding: 100%|██████| 2/2 [00:00<00:00, 92.92it/s]\u001b[A\n",
      "IRCoT retrieval:  96%|██████████████████████ | 959/1000 [02:05<00:05,  6.93it/s]\n",
      "HF model facebook/contriever encoding: 100%|██████| 2/2 [00:00<00:00, 82.54it/s]\u001b[A\n",
      "IRCoT retrieval:  96%|██████████████████████ | 961/1000 [02:06<00:08,  4.77it/s]\n",
      "HF model facebook/contriever encoding: 100%|██████| 2/2 [00:00<00:00, 97.89it/s]\u001b[A\n",
      "IRCoT retrieval:  96%|██████████████████████▏| 963/1000 [02:06<00:06,  5.77it/s]\n",
      "HF model facebook/contriever encoding: 100%|██████| 2/2 [00:00<00:00, 93.55it/s]\u001b[A\n",
      "IRCoT retrieval:  96%|██████████████████████▏| 965/1000 [02:07<00:05,  6.47it/s]\n",
      "HF model facebook/contriever encoding: 100%|█████| 3/3 [00:00<00:00, 118.89it/s]\u001b[A\n",
      "IRCoT retrieval:  97%|██████████████████████▎| 971/1000 [02:08<00:05,  5.42it/s]\n",
      "HF model facebook/contriever encoding: 100%|██████| 4/4 [00:00<00:00, 88.89it/s]\u001b[A\n",
      "IRCoT retrieval:  97%|██████████████████████▎| 972/1000 [02:08<00:04,  5.71it/s]\n",
      "HF model facebook/contriever encoding: 100%|██████| 4/4 [00:00<00:00, 92.80it/s]\u001b[A\n",
      "IRCoT retrieval:  97%|██████████████████████▍| 973/1000 [02:08<00:04,  5.93it/s]\n",
      "HF model facebook/contriever encoding: 100%|██████| 2/2 [00:00<00:00, 84.33it/s]\u001b[A\n",
      "IRCoT retrieval:  97%|██████████████████████▍| 974/1000 [02:08<00:04,  6.42it/s]\n",
      "HF model facebook/contriever encoding: 100%|█████| 2/2 [00:00<00:00, 100.76it/s]\u001b[A\n",
      "IRCoT retrieval:  98%|██████████████████████▌| 980/1000 [02:09<00:03,  6.29it/s]\n",
      "HF model facebook/contriever encoding: 100%|██████| 2/2 [00:00<00:00, 94.23it/s]\u001b[A\n",
      "IRCoT retrieval:  98%|██████████████████████▌| 982/1000 [02:09<00:02,  7.31it/s]\n",
      "HF model facebook/contriever encoding: 100%|██████| 2/2 [00:00<00:00, 87.57it/s]\u001b[A\n",
      "IRCoT retrieval:  98%|██████████████████████▌| 983/1000 [02:09<00:02,  7.71it/s]\n",
      "HF model facebook/contriever encoding: 100%|█████| 2/2 [00:00<00:00, 112.83it/s]\u001b[A\n",
      "IRCoT retrieval:  98%|██████████████████████▋| 985/1000 [02:09<00:01,  8.55it/s]\n",
      "HF model facebook/contriever encoding: 100%|█████| 2/2 [00:00<00:00, 111.81it/s]\u001b[A\n",
      "IRCoT retrieval:  99%|██████████████████████▋| 989/1000 [02:10<00:01,  9.72it/s]\n",
      "HF model facebook/contriever encoding: 100%|█████| 2/2 [00:00<00:00, 109.54it/s]\u001b[A\n",
      "\n",
      "HF model facebook/contriever encoding: 100%|█████| 2/2 [00:00<00:00, 136.37it/s]\u001b[A\n",
      "IRCoT retrieval:  99%|██████████████████████▊| 994/1000 [02:11<00:00,  7.89it/s]\n",
      "HF model facebook/contriever encoding: 100%|██████| 4/4 [00:00<00:00, 95.13it/s]\u001b[A\n",
      "IRCoT retrieval: 100%|██████████████████████▉| 995/1000 [02:11<00:00,  7.93it/s]\n",
      "HF model facebook/contriever encoding: 100%|█████| 2/2 [00:00<00:00, 136.85it/s]\u001b[A\n",
      "IRCoT retrieval: 100%|██████████████████████▉| 997/1000 [02:11<00:00,  8.88it/s]\n",
      "HF model facebook/contriever encoding: 100%|█████| 4/4 [00:00<00:00, 146.05it/s]\u001b[A\n",
      "IRCoT retrieval: 100%|██████████████████████▉| 998/1000 [02:11<00:00,  8.94it/s]\n",
      "HF model facebook/contriever encoding: 100%|██████| 2/2 [00:00<00:00, 98.74it/s]\u001b[A\n",
      "IRCoT retrieval: 100%|██████████████████████▉| 999/1000 [02:11<00:00,  8.99it/s]\n",
      "HF model facebook/contriever encoding: 100%|██████| 4/4 [00:00<00:00, 99.87it/s]\u001b[A\n",
      "IRCoT retrieval: 100%|██████████████████████| 1000/1000 [02:12<00:00,  7.57it/s]\n",
      "Saved 1000 results to output/ircot/ircot_results_musique_hipporag_facebook_contriever_demo_1_gpt-3_5-turbo-1106_no_ensemble_step_1_top_10_sim_thresh_0.8_damping_0.5.json\n"
     ]
    }
   ],
   "source": [
    "import os\n",
    "\n",
    "# Export environment variables\n",
    "os.environ['OPENAI_API_KEY'] = 'aegsdvfhuijoak'\n",
    "os.environ['CUDA_VISIBLE_DEVICES'] = '4,5'\n",
    "\n",
    "# Run the script with the specified arguments\n",
    "!python3 src/ircot_hipporag.py --dataset musique --retriever facebook/contriever --max_steps 1 --doc_ensemble f --top_k 10 --sim_threshold 0.8 --damping 0.5\n"
   ]
  },
  {
   "cell_type": "code",
   "execution_count": 11,
   "metadata": {},
   "outputs": [
    {
     "data": {
      "text/plain": [
       "recall@1      0.283992\n",
       "recall@2      0.409579\n",
       "recall@5      0.520830\n",
       "recall@10     0.589332\n",
       "recall@15     0.589332\n",
       "recall@20     0.589332\n",
       "recall@30     0.589332\n",
       "recall@40     0.589332\n",
       "recall@50     0.589332\n",
       "recall@80     0.589332\n",
       "recall@100    0.589332\n",
       "dtype: float64"
      ]
     },
     "execution_count": 11,
     "metadata": {},
     "output_type": "execute_result"
    }
   ],
   "source": [
    "output_path = \"output/ircot/ircot_results_musique_hipporag_facebook_contriever_demo_1_gpt-3_5-turbo-1106_no_ensemble_step_1_top_10_sim_thresh_0.8_damping_0.5.json\"\n",
    "\n",
    "result = pd.read_json(output_path)\n",
    "\n",
    "def recall_dict_to_columns(recall_dict):\n",
    "    return pd.Series({f'recall@{k}': v for k, v in recall_dict.items()})\n",
    "\n",
    "# 对每一行的 recall 列应用上述函数，并将结果拼接到新的 DataFrame\n",
    "recall_df = result['recall'].apply(recall_dict_to_columns)\n",
    "\n",
    "# 显示新创建的 DataFrame\n",
    "recall_df.mean()"
   ]
  },
  {
   "cell_type": "markdown",
   "metadata": {},
   "source": [
    "## GRIT"
   ]
  },
  {
   "cell_type": "code",
   "execution_count": 5,
   "metadata": {},
   "outputs": [
    {
     "name": "stdout",
     "output_type": "stream",
     "text": [
      "Removed: musique_facts_and_sim_graph_clean_facts_chatgpt_openIE.ents_only_lower_preprocess_ner.v3.subset.json\n",
      "Removed: musique_facts_and_sim_graph_relation_dict_ents_only_lower_preprocess_ner_grit-7b.v3.subset.p\n",
      "Removed: musique_facts_and_sim_graph_nodes_chatgpt_openIE.ents_only_lower_preprocess_ner.v3.subset.json\n",
      "Removed: query_to_kb.tsv\n",
      "Removed: rel_kb_to_kb.tsv\n",
      "Removed: musique_facts_and_sim_graph_fact_dict_ents_only_lower_preprocess_ner.v3.subset.p\n",
      "Removed: musique_facts_and_sim_graph_chatgpt_openIE.ents_only_lower_preprocess_ner.v3.subset.json\n",
      "Removed: musique_facts_and_sim_graph_passage_chatgpt_openIE.ents_only_lower_preprocess_ner.v3.subset.json\n",
      "Removed: musique_facts_and_sim_graph_fact_doc_edges_ents_only_lower_preprocess_ner.v3.subset.p\n",
      "Removed: kb_to_kb.tsv\n",
      "Removed: musique_facts_and_sim_graph_doc_to_facts_ents_only_lower_preprocess_ner.v3.subset.p\n",
      "Removed: musique_similarity_edges_mean_0.8_thresh_ents_only_lower_preprocess_ner_grit-7b.v3.subset.p\n",
      "Removed: musique_facts_and_sim_graph_phrase_dict_ents_only_lower_preprocess_ner.v3.subset.p\n",
      "Removed: musique_facts_and_sim_graph_doc_to_facts_csr_ents_only_lower_preprocess_ner.v3.subset.p\n",
      "Removed: musique_facts_and_sim_graph_facts_to_phrases_ents_only_lower_preprocess_ner.v3.subset.p\n",
      "Removed: musique_facts_and_sim_graph_facts_to_phrases_csr_ents_only_lower_preprocess_ner.v3.subset.p\n",
      "Removed: musique_facts_and_sim_graph_mean_0.8_thresh_ents_only_lower_preprocess_ner_grit-7b.v3.subset.p\n",
      "100%|███████████████████████████████████| 11656/11656 [00:01<00:00, 9832.75it/s]\n",
      "Correct Wiki Format: 0 out of 11656\n",
      "100%|████████████████████████████████████| 1006/1006 [00:00<00:00, 65296.65it/s]\n"
     ]
    }
   ],
   "source": [
    "remove_new_files()\n",
    "!CUDA_VISIBLE_DEVICES=\"4\" python src/create_graph.py \\\n",
    "    --dataset musique \\\n",
    "    --model_name \"grit-7b\" \\\n",
    "    --extraction_model gpt-3.5-turbo-1106 \\\n",
    "    --threshold 0.8 \\\n",
    "    --extraction_type ner"
   ]
  },
  {
   "cell_type": "code",
   "execution_count": 6,
   "metadata": {},
   "outputs": [
    {
     "name": "stdout",
     "output_type": "stream",
     "text": [
      "query_to_kb.tsv\n",
      "rel_kb_to_kb.tsv\n",
      "kb_to_kb.tsv\n"
     ]
    }
   ],
   "source": [
    "show_new_files()"
   ]
  },
  {
   "cell_type": "code",
   "execution_count": 7,
   "metadata": {},
   "outputs": [
    {
     "data": {
      "text/html": [
       "<div>\n",
       "<style scoped>\n",
       "    .dataframe tbody tr th:only-of-type {\n",
       "        vertical-align: middle;\n",
       "    }\n",
       "\n",
       "    .dataframe tbody tr th {\n",
       "        vertical-align: top;\n",
       "    }\n",
       "\n",
       "    .dataframe thead th {\n",
       "        text-align: right;\n",
       "    }\n",
       "</style>\n",
       "<table border=\"1\" class=\"dataframe\">\n",
       "  <thead>\n",
       "    <tr style=\"text-align: right;\">\n",
       "      <th></th>\n",
       "      <th>Unnamed: 0</th>\n",
       "      <th>strings</th>\n",
       "      <th>type</th>\n",
       "    </tr>\n",
       "  </thead>\n",
       "  <tbody>\n",
       "    <tr>\n",
       "      <th>0</th>\n",
       "      <td>0</td>\n",
       "      <td>NaN</td>\n",
       "      <td>query</td>\n",
       "    </tr>\n",
       "    <tr>\n",
       "      <th>1</th>\n",
       "      <td>1</td>\n",
       "      <td>0</td>\n",
       "      <td>query</td>\n",
       "    </tr>\n",
       "    <tr>\n",
       "      <th>2</th>\n",
       "      <td>2</td>\n",
       "      <td>0    0</td>\n",
       "      <td>query</td>\n",
       "    </tr>\n",
       "    <tr>\n",
       "      <th>3</th>\n",
       "      <td>3</td>\n",
       "      <td>0    2</td>\n",
       "      <td>query</td>\n",
       "    </tr>\n",
       "    <tr>\n",
       "      <th>4</th>\n",
       "      <td>4</td>\n",
       "      <td>0   1 972</td>\n",
       "      <td>query</td>\n",
       "    </tr>\n",
       "  </tbody>\n",
       "</table>\n",
       "</div>"
      ],
      "text/plain": [
       "   Unnamed: 0    strings   type\n",
       "0           0        NaN  query\n",
       "1           1          0  query\n",
       "2           2     0    0  query\n",
       "3           3     0    2  query\n",
       "4           4  0   1 972  query"
      ]
     },
     "execution_count": 7,
     "metadata": {},
     "output_type": "execute_result"
    }
   ],
   "source": [
    "pd.read_csv(\"output/kb_to_kb.tsv\", sep=\"\\t\").head()"
   ]
  },
  {
   "cell_type": "code",
   "execution_count": 8,
   "metadata": {},
   "outputs": [
    {
     "data": {
      "text/plain": [
       "183458"
      ]
     },
     "execution_count": 8,
     "metadata": {},
     "output_type": "execute_result"
    }
   ],
   "source": [
    "len(pd.read_csv(\"output/kb_to_kb.tsv\", sep=\"\\t\"))"
   ]
  },
  {
   "cell_type": "code",
   "execution_count": null,
   "metadata": {},
   "outputs": [],
   "source": [
    "!CUDA_VISIBLE_DEVICES=\"2,3\" python src/grit_retrieval_module.py --retriever_name \"grit-7b\" --string_filename output/query_to_kb.tsv --query_type \"entity\""
   ]
  },
  {
   "cell_type": "code",
   "execution_count": null,
   "metadata": {},
   "outputs": [],
   "source": [
    "!CUDA_VISIBLE_DEVICES=\"4,5\" python src/grit_retrieval_module.py --retriever_name \"grit-7b\" --string_filename output/kb_to_kb.tsv --query_type \"entity\""
   ]
  },
  {
   "cell_type": "code",
   "execution_count": null,
   "metadata": {},
   "outputs": [],
   "source": [
    "!CUDA_VISIBLE_DEVICES=\"6,7\" python src/grit_retrieval_module.py --retriever_name \"grit-7b\" --string_filename output/rel_kb_to_kb.tsv --query_type \"entity\""
   ]
  },
  {
   "cell_type": "markdown",
   "metadata": {},
   "source": [
    "Threshold 0.8"
   ]
  },
  {
   "cell_type": "code",
   "execution_count": 10,
   "metadata": {},
   "outputs": [
    {
     "name": "stdout",
     "output_type": "stream",
     "text": [
      "Removed: musique_facts_and_sim_graph_mean_0.6_thresh_ents_only_lower_preprocess_ner_grit-7b.v3.subset.p\n",
      "Removed: musique_facts_and_sim_graph_clean_facts_chatgpt_openIE.ents_only_lower_preprocess_ner.v3.subset.json\n",
      "Removed: musique_facts_and_sim_graph_relation_dict_ents_only_lower_preprocess_ner_grit-7b.v3.subset.p\n",
      "Removed: musique_facts_and_sim_graph_nodes_chatgpt_openIE.ents_only_lower_preprocess_ner.v3.subset.json\n",
      "Removed: query_to_kb.tsv\n",
      "Removed: rel_kb_to_kb.tsv\n",
      "Removed: musique_facts_and_sim_graph_fact_dict_ents_only_lower_preprocess_ner.v3.subset.p\n",
      "Removed: musique_facts_and_sim_graph_chatgpt_openIE.ents_only_lower_preprocess_ner.v3.subset.json\n",
      "Removed: musique_facts_and_sim_graph_passage_chatgpt_openIE.ents_only_lower_preprocess_ner.v3.subset.json\n",
      "Removed: musique_facts_and_sim_graph_fact_doc_edges_ents_only_lower_preprocess_ner.v3.subset.p\n",
      "Removed: kb_to_kb.tsv\n",
      "Removed: musique_similarity_edges_mean_0.6_thresh_ents_only_lower_preprocess_ner_grit-7b.v3.subset.p\n",
      "Removed: musique_facts_and_sim_graph_doc_to_facts_ents_only_lower_preprocess_ner.v3.subset.p\n",
      "Removed: musique_facts_and_sim_graph_phrase_dict_ents_only_lower_preprocess_ner.v3.subset.p\n",
      "Removed: musique_facts_and_sim_graph_doc_to_facts_csr_ents_only_lower_preprocess_ner.v3.subset.p\n",
      "Removed: musique_facts_and_sim_graph_facts_to_phrases_ents_only_lower_preprocess_ner.v3.subset.p\n",
      "Removed: musique_facts_and_sim_graph_facts_to_phrases_csr_ents_only_lower_preprocess_ner.v3.subset.p\n",
      "100%|███████████████████████████████████| 11656/11656 [00:01<00:00, 9879.10it/s]\n",
      "Correct Wiki Format: 0 out of 11656\n",
      "100%|████████████████████████████████████| 1006/1006 [00:00<00:00, 64914.92it/s]\n",
      "Creating Graph\n",
      "100%|██████████████████████████████████| 11656/11656 [00:00<00:00, 11734.30it/s]\n",
      "Loading Vectors\n",
      "Augmenting Graph from Similarity\n",
      "100%|██████████████████████████████████| 91729/91729 [00:01<00:00, 49088.41it/s]\n",
      "Saving Graph\n",
      "                                                         1\n",
      "0                                                         \n",
      "Total Phrases                                       327435\n",
      "Unique Phrases                                       91729\n",
      "Number of Individual Triples                        109145\n",
      "Number of Incorrectly Formatted Triples (ChatGP...    1136\n",
      "Number of Triples w/o NER Entities (ChatGPT Error)    6762\n",
      "Number of Unique Individual Triples                 107448\n",
      "Number of Entities                                  218290\n",
      "Number of Relations                                 105050\n",
      "Number of Unique Entities                            91729\n",
      "Number of Synonymy Edges                                37\n",
      "Number of Unique Relations                           21714\n",
      "musique_facts_and_sim_graph_clean_facts_chatgpt_openIE.ents_only_lower_preprocess_ner.v3.subset.json\n",
      "musique_facts_and_sim_graph_relation_dict_ents_only_lower_preprocess_ner_grit-7b.v3.subset.p\n",
      "musique_facts_and_sim_graph_nodes_chatgpt_openIE.ents_only_lower_preprocess_ner.v3.subset.json\n",
      "query_to_kb.tsv\n",
      "rel_kb_to_kb.tsv\n",
      "musique_facts_and_sim_graph_fact_dict_ents_only_lower_preprocess_ner.v3.subset.p\n",
      "musique_facts_and_sim_graph_chatgpt_openIE.ents_only_lower_preprocess_ner.v3.subset.json\n",
      "musique_facts_and_sim_graph_passage_chatgpt_openIE.ents_only_lower_preprocess_ner.v3.subset.json\n",
      "musique_facts_and_sim_graph_fact_doc_edges_ents_only_lower_preprocess_ner.v3.subset.p\n",
      "kb_to_kb.tsv\n",
      "musique_facts_and_sim_graph_doc_to_facts_ents_only_lower_preprocess_ner.v3.subset.p\n",
      "musique_similarity_edges_mean_0.8_thresh_ents_only_lower_preprocess_ner_grit-7b.v3.subset.p\n",
      "musique_facts_and_sim_graph_phrase_dict_ents_only_lower_preprocess_ner.v3.subset.p\n",
      "musique_facts_and_sim_graph_doc_to_facts_csr_ents_only_lower_preprocess_ner.v3.subset.p\n",
      "musique_facts_and_sim_graph_facts_to_phrases_ents_only_lower_preprocess_ner.v3.subset.p\n",
      "musique_facts_and_sim_graph_facts_to_phrases_csr_ents_only_lower_preprocess_ner.v3.subset.p\n",
      "musique_facts_and_sim_graph_mean_0.8_thresh_ents_only_lower_preprocess_ner_grit-7b.v3.subset.p\n"
     ]
    }
   ],
   "source": [
    "remove_new_files()\n",
    "!CUDA_VISIBLE_DEVICES=\"4\" python src/create_graph.py \\\n",
    "    --dataset musique \\\n",
    "    --model_name \"grit-7b\" \\\n",
    "    --extraction_model gpt-3.5-turbo-1106 \\\n",
    "    --threshold 0.8 \\\n",
    "    --extraction_type ner \\\n",
    "    --create_graph \\\n",
    "    --cosine_sim_edges\n",
    "show_new_files()"
   ]
  },
  {
   "cell_type": "code",
   "execution_count": 11,
   "metadata": {},
   "outputs": [
    {
     "name": "stdout",
     "output_type": "stream",
     "text": [
      "Loading checkpoint shards: 100%|██████████████████| 3/3 [00:03<00:00,  1.05s/it]\n",
      "Created GritLM: torch.bfloat16 dtype, mean pool, embedding mode, bbcc attn\n",
      "Building Graph: 100%|███████████████| 206897/206897 [00:00<00:00, 519413.87it/s]\n",
      "2024-07-10 04:10:24,723 - hipporag - INFO - Graph built: num vertices: 91729, num_edges: 206786\n",
      "2024-07-10 04:10:24,741 - hipporag - INFO - Loading node vectors from: data/lm_vectors/grit-7b_mean/encoded_strings.txt\n",
      "2024-07-10 04:10:27,053 - hipporag - INFO - 1 phrases did not have vectors.\n",
      "2024-07-10 04:10:27,176 - hipporag - INFO - Loaded doc embeddings from data/lm_vectors/grit-7b_mean/musique_doc_embeddings.p, shape: (11656, 4096)\n",
      "[Errno 2] No such file or directory: 'output/ircot/ircot_results_musique_hipporag_grit-7b_demo_1_gpt-3_5-turbo-1106_doc_ensemble_0.7_step_1_top_10_sim_thresh_0.8_damping_0.5.json'\n",
      "Results file maybe empty, cannot be loaded.\n",
      "Loaded 0 results from output/ircot/ircot_results_musique_hipporag_grit-7b_demo_1_gpt-3_5-turbo-1106_doc_ensemble_0.7_step_1_top_10_sim_thresh_0.8_damping_0.5.json\n",
      "IRCoT retrieval: 100%|██████████████████████| 1000/1000 [02:42<00:00,  6.14it/s]\n",
      "Saved 1000 results to output/ircot/ircot_results_musique_hipporag_grit-7b_demo_1_gpt-3_5-turbo-1106_doc_ensemble_0.7_step_1_top_10_sim_thresh_0.8_damping_0.5.json\n"
     ]
    }
   ],
   "source": [
    "import os\n",
    "\n",
    "# Export environment variables\n",
    "os.environ['OPENAI_API_KEY'] = 'aegsdvfhuijoak'\n",
    "os.environ['CUDA_VISIBLE_DEVICES'] = '4,5,6,7'\n",
    "\n",
    "# Run the script with the specified arguments\n",
    "!python3 src/ircot_hipporag.py --dataset musique --retriever \"grit-7b\" --max_steps 1 --doc_ensemble t --top_k 10 --sim_threshold 0.8 --damping 0.5 --recognition_threshold 0.7"
   ]
  },
  {
   "cell_type": "code",
   "execution_count": 12,
   "metadata": {},
   "outputs": [
    {
     "data": {
      "text/plain": [
       "recall@1      0.241910\n",
       "recall@2      0.362830\n",
       "recall@5      0.520083\n",
       "recall@10     0.614168\n",
       "recall@15     0.614168\n",
       "recall@20     0.614168\n",
       "recall@30     0.614168\n",
       "recall@40     0.614168\n",
       "recall@50     0.614168\n",
       "recall@80     0.614168\n",
       "recall@100    0.614168\n",
       "dtype: float64"
      ]
     },
     "execution_count": 12,
     "metadata": {},
     "output_type": "execute_result"
    }
   ],
   "source": [
    "output_path = \"output/ircot/ircot_results_musique_hipporag_grit-7b_demo_1_gpt-3_5-turbo-1106_doc_ensemble_0.7_step_1_top_10_sim_thresh_0.8_damping_0.5.json\"\n",
    "\n",
    "result = pd.read_json(output_path)\n",
    "\n",
    "def recall_dict_to_columns(recall_dict):\n",
    "    return pd.Series({f'recall@{k}': v for k, v in recall_dict.items()})\n",
    "\n",
    "# 对每一行的 recall 列应用上述函数，并将结果拼接到新的 DataFrame\n",
    "recall_df = result['recall'].apply(recall_dict_to_columns)\n",
    "\n",
    "# 显示新创建的 DataFrame\n",
    "recall_df.mean()"
   ]
  },
  {
   "cell_type": "markdown",
   "metadata": {},
   "source": [
    "Threshold 0.75"
   ]
  },
  {
   "cell_type": "code",
   "execution_count": 8,
   "metadata": {},
   "outputs": [
    {
     "name": "stdout",
     "output_type": "stream",
     "text": [
      "Removed: musique_facts_and_sim_graph_clean_facts_chatgpt_openIE.ents_only_lower_preprocess_ner.v3.subset.json\n",
      "Removed: musique_facts_and_sim_graph_relation_dict_ents_only_lower_preprocess_ner_grit-7b.v3.subset.p\n",
      "Removed: musique_facts_and_sim_graph_nodes_chatgpt_openIE.ents_only_lower_preprocess_ner.v3.subset.json\n",
      "Removed: query_to_kb.tsv\n",
      "Removed: rel_kb_to_kb.tsv\n",
      "Removed: musique_facts_and_sim_graph_fact_dict_ents_only_lower_preprocess_ner.v3.subset.p\n",
      "Removed: musique_facts_and_sim_graph_chatgpt_openIE.ents_only_lower_preprocess_ner.v3.subset.json\n",
      "Removed: musique_facts_and_sim_graph_passage_chatgpt_openIE.ents_only_lower_preprocess_ner.v3.subset.json\n",
      "Removed: musique_facts_and_sim_graph_fact_doc_edges_ents_only_lower_preprocess_ner.v3.subset.p\n",
      "Removed: musique_facts_and_sim_graph_mean_0.75_thresh_ents_only_lower_preprocess_ner_grit-7b.v3.subset.p\n",
      "Removed: kb_to_kb.tsv\n",
      "Removed: musique_facts_and_sim_graph_doc_to_facts_ents_only_lower_preprocess_ner.v3.subset.p\n",
      "Removed: musique_facts_and_sim_graph_phrase_dict_ents_only_lower_preprocess_ner.v3.subset.p\n",
      "Removed: musique_facts_and_sim_graph_doc_to_facts_csr_ents_only_lower_preprocess_ner.v3.subset.p\n",
      "Removed: musique_facts_and_sim_graph_facts_to_phrases_ents_only_lower_preprocess_ner.v3.subset.p\n",
      "Removed: musique_similarity_edges_mean_0.75_thresh_ents_only_lower_preprocess_ner_grit-7b.v3.subset.p\n",
      "Removed: musique_facts_and_sim_graph_facts_to_phrases_csr_ents_only_lower_preprocess_ner.v3.subset.p\n",
      "100%|███████████████████████████████████| 11656/11656 [00:01<00:00, 9639.63it/s]\n",
      "Correct Wiki Format: 0 out of 11656\n",
      "100%|████████████████████████████████████| 1006/1006 [00:00<00:00, 66789.13it/s]\n",
      "Creating Graph\n",
      "100%|██████████████████████████████████| 11656/11656 [00:01<00:00, 11653.58it/s]\n",
      "Loading Vectors\n",
      "Augmenting Graph from Similarity\n",
      "100%|██████████████████████████████████| 91729/91729 [00:02<00:00, 43772.33it/s]\n",
      "Saving Graph\n",
      "                                                         1\n",
      "0                                                         \n",
      "Total Phrases                                       327435\n",
      "Unique Phrases                                       91729\n",
      "Number of Individual Triples                        109145\n",
      "Number of Incorrectly Formatted Triples (ChatGP...    1136\n",
      "Number of Triples w/o NER Entities (ChatGPT Error)    6762\n",
      "Number of Unique Individual Triples                 107448\n",
      "Number of Entities                                  218290\n",
      "Number of Relations                                 109932\n",
      "Number of Unique Entities                            91729\n",
      "Number of Synonymy Edges                              5060\n",
      "Number of Unique Relations                           21714\n",
      "musique_facts_and_sim_graph_clean_facts_chatgpt_openIE.ents_only_lower_preprocess_ner.v3.subset.json\n",
      "musique_facts_and_sim_graph_relation_dict_ents_only_lower_preprocess_ner_grit-7b.v3.subset.p\n",
      "musique_facts_and_sim_graph_nodes_chatgpt_openIE.ents_only_lower_preprocess_ner.v3.subset.json\n",
      "query_to_kb.tsv\n",
      "rel_kb_to_kb.tsv\n",
      "musique_similarity_edges_mean_0.7_thresh_ents_only_lower_preprocess_ner_grit-7b.v3.subset.p\n",
      "musique_facts_and_sim_graph_fact_dict_ents_only_lower_preprocess_ner.v3.subset.p\n",
      "musique_facts_and_sim_graph_chatgpt_openIE.ents_only_lower_preprocess_ner.v3.subset.json\n",
      "musique_facts_and_sim_graph_mean_0.7_thresh_ents_only_lower_preprocess_ner_grit-7b.v3.subset.p\n",
      "musique_facts_and_sim_graph_passage_chatgpt_openIE.ents_only_lower_preprocess_ner.v3.subset.json\n",
      "musique_facts_and_sim_graph_fact_doc_edges_ents_only_lower_preprocess_ner.v3.subset.p\n",
      "kb_to_kb.tsv\n",
      "musique_facts_and_sim_graph_doc_to_facts_ents_only_lower_preprocess_ner.v3.subset.p\n",
      "musique_facts_and_sim_graph_phrase_dict_ents_only_lower_preprocess_ner.v3.subset.p\n",
      "musique_facts_and_sim_graph_doc_to_facts_csr_ents_only_lower_preprocess_ner.v3.subset.p\n",
      "musique_facts_and_sim_graph_facts_to_phrases_ents_only_lower_preprocess_ner.v3.subset.p\n",
      "musique_facts_and_sim_graph_facts_to_phrases_csr_ents_only_lower_preprocess_ner.v3.subset.p\n",
      "Loading checkpoint shards: 100%|██████████████████| 3/3 [00:03<00:00,  1.05s/it]\n",
      "Created GritLM: torch.bfloat16 dtype, mean pool, embedding mode, bbcc attn\n",
      "Building Graph: 100%|███████████████| 211654/211654 [00:00<00:00, 641254.52it/s]\n",
      "2024-07-10 03:49:29,043 - hipporag - INFO - Graph built: num vertices: 91729, num_edges: 211543\n",
      "2024-07-10 03:49:29,057 - hipporag - INFO - Loading node vectors from: data/lm_vectors/grit-7b_mean/encoded_strings.txt\n",
      "2024-07-10 03:49:31,235 - hipporag - INFO - 1 phrases did not have vectors.\n",
      "2024-07-10 03:49:31,361 - hipporag - INFO - Loaded doc embeddings from data/lm_vectors/grit-7b_mean/musique_doc_embeddings.p, shape: (11656, 4096)\n",
      "[Errno 2] No such file or directory: 'output/ircot/ircot_results_musique_hipporag_grit-7b_demo_1_gpt-3_5-turbo-1106_doc_ensemble_0.9_step_1_top_10_sim_thresh_0.7_damping_0.5.json'\n",
      "Results file maybe empty, cannot be loaded.\n",
      "Loaded 0 results from output/ircot/ircot_results_musique_hipporag_grit-7b_demo_1_gpt-3_5-turbo-1106_doc_ensemble_0.9_step_1_top_10_sim_thresh_0.7_damping_0.5.json\n",
      "IRCoT retrieval: 100%|██████████████████████| 1000/1000 [02:36<00:00,  6.40it/s]\n",
      "Saved 1000 results to output/ircot/ircot_results_musique_hipporag_grit-7b_demo_1_gpt-3_5-turbo-1106_doc_ensemble_0.9_step_1_top_10_sim_thresh_0.7_damping_0.5.json\n"
     ]
    },
    {
     "data": {
      "text/plain": [
       "recall@1      0.249660\n",
       "recall@2      0.385330\n",
       "recall@5      0.566251\n",
       "recall@10     0.677087\n",
       "recall@15     0.677087\n",
       "recall@20     0.677087\n",
       "recall@30     0.677087\n",
       "recall@40     0.677087\n",
       "recall@50     0.677087\n",
       "recall@80     0.677087\n",
       "recall@100    0.677087\n",
       "dtype: float64"
      ]
     },
     "execution_count": 8,
     "metadata": {},
     "output_type": "execute_result"
    }
   ],
   "source": [
    "import os\n",
    "\n",
    "# Export environment variables\n",
    "os.environ['OPENAI_API_KEY'] = 'aegsdvfhuijoak'\n",
    "os.environ['CUDA_VISIBLE_DEVICES'] = '4,5,6,7'\n",
    "\n",
    "remove_new_files()\n",
    "!python3 src/create_graph.py \\\n",
    "    --dataset musique \\\n",
    "    --model_name \"grit-7b\" \\\n",
    "    --extraction_model gpt-3.5-turbo-1106 \\\n",
    "    --threshold 0.7 \\\n",
    "    --extraction_type ner \\\n",
    "    --create_graph \\\n",
    "    --cosine_sim_edges\n",
    "show_new_files()\n",
    "\n",
    "# Run the script with the specified arguments\n",
    "!python3 src/ircot_hipporag.py --dataset musique --retriever \"grit-7b\" --max_steps 1 --doc_ensemble t --top_k 10 --sim_threshold 0.7 --damping 0.5\n",
    "\n",
    "sim_threshold = 0.7\n",
    "output_path = f\"output/ircot/ircot_results_musique_hipporag_grit-7b_demo_1_gpt-3_5-turbo-1106_doc_ensemble_0.9_step_1_top_10_sim_thresh_{sim_threshold}_damping_0.5.json\"\n",
    "\n",
    "result = pd.read_json(output_path)\n",
    "\n",
    "def recall_dict_to_columns(recall_dict):\n",
    "    return pd.Series({f'recall@{k}': v for k, v in recall_dict.items()})\n",
    "\n",
    "# 对每一行的 recall 列应用上述函数，并将结果拼接到新的 DataFrame\n",
    "recall_df = result['recall'].apply(recall_dict_to_columns)\n",
    "\n",
    "# 显示新创建的 DataFrame\n",
    "recall_df.mean()"
   ]
  },
  {
   "cell_type": "code",
   "execution_count": 9,
   "metadata": {},
   "outputs": [
    {
     "name": "stdout",
     "output_type": "stream",
     "text": [
      "Removed: musique_facts_and_sim_graph_clean_facts_chatgpt_openIE.ents_only_lower_preprocess_ner.v3.subset.json\n",
      "Removed: musique_facts_and_sim_graph_relation_dict_ents_only_lower_preprocess_ner_grit-7b.v3.subset.p\n",
      "Removed: musique_facts_and_sim_graph_nodes_chatgpt_openIE.ents_only_lower_preprocess_ner.v3.subset.json\n",
      "Removed: query_to_kb.tsv\n",
      "Removed: rel_kb_to_kb.tsv\n",
      "Removed: musique_similarity_edges_mean_0.7_thresh_ents_only_lower_preprocess_ner_grit-7b.v3.subset.p\n",
      "Removed: musique_facts_and_sim_graph_fact_dict_ents_only_lower_preprocess_ner.v3.subset.p\n",
      "Removed: musique_facts_and_sim_graph_chatgpt_openIE.ents_only_lower_preprocess_ner.v3.subset.json\n",
      "Removed: musique_facts_and_sim_graph_mean_0.7_thresh_ents_only_lower_preprocess_ner_grit-7b.v3.subset.p\n",
      "Removed: musique_facts_and_sim_graph_passage_chatgpt_openIE.ents_only_lower_preprocess_ner.v3.subset.json\n",
      "Removed: musique_facts_and_sim_graph_fact_doc_edges_ents_only_lower_preprocess_ner.v3.subset.p\n",
      "Removed: kb_to_kb.tsv\n",
      "Removed: musique_facts_and_sim_graph_doc_to_facts_ents_only_lower_preprocess_ner.v3.subset.p\n",
      "Removed: musique_facts_and_sim_graph_phrase_dict_ents_only_lower_preprocess_ner.v3.subset.p\n",
      "Removed: musique_facts_and_sim_graph_doc_to_facts_csr_ents_only_lower_preprocess_ner.v3.subset.p\n",
      "Removed: musique_facts_and_sim_graph_facts_to_phrases_ents_only_lower_preprocess_ner.v3.subset.p\n",
      "Removed: musique_facts_and_sim_graph_facts_to_phrases_csr_ents_only_lower_preprocess_ner.v3.subset.p\n",
      "100%|██████████████████████████████████| 11656/11656 [00:01<00:00, 10758.81it/s]\n",
      "Correct Wiki Format: 0 out of 11656\n",
      "100%|████████████████████████████████████| 1006/1006 [00:00<00:00, 70803.60it/s]\n",
      "Creating Graph\n",
      "100%|██████████████████████████████████| 11656/11656 [00:00<00:00, 11908.89it/s]\n",
      "Loading Vectors\n",
      "Augmenting Graph from Similarity\n",
      "100%|██████████████████████████████████| 91729/91729 [00:02<00:00, 35592.66it/s]\n",
      "Saving Graph\n",
      "                                                         1\n",
      "0                                                         \n",
      "Total Phrases                                       327435\n",
      "Unique Phrases                                       91729\n",
      "Number of Individual Triples                        109145\n",
      "Number of Incorrectly Formatted Triples (ChatGP...    1136\n",
      "Number of Triples w/o NER Entities (ChatGPT Error)    6762\n",
      "Number of Unique Individual Triples                 107448\n",
      "Number of Entities                                  218290\n",
      "Number of Relations                                 170668\n",
      "Number of Unique Entities                            91729\n",
      "Number of Synonymy Edges                             67061\n",
      "Number of Unique Relations                           21714\n",
      "musique_facts_and_sim_graph_mean_0.6_thresh_ents_only_lower_preprocess_ner_grit-7b.v3.subset.p\n",
      "musique_facts_and_sim_graph_clean_facts_chatgpt_openIE.ents_only_lower_preprocess_ner.v3.subset.json\n",
      "musique_facts_and_sim_graph_relation_dict_ents_only_lower_preprocess_ner_grit-7b.v3.subset.p\n",
      "musique_facts_and_sim_graph_nodes_chatgpt_openIE.ents_only_lower_preprocess_ner.v3.subset.json\n",
      "query_to_kb.tsv\n",
      "rel_kb_to_kb.tsv\n",
      "musique_facts_and_sim_graph_fact_dict_ents_only_lower_preprocess_ner.v3.subset.p\n",
      "musique_facts_and_sim_graph_chatgpt_openIE.ents_only_lower_preprocess_ner.v3.subset.json\n",
      "musique_facts_and_sim_graph_passage_chatgpt_openIE.ents_only_lower_preprocess_ner.v3.subset.json\n",
      "musique_facts_and_sim_graph_fact_doc_edges_ents_only_lower_preprocess_ner.v3.subset.p\n",
      "kb_to_kb.tsv\n",
      "musique_similarity_edges_mean_0.6_thresh_ents_only_lower_preprocess_ner_grit-7b.v3.subset.p\n",
      "musique_facts_and_sim_graph_doc_to_facts_ents_only_lower_preprocess_ner.v3.subset.p\n",
      "musique_facts_and_sim_graph_phrase_dict_ents_only_lower_preprocess_ner.v3.subset.p\n",
      "musique_facts_and_sim_graph_doc_to_facts_csr_ents_only_lower_preprocess_ner.v3.subset.p\n",
      "musique_facts_and_sim_graph_facts_to_phrases_ents_only_lower_preprocess_ner.v3.subset.p\n",
      "musique_facts_and_sim_graph_facts_to_phrases_csr_ents_only_lower_preprocess_ner.v3.subset.p\n",
      "Loading checkpoint shards: 100%|██████████████████| 3/3 [00:03<00:00,  1.03s/it]\n",
      "Created GritLM: torch.bfloat16 dtype, mean pool, embedding mode, bbcc attn\n",
      "Building Graph: 100%|███████████████| 271371/271371 [00:00<00:00, 637347.69it/s]\n",
      "2024-07-10 03:53:56,977 - hipporag - INFO - Graph built: num vertices: 91729, num_edges: 271260\n",
      "2024-07-10 03:53:56,995 - hipporag - INFO - Loading node vectors from: data/lm_vectors/grit-7b_mean/encoded_strings.txt\n",
      "2024-07-10 03:53:59,245 - hipporag - INFO - 1 phrases did not have vectors.\n",
      "2024-07-10 03:53:59,365 - hipporag - INFO - Loaded doc embeddings from data/lm_vectors/grit-7b_mean/musique_doc_embeddings.p, shape: (11656, 4096)\n",
      "[Errno 2] No such file or directory: 'output/ircot/ircot_results_musique_hipporag_grit-7b_demo_1_gpt-3_5-turbo-1106_doc_ensemble_0.9_step_1_top_10_sim_thresh_0.6_damping_0.5.json'\n",
      "Results file maybe empty, cannot be loaded.\n",
      "Loaded 0 results from output/ircot/ircot_results_musique_hipporag_grit-7b_demo_1_gpt-3_5-turbo-1106_doc_ensemble_0.9_step_1_top_10_sim_thresh_0.6_damping_0.5.json\n",
      "IRCoT retrieval: 100%|██████████████████████| 1000/1000 [02:55<00:00,  5.70it/s]\n",
      "Saved 1000 results to output/ircot/ircot_results_musique_hipporag_grit-7b_demo_1_gpt-3_5-turbo-1106_doc_ensemble_0.9_step_1_top_10_sim_thresh_0.6_damping_0.5.json\n"
     ]
    },
    {
     "data": {
      "text/plain": [
       "recall@1      0.253826\n",
       "recall@2      0.391997\n",
       "recall@5      0.567335\n",
       "recall@10     0.678337\n",
       "recall@15     0.678337\n",
       "recall@20     0.678337\n",
       "recall@30     0.678337\n",
       "recall@40     0.678337\n",
       "recall@50     0.678337\n",
       "recall@80     0.678337\n",
       "recall@100    0.678337\n",
       "dtype: float64"
      ]
     },
     "execution_count": 9,
     "metadata": {},
     "output_type": "execute_result"
    }
   ],
   "source": [
    "import os\n",
    "\n",
    "# Export environment variables\n",
    "os.environ['OPENAI_API_KEY'] = 'aegsdvfhuijoak'\n",
    "os.environ['CUDA_VISIBLE_DEVICES'] = '4,5,6,7'\n",
    "\n",
    "remove_new_files()\n",
    "!python3 src/create_graph.py \\\n",
    "    --dataset musique \\\n",
    "    --model_name \"grit-7b\" \\\n",
    "    --extraction_model gpt-3.5-turbo-1106 \\\n",
    "    --threshold 0.6 \\\n",
    "    --extraction_type ner \\\n",
    "    --create_graph \\\n",
    "    --cosine_sim_edges\n",
    "show_new_files()\n",
    "\n",
    "# Run the script with the specified arguments\n",
    "!python3 src/ircot_hipporag.py --dataset musique --retriever \"grit-7b\" --max_steps 1 --doc_ensemble t --top_k 10 --sim_threshold 0.6 --damping 0.5\n",
    "\n",
    "sim_threshold = 0.6\n",
    "output_path = f\"output/ircot/ircot_results_musique_hipporag_grit-7b_demo_1_gpt-3_5-turbo-1106_doc_ensemble_0.9_step_1_top_10_sim_thresh_{sim_threshold}_damping_0.5.json\"\n",
    "\n",
    "result = pd.read_json(output_path)\n",
    "\n",
    "def recall_dict_to_columns(recall_dict):\n",
    "    return pd.Series({f'recall@{k}': v for k, v in recall_dict.items()})\n",
    "\n",
    "# 对每一行的 recall 列应用上述函数，并将结果拼接到新的 DataFrame\n",
    "recall_df = result['recall'].apply(recall_dict_to_columns)\n",
    "\n",
    "# 显示新创建的 DataFrame\n",
    "recall_df.mean()"
   ]
  },
  {
   "cell_type": "markdown",
   "metadata": {},
   "source": [
    "## HypeScan"
   ]
  },
  {
   "cell_type": "code",
   "execution_count": 10,
   "metadata": {},
   "outputs": [
    {
     "name": "stdout",
     "output_type": "stream",
     "text": [
      "sim_threshold 0.8\n"
     ]
    },
    {
     "name": "stderr",
     "output_type": "stream",
     "text": [
      "100%|██████████| 11656/11656 [00:01<00:00, 10479.21it/s]\n",
      "100%|██████████| 1006/1006 [00:00<00:00, 70558.52it/s]\n"
     ]
    },
    {
     "name": "stdout",
     "output_type": "stream",
     "text": [
      "Correct Wiki Format: 0 out of 11656\n",
      "Creating Graph\n"
     ]
    },
    {
     "name": "stderr",
     "output_type": "stream",
     "text": [
      "100%|██████████| 11656/11656 [00:00<00:00, 12158.79it/s]\n"
     ]
    },
    {
     "name": "stdout",
     "output_type": "stream",
     "text": [
      "Loading Vectors\n",
      "Augmenting Graph from Similarity\n"
     ]
    },
    {
     "name": "stderr",
     "output_type": "stream",
     "text": [
      "100%|██████████| 91729/91729 [00:01<00:00, 48703.90it/s] \n"
     ]
    },
    {
     "name": "stdout",
     "output_type": "stream",
     "text": [
      "Saving Graph\n",
      "                                                         1\n",
      "0                                                         \n",
      "Total Phrases                                       327435\n",
      "Unique Phrases                                       91729\n",
      "Number of Individual Triples                        109145\n",
      "Number of Incorrectly Formatted Triples (ChatGP...    1136\n",
      "Number of Triples w/o NER Entities (ChatGPT Error)    6762\n",
      "Number of Unique Individual Triples                 107448\n",
      "Number of Entities                                  218290\n",
      "Number of Relations                                 105050\n",
      "Number of Unique Entities                            91729\n",
      "Number of Synonymy Edges                                37\n",
      "Number of Unique Relations                           21714\n",
      "recognition_threshold 0.8\n"
     ]
    },
    {
     "name": "stderr",
     "output_type": "stream",
     "text": [
      "Loading checkpoint shards: 100%|██████████| 3/3 [00:03<00:00,  1.06s/it]\n"
     ]
    },
    {
     "name": "stdout",
     "output_type": "stream",
     "text": [
      "Created GritLM: torch.bfloat16 dtype, mean pool, embedding mode, bbcc attn\n"
     ]
    },
    {
     "name": "stderr",
     "output_type": "stream",
     "text": [
      "Building Graph: 100%|██████████| 206897/206897 [00:00<00:00, 634142.80it/s]\n",
      "2024-07-10 06:36:57,227 - hipporag - INFO - Graph built: num vertices: 91729, num_edges: 206786\n",
      "2024-07-10 06:36:57,240 - hipporag - INFO - Loading node vectors from: data/lm_vectors/grit-7b_mean/encoded_strings.txt\n",
      "2024-07-10 06:36:59,469 - hipporag - INFO - 1 phrases did not have vectors.\n",
      "2024-07-10 06:36:59,632 - hipporag - INFO - Loaded doc embeddings from data/lm_vectors/grit-7b_mean/musique_doc_embeddings.p, shape: (11656, 4096)\n"
     ]
    },
    {
     "name": "stdout",
     "output_type": "stream",
     "text": [
      "[Errno 2] No such file or directory: 'output/ircot/ircot_results_musique_hipporag_grit-7b_demo_1_gpt-3_5-turbo-1106_doc_ensemble_0.8_step_1_top_10_sim_thresh_0.8_damping_0.5.json'\n",
      "Results file maybe empty, cannot be loaded.\n",
      "Loaded 0 results from output/ircot/ircot_results_musique_hipporag_grit-7b_demo_1_gpt-3_5-turbo-1106_doc_ensemble_0.8_step_1_top_10_sim_thresh_0.8_damping_0.5.json\n"
     ]
    },
    {
     "name": "stderr",
     "output_type": "stream",
     "text": [
      "IRCoT retrieval: 100%|██████████| 1000/1000 [02:37<00:00,  6.35it/s]\n"
     ]
    },
    {
     "name": "stdout",
     "output_type": "stream",
     "text": [
      "Saved 1000 results to output/ircot/ircot_results_musique_hipporag_grit-7b_demo_1_gpt-3_5-turbo-1106_doc_ensemble_0.8_step_1_top_10_sim_thresh_0.8_damping_0.5.json\n",
      "recognition_threshold 0.7\n"
     ]
    },
    {
     "name": "stderr",
     "output_type": "stream",
     "text": [
      "Loading checkpoint shards: 100%|██████████| 3/3 [00:03<00:00,  1.06s/it]\n"
     ]
    },
    {
     "name": "stdout",
     "output_type": "stream",
     "text": [
      "Created GritLM: torch.bfloat16 dtype, mean pool, embedding mode, bbcc attn\n"
     ]
    },
    {
     "name": "stderr",
     "output_type": "stream",
     "text": [
      "Building Graph: 100%|██████████| 206897/206897 [00:00<00:00, 635912.84it/s]\n",
      "2024-07-10 06:39:51,489 - hipporag - INFO - Graph built: num vertices: 91729, num_edges: 206786\n",
      "2024-07-10 06:39:51,501 - hipporag - INFO - Loading node vectors from: data/lm_vectors/grit-7b_mean/encoded_strings.txt\n",
      "2024-07-10 06:39:53,809 - hipporag - INFO - 1 phrases did not have vectors.\n",
      "2024-07-10 06:39:53,939 - hipporag - INFO - Loaded doc embeddings from data/lm_vectors/grit-7b_mean/musique_doc_embeddings.p, shape: (11656, 4096)\n"
     ]
    },
    {
     "name": "stdout",
     "output_type": "stream",
     "text": [
      "Loaded 1000 results from output/ircot/ircot_results_musique_hipporag_grit-7b_demo_1_gpt-3_5-turbo-1106_doc_ensemble_0.7_step_1_top_10_sim_thresh_0.8_damping_0.5.json\n",
      "R@1: 0.2419 R@2: 0.3628 R@5: 0.5201 R@10: 0.6142 R@15: 0.6142 R@20: 0.6142 R@30: 0.6142 R@40: 0.6142 R@50: 0.6142 R@80: 0.6142 R@100: 0.6142 \n"
     ]
    },
    {
     "name": "stderr",
     "output_type": "stream",
     "text": [
      "IRCoT retrieval: 100%|██████████| 1000/1000 [00:00<00:00, 1167679.29it/s]\n"
     ]
    },
    {
     "name": "stdout",
     "output_type": "stream",
     "text": [
      "Saved 1000 results to output/ircot/ircot_results_musique_hipporag_grit-7b_demo_1_gpt-3_5-turbo-1106_doc_ensemble_0.7_step_1_top_10_sim_thresh_0.8_damping_0.5.json\n",
      "recognition_threshold 0.6\n"
     ]
    },
    {
     "name": "stderr",
     "output_type": "stream",
     "text": [
      "Loading checkpoint shards: 100%|██████████| 3/3 [00:03<00:00,  1.06s/it]\n"
     ]
    },
    {
     "name": "stdout",
     "output_type": "stream",
     "text": [
      "Created GritLM: torch.bfloat16 dtype, mean pool, embedding mode, bbcc attn\n"
     ]
    },
    {
     "name": "stderr",
     "output_type": "stream",
     "text": [
      "Building Graph: 100%|██████████| 206897/206897 [00:00<00:00, 649588.79it/s]\n",
      "2024-07-10 06:40:07,624 - hipporag - INFO - Graph built: num vertices: 91729, num_edges: 206786\n",
      "2024-07-10 06:40:07,637 - hipporag - INFO - Loading node vectors from: data/lm_vectors/grit-7b_mean/encoded_strings.txt\n",
      "2024-07-10 06:40:09,879 - hipporag - INFO - 1 phrases did not have vectors.\n",
      "2024-07-10 06:40:10,006 - hipporag - INFO - Loaded doc embeddings from data/lm_vectors/grit-7b_mean/musique_doc_embeddings.p, shape: (11656, 4096)\n"
     ]
    },
    {
     "name": "stdout",
     "output_type": "stream",
     "text": [
      "[Errno 2] No such file or directory: 'output/ircot/ircot_results_musique_hipporag_grit-7b_demo_1_gpt-3_5-turbo-1106_doc_ensemble_0.6_step_1_top_10_sim_thresh_0.8_damping_0.5.json'\n",
      "Results file maybe empty, cannot be loaded.\n",
      "Loaded 0 results from output/ircot/ircot_results_musique_hipporag_grit-7b_demo_1_gpt-3_5-turbo-1106_doc_ensemble_0.6_step_1_top_10_sim_thresh_0.8_damping_0.5.json\n"
     ]
    },
    {
     "name": "stderr",
     "output_type": "stream",
     "text": [
      "IRCoT retrieval: 100%|██████████| 1000/1000 [02:41<00:00,  6.19it/s]\n"
     ]
    },
    {
     "name": "stdout",
     "output_type": "stream",
     "text": [
      "Saved 1000 results to output/ircot/ircot_results_musique_hipporag_grit-7b_demo_1_gpt-3_5-turbo-1106_doc_ensemble_0.6_step_1_top_10_sim_thresh_0.8_damping_0.5.json\n",
      "sim_threshold 0.7\n",
      "Removed: musique_facts_and_sim_graph_clean_facts_chatgpt_openIE.ents_only_lower_preprocess_ner.v3.subset.json\n",
      "Removed: musique_facts_and_sim_graph_relation_dict_ents_only_lower_preprocess_ner_grit-7b.v3.subset.p\n",
      "Removed: musique_facts_and_sim_graph_nodes_chatgpt_openIE.ents_only_lower_preprocess_ner.v3.subset.json\n",
      "Removed: query_to_kb.tsv\n",
      "Removed: rel_kb_to_kb.tsv\n",
      "Removed: musique_facts_and_sim_graph_fact_dict_ents_only_lower_preprocess_ner.v3.subset.p\n",
      "Removed: musique_facts_and_sim_graph_chatgpt_openIE.ents_only_lower_preprocess_ner.v3.subset.json\n",
      "Removed: musique_facts_and_sim_graph_passage_chatgpt_openIE.ents_only_lower_preprocess_ner.v3.subset.json\n",
      "Removed: musique_facts_and_sim_graph_fact_doc_edges_ents_only_lower_preprocess_ner.v3.subset.p\n",
      "Removed: kb_to_kb.tsv\n",
      "Removed: musique_facts_and_sim_graph_doc_to_facts_ents_only_lower_preprocess_ner.v3.subset.p\n",
      "Removed: musique_similarity_edges_mean_0.8_thresh_ents_only_lower_preprocess_ner_grit-7b.v3.subset.p\n",
      "Removed: musique_facts_and_sim_graph_phrase_dict_ents_only_lower_preprocess_ner.v3.subset.p\n",
      "Removed: musique_facts_and_sim_graph_doc_to_facts_csr_ents_only_lower_preprocess_ner.v3.subset.p\n",
      "Removed: musique_facts_and_sim_graph_facts_to_phrases_ents_only_lower_preprocess_ner.v3.subset.p\n",
      "Removed: musique_facts_and_sim_graph_facts_to_phrases_csr_ents_only_lower_preprocess_ner.v3.subset.p\n",
      "Removed: musique_facts_and_sim_graph_mean_0.8_thresh_ents_only_lower_preprocess_ner_grit-7b.v3.subset.p\n"
     ]
    },
    {
     "name": "stderr",
     "output_type": "stream",
     "text": [
      "100%|██████████| 11656/11656 [00:01<00:00, 10675.91it/s]\n",
      "100%|██████████| 1006/1006 [00:00<00:00, 70757.30it/s]\n"
     ]
    },
    {
     "name": "stdout",
     "output_type": "stream",
     "text": [
      "Correct Wiki Format: 0 out of 11656\n",
      "Creating Graph\n"
     ]
    },
    {
     "name": "stderr",
     "output_type": "stream",
     "text": [
      "100%|██████████| 11656/11656 [00:00<00:00, 12027.02it/s]\n"
     ]
    },
    {
     "name": "stdout",
     "output_type": "stream",
     "text": [
      "Loading Vectors\n",
      "Augmenting Graph from Similarity\n"
     ]
    },
    {
     "name": "stderr",
     "output_type": "stream",
     "text": [
      "100%|██████████| 91729/91729 [00:02<00:00, 44632.33it/s] \n"
     ]
    },
    {
     "name": "stdout",
     "output_type": "stream",
     "text": [
      "Saving Graph\n",
      "                                                         1\n",
      "0                                                         \n",
      "Total Phrases                                       327435\n",
      "Unique Phrases                                       91729\n",
      "Number of Individual Triples                        109145\n",
      "Number of Incorrectly Formatted Triples (ChatGP...    1136\n",
      "Number of Triples w/o NER Entities (ChatGPT Error)    6762\n",
      "Number of Unique Individual Triples                 107448\n",
      "Number of Entities                                  218290\n",
      "Number of Relations                                 109932\n",
      "Number of Unique Entities                            91729\n",
      "Number of Synonymy Edges                              5060\n",
      "Number of Unique Relations                           21714\n",
      "recognition_threshold 0.8\n"
     ]
    },
    {
     "name": "stderr",
     "output_type": "stream",
     "text": [
      "Loading checkpoint shards: 100%|██████████| 3/3 [00:03<00:00,  1.06s/it]\n"
     ]
    },
    {
     "name": "stdout",
     "output_type": "stream",
     "text": [
      "Created GritLM: torch.bfloat16 dtype, mean pool, embedding mode, bbcc attn\n"
     ]
    },
    {
     "name": "stderr",
     "output_type": "stream",
     "text": [
      "Building Graph: 100%|██████████| 211654/211654 [00:00<00:00, 582206.71it/s]\n",
      "2024-07-10 06:43:25,386 - hipporag - INFO - Graph built: num vertices: 91729, num_edges: 211543\n",
      "2024-07-10 06:43:25,400 - hipporag - INFO - Loading node vectors from: data/lm_vectors/grit-7b_mean/encoded_strings.txt\n",
      "2024-07-10 06:43:27,627 - hipporag - INFO - 1 phrases did not have vectors.\n",
      "2024-07-10 06:43:27,755 - hipporag - INFO - Loaded doc embeddings from data/lm_vectors/grit-7b_mean/musique_doc_embeddings.p, shape: (11656, 4096)\n"
     ]
    },
    {
     "name": "stdout",
     "output_type": "stream",
     "text": [
      "[Errno 2] No such file or directory: 'output/ircot/ircot_results_musique_hipporag_grit-7b_demo_1_gpt-3_5-turbo-1106_doc_ensemble_0.8_step_1_top_10_sim_thresh_0.7_damping_0.5.json'\n",
      "Results file maybe empty, cannot be loaded.\n",
      "Loaded 0 results from output/ircot/ircot_results_musique_hipporag_grit-7b_demo_1_gpt-3_5-turbo-1106_doc_ensemble_0.8_step_1_top_10_sim_thresh_0.7_damping_0.5.json\n"
     ]
    },
    {
     "name": "stderr",
     "output_type": "stream",
     "text": [
      "IRCoT retrieval: 100%|██████████| 1000/1000 [02:38<00:00,  6.31it/s]\n"
     ]
    },
    {
     "name": "stdout",
     "output_type": "stream",
     "text": [
      "Saved 1000 results to output/ircot/ircot_results_musique_hipporag_grit-7b_demo_1_gpt-3_5-turbo-1106_doc_ensemble_0.8_step_1_top_10_sim_thresh_0.7_damping_0.5.json\n",
      "recognition_threshold 0.7\n"
     ]
    },
    {
     "name": "stderr",
     "output_type": "stream",
     "text": [
      "Loading checkpoint shards: 100%|██████████| 3/3 [00:03<00:00,  1.06s/it]\n"
     ]
    },
    {
     "name": "stdout",
     "output_type": "stream",
     "text": [
      "Created GritLM: torch.bfloat16 dtype, mean pool, embedding mode, bbcc attn\n"
     ]
    },
    {
     "name": "stderr",
     "output_type": "stream",
     "text": [
      "Building Graph: 100%|██████████| 211654/211654 [00:00<00:00, 643411.03it/s]\n",
      "2024-07-10 06:46:20,077 - hipporag - INFO - Graph built: num vertices: 91729, num_edges: 211543\n",
      "2024-07-10 06:46:20,090 - hipporag - INFO - Loading node vectors from: data/lm_vectors/grit-7b_mean/encoded_strings.txt\n",
      "2024-07-10 06:46:22,354 - hipporag - INFO - 1 phrases did not have vectors.\n",
      "2024-07-10 06:46:22,484 - hipporag - INFO - Loaded doc embeddings from data/lm_vectors/grit-7b_mean/musique_doc_embeddings.p, shape: (11656, 4096)\n"
     ]
    },
    {
     "name": "stdout",
     "output_type": "stream",
     "text": [
      "[Errno 2] No such file or directory: 'output/ircot/ircot_results_musique_hipporag_grit-7b_demo_1_gpt-3_5-turbo-1106_doc_ensemble_0.7_step_1_top_10_sim_thresh_0.7_damping_0.5.json'\n",
      "Results file maybe empty, cannot be loaded.\n",
      "Loaded 0 results from output/ircot/ircot_results_musique_hipporag_grit-7b_demo_1_gpt-3_5-turbo-1106_doc_ensemble_0.7_step_1_top_10_sim_thresh_0.7_damping_0.5.json\n"
     ]
    },
    {
     "name": "stderr",
     "output_type": "stream",
     "text": [
      "IRCoT retrieval: 100%|██████████| 1000/1000 [02:43<00:00,  6.10it/s]\n"
     ]
    },
    {
     "name": "stdout",
     "output_type": "stream",
     "text": [
      "Saved 1000 results to output/ircot/ircot_results_musique_hipporag_grit-7b_demo_1_gpt-3_5-turbo-1106_doc_ensemble_0.7_step_1_top_10_sim_thresh_0.7_damping_0.5.json\n",
      "recognition_threshold 0.6\n"
     ]
    },
    {
     "name": "stderr",
     "output_type": "stream",
     "text": [
      "Loading checkpoint shards: 100%|██████████| 3/3 [00:03<00:00,  1.07s/it]\n"
     ]
    },
    {
     "name": "stdout",
     "output_type": "stream",
     "text": [
      "Created GritLM: torch.bfloat16 dtype, mean pool, embedding mode, bbcc attn\n"
     ]
    },
    {
     "name": "stderr",
     "output_type": "stream",
     "text": [
      "Building Graph: 100%|██████████| 211654/211654 [00:00<00:00, 628053.17it/s]\n",
      "2024-07-10 06:49:20,492 - hipporag - INFO - Graph built: num vertices: 91729, num_edges: 211543\n",
      "2024-07-10 06:49:20,505 - hipporag - INFO - Loading node vectors from: data/lm_vectors/grit-7b_mean/encoded_strings.txt\n",
      "2024-07-10 06:49:22,749 - hipporag - INFO - 1 phrases did not have vectors.\n",
      "2024-07-10 06:49:22,880 - hipporag - INFO - Loaded doc embeddings from data/lm_vectors/grit-7b_mean/musique_doc_embeddings.p, shape: (11656, 4096)\n"
     ]
    },
    {
     "name": "stdout",
     "output_type": "stream",
     "text": [
      "[Errno 2] No such file or directory: 'output/ircot/ircot_results_musique_hipporag_grit-7b_demo_1_gpt-3_5-turbo-1106_doc_ensemble_0.6_step_1_top_10_sim_thresh_0.7_damping_0.5.json'\n",
      "Results file maybe empty, cannot be loaded.\n",
      "Loaded 0 results from output/ircot/ircot_results_musique_hipporag_grit-7b_demo_1_gpt-3_5-turbo-1106_doc_ensemble_0.6_step_1_top_10_sim_thresh_0.7_damping_0.5.json\n"
     ]
    },
    {
     "name": "stderr",
     "output_type": "stream",
     "text": [
      "IRCoT retrieval: 100%|██████████| 1000/1000 [02:44<00:00,  6.08it/s]\n"
     ]
    },
    {
     "name": "stdout",
     "output_type": "stream",
     "text": [
      "Saved 1000 results to output/ircot/ircot_results_musique_hipporag_grit-7b_demo_1_gpt-3_5-turbo-1106_doc_ensemble_0.6_step_1_top_10_sim_thresh_0.7_damping_0.5.json\n",
      "sim_threshold 0.6\n",
      "Removed: musique_facts_and_sim_graph_clean_facts_chatgpt_openIE.ents_only_lower_preprocess_ner.v3.subset.json\n",
      "Removed: musique_facts_and_sim_graph_relation_dict_ents_only_lower_preprocess_ner_grit-7b.v3.subset.p\n",
      "Removed: musique_facts_and_sim_graph_nodes_chatgpt_openIE.ents_only_lower_preprocess_ner.v3.subset.json\n",
      "Removed: query_to_kb.tsv\n",
      "Removed: rel_kb_to_kb.tsv\n",
      "Removed: musique_similarity_edges_mean_0.7_thresh_ents_only_lower_preprocess_ner_grit-7b.v3.subset.p\n",
      "Removed: musique_facts_and_sim_graph_fact_dict_ents_only_lower_preprocess_ner.v3.subset.p\n",
      "Removed: musique_facts_and_sim_graph_chatgpt_openIE.ents_only_lower_preprocess_ner.v3.subset.json\n",
      "Removed: musique_facts_and_sim_graph_mean_0.7_thresh_ents_only_lower_preprocess_ner_grit-7b.v3.subset.p\n",
      "Removed: musique_facts_and_sim_graph_passage_chatgpt_openIE.ents_only_lower_preprocess_ner.v3.subset.json\n",
      "Removed: musique_facts_and_sim_graph_fact_doc_edges_ents_only_lower_preprocess_ner.v3.subset.p\n",
      "Removed: kb_to_kb.tsv\n",
      "Removed: musique_facts_and_sim_graph_doc_to_facts_ents_only_lower_preprocess_ner.v3.subset.p\n",
      "Removed: musique_facts_and_sim_graph_phrase_dict_ents_only_lower_preprocess_ner.v3.subset.p\n",
      "Removed: musique_facts_and_sim_graph_doc_to_facts_csr_ents_only_lower_preprocess_ner.v3.subset.p\n",
      "Removed: musique_facts_and_sim_graph_facts_to_phrases_ents_only_lower_preprocess_ner.v3.subset.p\n",
      "Removed: musique_facts_and_sim_graph_facts_to_phrases_csr_ents_only_lower_preprocess_ner.v3.subset.p\n"
     ]
    },
    {
     "name": "stderr",
     "output_type": "stream",
     "text": [
      "100%|██████████| 11656/11656 [00:01<00:00, 10551.98it/s]\n",
      "100%|██████████| 1006/1006 [00:00<00:00, 70494.86it/s]\n"
     ]
    },
    {
     "name": "stdout",
     "output_type": "stream",
     "text": [
      "Correct Wiki Format: 0 out of 11656\n",
      "Creating Graph\n"
     ]
    },
    {
     "name": "stderr",
     "output_type": "stream",
     "text": [
      "100%|██████████| 11656/11656 [00:00<00:00, 11779.81it/s]\n"
     ]
    },
    {
     "name": "stdout",
     "output_type": "stream",
     "text": [
      "Loading Vectors\n",
      "Augmenting Graph from Similarity\n"
     ]
    },
    {
     "name": "stderr",
     "output_type": "stream",
     "text": [
      "100%|██████████| 91729/91729 [00:02<00:00, 34756.18it/s]\n"
     ]
    },
    {
     "name": "stdout",
     "output_type": "stream",
     "text": [
      "Saving Graph\n",
      "                                                         1\n",
      "0                                                         \n",
      "Total Phrases                                       327435\n",
      "Unique Phrases                                       91729\n",
      "Number of Individual Triples                        109145\n",
      "Number of Incorrectly Formatted Triples (ChatGP...    1136\n",
      "Number of Triples w/o NER Entities (ChatGPT Error)    6762\n",
      "Number of Unique Individual Triples                 107448\n",
      "Number of Entities                                  218290\n",
      "Number of Relations                                 170668\n",
      "Number of Unique Entities                            91729\n",
      "Number of Synonymy Edges                             67061\n",
      "Number of Unique Relations                           21714\n",
      "recognition_threshold 0.8\n"
     ]
    },
    {
     "name": "stderr",
     "output_type": "stream",
     "text": [
      "Loading checkpoint shards: 100%|██████████| 3/3 [00:03<00:00,  1.07s/it]\n"
     ]
    },
    {
     "name": "stdout",
     "output_type": "stream",
     "text": [
      "Created GritLM: torch.bfloat16 dtype, mean pool, embedding mode, bbcc attn\n"
     ]
    },
    {
     "name": "stderr",
     "output_type": "stream",
     "text": [
      "Building Graph: 100%|██████████| 271371/271371 [00:00<00:00, 629994.23it/s]\n",
      "2024-07-10 06:52:42,820 - hipporag - INFO - Graph built: num vertices: 91729, num_edges: 271260\n",
      "2024-07-10 06:52:42,841 - hipporag - INFO - Loading node vectors from: data/lm_vectors/grit-7b_mean/encoded_strings.txt\n",
      "2024-07-10 06:52:45,142 - hipporag - INFO - 1 phrases did not have vectors.\n",
      "2024-07-10 06:52:45,272 - hipporag - INFO - Loaded doc embeddings from data/lm_vectors/grit-7b_mean/musique_doc_embeddings.p, shape: (11656, 4096)\n"
     ]
    },
    {
     "name": "stdout",
     "output_type": "stream",
     "text": [
      "[Errno 2] No such file or directory: 'output/ircot/ircot_results_musique_hipporag_grit-7b_demo_1_gpt-3_5-turbo-1106_doc_ensemble_0.8_step_1_top_10_sim_thresh_0.6_damping_0.5.json'\n",
      "Results file maybe empty, cannot be loaded.\n",
      "Loaded 0 results from output/ircot/ircot_results_musique_hipporag_grit-7b_demo_1_gpt-3_5-turbo-1106_doc_ensemble_0.8_step_1_top_10_sim_thresh_0.6_damping_0.5.json\n"
     ]
    },
    {
     "name": "stderr",
     "output_type": "stream",
     "text": [
      "IRCoT retrieval: 100%|██████████| 1000/1000 [02:55<00:00,  5.69it/s]\n"
     ]
    },
    {
     "name": "stdout",
     "output_type": "stream",
     "text": [
      "Saved 1000 results to output/ircot/ircot_results_musique_hipporag_grit-7b_demo_1_gpt-3_5-turbo-1106_doc_ensemble_0.8_step_1_top_10_sim_thresh_0.6_damping_0.5.json\n",
      "recognition_threshold 0.7\n"
     ]
    },
    {
     "name": "stderr",
     "output_type": "stream",
     "text": [
      "Loading checkpoint shards: 100%|██████████| 3/3 [00:03<00:00,  1.07s/it]\n"
     ]
    },
    {
     "name": "stdout",
     "output_type": "stream",
     "text": [
      "Created GritLM: torch.bfloat16 dtype, mean pool, embedding mode, bbcc attn\n"
     ]
    },
    {
     "name": "stderr",
     "output_type": "stream",
     "text": [
      "Building Graph: 100%|██████████| 271371/271371 [00:00<00:00, 650238.81it/s]\n",
      "2024-07-10 06:55:55,242 - hipporag - INFO - Graph built: num vertices: 91729, num_edges: 271260\n",
      "2024-07-10 06:55:55,260 - hipporag - INFO - Loading node vectors from: data/lm_vectors/grit-7b_mean/encoded_strings.txt\n",
      "2024-07-10 06:55:57,462 - hipporag - INFO - 1 phrases did not have vectors.\n",
      "2024-07-10 06:55:57,591 - hipporag - INFO - Loaded doc embeddings from data/lm_vectors/grit-7b_mean/musique_doc_embeddings.p, shape: (11656, 4096)\n"
     ]
    },
    {
     "name": "stdout",
     "output_type": "stream",
     "text": [
      "[Errno 2] No such file or directory: 'output/ircot/ircot_results_musique_hipporag_grit-7b_demo_1_gpt-3_5-turbo-1106_doc_ensemble_0.7_step_1_top_10_sim_thresh_0.6_damping_0.5.json'\n",
      "Results file maybe empty, cannot be loaded.\n",
      "Loaded 0 results from output/ircot/ircot_results_musique_hipporag_grit-7b_demo_1_gpt-3_5-turbo-1106_doc_ensemble_0.7_step_1_top_10_sim_thresh_0.6_damping_0.5.json\n"
     ]
    },
    {
     "name": "stderr",
     "output_type": "stream",
     "text": [
      "IRCoT retrieval: 100%|██████████| 1000/1000 [02:48<00:00,  5.92it/s]\n"
     ]
    },
    {
     "name": "stdout",
     "output_type": "stream",
     "text": [
      "Saved 1000 results to output/ircot/ircot_results_musique_hipporag_grit-7b_demo_1_gpt-3_5-turbo-1106_doc_ensemble_0.7_step_1_top_10_sim_thresh_0.6_damping_0.5.json\n",
      "recognition_threshold 0.6\n"
     ]
    },
    {
     "name": "stderr",
     "output_type": "stream",
     "text": [
      "Loading checkpoint shards: 100%|██████████| 3/3 [00:03<00:00,  1.07s/it]\n"
     ]
    },
    {
     "name": "stdout",
     "output_type": "stream",
     "text": [
      "Created GritLM: torch.bfloat16 dtype, mean pool, embedding mode, bbcc attn\n"
     ]
    },
    {
     "name": "stderr",
     "output_type": "stream",
     "text": [
      "Building Graph: 100%|██████████| 271371/271371 [00:00<00:00, 599137.40it/s]\n",
      "2024-07-10 06:59:00,433 - hipporag - INFO - Graph built: num vertices: 91729, num_edges: 271260\n",
      "2024-07-10 06:59:00,454 - hipporag - INFO - Loading node vectors from: data/lm_vectors/grit-7b_mean/encoded_strings.txt\n",
      "2024-07-10 06:59:02,709 - hipporag - INFO - 1 phrases did not have vectors.\n",
      "2024-07-10 06:59:02,841 - hipporag - INFO - Loaded doc embeddings from data/lm_vectors/grit-7b_mean/musique_doc_embeddings.p, shape: (11656, 4096)\n"
     ]
    },
    {
     "name": "stdout",
     "output_type": "stream",
     "text": [
      "[Errno 2] No such file or directory: 'output/ircot/ircot_results_musique_hipporag_grit-7b_demo_1_gpt-3_5-turbo-1106_doc_ensemble_0.6_step_1_top_10_sim_thresh_0.6_damping_0.5.json'\n",
      "Results file maybe empty, cannot be loaded.\n",
      "Loaded 0 results from output/ircot/ircot_results_musique_hipporag_grit-7b_demo_1_gpt-3_5-turbo-1106_doc_ensemble_0.6_step_1_top_10_sim_thresh_0.6_damping_0.5.json\n"
     ]
    },
    {
     "name": "stderr",
     "output_type": "stream",
     "text": [
      "IRCoT retrieval: 100%|██████████| 1000/1000 [02:55<00:00,  5.68it/s]\n"
     ]
    },
    {
     "name": "stdout",
     "output_type": "stream",
     "text": [
      "Saved 1000 results to output/ircot/ircot_results_musique_hipporag_grit-7b_demo_1_gpt-3_5-turbo-1106_doc_ensemble_0.6_step_1_top_10_sim_thresh_0.6_damping_0.5.json\n"
     ]
    }
   ],
   "source": [
    "\n",
    "sim_thresholds = [0.8, 0.7, 0.6]\n",
    "recognition_thresholds = [0.8, 0.7, 0.6]\n",
    "\n",
    "def calculate_recall_mean(output_path):\n",
    "    result = pd.read_json(output_path)\n",
    "    def recall_dict_to_columns(recall_dict):\n",
    "        return pd.Series({f'recall@{k}': v for k, v in recall_dict.items()})\n",
    "    recall_df = result['recall'].apply(recall_dict_to_columns)\n",
    "    return recall_df.mean()\n",
    "\n",
    "# Store results\n",
    "results = []\n",
    "\n",
    "# Export environment variables\n",
    "os.environ['OPENAI_API_KEY'] = 'aegsdvfhuijoak'\n",
    "os.environ['CUDA_VISIBLE_DEVICES'] = '4,5,6,7'\n",
    "\n",
    "# Run experiments\n",
    "for sim_threshold in sim_thresholds:\n",
    "    print(\"sim_threshold\", sim_threshold)\n",
    "    remove_new_files()\n",
    "    create_graph_command = [\n",
    "        'python3', 'src/create_graph.py',\n",
    "        '--dataset', 'musique',\n",
    "        '--model_name', 'grit-7b',\n",
    "        '--extraction_model', 'gpt-3.5-turbo-1106',\n",
    "        '--threshold', str(sim_threshold),\n",
    "        '--extraction_type', 'ner',\n",
    "        '--create_graph', '--cosine_sim_edges'\n",
    "    ]\n",
    "    subprocess.run(create_graph_command, check=True)\n",
    "    for recognition_threshold in recognition_thresholds:\n",
    "        print(\"recognition_threshold\", recognition_threshold)\n",
    "        ircot_hipporag_command = [\n",
    "            'python3', 'src/ircot_hipporag_v2.py',\n",
    "            '--dataset', 'musique',\n",
    "            '--retriever', 'grit-7b',\n",
    "            '--max_steps', '1',\n",
    "            '--doc_ensemble', 't',\n",
    "            '--top_k', '10',\n",
    "            '--sim_threshold', str(sim_threshold),\n",
    "            '--damping', '0.5',\n",
    "            '--recognition_threshold', str(recognition_threshold)\n",
    "        ]\n",
    "        subprocess.run(ircot_hipporag_command, check=True)\n",
    "        \n",
    "        # Define output path\n",
    "        output_path = f\"output/ircot/ircot_results_musique_hipporag_grit-7b_demo_1_gpt-3_5-turbo-1106_doc_ensemble_{recognition_threshold}_step_1_top_10_sim_thresh_{sim_threshold}_damping_0.5.json\"\n",
    "        \n",
    "        # Calculate recall mean\n",
    "        recall_mean = calculate_recall_mean(output_path)\n",
    "        \n",
    "        # Store the result\n",
    "        results.append({\n",
    "            'sim_threshold': sim_threshold,\n",
    "            'recognition_threshold': recognition_threshold,\n",
    "            'recall_mean': recall_mean\n",
    "        })"
   ]
  },
  {
   "cell_type": "code",
   "execution_count": 11,
   "metadata": {},
   "outputs": [
    {
     "data": {
      "text/plain": [
       "[{'sim_threshold': 0.8,\n",
       "  'recognition_threshold': 0.8,\n",
       "  'recall_mean': recall@1      0.245826\n",
       "  recall@2      0.377747\n",
       "  recall@5      0.554167\n",
       "  recall@10     0.665003\n",
       "  recall@15     0.665003\n",
       "  recall@20     0.665003\n",
       "  recall@30     0.665003\n",
       "  recall@40     0.665003\n",
       "  recall@50     0.665003\n",
       "  recall@80     0.665003\n",
       "  recall@100    0.665003\n",
       "  dtype: float64},\n",
       " {'sim_threshold': 0.8,\n",
       "  'recognition_threshold': 0.7,\n",
       "  'recall_mean': recall@1      0.241910\n",
       "  recall@2      0.362830\n",
       "  recall@5      0.520083\n",
       "  recall@10     0.614168\n",
       "  recall@15     0.614168\n",
       "  recall@20     0.614168\n",
       "  recall@30     0.614168\n",
       "  recall@40     0.614168\n",
       "  recall@50     0.614168\n",
       "  recall@80     0.614168\n",
       "  recall@100    0.614168\n",
       "  dtype: float64},\n",
       " {'sim_threshold': 0.8,\n",
       "  'recognition_threshold': 0.6,\n",
       "  'recall_mean': recall@1      0.232910\n",
       "  recall@2      0.347412\n",
       "  recall@5      0.466581\n",
       "  recall@10     0.534082\n",
       "  recall@15     0.534082\n",
       "  recall@20     0.534082\n",
       "  recall@30     0.534082\n",
       "  recall@40     0.534082\n",
       "  recall@50     0.534082\n",
       "  recall@80     0.534082\n",
       "  recall@100    0.534082\n",
       "  dtype: float64},\n",
       " {'sim_threshold': 0.7,\n",
       "  'recognition_threshold': 0.8,\n",
       "  'recall_mean': recall@1      0.247910\n",
       "  recall@2      0.382247\n",
       "  recall@5      0.557584\n",
       "  recall@10     0.668670\n",
       "  recall@15     0.668670\n",
       "  recall@20     0.668670\n",
       "  recall@30     0.668670\n",
       "  recall@40     0.668670\n",
       "  recall@50     0.668670\n",
       "  recall@80     0.668670\n",
       "  recall@100    0.668670\n",
       "  dtype: float64},\n",
       " {'sim_threshold': 0.7,\n",
       "  'recognition_threshold': 0.7,\n",
       "  'recall_mean': recall@1      0.244910\n",
       "  recall@2      0.368163\n",
       "  recall@5      0.525166\n",
       "  recall@10     0.620085\n",
       "  recall@15     0.620085\n",
       "  recall@20     0.620085\n",
       "  recall@30     0.620085\n",
       "  recall@40     0.620085\n",
       "  recall@50     0.620085\n",
       "  recall@80     0.620085\n",
       "  recall@100    0.620085\n",
       "  dtype: float64},\n",
       " {'sim_threshold': 0.7,\n",
       "  'recognition_threshold': 0.6,\n",
       "  'recall_mean': recall@1      0.235993\n",
       "  recall@2      0.353829\n",
       "  recall@5      0.472331\n",
       "  recall@10     0.539666\n",
       "  recall@15     0.539666\n",
       "  recall@20     0.539666\n",
       "  recall@30     0.539666\n",
       "  recall@40     0.539666\n",
       "  recall@50     0.539666\n",
       "  recall@80     0.539666\n",
       "  recall@100    0.539666\n",
       "  dtype: float64},\n",
       " {'sim_threshold': 0.6,\n",
       "  'recognition_threshold': 0.8,\n",
       "  'recall_mean': recall@1      0.252326\n",
       "  recall@2      0.389414\n",
       "  recall@5      0.559584\n",
       "  recall@10     0.674253\n",
       "  recall@15     0.674253\n",
       "  recall@20     0.674253\n",
       "  recall@30     0.674253\n",
       "  recall@40     0.674253\n",
       "  recall@50     0.674253\n",
       "  recall@80     0.674253\n",
       "  recall@100    0.674253\n",
       "  dtype: float64},\n",
       " {'sim_threshold': 0.6,\n",
       "  'recognition_threshold': 0.7,\n",
       "  'recall_mean': recall@1      0.249576\n",
       "  recall@2      0.379080\n",
       "  recall@5      0.535249\n",
       "  recall@10     0.637835\n",
       "  recall@15     0.637835\n",
       "  recall@20     0.637835\n",
       "  recall@30     0.637835\n",
       "  recall@40     0.637835\n",
       "  recall@50     0.637835\n",
       "  recall@80     0.637835\n",
       "  recall@100    0.637835\n",
       "  dtype: float64},\n",
       " {'sim_threshold': 0.6,\n",
       "  'recognition_threshold': 0.6,\n",
       "  'recall_mean': recall@1      0.243743\n",
       "  recall@2      0.363829\n",
       "  recall@5      0.486914\n",
       "  recall@10     0.566333\n",
       "  recall@15     0.566333\n",
       "  recall@20     0.566333\n",
       "  recall@30     0.566333\n",
       "  recall@40     0.566333\n",
       "  recall@50     0.566333\n",
       "  recall@80     0.566333\n",
       "  recall@100    0.566333\n",
       "  dtype: float64}]"
      ]
     },
     "execution_count": 11,
     "metadata": {},
     "output_type": "execute_result"
    }
   ],
   "source": [
    "results"
   ]
  },
  {
   "cell_type": "code",
   "execution_count": 12,
   "metadata": {},
   "outputs": [
    {
     "name": "stdout",
     "output_type": "stream",
     "text": [
      "sim_threshold 0.8\n",
      "Removed: musique_facts_and_sim_graph_mean_0.6_thresh_ents_only_lower_preprocess_ner_grit-7b.v3.subset.p\n",
      "Removed: musique_facts_and_sim_graph_clean_facts_chatgpt_openIE.ents_only_lower_preprocess_ner.v3.subset.json\n",
      "Removed: musique_facts_and_sim_graph_relation_dict_ents_only_lower_preprocess_ner_grit-7b.v3.subset.p\n",
      "Removed: musique_facts_and_sim_graph_nodes_chatgpt_openIE.ents_only_lower_preprocess_ner.v3.subset.json\n",
      "Removed: query_to_kb.tsv\n",
      "Removed: rel_kb_to_kb.tsv\n",
      "Removed: musique_facts_and_sim_graph_fact_dict_ents_only_lower_preprocess_ner.v3.subset.p\n",
      "Removed: musique_facts_and_sim_graph_chatgpt_openIE.ents_only_lower_preprocess_ner.v3.subset.json\n",
      "Removed: musique_facts_and_sim_graph_passage_chatgpt_openIE.ents_only_lower_preprocess_ner.v3.subset.json\n",
      "Removed: musique_facts_and_sim_graph_fact_doc_edges_ents_only_lower_preprocess_ner.v3.subset.p\n",
      "Removed: kb_to_kb.tsv\n",
      "Removed: musique_similarity_edges_mean_0.6_thresh_ents_only_lower_preprocess_ner_grit-7b.v3.subset.p\n",
      "Removed: musique_facts_and_sim_graph_doc_to_facts_ents_only_lower_preprocess_ner.v3.subset.p\n",
      "Removed: musique_facts_and_sim_graph_phrase_dict_ents_only_lower_preprocess_ner.v3.subset.p\n",
      "Removed: musique_facts_and_sim_graph_doc_to_facts_csr_ents_only_lower_preprocess_ner.v3.subset.p\n",
      "Removed: musique_facts_and_sim_graph_facts_to_phrases_ents_only_lower_preprocess_ner.v3.subset.p\n",
      "Removed: musique_facts_and_sim_graph_facts_to_phrases_csr_ents_only_lower_preprocess_ner.v3.subset.p\n"
     ]
    },
    {
     "name": "stderr",
     "output_type": "stream",
     "text": [
      "100%|██████████| 11656/11656 [00:01<00:00, 10604.07it/s]\n",
      "100%|██████████| 1006/1006 [00:00<00:00, 71089.90it/s]\n"
     ]
    },
    {
     "name": "stdout",
     "output_type": "stream",
     "text": [
      "Correct Wiki Format: 0 out of 11656\n",
      "Creating Graph\n"
     ]
    },
    {
     "name": "stderr",
     "output_type": "stream",
     "text": [
      "100%|██████████| 11656/11656 [00:00<00:00, 12033.01it/s]\n"
     ]
    },
    {
     "name": "stdout",
     "output_type": "stream",
     "text": [
      "Loading Vectors\n",
      "Augmenting Graph from Similarity\n"
     ]
    },
    {
     "name": "stderr",
     "output_type": "stream",
     "text": [
      "100%|██████████| 91729/91729 [00:01<00:00, 49261.34it/s] \n"
     ]
    },
    {
     "name": "stdout",
     "output_type": "stream",
     "text": [
      "Saving Graph\n",
      "                                                         1\n",
      "0                                                         \n",
      "Total Phrases                                       327435\n",
      "Unique Phrases                                       91729\n",
      "Number of Individual Triples                        109145\n",
      "Number of Incorrectly Formatted Triples (ChatGP...    1136\n",
      "Number of Triples w/o NER Entities (ChatGPT Error)    6762\n",
      "Number of Unique Individual Triples                 107448\n",
      "Number of Entities                                  218290\n",
      "Number of Relations                                 105050\n",
      "Number of Unique Entities                            91729\n",
      "Number of Synonymy Edges                                37\n",
      "Number of Unique Relations                           21714\n",
      "recognition_threshold 0.925\n"
     ]
    },
    {
     "name": "stderr",
     "output_type": "stream",
     "text": [
      "Loading checkpoint shards: 100%|██████████| 3/3 [00:03<00:00,  1.07s/it]\n"
     ]
    },
    {
     "name": "stdout",
     "output_type": "stream",
     "text": [
      "Created GritLM: torch.bfloat16 dtype, mean pool, embedding mode, bbcc attn\n"
     ]
    },
    {
     "name": "stderr",
     "output_type": "stream",
     "text": [
      "Building Graph: 100%|██████████| 206897/206897 [00:00<00:00, 614302.51it/s]\n",
      "2024-07-10 07:26:51,727 - hipporag - INFO - Graph built: num vertices: 91729, num_edges: 206786\n",
      "2024-07-10 07:26:51,740 - hipporag - INFO - Loading node vectors from: data/lm_vectors/grit-7b_mean/encoded_strings.txt\n",
      "2024-07-10 07:26:54,021 - hipporag - INFO - 1 phrases did not have vectors.\n",
      "2024-07-10 07:26:54,156 - hipporag - INFO - Loaded doc embeddings from data/lm_vectors/grit-7b_mean/musique_doc_embeddings.p, shape: (11656, 4096)\n"
     ]
    },
    {
     "name": "stdout",
     "output_type": "stream",
     "text": [
      "[Errno 2] No such file or directory: 'output/ircot/ircot_results_musique_hipporag_grit-7b_demo_1_gpt-3_5-turbo-1106_doc_ensemble_0.925_step_1_top_10_sim_thresh_0.8_damping_0.5.json'\n",
      "Results file maybe empty, cannot be loaded.\n",
      "Loaded 0 results from output/ircot/ircot_results_musique_hipporag_grit-7b_demo_1_gpt-3_5-turbo-1106_doc_ensemble_0.925_step_1_top_10_sim_thresh_0.8_damping_0.5.json\n"
     ]
    },
    {
     "name": "stderr",
     "output_type": "stream",
     "text": [
      "IRCoT retrieval: 100%|██████████| 1000/1000 [02:41<00:00,  6.20it/s]\n"
     ]
    },
    {
     "name": "stdout",
     "output_type": "stream",
     "text": [
      "Saved 1000 results to output/ircot/ircot_results_musique_hipporag_grit-7b_demo_1_gpt-3_5-turbo-1106_doc_ensemble_0.925_step_1_top_10_sim_thresh_0.8_damping_0.5.json\n",
      "recognition_threshold 0.95\n"
     ]
    },
    {
     "name": "stderr",
     "output_type": "stream",
     "text": [
      "Loading checkpoint shards: 100%|██████████| 3/3 [00:03<00:00,  1.06s/it]\n"
     ]
    },
    {
     "name": "stdout",
     "output_type": "stream",
     "text": [
      "Created GritLM: torch.bfloat16 dtype, mean pool, embedding mode, bbcc attn\n"
     ]
    },
    {
     "name": "stderr",
     "output_type": "stream",
     "text": [
      "Building Graph: 100%|██████████| 206897/206897 [00:00<00:00, 640222.00it/s]\n",
      "2024-07-10 07:29:48,336 - hipporag - INFO - Graph built: num vertices: 91729, num_edges: 206786\n",
      "2024-07-10 07:29:48,348 - hipporag - INFO - Loading node vectors from: data/lm_vectors/grit-7b_mean/encoded_strings.txt\n",
      "2024-07-10 07:29:50,579 - hipporag - INFO - 1 phrases did not have vectors.\n",
      "2024-07-10 07:29:50,714 - hipporag - INFO - Loaded doc embeddings from data/lm_vectors/grit-7b_mean/musique_doc_embeddings.p, shape: (11656, 4096)\n"
     ]
    },
    {
     "name": "stdout",
     "output_type": "stream",
     "text": [
      "[Errno 2] No such file or directory: 'output/ircot/ircot_results_musique_hipporag_grit-7b_demo_1_gpt-3_5-turbo-1106_doc_ensemble_0.95_step_1_top_10_sim_thresh_0.8_damping_0.5.json'\n",
      "Results file maybe empty, cannot be loaded.\n",
      "Loaded 0 results from output/ircot/ircot_results_musique_hipporag_grit-7b_demo_1_gpt-3_5-turbo-1106_doc_ensemble_0.95_step_1_top_10_sim_thresh_0.8_damping_0.5.json\n"
     ]
    },
    {
     "name": "stderr",
     "output_type": "stream",
     "text": [
      "IRCoT retrieval: 100%|██████████| 1000/1000 [02:39<00:00,  6.26it/s]\n"
     ]
    },
    {
     "name": "stdout",
     "output_type": "stream",
     "text": [
      "Saved 1000 results to output/ircot/ircot_results_musique_hipporag_grit-7b_demo_1_gpt-3_5-turbo-1106_doc_ensemble_0.95_step_1_top_10_sim_thresh_0.8_damping_0.5.json\n",
      "sim_threshold 0.7\n",
      "Removed: musique_facts_and_sim_graph_clean_facts_chatgpt_openIE.ents_only_lower_preprocess_ner.v3.subset.json\n",
      "Removed: musique_facts_and_sim_graph_relation_dict_ents_only_lower_preprocess_ner_grit-7b.v3.subset.p\n",
      "Removed: musique_facts_and_sim_graph_nodes_chatgpt_openIE.ents_only_lower_preprocess_ner.v3.subset.json\n",
      "Removed: query_to_kb.tsv\n",
      "Removed: rel_kb_to_kb.tsv\n",
      "Removed: musique_facts_and_sim_graph_fact_dict_ents_only_lower_preprocess_ner.v3.subset.p\n",
      "Removed: musique_facts_and_sim_graph_chatgpt_openIE.ents_only_lower_preprocess_ner.v3.subset.json\n",
      "Removed: musique_facts_and_sim_graph_passage_chatgpt_openIE.ents_only_lower_preprocess_ner.v3.subset.json\n",
      "Removed: musique_facts_and_sim_graph_fact_doc_edges_ents_only_lower_preprocess_ner.v3.subset.p\n",
      "Removed: kb_to_kb.tsv\n",
      "Removed: musique_facts_and_sim_graph_doc_to_facts_ents_only_lower_preprocess_ner.v3.subset.p\n",
      "Removed: musique_similarity_edges_mean_0.8_thresh_ents_only_lower_preprocess_ner_grit-7b.v3.subset.p\n",
      "Removed: musique_facts_and_sim_graph_phrase_dict_ents_only_lower_preprocess_ner.v3.subset.p\n",
      "Removed: musique_facts_and_sim_graph_doc_to_facts_csr_ents_only_lower_preprocess_ner.v3.subset.p\n",
      "Removed: musique_facts_and_sim_graph_facts_to_phrases_ents_only_lower_preprocess_ner.v3.subset.p\n",
      "Removed: musique_facts_and_sim_graph_facts_to_phrases_csr_ents_only_lower_preprocess_ner.v3.subset.p\n",
      "Removed: musique_facts_and_sim_graph_mean_0.8_thresh_ents_only_lower_preprocess_ner_grit-7b.v3.subset.p\n"
     ]
    },
    {
     "name": "stderr",
     "output_type": "stream",
     "text": [
      "100%|██████████| 11656/11656 [00:01<00:00, 10537.24it/s]\n",
      "100%|██████████| 1006/1006 [00:00<00:00, 70432.49it/s]\n"
     ]
    },
    {
     "name": "stdout",
     "output_type": "stream",
     "text": [
      "Correct Wiki Format: 0 out of 11656\n",
      "Creating Graph\n"
     ]
    },
    {
     "name": "stderr",
     "output_type": "stream",
     "text": [
      "100%|██████████| 11656/11656 [00:00<00:00, 12043.16it/s]\n"
     ]
    },
    {
     "name": "stdout",
     "output_type": "stream",
     "text": [
      "Loading Vectors\n",
      "Augmenting Graph from Similarity\n"
     ]
    },
    {
     "name": "stderr",
     "output_type": "stream",
     "text": [
      "100%|██████████| 91729/91729 [00:02<00:00, 44366.54it/s] \n"
     ]
    },
    {
     "name": "stdout",
     "output_type": "stream",
     "text": [
      "Saving Graph\n",
      "                                                         1\n",
      "0                                                         \n",
      "Total Phrases                                       327435\n",
      "Unique Phrases                                       91729\n",
      "Number of Individual Triples                        109145\n",
      "Number of Incorrectly Formatted Triples (ChatGP...    1136\n",
      "Number of Triples w/o NER Entities (ChatGPT Error)    6762\n",
      "Number of Unique Individual Triples                 107448\n",
      "Number of Entities                                  218290\n",
      "Number of Relations                                 109932\n",
      "Number of Unique Entities                            91729\n",
      "Number of Synonymy Edges                              5060\n",
      "Number of Unique Relations                           21714\n",
      "recognition_threshold 0.9\n"
     ]
    },
    {
     "name": "stderr",
     "output_type": "stream",
     "text": [
      "Loading checkpoint shards: 100%|██████████| 3/3 [00:03<00:00,  1.06s/it]\n"
     ]
    },
    {
     "name": "stdout",
     "output_type": "stream",
     "text": [
      "Created GritLM: torch.bfloat16 dtype, mean pool, embedding mode, bbcc attn\n"
     ]
    },
    {
     "name": "stderr",
     "output_type": "stream",
     "text": [
      "Building Graph: 100%|██████████| 211654/211654 [00:00<00:00, 643512.24it/s]\n",
      "2024-07-10 07:33:03,468 - hipporag - INFO - Graph built: num vertices: 91729, num_edges: 211543\n",
      "2024-07-10 07:33:03,482 - hipporag - INFO - Loading node vectors from: data/lm_vectors/grit-7b_mean/encoded_strings.txt\n",
      "2024-07-10 07:33:05,708 - hipporag - INFO - 1 phrases did not have vectors.\n",
      "2024-07-10 07:33:05,842 - hipporag - INFO - Loaded doc embeddings from data/lm_vectors/grit-7b_mean/musique_doc_embeddings.p, shape: (11656, 4096)\n"
     ]
    },
    {
     "name": "stdout",
     "output_type": "stream",
     "text": [
      "Loaded 1000 results from output/ircot/ircot_results_musique_hipporag_grit-7b_demo_1_gpt-3_5-turbo-1106_doc_ensemble_0.9_step_1_top_10_sim_thresh_0.7_damping_0.5.json\n",
      "R@1: 0.2497 R@2: 0.3853 R@5: 0.5663 R@10: 0.6771 R@15: 0.6771 R@20: 0.6771 R@30: 0.6771 R@40: 0.6771 R@50: 0.6771 R@80: 0.6771 R@100: 0.6771 \n"
     ]
    },
    {
     "name": "stderr",
     "output_type": "stream",
     "text": [
      "IRCoT retrieval: 100%|██████████| 1000/1000 [00:00<00:00, 1152914.79it/s]\n"
     ]
    },
    {
     "name": "stdout",
     "output_type": "stream",
     "text": [
      "Saved 1000 results to output/ircot/ircot_results_musique_hipporag_grit-7b_demo_1_gpt-3_5-turbo-1106_doc_ensemble_0.9_step_1_top_10_sim_thresh_0.7_damping_0.5.json\n",
      "recognition_threshold 0.925\n"
     ]
    },
    {
     "name": "stderr",
     "output_type": "stream",
     "text": [
      "Loading checkpoint shards: 100%|██████████| 3/3 [00:03<00:00,  1.06s/it]\n"
     ]
    },
    {
     "name": "stdout",
     "output_type": "stream",
     "text": [
      "Created GritLM: torch.bfloat16 dtype, mean pool, embedding mode, bbcc attn\n"
     ]
    },
    {
     "name": "stderr",
     "output_type": "stream",
     "text": [
      "Building Graph: 100%|██████████| 211654/211654 [00:00<00:00, 614190.57it/s]\n",
      "2024-07-10 07:33:18,032 - hipporag - INFO - Graph built: num vertices: 91729, num_edges: 211543\n",
      "2024-07-10 07:33:18,046 - hipporag - INFO - Loading node vectors from: data/lm_vectors/grit-7b_mean/encoded_strings.txt\n",
      "2024-07-10 07:33:20,325 - hipporag - INFO - 1 phrases did not have vectors.\n",
      "2024-07-10 07:33:20,463 - hipporag - INFO - Loaded doc embeddings from data/lm_vectors/grit-7b_mean/musique_doc_embeddings.p, shape: (11656, 4096)\n"
     ]
    },
    {
     "name": "stdout",
     "output_type": "stream",
     "text": [
      "[Errno 2] No such file or directory: 'output/ircot/ircot_results_musique_hipporag_grit-7b_demo_1_gpt-3_5-turbo-1106_doc_ensemble_0.925_step_1_top_10_sim_thresh_0.7_damping_0.5.json'\n",
      "Results file maybe empty, cannot be loaded.\n",
      "Loaded 0 results from output/ircot/ircot_results_musique_hipporag_grit-7b_demo_1_gpt-3_5-turbo-1106_doc_ensemble_0.925_step_1_top_10_sim_thresh_0.7_damping_0.5.json\n"
     ]
    },
    {
     "name": "stderr",
     "output_type": "stream",
     "text": [
      "IRCoT retrieval: 100%|██████████| 1000/1000 [02:42<00:00,  6.14it/s]\n"
     ]
    },
    {
     "name": "stdout",
     "output_type": "stream",
     "text": [
      "Saved 1000 results to output/ircot/ircot_results_musique_hipporag_grit-7b_demo_1_gpt-3_5-turbo-1106_doc_ensemble_0.925_step_1_top_10_sim_thresh_0.7_damping_0.5.json\n",
      "recognition_threshold 0.95\n"
     ]
    },
    {
     "name": "stderr",
     "output_type": "stream",
     "text": [
      "Loading checkpoint shards: 100%|██████████| 3/3 [00:03<00:00,  1.05s/it]\n"
     ]
    },
    {
     "name": "stdout",
     "output_type": "stream",
     "text": [
      "Created GritLM: torch.bfloat16 dtype, mean pool, embedding mode, bbcc attn\n"
     ]
    },
    {
     "name": "stderr",
     "output_type": "stream",
     "text": [
      "Building Graph: 100%|██████████| 211654/211654 [00:00<00:00, 621230.74it/s]\n",
      "2024-07-10 07:36:15,987 - hipporag - INFO - Graph built: num vertices: 91729, num_edges: 211543\n",
      "2024-07-10 07:36:16,000 - hipporag - INFO - Loading node vectors from: data/lm_vectors/grit-7b_mean/encoded_strings.txt\n",
      "2024-07-10 07:36:18,252 - hipporag - INFO - 1 phrases did not have vectors.\n",
      "2024-07-10 07:36:18,391 - hipporag - INFO - Loaded doc embeddings from data/lm_vectors/grit-7b_mean/musique_doc_embeddings.p, shape: (11656, 4096)\n"
     ]
    },
    {
     "name": "stdout",
     "output_type": "stream",
     "text": [
      "[Errno 2] No such file or directory: 'output/ircot/ircot_results_musique_hipporag_grit-7b_demo_1_gpt-3_5-turbo-1106_doc_ensemble_0.95_step_1_top_10_sim_thresh_0.7_damping_0.5.json'\n",
      "Results file maybe empty, cannot be loaded.\n",
      "Loaded 0 results from output/ircot/ircot_results_musique_hipporag_grit-7b_demo_1_gpt-3_5-turbo-1106_doc_ensemble_0.95_step_1_top_10_sim_thresh_0.7_damping_0.5.json\n"
     ]
    },
    {
     "name": "stderr",
     "output_type": "stream",
     "text": [
      "IRCoT retrieval: 100%|██████████| 1000/1000 [02:43<00:00,  6.13it/s]\n"
     ]
    },
    {
     "name": "stdout",
     "output_type": "stream",
     "text": [
      "Saved 1000 results to output/ircot/ircot_results_musique_hipporag_grit-7b_demo_1_gpt-3_5-turbo-1106_doc_ensemble_0.95_step_1_top_10_sim_thresh_0.7_damping_0.5.json\n",
      "sim_threshold 0.6\n",
      "Removed: musique_facts_and_sim_graph_clean_facts_chatgpt_openIE.ents_only_lower_preprocess_ner.v3.subset.json\n",
      "Removed: musique_facts_and_sim_graph_relation_dict_ents_only_lower_preprocess_ner_grit-7b.v3.subset.p\n",
      "Removed: musique_facts_and_sim_graph_nodes_chatgpt_openIE.ents_only_lower_preprocess_ner.v3.subset.json\n",
      "Removed: query_to_kb.tsv\n",
      "Removed: rel_kb_to_kb.tsv\n",
      "Removed: musique_similarity_edges_mean_0.7_thresh_ents_only_lower_preprocess_ner_grit-7b.v3.subset.p\n",
      "Removed: musique_facts_and_sim_graph_fact_dict_ents_only_lower_preprocess_ner.v3.subset.p\n",
      "Removed: musique_facts_and_sim_graph_chatgpt_openIE.ents_only_lower_preprocess_ner.v3.subset.json\n",
      "Removed: musique_facts_and_sim_graph_mean_0.7_thresh_ents_only_lower_preprocess_ner_grit-7b.v3.subset.p\n",
      "Removed: musique_facts_and_sim_graph_passage_chatgpt_openIE.ents_only_lower_preprocess_ner.v3.subset.json\n",
      "Removed: musique_facts_and_sim_graph_fact_doc_edges_ents_only_lower_preprocess_ner.v3.subset.p\n",
      "Removed: kb_to_kb.tsv\n",
      "Removed: musique_facts_and_sim_graph_doc_to_facts_ents_only_lower_preprocess_ner.v3.subset.p\n",
      "Removed: musique_facts_and_sim_graph_phrase_dict_ents_only_lower_preprocess_ner.v3.subset.p\n",
      "Removed: musique_facts_and_sim_graph_doc_to_facts_csr_ents_only_lower_preprocess_ner.v3.subset.p\n",
      "Removed: musique_facts_and_sim_graph_facts_to_phrases_ents_only_lower_preprocess_ner.v3.subset.p\n",
      "Removed: musique_facts_and_sim_graph_facts_to_phrases_csr_ents_only_lower_preprocess_ner.v3.subset.p\n"
     ]
    },
    {
     "name": "stderr",
     "output_type": "stream",
     "text": [
      "100%|██████████| 11656/11656 [00:01<00:00, 10161.60it/s]\n",
      "100%|██████████| 1006/1006 [00:00<00:00, 71048.00it/s]\n"
     ]
    },
    {
     "name": "stdout",
     "output_type": "stream",
     "text": [
      "Correct Wiki Format: 0 out of 11656\n",
      "Creating Graph\n"
     ]
    },
    {
     "name": "stderr",
     "output_type": "stream",
     "text": [
      "100%|██████████| 11656/11656 [00:01<00:00, 10709.37it/s]\n"
     ]
    },
    {
     "name": "stdout",
     "output_type": "stream",
     "text": [
      "Loading Vectors\n",
      "Augmenting Graph from Similarity\n"
     ]
    },
    {
     "name": "stderr",
     "output_type": "stream",
     "text": [
      "100%|██████████| 91729/91729 [00:02<00:00, 34190.80it/s]\n"
     ]
    },
    {
     "name": "stdout",
     "output_type": "stream",
     "text": [
      "Saving Graph\n",
      "                                                         1\n",
      "0                                                         \n",
      "Total Phrases                                       327435\n",
      "Unique Phrases                                       91729\n",
      "Number of Individual Triples                        109145\n",
      "Number of Incorrectly Formatted Triples (ChatGP...    1136\n",
      "Number of Triples w/o NER Entities (ChatGPT Error)    6762\n",
      "Number of Unique Individual Triples                 107448\n",
      "Number of Entities                                  218290\n",
      "Number of Relations                                 170668\n",
      "Number of Unique Entities                            91729\n",
      "Number of Synonymy Edges                             67061\n",
      "Number of Unique Relations                           21714\n",
      "recognition_threshold 0.9\n"
     ]
    },
    {
     "name": "stderr",
     "output_type": "stream",
     "text": [
      "Loading checkpoint shards: 100%|██████████| 3/3 [00:03<00:00,  1.06s/it]\n"
     ]
    },
    {
     "name": "stdout",
     "output_type": "stream",
     "text": [
      "Created GritLM: torch.bfloat16 dtype, mean pool, embedding mode, bbcc attn\n"
     ]
    },
    {
     "name": "stderr",
     "output_type": "stream",
     "text": [
      "Building Graph: 100%|██████████| 271371/271371 [00:00<00:00, 591643.41it/s]\n",
      "2024-07-10 07:39:37,108 - hipporag - INFO - Graph built: num vertices: 91729, num_edges: 271260\n",
      "2024-07-10 07:39:37,127 - hipporag - INFO - Loading node vectors from: data/lm_vectors/grit-7b_mean/encoded_strings.txt\n",
      "2024-07-10 07:39:39,352 - hipporag - INFO - 1 phrases did not have vectors.\n",
      "2024-07-10 07:39:39,485 - hipporag - INFO - Loaded doc embeddings from data/lm_vectors/grit-7b_mean/musique_doc_embeddings.p, shape: (11656, 4096)\n"
     ]
    },
    {
     "name": "stdout",
     "output_type": "stream",
     "text": [
      "Loaded 1000 results from output/ircot/ircot_results_musique_hipporag_grit-7b_demo_1_gpt-3_5-turbo-1106_doc_ensemble_0.9_step_1_top_10_sim_thresh_0.6_damping_0.5.json\n",
      "R@1: 0.2538 R@2: 0.3920 R@5: 0.5673 R@10: 0.6783 R@15: 0.6783 R@20: 0.6783 R@30: 0.6783 R@40: 0.6783 R@50: 0.6783 R@80: 0.6783 R@100: 0.6783 \n"
     ]
    },
    {
     "name": "stderr",
     "output_type": "stream",
     "text": [
      "IRCoT retrieval: 100%|██████████| 1000/1000 [00:00<00:00, 1067796.33it/s]\n"
     ]
    },
    {
     "name": "stdout",
     "output_type": "stream",
     "text": [
      "Saved 1000 results to output/ircot/ircot_results_musique_hipporag_grit-7b_demo_1_gpt-3_5-turbo-1106_doc_ensemble_0.9_step_1_top_10_sim_thresh_0.6_damping_0.5.json\n",
      "recognition_threshold 0.925\n"
     ]
    },
    {
     "name": "stderr",
     "output_type": "stream",
     "text": [
      "Loading checkpoint shards: 100%|██████████| 3/3 [00:03<00:00,  1.06s/it]\n"
     ]
    },
    {
     "name": "stdout",
     "output_type": "stream",
     "text": [
      "Created GritLM: torch.bfloat16 dtype, mean pool, embedding mode, bbcc attn\n"
     ]
    },
    {
     "name": "stderr",
     "output_type": "stream",
     "text": [
      "Building Graph: 100%|██████████| 271371/271371 [00:00<00:00, 605498.83it/s]\n",
      "2024-07-10 07:39:52,317 - hipporag - INFO - Graph built: num vertices: 91729, num_edges: 271260\n",
      "2024-07-10 07:39:52,335 - hipporag - INFO - Loading node vectors from: data/lm_vectors/grit-7b_mean/encoded_strings.txt\n",
      "2024-07-10 07:39:54,620 - hipporag - INFO - 1 phrases did not have vectors.\n",
      "2024-07-10 07:39:54,751 - hipporag - INFO - Loaded doc embeddings from data/lm_vectors/grit-7b_mean/musique_doc_embeddings.p, shape: (11656, 4096)\n"
     ]
    },
    {
     "name": "stdout",
     "output_type": "stream",
     "text": [
      "[Errno 2] No such file or directory: 'output/ircot/ircot_results_musique_hipporag_grit-7b_demo_1_gpt-3_5-turbo-1106_doc_ensemble_0.925_step_1_top_10_sim_thresh_0.6_damping_0.5.json'\n",
      "Results file maybe empty, cannot be loaded.\n",
      "Loaded 0 results from output/ircot/ircot_results_musique_hipporag_grit-7b_demo_1_gpt-3_5-turbo-1106_doc_ensemble_0.925_step_1_top_10_sim_thresh_0.6_damping_0.5.json\n"
     ]
    },
    {
     "name": "stderr",
     "output_type": "stream",
     "text": [
      "IRCoT retrieval: 100%|██████████| 1000/1000 [02:54<00:00,  5.74it/s]\n"
     ]
    },
    {
     "name": "stdout",
     "output_type": "stream",
     "text": [
      "Saved 1000 results to output/ircot/ircot_results_musique_hipporag_grit-7b_demo_1_gpt-3_5-turbo-1106_doc_ensemble_0.925_step_1_top_10_sim_thresh_0.6_damping_0.5.json\n",
      "recognition_threshold 0.95\n"
     ]
    },
    {
     "name": "stderr",
     "output_type": "stream",
     "text": [
      "Loading checkpoint shards: 100%|██████████| 3/3 [00:03<00:00,  1.06s/it]\n"
     ]
    },
    {
     "name": "stdout",
     "output_type": "stream",
     "text": [
      "Created GritLM: torch.bfloat16 dtype, mean pool, embedding mode, bbcc attn\n"
     ]
    },
    {
     "name": "stderr",
     "output_type": "stream",
     "text": [
      "Building Graph: 100%|██████████| 271371/271371 [00:00<00:00, 614538.12it/s]\n",
      "2024-07-10 07:43:01,514 - hipporag - INFO - Graph built: num vertices: 91729, num_edges: 271260\n",
      "2024-07-10 07:43:01,533 - hipporag - INFO - Loading node vectors from: data/lm_vectors/grit-7b_mean/encoded_strings.txt\n",
      "2024-07-10 07:43:03,853 - hipporag - INFO - 1 phrases did not have vectors.\n",
      "2024-07-10 07:43:03,991 - hipporag - INFO - Loaded doc embeddings from data/lm_vectors/grit-7b_mean/musique_doc_embeddings.p, shape: (11656, 4096)\n"
     ]
    },
    {
     "name": "stdout",
     "output_type": "stream",
     "text": [
      "[Errno 2] No such file or directory: 'output/ircot/ircot_results_musique_hipporag_grit-7b_demo_1_gpt-3_5-turbo-1106_doc_ensemble_0.95_step_1_top_10_sim_thresh_0.6_damping_0.5.json'\n",
      "Results file maybe empty, cannot be loaded.\n",
      "Loaded 0 results from output/ircot/ircot_results_musique_hipporag_grit-7b_demo_1_gpt-3_5-turbo-1106_doc_ensemble_0.95_step_1_top_10_sim_thresh_0.6_damping_0.5.json\n"
     ]
    },
    {
     "name": "stderr",
     "output_type": "stream",
     "text": [
      "IRCoT retrieval: 100%|██████████| 1000/1000 [03:10<00:00,  5.24it/s]\n"
     ]
    },
    {
     "name": "stdout",
     "output_type": "stream",
     "text": [
      "Saved 1000 results to output/ircot/ircot_results_musique_hipporag_grit-7b_demo_1_gpt-3_5-turbo-1106_doc_ensemble_0.95_step_1_top_10_sim_thresh_0.6_damping_0.5.json\n"
     ]
    }
   ],
   "source": [
    "import subprocess\n",
    "\n",
    "\n",
    "def calculate_recall_mean(output_path):\n",
    "    result = pd.read_json(output_path)\n",
    "    def recall_dict_to_columns(recall_dict):\n",
    "        return pd.Series({f'recall@{k}': v for k, v in recall_dict.items()})\n",
    "    recall_df = result['recall'].apply(recall_dict_to_columns)\n",
    "    return recall_df.mean()\n",
    "\n",
    "# Store results\n",
    "results2 = []\n",
    "\n",
    "# Export environment variables\n",
    "os.environ['OPENAI_API_KEY'] = 'aegsdvfhuijoak'\n",
    "os.environ['CUDA_VISIBLE_DEVICES'] = '6,7'\n",
    "\n",
    "experiments2 = {\n",
    "    0.8: [0.925, 0.95],\n",
    "    0.7: [0.9, 0.925, 0.95],\n",
    "    0.6: [0.9, 0.925, 0.95],\n",
    "}\n",
    "\n",
    "# Run experiments\n",
    "for sim_threshold, recognition_threshold_list in experiments2.items():\n",
    "    print(\"sim_threshold\", sim_threshold)\n",
    "    remove_new_files()\n",
    "    create_graph_command = [\n",
    "        'python3', 'src/create_graph.py',\n",
    "        '--dataset', 'musique',\n",
    "        '--model_name', 'grit-7b',\n",
    "        '--extraction_model', 'gpt-3.5-turbo-1106',\n",
    "        '--threshold', str(sim_threshold),\n",
    "        '--extraction_type', 'ner',\n",
    "        '--create_graph', '--cosine_sim_edges'\n",
    "    ]\n",
    "    subprocess.run(create_graph_command, check=True)\n",
    "    for recognition_threshold in recognition_threshold_list:\n",
    "        print(\"recognition_threshold\", recognition_threshold)\n",
    "        ircot_hipporag_command = [\n",
    "            'python3', 'src/ircot_hipporag.py',\n",
    "            '--dataset', 'musique',\n",
    "            '--retriever', 'grit-7b',\n",
    "            '--max_steps', '1',\n",
    "            '--doc_ensemble', 't',\n",
    "            '--top_k', '10',\n",
    "            '--sim_threshold', str(sim_threshold),\n",
    "            '--damping', '0.5',\n",
    "            '--recognition_threshold', str(recognition_threshold)\n",
    "        ]\n",
    "        subprocess.run(ircot_hipporag_command, check=True)\n",
    "        \n",
    "        # Define output path\n",
    "        output_path = f\"output/ircot/ircot_results_musique_hipporag_grit-7b_demo_1_gpt-3_5-turbo-1106_doc_ensemble_{recognition_threshold}_step_1_top_10_sim_thresh_{sim_threshold}_damping_0.5.json\"\n",
    "        \n",
    "        # Calculate recall mean\n",
    "        recall_mean = calculate_recall_mean(output_path)\n",
    "        \n",
    "        # Store the result\n",
    "        results2.append({\n",
    "            'sim_threshold': sim_threshold,\n",
    "            'recognition_threshold': recognition_threshold,\n",
    "            'recall_mean': recall_mean\n",
    "        })"
   ]
  },
  {
   "cell_type": "code",
   "execution_count": 13,
   "metadata": {},
   "outputs": [
    {
     "data": {
      "text/plain": [
       "[{'sim_threshold': 0.8,\n",
       "  'recognition_threshold': 0.925,\n",
       "  'recall_mean': recall@1      0.247577\n",
       "  recall@2      0.380496\n",
       "  recall@5      0.563501\n",
       "  recall@10     0.674087\n",
       "  recall@15     0.674087\n",
       "  recall@20     0.674087\n",
       "  recall@30     0.674087\n",
       "  recall@40     0.674087\n",
       "  recall@50     0.674087\n",
       "  recall@80     0.674087\n",
       "  recall@100    0.674087\n",
       "  dtype: float64},\n",
       " {'sim_threshold': 0.8,\n",
       "  'recognition_threshold': 0.95,\n",
       "  'recall_mean': recall@1      0.247577\n",
       "  recall@2      0.380496\n",
       "  recall@5      0.563501\n",
       "  recall@10     0.674087\n",
       "  recall@15     0.674087\n",
       "  recall@20     0.674087\n",
       "  recall@30     0.674087\n",
       "  recall@40     0.674087\n",
       "  recall@50     0.674087\n",
       "  recall@80     0.674087\n",
       "  recall@100    0.674087\n",
       "  dtype: float64},\n",
       " {'sim_threshold': 0.7,\n",
       "  'recognition_threshold': 0.9,\n",
       "  'recall_mean': recall@1      0.249660\n",
       "  recall@2      0.385330\n",
       "  recall@5      0.566251\n",
       "  recall@10     0.677087\n",
       "  recall@15     0.677087\n",
       "  recall@20     0.677087\n",
       "  recall@30     0.677087\n",
       "  recall@40     0.677087\n",
       "  recall@50     0.677087\n",
       "  recall@80     0.677087\n",
       "  recall@100    0.677087\n",
       "  dtype: float64},\n",
       " {'sim_threshold': 0.7,\n",
       "  'recognition_threshold': 0.925,\n",
       "  'recall_mean': recall@1      0.249660\n",
       "  recall@2      0.384496\n",
       "  recall@5      0.565251\n",
       "  recall@10     0.676087\n",
       "  recall@15     0.676087\n",
       "  recall@20     0.676087\n",
       "  recall@30     0.676087\n",
       "  recall@40     0.676087\n",
       "  recall@50     0.676087\n",
       "  recall@80     0.676087\n",
       "  recall@100    0.676087\n",
       "  dtype: float64},\n",
       " {'sim_threshold': 0.7,\n",
       "  'recognition_threshold': 0.95,\n",
       "  'recall_mean': recall@1      0.249660\n",
       "  recall@2      0.384496\n",
       "  recall@5      0.565251\n",
       "  recall@10     0.676087\n",
       "  recall@15     0.676087\n",
       "  recall@20     0.676087\n",
       "  recall@30     0.676087\n",
       "  recall@40     0.676087\n",
       "  recall@50     0.676087\n",
       "  recall@80     0.676087\n",
       "  recall@100    0.676087\n",
       "  dtype: float64},\n",
       " {'sim_threshold': 0.6,\n",
       "  'recognition_threshold': 0.9,\n",
       "  'recall_mean': recall@1      0.253826\n",
       "  recall@2      0.391997\n",
       "  recall@5      0.567335\n",
       "  recall@10     0.678337\n",
       "  recall@15     0.678337\n",
       "  recall@20     0.678337\n",
       "  recall@30     0.678337\n",
       "  recall@40     0.678337\n",
       "  recall@50     0.678337\n",
       "  recall@80     0.678337\n",
       "  recall@100    0.678337\n",
       "  dtype: float64},\n",
       " {'sim_threshold': 0.6,\n",
       "  'recognition_threshold': 0.925,\n",
       "  'recall_mean': recall@1      0.253826\n",
       "  recall@2      0.391163\n",
       "  recall@5      0.566335\n",
       "  recall@10     0.677337\n",
       "  recall@15     0.677337\n",
       "  recall@20     0.677337\n",
       "  recall@30     0.677337\n",
       "  recall@40     0.677337\n",
       "  recall@50     0.677337\n",
       "  recall@80     0.677337\n",
       "  recall@100    0.677337\n",
       "  dtype: float64},\n",
       " {'sim_threshold': 0.6,\n",
       "  'recognition_threshold': 0.95,\n",
       "  'recall_mean': recall@1      0.253826\n",
       "  recall@2      0.391163\n",
       "  recall@5      0.566335\n",
       "  recall@10     0.677337\n",
       "  recall@15     0.677337\n",
       "  recall@20     0.677337\n",
       "  recall@30     0.677337\n",
       "  recall@40     0.677337\n",
       "  recall@50     0.677337\n",
       "  recall@80     0.677337\n",
       "  recall@100    0.677337\n",
       "  dtype: float64}]"
      ]
     },
     "execution_count": 13,
     "metadata": {},
     "output_type": "execute_result"
    }
   ],
   "source": [
    "results2"
   ]
  },
  {
   "cell_type": "code",
   "execution_count": 10,
   "metadata": {},
   "outputs": [
    {
     "name": "stdout",
     "output_type": "stream",
     "text": [
      "sim_threshold 0.8\n"
     ]
    },
    {
     "name": "stderr",
     "output_type": "stream",
     "text": [
      "100%|██████████| 11656/11656 [00:01<00:00, 10857.98it/s]\n",
      "100%|██████████| 1006/1006 [00:00<00:00, 70597.47it/s]\n"
     ]
    },
    {
     "name": "stdout",
     "output_type": "stream",
     "text": [
      "Correct Wiki Format: 0 out of 11656\n",
      "Creating Graph\n"
     ]
    },
    {
     "name": "stderr",
     "output_type": "stream",
     "text": [
      "100%|██████████| 11656/11656 [00:01<00:00, 11645.64it/s]\n"
     ]
    },
    {
     "name": "stdout",
     "output_type": "stream",
     "text": [
      "Loading Vectors\n",
      "Augmenting Graph from Similarity\n"
     ]
    },
    {
     "name": "stderr",
     "output_type": "stream",
     "text": [
      "100%|██████████| 91729/91729 [00:01<00:00, 49763.01it/s] \n"
     ]
    },
    {
     "name": "stdout",
     "output_type": "stream",
     "text": [
      "Saving Graph\n",
      "                                                         1\n",
      "0                                                         \n",
      "Total Phrases                                       327435\n",
      "Unique Phrases                                       91729\n",
      "Number of Individual Triples                        109145\n",
      "Number of Incorrectly Formatted Triples (ChatGP...    1136\n",
      "Number of Triples w/o NER Entities (ChatGPT Error)    6762\n",
      "Number of Unique Individual Triples                 107448\n",
      "Number of Entities                                  218290\n",
      "Number of Relations                                 105050\n",
      "Number of Unique Entities                            91729\n",
      "Number of Synonymy Edges                                37\n",
      "Number of Unique Relations                           21714\n"
     ]
    },
    {
     "name": "stderr",
     "output_type": "stream",
     "text": [
      "Loading checkpoint shards: 100%|██████████| 3/3 [00:02<00:00,  1.08it/s]\n"
     ]
    },
    {
     "name": "stdout",
     "output_type": "stream",
     "text": [
      "Created GritLM: torch.bfloat16 dtype, mean pool, embedding mode, bbcc attn\n"
     ]
    },
    {
     "name": "stderr",
     "output_type": "stream",
     "text": [
      "Building Graph: 100%|██████████| 206897/206897 [00:00<00:00, 619050.65it/s]\n",
      "2024-07-11 13:57:22,576 - hipporag - INFO - Graph built: num vertices: 91729, num_edges: 206786\n",
      "2024-07-11 13:57:22,589 - hipporag - INFO - Loading node vectors from: data/lm_vectors/grit-7b_mean/encoded_strings.txt\n",
      "2024-07-11 13:57:24,737 - hipporag - INFO - 1 phrases did not have vectors.\n",
      "IRCoT retrieval:   0%|          | 0/1000 [00:00<?, ?it/s]"
     ]
    },
    {
     "name": "stdout",
     "output_type": "stream",
     "text": [
      "[Errno 2] No such file or directory: 'output/ircot/ircot_results_musique_hipporag_grit-7b_demo_1_gpt-3_5-turbo-1106_no_ensemble_step_1_top_10_sim_thresh_0.8_damping_0.5.json'\n",
      "Results file maybe empty, cannot be loaded.\n",
      "Loaded 0 results from output/ircot/ircot_results_musique_hipporag_grit-7b_demo_1_gpt-3_5-turbo-1106_no_ensemble_step_1_top_10_sim_thresh_0.8_damping_0.5.json\n"
     ]
    },
    {
     "name": "stderr",
     "output_type": "stream",
     "text": [
      "IRCoT retrieval: 100%|██████████| 1000/1000 [01:58<00:00,  8.46it/s]\n"
     ]
    },
    {
     "name": "stdout",
     "output_type": "stream",
     "text": [
      "Saved 1000 results to output/ircot/ircot_results_musique_hipporag_grit-7b_demo_1_gpt-3_5-turbo-1106_no_ensemble_step_1_top_10_sim_thresh_0.8_damping_0.5.json\n",
      "sim_threshold 0.7\n"
     ]
    },
    {
     "name": "stderr",
     "output_type": "stream",
     "text": [
      "100%|██████████| 11656/11656 [00:01<00:00, 10966.39it/s]\n",
      "100%|██████████| 1006/1006 [00:00<00:00, 70536.11it/s]\n"
     ]
    },
    {
     "name": "stdout",
     "output_type": "stream",
     "text": [
      "Correct Wiki Format: 0 out of 11656\n",
      "Creating Graph\n"
     ]
    },
    {
     "name": "stderr",
     "output_type": "stream",
     "text": [
      "100%|██████████| 11656/11656 [00:00<00:00, 11857.99it/s]\n"
     ]
    },
    {
     "name": "stdout",
     "output_type": "stream",
     "text": [
      "Loading Vectors\n",
      "Augmenting Graph from Similarity\n"
     ]
    },
    {
     "name": "stderr",
     "output_type": "stream",
     "text": [
      "100%|██████████| 91729/91729 [00:02<00:00, 44695.57it/s] \n"
     ]
    },
    {
     "name": "stdout",
     "output_type": "stream",
     "text": [
      "Saving Graph\n",
      "                                                         1\n",
      "0                                                         \n",
      "Total Phrases                                       327435\n",
      "Unique Phrases                                       91729\n",
      "Number of Individual Triples                        109145\n",
      "Number of Incorrectly Formatted Triples (ChatGP...    1136\n",
      "Number of Triples w/o NER Entities (ChatGPT Error)    6762\n",
      "Number of Unique Individual Triples                 107448\n",
      "Number of Entities                                  218290\n",
      "Number of Relations                                 109932\n",
      "Number of Unique Entities                            91729\n",
      "Number of Synonymy Edges                              5060\n",
      "Number of Unique Relations                           21714\n"
     ]
    },
    {
     "name": "stderr",
     "output_type": "stream",
     "text": [
      "Loading checkpoint shards: 100%|██████████| 3/3 [00:02<00:00,  1.08it/s]\n"
     ]
    },
    {
     "name": "stdout",
     "output_type": "stream",
     "text": [
      "Created GritLM: torch.bfloat16 dtype, mean pool, embedding mode, bbcc attn\n"
     ]
    },
    {
     "name": "stderr",
     "output_type": "stream",
     "text": [
      "Building Graph: 100%|██████████| 211654/211654 [00:00<00:00, 610659.82it/s]\n",
      "2024-07-11 13:59:55,751 - hipporag - INFO - Graph built: num vertices: 91729, num_edges: 211543\n",
      "2024-07-11 13:59:55,765 - hipporag - INFO - Loading node vectors from: data/lm_vectors/grit-7b_mean/encoded_strings.txt\n",
      "2024-07-11 13:59:57,953 - hipporag - INFO - 1 phrases did not have vectors.\n",
      "IRCoT retrieval:   0%|          | 0/1000 [00:00<?, ?it/s]"
     ]
    },
    {
     "name": "stdout",
     "output_type": "stream",
     "text": [
      "[Errno 2] No such file or directory: 'output/ircot/ircot_results_musique_hipporag_grit-7b_demo_1_gpt-3_5-turbo-1106_no_ensemble_step_1_top_10_sim_thresh_0.7_damping_0.5.json'\n",
      "Results file maybe empty, cannot be loaded.\n",
      "Loaded 0 results from output/ircot/ircot_results_musique_hipporag_grit-7b_demo_1_gpt-3_5-turbo-1106_no_ensemble_step_1_top_10_sim_thresh_0.7_damping_0.5.json\n"
     ]
    },
    {
     "name": "stderr",
     "output_type": "stream",
     "text": [
      "IRCoT retrieval: 100%|██████████| 1000/1000 [02:02<00:00,  8.14it/s]\n"
     ]
    },
    {
     "name": "stdout",
     "output_type": "stream",
     "text": [
      "Saved 1000 results to output/ircot/ircot_results_musique_hipporag_grit-7b_demo_1_gpt-3_5-turbo-1106_no_ensemble_step_1_top_10_sim_thresh_0.7_damping_0.5.json\n",
      "sim_threshold 0.6\n"
     ]
    },
    {
     "name": "stderr",
     "output_type": "stream",
     "text": [
      "100%|██████████| 11656/11656 [00:01<00:00, 10984.83it/s]\n",
      "100%|██████████| 1006/1006 [00:00<00:00, 72310.63it/s]\n"
     ]
    },
    {
     "name": "stdout",
     "output_type": "stream",
     "text": [
      "Correct Wiki Format: 0 out of 11656\n",
      "Creating Graph\n"
     ]
    },
    {
     "name": "stderr",
     "output_type": "stream",
     "text": [
      "100%|██████████| 11656/11656 [00:00<00:00, 11724.15it/s]\n"
     ]
    },
    {
     "name": "stdout",
     "output_type": "stream",
     "text": [
      "Loading Vectors\n",
      "Augmenting Graph from Similarity\n"
     ]
    },
    {
     "name": "stderr",
     "output_type": "stream",
     "text": [
      "100%|██████████| 91729/91729 [00:02<00:00, 35071.78it/s]\n"
     ]
    },
    {
     "name": "stdout",
     "output_type": "stream",
     "text": [
      "Saving Graph\n",
      "                                                         1\n",
      "0                                                         \n",
      "Total Phrases                                       327435\n",
      "Unique Phrases                                       91729\n",
      "Number of Individual Triples                        109145\n",
      "Number of Incorrectly Formatted Triples (ChatGP...    1136\n",
      "Number of Triples w/o NER Entities (ChatGPT Error)    6762\n",
      "Number of Unique Individual Triples                 107448\n",
      "Number of Entities                                  218290\n",
      "Number of Relations                                 170668\n",
      "Number of Unique Entities                            91729\n",
      "Number of Synonymy Edges                             67061\n",
      "Number of Unique Relations                           21714\n"
     ]
    },
    {
     "name": "stderr",
     "output_type": "stream",
     "text": [
      "Loading checkpoint shards: 100%|██████████| 3/3 [00:02<00:00,  1.08it/s]\n"
     ]
    },
    {
     "name": "stdout",
     "output_type": "stream",
     "text": [
      "Created GritLM: torch.bfloat16 dtype, mean pool, embedding mode, bbcc attn\n"
     ]
    },
    {
     "name": "stderr",
     "output_type": "stream",
     "text": [
      "Building Graph: 100%|██████████| 271371/271371 [00:00<00:00, 635825.65it/s]\n",
      "2024-07-11 14:02:34,776 - hipporag - INFO - Graph built: num vertices: 91729, num_edges: 271260\n",
      "2024-07-11 14:02:34,794 - hipporag - INFO - Loading node vectors from: data/lm_vectors/grit-7b_mean/encoded_strings.txt\n",
      "2024-07-11 14:02:36,905 - hipporag - INFO - 1 phrases did not have vectors.\n",
      "IRCoT retrieval:   0%|          | 0/1000 [00:00<?, ?it/s]"
     ]
    },
    {
     "name": "stdout",
     "output_type": "stream",
     "text": [
      "[Errno 2] No such file or directory: 'output/ircot/ircot_results_musique_hipporag_grit-7b_demo_1_gpt-3_5-turbo-1106_no_ensemble_step_1_top_10_sim_thresh_0.6_damping_0.5.json'\n",
      "Results file maybe empty, cannot be loaded.\n",
      "Loaded 0 results from output/ircot/ircot_results_musique_hipporag_grit-7b_demo_1_gpt-3_5-turbo-1106_no_ensemble_step_1_top_10_sim_thresh_0.6_damping_0.5.json\n"
     ]
    },
    {
     "name": "stderr",
     "output_type": "stream",
     "text": [
      "IRCoT retrieval: 100%|██████████| 1000/1000 [02:15<00:00,  7.39it/s]\n"
     ]
    },
    {
     "name": "stdout",
     "output_type": "stream",
     "text": [
      "Saved 1000 results to output/ircot/ircot_results_musique_hipporag_grit-7b_demo_1_gpt-3_5-turbo-1106_no_ensemble_step_1_top_10_sim_thresh_0.6_damping_0.5.json\n"
     ]
    }
   ],
   "source": [
    "\n",
    "\n",
    "# Store results\n",
    "results3 = []\n",
    "\n",
    "# Export environment variables\n",
    "os.environ['OPENAI_API_KEY'] = 'aegsdvfhuijoak'\n",
    "os.environ['CUDA_VISIBLE_DEVICES'] = '0,1,2'\n",
    "\n",
    "\n",
    "# Run experiments\n",
    "for sim_threshold in [0.8, 0.7, 0.6]:\n",
    "    print(\"sim_threshold\", sim_threshold)\n",
    "    # remove_new_files()\n",
    "    create_graph_command = [\n",
    "        'python3', 'src/create_graph.py',\n",
    "        '--dataset', 'musique',\n",
    "        '--model_name', 'grit-7b',\n",
    "        '--extraction_model', 'gpt-3.5-turbo-1106',\n",
    "        '--threshold', str(sim_threshold),\n",
    "        '--extraction_type', 'ner',\n",
    "        '--create_graph', '--cosine_sim_edges'\n",
    "    ]\n",
    "    subprocess.run(create_graph_command, check=True)\n",
    "    ircot_hipporag_command = [\n",
    "        'python3', 'src/ircot_hipporag.py',\n",
    "        '--dataset', 'musique',\n",
    "        '--retriever', 'grit-7b',\n",
    "        '--max_steps', '1',\n",
    "        '--doc_ensemble', 'f',\n",
    "        '--top_k', '10',\n",
    "        '--sim_threshold', str(sim_threshold),\n",
    "        '--damping', '0.5',\n",
    "    ]\n",
    "    subprocess.run(ircot_hipporag_command, check=True)\n",
    "    \n",
    "    # Define output path\n",
    "\n",
    "    output_path = f\"output/ircot/ircot_results_musique_hipporag_grit-7b_demo_1_gpt-3_5-turbo-1106_no_ensemble_step_1_top_10_sim_thresh_{sim_threshold}_damping_0.5.json\"\n",
    "    \n",
    "    # Calculate recall mean\n",
    "    recall_mean = calculate_recall_mean(output_path)\n",
    "    \n",
    "    # Store the result\n",
    "    results3.append({\n",
    "        'sim_threshold': sim_threshold,\n",
    "        # 'recognition_threshold': recognition_threshold,\n",
    "        'recall_mean': recall_mean\n",
    "    })"
   ]
  },
  {
   "cell_type": "code",
   "execution_count": 13,
   "metadata": {},
   "outputs": [
    {
     "name": "stdout",
     "output_type": "stream",
     "text": [
      "sim_threshold 0.575\n"
     ]
    },
    {
     "name": "stderr",
     "output_type": "stream",
     "text": [
      "100%|██████████| 11656/11656 [00:01<00:00, 9923.26it/s] \n",
      "100%|██████████| 1006/1006 [00:00<00:00, 65919.95it/s]\n"
     ]
    },
    {
     "name": "stdout",
     "output_type": "stream",
     "text": [
      "Correct Wiki Format: 0 out of 11656\n",
      "Creating Graph\n"
     ]
    },
    {
     "name": "stderr",
     "output_type": "stream",
     "text": [
      "100%|██████████| 11656/11656 [00:00<00:00, 12072.26it/s]\n"
     ]
    },
    {
     "name": "stdout",
     "output_type": "stream",
     "text": [
      "Loading Vectors\n",
      "Augmenting Graph from Similarity\n"
     ]
    },
    {
     "name": "stderr",
     "output_type": "stream",
     "text": [
      "100%|██████████| 91729/91729 [00:02<00:00, 31094.44it/s]\n"
     ]
    },
    {
     "name": "stdout",
     "output_type": "stream",
     "text": [
      "Saving Graph\n",
      "                                                         1\n",
      "0                                                         \n",
      "Total Phrases                                       327435\n",
      "Unique Phrases                                       91729\n",
      "Number of Individual Triples                        109145\n",
      "Number of Incorrectly Formatted Triples (ChatGP...    1136\n",
      "Number of Triples w/o NER Entities (ChatGPT Error)    6762\n",
      "Number of Unique Individual Triples                 107448\n",
      "Number of Entities                                  218290\n",
      "Number of Relations                                 217250\n",
      "Number of Unique Entities                            91729\n",
      "Number of Synonymy Edges                            114259\n",
      "Number of Unique Relations                           21714\n"
     ]
    },
    {
     "name": "stderr",
     "output_type": "stream",
     "text": [
      "Loading checkpoint shards: 100%|██████████| 3/3 [00:02<00:00,  1.11it/s]\n"
     ]
    },
    {
     "name": "stdout",
     "output_type": "stream",
     "text": [
      "Created GritLM: torch.bfloat16 dtype, mean pool, embedding mode, bbcc attn\n"
     ]
    },
    {
     "name": "stderr",
     "output_type": "stream",
     "text": [
      "Building Graph: 100%|██████████| 317426/317426 [00:00<00:00, 621346.04it/s]\n",
      "2024-07-12 04:24:37,658 - hipporag - INFO - Graph built: num vertices: 91729, num_edges: 317315\n",
      "2024-07-12 04:24:37,681 - hipporag - INFO - Loading node vectors from: data/lm_vectors/grit-7b_mean/encoded_strings.txt\n",
      "2024-07-12 04:24:39,776 - hipporag - INFO - 1 phrases did not have vectors.\n"
     ]
    },
    {
     "name": "stdout",
     "output_type": "stream",
     "text": [
      "Loaded 1000 results from output/ircot/ircot_results_musique_hipporag_grit-7b_demo_1_gpt-3_5-turbo-1106_no_ensemble_step_1_top_10_sim_thresh_0.575_damping_0.5.json\n",
      "R@1: 0.2588 R@2: 0.3792 R@5: 0.5053 R@10: 0.5687 R@15: 0.5687 R@20: 0.5687 R@30: 0.5687 R@40: 0.5687 R@50: 0.5687 R@80: 0.5687 R@100: 0.5687 \n"
     ]
    },
    {
     "name": "stderr",
     "output_type": "stream",
     "text": [
      "IRCoT retrieval: 100%|██████████| 1000/1000 [00:00<00:00, 1177844.43it/s]\n"
     ]
    },
    {
     "name": "stdout",
     "output_type": "stream",
     "text": [
      "Saved 1000 results to output/ircot/ircot_results_musique_hipporag_grit-7b_demo_1_gpt-3_5-turbo-1106_no_ensemble_step_1_top_10_sim_thresh_0.575_damping_0.5.json\n",
      "sim_threshold 0.55\n"
     ]
    },
    {
     "name": "stderr",
     "output_type": "stream",
     "text": [
      "100%|██████████| 11656/11656 [00:01<00:00, 9859.11it/s] \n",
      "100%|██████████| 1006/1006 [00:00<00:00, 65643.05it/s]\n"
     ]
    },
    {
     "name": "stdout",
     "output_type": "stream",
     "text": [
      "Correct Wiki Format: 0 out of 11656\n",
      "Creating Graph\n"
     ]
    },
    {
     "name": "stderr",
     "output_type": "stream",
     "text": [
      "100%|██████████| 11656/11656 [00:00<00:00, 11731.98it/s]\n"
     ]
    },
    {
     "name": "stdout",
     "output_type": "stream",
     "text": [
      "Loading Vectors\n",
      "Augmenting Graph from Similarity\n"
     ]
    },
    {
     "name": "stderr",
     "output_type": "stream",
     "text": [
      "100%|██████████| 91729/91729 [00:03<00:00, 25172.44it/s]\n"
     ]
    },
    {
     "name": "stdout",
     "output_type": "stream",
     "text": [
      "Saving Graph\n",
      "                                                         1\n",
      "0                                                         \n",
      "Total Phrases                                       327435\n",
      "Unique Phrases                                       91729\n",
      "Number of Individual Triples                        109145\n",
      "Number of Incorrectly Formatted Triples (ChatGP...    1136\n",
      "Number of Triples w/o NER Entities (ChatGPT Error)    6762\n",
      "Number of Unique Individual Triples                 107448\n",
      "Number of Entities                                  218290\n",
      "Number of Relations                                 294573\n",
      "Number of Unique Entities                            91729\n",
      "Number of Synonymy Edges                            192391\n",
      "Number of Unique Relations                           21714\n"
     ]
    },
    {
     "name": "stderr",
     "output_type": "stream",
     "text": [
      "Loading checkpoint shards: 100%|██████████| 3/3 [00:02<00:00,  1.09it/s]\n"
     ]
    },
    {
     "name": "stdout",
     "output_type": "stream",
     "text": [
      "Created GritLM: torch.bfloat16 dtype, mean pool, embedding mode, bbcc attn\n"
     ]
    },
    {
     "name": "stderr",
     "output_type": "stream",
     "text": [
      "Building Graph: 100%|██████████| 394078/394078 [00:00<00:00, 608231.89it/s]\n",
      "2024-07-12 04:25:15,808 - hipporag - INFO - Graph built: num vertices: 91729, num_edges: 393967\n",
      "2024-07-12 04:25:15,836 - hipporag - INFO - Loading node vectors from: data/lm_vectors/grit-7b_mean/encoded_strings.txt\n",
      "2024-07-12 04:25:18,001 - hipporag - INFO - 1 phrases did not have vectors.\n"
     ]
    },
    {
     "name": "stdout",
     "output_type": "stream",
     "text": [
      "Loaded 1000 results from output/ircot/ircot_results_musique_hipporag_grit-7b_demo_1_gpt-3_5-turbo-1106_no_ensemble_step_1_top_10_sim_thresh_0.55_damping_0.5.json\n",
      "R@1: 0.2621 R@2: 0.3846 R@5: 0.5090 R@10: 0.5792 R@15: 0.5792 R@20: 0.5792 R@30: 0.5792 R@40: 0.5792 R@50: 0.5792 R@80: 0.5792 R@100: 0.5792 \n"
     ]
    },
    {
     "name": "stderr",
     "output_type": "stream",
     "text": [
      "IRCoT retrieval: 100%|██████████| 1000/1000 [00:00<00:00, 1163791.34it/s]\n"
     ]
    },
    {
     "name": "stdout",
     "output_type": "stream",
     "text": [
      "Saved 1000 results to output/ircot/ircot_results_musique_hipporag_grit-7b_demo_1_gpt-3_5-turbo-1106_no_ensemble_step_1_top_10_sim_thresh_0.55_damping_0.5.json\n",
      "sim_threshold 0.525\n"
     ]
    },
    {
     "name": "stderr",
     "output_type": "stream",
     "text": [
      "100%|██████████| 11656/11656 [00:01<00:00, 9859.12it/s] \n",
      "100%|██████████| 1006/1006 [00:00<00:00, 65477.02it/s]\n"
     ]
    },
    {
     "name": "stdout",
     "output_type": "stream",
     "text": [
      "Correct Wiki Format: 0 out of 11656\n",
      "Creating Graph\n"
     ]
    },
    {
     "name": "stderr",
     "output_type": "stream",
     "text": [
      "100%|██████████| 11656/11656 [00:00<00:00, 12050.71it/s]\n"
     ]
    },
    {
     "name": "stdout",
     "output_type": "stream",
     "text": [
      "Loading Vectors\n",
      "Augmenting Graph from Similarity\n"
     ]
    },
    {
     "name": "stderr",
     "output_type": "stream",
     "text": [
      "100%|██████████| 91729/91729 [00:04<00:00, 20109.10it/s]\n"
     ]
    },
    {
     "name": "stdout",
     "output_type": "stream",
     "text": [
      "Saving Graph\n",
      "                                                         1\n",
      "0                                                         \n",
      "Total Phrases                                       327435\n",
      "Unique Phrases                                       91729\n",
      "Number of Individual Triples                        109145\n",
      "Number of Incorrectly Formatted Triples (ChatGP...    1136\n",
      "Number of Triples w/o NER Entities (ChatGPT Error)    6762\n",
      "Number of Unique Individual Triples                 107448\n",
      "Number of Entities                                  218290\n",
      "Number of Relations                                 425825\n",
      "Number of Unique Entities                            91729\n",
      "Number of Synonymy Edges                            324701\n",
      "Number of Unique Relations                           21714\n"
     ]
    },
    {
     "name": "stderr",
     "output_type": "stream",
     "text": [
      "Loading checkpoint shards: 100%|██████████| 3/3 [00:02<00:00,  1.08it/s]\n"
     ]
    },
    {
     "name": "stdout",
     "output_type": "stream",
     "text": [
      "Created GritLM: torch.bfloat16 dtype, mean pool, embedding mode, bbcc attn\n"
     ]
    },
    {
     "name": "stderr",
     "output_type": "stream",
     "text": [
      "Building Graph: 100%|██████████| 524394/524394 [00:00<00:00, 583512.44it/s]\n",
      "2024-07-12 04:25:56,723 - hipporag - INFO - Graph built: num vertices: 91729, num_edges: 524283\n",
      "2024-07-12 04:25:56,761 - hipporag - INFO - Loading node vectors from: data/lm_vectors/grit-7b_mean/encoded_strings.txt\n",
      "2024-07-12 04:25:58,920 - hipporag - INFO - 1 phrases did not have vectors.\n"
     ]
    },
    {
     "name": "stdout",
     "output_type": "stream",
     "text": [
      "Loaded 1000 results from output/ircot/ircot_results_musique_hipporag_grit-7b_demo_1_gpt-3_5-turbo-1106_no_ensemble_step_1_top_10_sim_thresh_0.525_damping_0.5.json\n",
      "R@1: 0.2639 R@2: 0.3837 R@5: 0.5097 R@10: 0.5853 R@15: 0.5853 R@20: 0.5853 R@30: 0.5853 R@40: 0.5853 R@50: 0.5853 R@80: 0.5853 R@100: 0.5853 \n"
     ]
    },
    {
     "name": "stderr",
     "output_type": "stream",
     "text": [
      "IRCoT retrieval: 100%|██████████| 1000/1000 [00:00<00:00, 1177844.43it/s]\n"
     ]
    },
    {
     "name": "stdout",
     "output_type": "stream",
     "text": [
      "Saved 1000 results to output/ircot/ircot_results_musique_hipporag_grit-7b_demo_1_gpt-3_5-turbo-1106_no_ensemble_step_1_top_10_sim_thresh_0.525_damping_0.5.json\n",
      "sim_threshold 0.5\n"
     ]
    },
    {
     "name": "stderr",
     "output_type": "stream",
     "text": [
      "100%|██████████| 11656/11656 [00:01<00:00, 9781.18it/s] \n",
      "  0%|          | 0/1006 [00:00<?, ?it/s]"
     ]
    },
    {
     "name": "stdout",
     "output_type": "stream",
     "text": [
      "Correct Wiki Format: 0 out of 11656\n"
     ]
    },
    {
     "name": "stderr",
     "output_type": "stream",
     "text": [
      "100%|██████████| 1006/1006 [00:00<00:00, 64542.56it/s]\n"
     ]
    },
    {
     "name": "stdout",
     "output_type": "stream",
     "text": [
      "Creating Graph\n"
     ]
    },
    {
     "name": "stderr",
     "output_type": "stream",
     "text": [
      "100%|██████████| 11656/11656 [00:00<00:00, 11964.52it/s]\n"
     ]
    },
    {
     "name": "stdout",
     "output_type": "stream",
     "text": [
      "Loading Vectors\n",
      "Augmenting Graph from Similarity\n"
     ]
    },
    {
     "name": "stderr",
     "output_type": "stream",
     "text": [
      "100%|██████████| 91729/91729 [00:06<00:00, 14879.47it/s]\n"
     ]
    },
    {
     "name": "stdout",
     "output_type": "stream",
     "text": [
      "Saving Graph\n",
      "                                                         1\n",
      "0                                                         \n",
      "Total Phrases                                       327435\n",
      "Unique Phrases                                       91729\n",
      "Number of Individual Triples                        109145\n",
      "Number of Incorrectly Formatted Triples (ChatGP...    1136\n",
      "Number of Triples w/o NER Entities (ChatGPT Error)    6762\n",
      "Number of Unique Individual Triples                 107448\n",
      "Number of Entities                                  218290\n",
      "Number of Relations                                 649108\n",
      "Number of Unique Entities                            91729\n",
      "Number of Synonymy Edges                            549326\n",
      "Number of Unique Relations                           21714\n"
     ]
    },
    {
     "name": "stderr",
     "output_type": "stream",
     "text": [
      "Loading checkpoint shards: 100%|██████████| 3/3 [00:02<00:00,  1.08it/s]\n"
     ]
    },
    {
     "name": "stdout",
     "output_type": "stream",
     "text": [
      "Created GritLM: torch.bfloat16 dtype, mean pool, embedding mode, bbcc attn\n"
     ]
    },
    {
     "name": "stderr",
     "output_type": "stream",
     "text": [
      "Building Graph: 100%|██████████| 746534/746534 [00:01<00:00, 567883.64it/s]\n",
      "2024-07-12 04:26:42,307 - hipporag - INFO - Graph built: num vertices: 91729, num_edges: 746423\n",
      "2024-07-12 04:26:42,364 - hipporag - INFO - Loading node vectors from: data/lm_vectors/grit-7b_mean/encoded_strings.txt\n",
      "2024-07-12 04:26:44,501 - hipporag - INFO - 1 phrases did not have vectors.\n"
     ]
    },
    {
     "name": "stdout",
     "output_type": "stream",
     "text": [
      "Loaded 1000 results from output/ircot/ircot_results_musique_hipporag_grit-7b_demo_1_gpt-3_5-turbo-1106_no_ensemble_step_1_top_10_sim_thresh_0.5_damping_0.5.json\n",
      "R@1: 0.2655 R@2: 0.3882 R@5: 0.5092 R@10: 0.5814 R@15: 0.5814 R@20: 0.5814 R@30: 0.5814 R@40: 0.5814 R@50: 0.5814 R@80: 0.5814 R@100: 0.5814 \n"
     ]
    },
    {
     "name": "stderr",
     "output_type": "stream",
     "text": [
      "IRCoT retrieval: 100%|██████████| 1000/1000 [00:00<00:00, 1211176.44it/s]\n"
     ]
    },
    {
     "name": "stdout",
     "output_type": "stream",
     "text": [
      "Saved 1000 results to output/ircot/ircot_results_musique_hipporag_grit-7b_demo_1_gpt-3_5-turbo-1106_no_ensemble_step_1_top_10_sim_thresh_0.5_damping_0.5.json\n",
      "sim_threshold 0.475\n"
     ]
    },
    {
     "name": "stderr",
     "output_type": "stream",
     "text": [
      "100%|██████████| 11656/11656 [00:01<00:00, 9919.88it/s] \n",
      "100%|██████████| 1006/1006 [00:00<00:00, 65866.44it/s]\n"
     ]
    },
    {
     "name": "stdout",
     "output_type": "stream",
     "text": [
      "Correct Wiki Format: 0 out of 11656\n",
      "Creating Graph\n"
     ]
    },
    {
     "name": "stderr",
     "output_type": "stream",
     "text": [
      "100%|██████████| 11656/11656 [00:00<00:00, 11881.26it/s]\n"
     ]
    },
    {
     "name": "stdout",
     "output_type": "stream",
     "text": [
      "Loading Vectors\n",
      "Augmenting Graph from Similarity\n"
     ]
    },
    {
     "name": "stderr",
     "output_type": "stream",
     "text": [
      "100%|██████████| 91729/91729 [00:08<00:00, 10470.19it/s]\n"
     ]
    },
    {
     "name": "stdout",
     "output_type": "stream",
     "text": [
      "Saving Graph\n",
      "                                                          1\n",
      "0                                                          \n",
      "Total Phrases                                        327435\n",
      "Unique Phrases                                        91729\n",
      "Number of Individual Triples                         109145\n",
      "Number of Incorrectly Formatted Triples (ChatGP...     1136\n",
      "Number of Triples w/o NER Entities (ChatGPT Error)     6762\n",
      "Number of Unique Individual Triples                  107448\n",
      "Number of Entities                                   218290\n",
      "Number of Relations                                 1009874\n",
      "Number of Unique Entities                             91729\n",
      "Number of Synonymy Edges                             911842\n",
      "Number of Unique Relations                            21714\n"
     ]
    },
    {
     "name": "stderr",
     "output_type": "stream",
     "text": [
      "Loading checkpoint shards: 100%|██████████| 3/3 [00:02<00:00,  1.08it/s]\n"
     ]
    },
    {
     "name": "stdout",
     "output_type": "stream",
     "text": [
      "Created GritLM: torch.bfloat16 dtype, mean pool, embedding mode, bbcc attn\n"
     ]
    },
    {
     "name": "stderr",
     "output_type": "stream",
     "text": [
      "Building Graph: 100%|██████████| 1105803/1105803 [00:01<00:00, 588168.81it/s]\n",
      "2024-07-12 04:27:35,330 - hipporag - INFO - Graph built: num vertices: 91729, num_edges: 1105692\n",
      "2024-07-12 04:27:35,417 - hipporag - INFO - Loading node vectors from: data/lm_vectors/grit-7b_mean/encoded_strings.txt\n",
      "2024-07-12 04:27:37,546 - hipporag - INFO - 1 phrases did not have vectors.\n"
     ]
    },
    {
     "name": "stdout",
     "output_type": "stream",
     "text": [
      "Loaded 1000 results from output/ircot/ircot_results_musique_hipporag_grit-7b_demo_1_gpt-3_5-turbo-1106_no_ensemble_step_1_top_10_sim_thresh_0.475_damping_0.5.json\n",
      "R@1: 0.2687 R@2: 0.3867 R@5: 0.5072 R@10: 0.5823 R@15: 0.5823 R@20: 0.5823 R@30: 0.5823 R@40: 0.5823 R@50: 0.5823 R@80: 0.5823 R@100: 0.5823 \n"
     ]
    },
    {
     "name": "stderr",
     "output_type": "stream",
     "text": [
      "IRCoT retrieval: 100%|██████████| 1000/1000 [00:00<00:00, 1178175.28it/s]\n"
     ]
    },
    {
     "name": "stdout",
     "output_type": "stream",
     "text": [
      "Saved 1000 results to output/ircot/ircot_results_musique_hipporag_grit-7b_demo_1_gpt-3_5-turbo-1106_no_ensemble_step_1_top_10_sim_thresh_0.475_damping_0.5.json\n"
     ]
    }
   ],
   "source": [
    "results3 = []\n",
    "for sim_threshold in [0.575, 0.55, 0.525, 0.5, 0.475]:\n",
    "    print(\"sim_threshold\", sim_threshold)\n",
    "    # remove_new_files()\n",
    "    create_graph_command = [\n",
    "        'python3', 'src/create_graph.py',\n",
    "        '--dataset', 'musique',\n",
    "        '--model_name', 'grit-7b',\n",
    "        '--extraction_model', 'gpt-3.5-turbo-1106',\n",
    "        '--threshold', str(sim_threshold),\n",
    "        '--extraction_type', 'ner',\n",
    "        '--create_graph', '--cosine_sim_edges'\n",
    "    ]\n",
    "    subprocess.run(create_graph_command, check=True)\n",
    "    ircot_hipporag_command = [\n",
    "        'python3', 'src/ircot_hipporag.py',\n",
    "        '--dataset', 'musique',\n",
    "        '--retriever', 'grit-7b',\n",
    "        '--max_steps', '1',\n",
    "        '--doc_ensemble', 'f',\n",
    "        '--top_k', '10',\n",
    "        '--sim_threshold', str(sim_threshold),\n",
    "        '--damping', '0.5',\n",
    "    ]\n",
    "    subprocess.run(ircot_hipporag_command, check=True)\n",
    "    \n",
    "    # Define output path\n",
    "\n",
    "    output_path = f\"output/ircot/ircot_results_musique_hipporag_grit-7b_demo_1_gpt-3_5-turbo-1106_no_ensemble_step_1_top_10_sim_thresh_{sim_threshold}_damping_0.5.json\"\n",
    "    \n",
    "    # Calculate recall mean\n",
    "    recall_mean = calculate_recall_mean(output_path)\n",
    "    \n",
    "    # Store the result\n",
    "    results3.append({\n",
    "        'sim_threshold': sim_threshold,\n",
    "        # 'recognition_threshold': recognition_threshold,\n",
    "        'recall_mean': recall_mean\n",
    "    })"
   ]
  },
  {
   "cell_type": "code",
   "execution_count": 14,
   "metadata": {},
   "outputs": [
    {
     "data": {
      "text/plain": [
       "[{'sim_threshold': 0.575,\n",
       "  'recall_mean': recall@1      0.258826\n",
       "  recall@2      0.379163\n",
       "  recall@5      0.505331\n",
       "  recall@10     0.568749\n",
       "  recall@15     0.568749\n",
       "  recall@20     0.568749\n",
       "  recall@30     0.568749\n",
       "  recall@40     0.568749\n",
       "  recall@50     0.568749\n",
       "  recall@80     0.568749\n",
       "  recall@100    0.568749\n",
       "  dtype: float64},\n",
       " {'sim_threshold': 0.55,\n",
       "  'recall_mean': recall@1      0.262076\n",
       "  recall@2      0.384579\n",
       "  recall@5      0.508998\n",
       "  recall@10     0.579166\n",
       "  recall@15     0.579166\n",
       "  recall@20     0.579166\n",
       "  recall@30     0.579166\n",
       "  recall@40     0.579166\n",
       "  recall@50     0.579166\n",
       "  recall@80     0.579166\n",
       "  recall@100    0.579166\n",
       "  dtype: float64},\n",
       " {'sim_threshold': 0.525,\n",
       "  'recall_mean': recall@1      0.263909\n",
       "  recall@2      0.383663\n",
       "  recall@5      0.509665\n",
       "  recall@10     0.585333\n",
       "  recall@15     0.585333\n",
       "  recall@20     0.585333\n",
       "  recall@30     0.585333\n",
       "  recall@40     0.585333\n",
       "  recall@50     0.585333\n",
       "  recall@80     0.585333\n",
       "  recall@100    0.585333\n",
       "  dtype: float64},\n",
       " {'sim_threshold': 0.5,\n",
       "  'recall_mean': recall@1      0.265492\n",
       "  recall@2      0.388247\n",
       "  recall@5      0.509248\n",
       "  recall@10     0.581417\n",
       "  recall@15     0.581417\n",
       "  recall@20     0.581417\n",
       "  recall@30     0.581417\n",
       "  recall@40     0.581417\n",
       "  recall@50     0.581417\n",
       "  recall@80     0.581417\n",
       "  recall@100    0.581417\n",
       "  dtype: float64},\n",
       " {'sim_threshold': 0.475,\n",
       "  'recall_mean': recall@1      0.268742\n",
       "  recall@2      0.386746\n",
       "  recall@5      0.507165\n",
       "  recall@10     0.582250\n",
       "  recall@15     0.582250\n",
       "  recall@20     0.582250\n",
       "  recall@30     0.582250\n",
       "  recall@40     0.582250\n",
       "  recall@50     0.582250\n",
       "  recall@80     0.582250\n",
       "  recall@100    0.582250\n",
       "  dtype: float64}]"
      ]
     },
     "execution_count": 14,
     "metadata": {},
     "output_type": "execute_result"
    }
   ],
   "source": [
    "results3"
   ]
  },
  {
   "cell_type": "code",
   "execution_count": 13,
   "metadata": {},
   "outputs": [
    {
     "name": "stdout",
     "output_type": "stream",
     "text": [
      "sim_threshold 0.8\n"
     ]
    },
    {
     "name": "stderr",
     "output_type": "stream",
     "text": [
      "Loading checkpoint shards: 100%|██████████| 3/3 [00:02<00:00,  1.08it/s]\n"
     ]
    },
    {
     "name": "stdout",
     "output_type": "stream",
     "text": [
      "Created GritLM: torch.bfloat16 dtype, mean pool, embedding mode, bbcc attn\n"
     ]
    },
    {
     "name": "stderr",
     "output_type": "stream",
     "text": [
      "Building Graph: 100%|██████████| 206897/206897 [00:00<00:00, 579132.10it/s]\n",
      "2024-07-11 14:17:48,055 - hipporag - INFO - Graph built: num vertices: 91729, num_edges: 206786\n",
      "2024-07-11 14:17:48,072 - hipporag - INFO - Loading node vectors from: data/lm_vectors/grit-7b_mean/encoded_strings.txt\n",
      "2024-07-11 14:17:50,231 - hipporag - INFO - 1 phrases did not have vectors.\n",
      "2024-07-11 14:17:50,359 - hipporag - INFO - Loaded doc embeddings from data/lm_vectors/grit-7b_mean/musique_doc_embeddings.p, shape: (11656, 4096)\n"
     ]
    },
    {
     "name": "stdout",
     "output_type": "stream",
     "text": [
      "Loaded 1000 results from output/ircot/ircot_results_musique_hipporag_grit-7b_demo_1_gpt-3_5-turbo-1106_doc_ensemble_0.9_step_1_top_10_sim_thresh_0.8_damping_0.5.json\n",
      "R@1: 0.2708 R@2: 0.4002 R@5: 0.5841 R@10: 0.6842 R@15: 0.6842 R@20: 0.6842 R@30: 0.6842 R@40: 0.6842 R@50: 0.6842 R@80: 0.6842 R@100: 0.6842 \n"
     ]
    },
    {
     "name": "stderr",
     "output_type": "stream",
     "text": [
      "IRCoT retrieval: 100%|██████████| 1000/1000 [00:00<00:00, 1099136.27it/s]\n"
     ]
    },
    {
     "name": "stdout",
     "output_type": "stream",
     "text": [
      "Saved 1000 results to output/ircot/ircot_results_musique_hipporag_grit-7b_demo_1_gpt-3_5-turbo-1106_doc_ensemble_0.9_step_1_top_10_sim_thresh_0.8_damping_0.5.json\n",
      "sim_threshold 0.7\n"
     ]
    },
    {
     "name": "stderr",
     "output_type": "stream",
     "text": [
      "Loading checkpoint shards: 100%|██████████| 3/3 [00:02<00:00,  1.12it/s]\n"
     ]
    },
    {
     "name": "stdout",
     "output_type": "stream",
     "text": [
      "Created GritLM: torch.bfloat16 dtype, mean pool, embedding mode, bbcc attn\n"
     ]
    },
    {
     "name": "stderr",
     "output_type": "stream",
     "text": [
      "Building Graph: 100%|██████████| 211654/211654 [00:00<00:00, 628090.94it/s]\n",
      "2024-07-11 14:18:02,794 - hipporag - INFO - Graph built: num vertices: 91729, num_edges: 211543\n",
      "2024-07-11 14:18:02,807 - hipporag - INFO - Loading node vectors from: data/lm_vectors/grit-7b_mean/encoded_strings.txt\n",
      "2024-07-11 14:18:04,960 - hipporag - INFO - 1 phrases did not have vectors.\n",
      "2024-07-11 14:18:05,081 - hipporag - INFO - Loaded doc embeddings from data/lm_vectors/grit-7b_mean/musique_doc_embeddings.p, shape: (11656, 4096)\n"
     ]
    },
    {
     "name": "stdout",
     "output_type": "stream",
     "text": [
      "[Errno 2] No such file or directory: 'output/ircot/ircot_results_musique_hipporag_grit-7b_demo_1_gpt-3_5-turbo-1106_doc_ensemble_0.9_step_1_top_10_sim_thresh_0.7_damping_0.5.json'\n",
      "Results file maybe empty, cannot be loaded.\n",
      "Loaded 0 results from output/ircot/ircot_results_musique_hipporag_grit-7b_demo_1_gpt-3_5-turbo-1106_doc_ensemble_0.9_step_1_top_10_sim_thresh_0.7_damping_0.5.json\n"
     ]
    },
    {
     "name": "stderr",
     "output_type": "stream",
     "text": [
      "IRCoT retrieval: 100%|██████████| 1000/1000 [02:41<00:00,  6.19it/s]\n"
     ]
    },
    {
     "name": "stdout",
     "output_type": "stream",
     "text": [
      "Saved 1000 results to output/ircot/ircot_results_musique_hipporag_grit-7b_demo_1_gpt-3_5-turbo-1106_doc_ensemble_0.9_step_1_top_10_sim_thresh_0.7_damping_0.5.json\n",
      "sim_threshold 0.6\n"
     ]
    },
    {
     "name": "stderr",
     "output_type": "stream",
     "text": [
      "Loading checkpoint shards: 100%|██████████| 3/3 [00:02<00:00,  1.08it/s]\n"
     ]
    },
    {
     "name": "stdout",
     "output_type": "stream",
     "text": [
      "Created GritLM: torch.bfloat16 dtype, mean pool, embedding mode, bbcc attn\n"
     ]
    },
    {
     "name": "stderr",
     "output_type": "stream",
     "text": [
      "Building Graph: 100%|██████████| 271371/271371 [00:00<00:00, 620603.95it/s]\n",
      "2024-07-11 14:20:59,321 - hipporag - INFO - Graph built: num vertices: 91729, num_edges: 271260\n",
      "2024-07-11 14:20:59,339 - hipporag - INFO - Loading node vectors from: data/lm_vectors/grit-7b_mean/encoded_strings.txt\n",
      "2024-07-11 14:21:01,510 - hipporag - INFO - 1 phrases did not have vectors.\n",
      "2024-07-11 14:21:01,630 - hipporag - INFO - Loaded doc embeddings from data/lm_vectors/grit-7b_mean/musique_doc_embeddings.p, shape: (11656, 4096)\n"
     ]
    },
    {
     "name": "stdout",
     "output_type": "stream",
     "text": [
      "[Errno 2] No such file or directory: 'output/ircot/ircot_results_musique_hipporag_grit-7b_demo_1_gpt-3_5-turbo-1106_doc_ensemble_0.9_step_1_top_10_sim_thresh_0.6_damping_0.5.json'\n",
      "Results file maybe empty, cannot be loaded.\n",
      "Loaded 0 results from output/ircot/ircot_results_musique_hipporag_grit-7b_demo_1_gpt-3_5-turbo-1106_doc_ensemble_0.9_step_1_top_10_sim_thresh_0.6_damping_0.5.json\n"
     ]
    },
    {
     "name": "stderr",
     "output_type": "stream",
     "text": [
      "IRCoT retrieval: 100%|██████████| 1000/1000 [02:52<00:00,  5.80it/s]\n"
     ]
    },
    {
     "name": "stdout",
     "output_type": "stream",
     "text": [
      "Saved 1000 results to output/ircot/ircot_results_musique_hipporag_grit-7b_demo_1_gpt-3_5-turbo-1106_doc_ensemble_0.9_step_1_top_10_sim_thresh_0.6_damping_0.5.json\n"
     ]
    }
   ],
   "source": [
    "results4=[]\n",
    "for sim_threshold in [0.8, 0.7, 0.6]:\n",
    "    print(\"sim_threshold\", sim_threshold)\n",
    "    # remove_new_files()\n",
    "    # create_graph_command = [\n",
    "    #     'python3', 'src/create_graph.py',\n",
    "    #     '--dataset', 'musique',\n",
    "    #     '--model_name', 'grit-7b',\n",
    "    #     '--extraction_model', 'gpt-3.5-turbo-1106',\n",
    "    #     '--threshold', str(sim_threshold),\n",
    "    #     '--extraction_type', 'ner',\n",
    "    #     '--create_graph', '--cosine_sim_edges'\n",
    "    # ]\n",
    "    # subprocess.run(create_graph_command, check=True)\n",
    "    ircot_hipporag_command = [\n",
    "        'python3', 'src/ircot_hipporag.py',\n",
    "        '--dataset', 'musique',\n",
    "        '--retriever', 'grit-7b',\n",
    "        '--max_steps', '1',\n",
    "        '--doc_ensemble', 't',\n",
    "        '--top_k', '10',\n",
    "        '--sim_threshold', str(sim_threshold),\n",
    "        '--damping', '0.5',\n",
    "        '--recognition_threshold', '0.9'\n",
    "    ]\n",
    "    subprocess.run(ircot_hipporag_command, check=True)\n",
    "    \n",
    "    # Define output path\n",
    "    output_path = f\"output/ircot/ircot_results_musique_hipporag_grit-7b_demo_1_gpt-3_5-turbo-1106_doc_ensemble_0.9_step_1_top_10_sim_thresh_{sim_threshold}_damping_0.5.json\"\n",
    "\n",
    "    \n",
    "    # Calculate recall mean\n",
    "    recall_mean = calculate_recall_mean(output_path)\n",
    "    \n",
    "    # Store the result\n",
    "    results4.append({\n",
    "        'filename': output_path,\n",
    "        'sim_threshold': sim_threshold,\n",
    "        'recognition_threshold': 0.9,\n",
    "        'recall_mean': recall_mean\n",
    "    })"
   ]
  },
  {
   "cell_type": "code",
   "execution_count": 16,
   "metadata": {},
   "outputs": [
    {
     "name": "stdout",
     "output_type": "stream",
     "text": [
      "sim_threshold 0.5\n"
     ]
    },
    {
     "name": "stderr",
     "output_type": "stream",
     "text": [
      "100%|██████████| 11656/11656 [00:01<00:00, 10992.46it/s]\n",
      "100%|██████████| 1006/1006 [00:00<00:00, 71588.03it/s]\n"
     ]
    },
    {
     "name": "stdout",
     "output_type": "stream",
     "text": [
      "Correct Wiki Format: 0 out of 11656\n",
      "Creating Graph\n"
     ]
    },
    {
     "name": "stderr",
     "output_type": "stream",
     "text": [
      "100%|██████████| 11656/11656 [00:00<00:00, 11798.30it/s]\n"
     ]
    },
    {
     "name": "stdout",
     "output_type": "stream",
     "text": [
      "Loading Vectors\n",
      "Augmenting Graph from Similarity\n"
     ]
    },
    {
     "name": "stderr",
     "output_type": "stream",
     "text": [
      "100%|██████████| 91729/91729 [00:06<00:00, 14576.40it/s]\n"
     ]
    },
    {
     "name": "stdout",
     "output_type": "stream",
     "text": [
      "Saving Graph\n",
      "                                                         1\n",
      "0                                                         \n",
      "Total Phrases                                       327435\n",
      "Unique Phrases                                       91729\n",
      "Number of Individual Triples                        109145\n",
      "Number of Incorrectly Formatted Triples (ChatGP...    1136\n",
      "Number of Triples w/o NER Entities (ChatGPT Error)    6762\n",
      "Number of Unique Individual Triples                 107448\n",
      "Number of Entities                                  218290\n",
      "Number of Relations                                 649108\n",
      "Number of Unique Entities                            91729\n",
      "Number of Synonymy Edges                            549326\n",
      "Number of Unique Relations                           21714\n"
     ]
    },
    {
     "name": "stderr",
     "output_type": "stream",
     "text": [
      "Loading checkpoint shards: 100%|██████████| 3/3 [00:02<00:00,  1.08it/s]\n"
     ]
    },
    {
     "name": "stdout",
     "output_type": "stream",
     "text": [
      "Created GritLM: torch.bfloat16 dtype, mean pool, embedding mode, bbcc attn\n"
     ]
    },
    {
     "name": "stderr",
     "output_type": "stream",
     "text": [
      "Building Graph: 100%|██████████| 746534/746534 [00:01<00:00, 490759.60it/s]\n",
      "2024-07-11 14:35:36,376 - hipporag - INFO - Graph built: num vertices: 91729, num_edges: 746423\n",
      "2024-07-11 14:35:36,433 - hipporag - INFO - Loading node vectors from: data/lm_vectors/grit-7b_mean/encoded_strings.txt\n",
      "2024-07-11 14:35:38,603 - hipporag - INFO - 1 phrases did not have vectors.\n",
      "2024-07-11 14:35:38,724 - hipporag - INFO - Loaded doc embeddings from data/lm_vectors/grit-7b_mean/musique_doc_embeddings.p, shape: (11656, 4096)\n"
     ]
    },
    {
     "name": "stdout",
     "output_type": "stream",
     "text": [
      "[Errno 2] No such file or directory: 'output/ircot/ircot_results_musique_hipporag_grit-7b_demo_1_gpt-3_5-turbo-1106_doc_ensemble_0.9_step_1_top_10_sim_thresh_0.5_damping_0.5.json'\n",
      "Results file maybe empty, cannot be loaded.\n",
      "Loaded 0 results from output/ircot/ircot_results_musique_hipporag_grit-7b_demo_1_gpt-3_5-turbo-1106_doc_ensemble_0.9_step_1_top_10_sim_thresh_0.5_damping_0.5.json\n"
     ]
    },
    {
     "name": "stderr",
     "output_type": "stream",
     "text": [
      "IRCoT retrieval: 100%|██████████| 1000/1000 [04:08<00:00,  4.03it/s]\n"
     ]
    },
    {
     "name": "stdout",
     "output_type": "stream",
     "text": [
      "Saved 1000 results to output/ircot/ircot_results_musique_hipporag_grit-7b_demo_1_gpt-3_5-turbo-1106_doc_ensemble_0.9_step_1_top_10_sim_thresh_0.5_damping_0.5.json\n",
      "sim_threshold 0.4\n"
     ]
    },
    {
     "name": "stderr",
     "output_type": "stream",
     "text": [
      "100%|██████████| 11656/11656 [00:01<00:00, 10934.50it/s]\n",
      "100%|██████████| 1006/1006 [00:00<00:00, 71434.11it/s]\n"
     ]
    },
    {
     "name": "stdout",
     "output_type": "stream",
     "text": [
      "Correct Wiki Format: 0 out of 11656\n",
      "Creating Graph\n"
     ]
    },
    {
     "name": "stderr",
     "output_type": "stream",
     "text": [
      "100%|██████████| 11656/11656 [00:00<00:00, 11843.97it/s]\n"
     ]
    },
    {
     "name": "stdout",
     "output_type": "stream",
     "text": [
      "Loading Vectors\n",
      "Augmenting Graph from Similarity\n"
     ]
    },
    {
     "name": "stderr",
     "output_type": "stream",
     "text": [
      "100%|██████████| 91729/91729 [00:27<00:00, 3378.63it/s]\n"
     ]
    },
    {
     "name": "stdout",
     "output_type": "stream",
     "text": [
      "Saving Graph\n",
      "                                                          1\n",
      "0                                                          \n",
      "Total Phrases                                        327435\n",
      "Unique Phrases                                        91729\n",
      "Number of Individual Triples                         109145\n",
      "Number of Incorrectly Formatted Triples (ChatGP...     1136\n",
      "Number of Triples w/o NER Entities (ChatGPT Error)     6762\n",
      "Number of Unique Individual Triples                  107448\n",
      "Number of Entities                                   218290\n",
      "Number of Relations                                 3509787\n",
      "Number of Unique Entities                             91729\n",
      "Number of Synonymy Edges                            3418728\n",
      "Number of Unique Relations                            21714\n"
     ]
    },
    {
     "name": "stderr",
     "output_type": "stream",
     "text": [
      "Loading checkpoint shards: 100%|██████████| 3/3 [00:02<00:00,  1.08it/s]\n"
     ]
    },
    {
     "name": "stdout",
     "output_type": "stream",
     "text": [
      "Created GritLM: torch.bfloat16 dtype, mean pool, embedding mode, bbcc attn\n"
     ]
    },
    {
     "name": "stderr",
     "output_type": "stream",
     "text": [
      "Building Graph: 100%|██████████| 3599197/3599197 [00:07<00:00, 500500.38it/s]\n",
      "2024-07-11 14:41:31,538 - hipporag - INFO - Graph built: num vertices: 91729, num_edges: 3599086\n",
      "2024-07-11 14:41:31,839 - hipporag - INFO - Loading node vectors from: data/lm_vectors/grit-7b_mean/encoded_strings.txt\n",
      "2024-07-11 14:41:34,072 - hipporag - INFO - 1 phrases did not have vectors.\n",
      "2024-07-11 14:41:34,192 - hipporag - INFO - Loaded doc embeddings from data/lm_vectors/grit-7b_mean/musique_doc_embeddings.p, shape: (11656, 4096)\n"
     ]
    },
    {
     "name": "stdout",
     "output_type": "stream",
     "text": [
      "[Errno 2] No such file or directory: 'output/ircot/ircot_results_musique_hipporag_grit-7b_demo_1_gpt-3_5-turbo-1106_doc_ensemble_0.9_step_1_top_10_sim_thresh_0.4_damping_0.5.json'\n",
      "Results file maybe empty, cannot be loaded.\n",
      "Loaded 0 results from output/ircot/ircot_results_musique_hipporag_grit-7b_demo_1_gpt-3_5-turbo-1106_doc_ensemble_0.9_step_1_top_10_sim_thresh_0.4_damping_0.5.json\n"
     ]
    },
    {
     "name": "stderr",
     "output_type": "stream",
     "text": [
      "IRCoT retrieval: 100%|██████████| 1000/1000 [12:12<00:00,  1.37it/s]\n"
     ]
    },
    {
     "name": "stdout",
     "output_type": "stream",
     "text": [
      "Saved 1000 results to output/ircot/ircot_results_musique_hipporag_grit-7b_demo_1_gpt-3_5-turbo-1106_doc_ensemble_0.9_step_1_top_10_sim_thresh_0.4_damping_0.5.json\n"
     ]
    }
   ],
   "source": [
    "for sim_threshold in [0.5, 0.4]:\n",
    "    print(\"sim_threshold\", sim_threshold)\n",
    "    # remove_new_files()\n",
    "    create_graph_command = [\n",
    "        'python3', 'src/create_graph.py',\n",
    "        '--dataset', 'musique',\n",
    "        '--model_name', 'grit-7b',\n",
    "        '--extraction_model', 'gpt-3.5-turbo-1106',\n",
    "        '--threshold', str(sim_threshold),\n",
    "        '--extraction_type', 'ner',\n",
    "        '--create_graph', '--cosine_sim_edges'\n",
    "    ]\n",
    "    subprocess.run(create_graph_command, check=True)\n",
    "    ircot_hipporag_command = [\n",
    "        'python3', 'src/ircot_hipporag.py',\n",
    "        '--dataset', 'musique',\n",
    "        '--retriever', 'grit-7b',\n",
    "        '--max_steps', '1',\n",
    "        '--doc_ensemble', 't',\n",
    "        '--top_k', '10',\n",
    "        '--sim_threshold', str(sim_threshold),\n",
    "        '--damping', '0.5',\n",
    "        '--recognition_threshold', '0.9'\n",
    "    ]\n",
    "    subprocess.run(ircot_hipporag_command, check=True)\n",
    "    \n",
    "    # Define output path\n",
    "    output_path = f\"output/ircot/ircot_results_musique_hipporag_grit-7b_demo_1_gpt-3_5-turbo-1106_doc_ensemble_0.9_step_1_top_10_sim_thresh_{sim_threshold}_damping_0.5.json\"\n",
    "\n",
    "    \n",
    "    # Calculate recall mean\n",
    "    recall_mean = calculate_recall_mean(output_path)\n",
    "    \n",
    "    # Store the result\n",
    "    results4.append({\n",
    "        'filename': output_path,\n",
    "        'sim_threshold': sim_threshold,\n",
    "        'recognition_threshold': 0.9,\n",
    "        'recall_mean': recall_mean\n",
    "    })"
   ]
  },
  {
   "cell_type": "code",
   "execution_count": 11,
   "metadata": {},
   "outputs": [
    {
     "name": "stdout",
     "output_type": "stream",
     "text": [
      "sim_threshold 0.525\n"
     ]
    },
    {
     "name": "stderr",
     "output_type": "stream",
     "text": [
      "100%|██████████| 11656/11656 [00:01<00:00, 9747.78it/s] \n",
      "  0%|          | 0/1006 [00:00<?, ?it/s]"
     ]
    },
    {
     "name": "stdout",
     "output_type": "stream",
     "text": [
      "Correct Wiki Format: 0 out of 11656\n"
     ]
    },
    {
     "name": "stderr",
     "output_type": "stream",
     "text": [
      "100%|██████████| 1006/1006 [00:00<00:00, 65737.14it/s]\n"
     ]
    },
    {
     "name": "stdout",
     "output_type": "stream",
     "text": [
      "Creating Graph\n"
     ]
    },
    {
     "name": "stderr",
     "output_type": "stream",
     "text": [
      "100%|██████████| 11656/11656 [00:00<00:00, 11811.23it/s]\n"
     ]
    },
    {
     "name": "stdout",
     "output_type": "stream",
     "text": [
      "Loading Vectors\n",
      "Augmenting Graph from Similarity\n"
     ]
    },
    {
     "name": "stderr",
     "output_type": "stream",
     "text": [
      "100%|██████████| 91729/91729 [00:04<00:00, 19908.84it/s]\n"
     ]
    },
    {
     "name": "stdout",
     "output_type": "stream",
     "text": [
      "Saving Graph\n",
      "                                                         1\n",
      "0                                                         \n",
      "Total Phrases                                       327435\n",
      "Unique Phrases                                       91729\n",
      "Number of Individual Triples                        109145\n",
      "Number of Incorrectly Formatted Triples (ChatGP...    1136\n",
      "Number of Triples w/o NER Entities (ChatGPT Error)    6762\n",
      "Number of Unique Individual Triples                 107448\n",
      "Number of Entities                                  218290\n",
      "Number of Relations                                 425825\n",
      "Number of Unique Entities                            91729\n",
      "Number of Synonymy Edges                            324701\n",
      "Number of Unique Relations                           21714\n"
     ]
    },
    {
     "name": "stderr",
     "output_type": "stream",
     "text": [
      "Loading checkpoint shards: 100%|██████████| 3/3 [00:02<00:00,  1.09it/s]\n"
     ]
    },
    {
     "name": "stdout",
     "output_type": "stream",
     "text": [
      "Created GritLM: torch.bfloat16 dtype, mean pool, embedding mode, bbcc attn\n"
     ]
    },
    {
     "name": "stderr",
     "output_type": "stream",
     "text": [
      "Building Graph: 100%|██████████| 524394/524394 [00:00<00:00, 599080.04it/s]\n",
      "2024-07-12 04:16:18,259 - hipporag - INFO - Graph built: num vertices: 91729, num_edges: 524283\n",
      "2024-07-12 04:16:18,312 - hipporag - INFO - Loading node vectors from: data/lm_vectors/grit-7b_mean/encoded_strings.txt\n",
      "2024-07-12 04:16:20,516 - hipporag - INFO - 1 phrases did not have vectors.\n",
      "2024-07-12 04:16:20,640 - hipporag - INFO - Loaded doc embeddings from data/lm_vectors/grit-7b_mean/musique_doc_embeddings.p, shape: (11656, 4096)\n"
     ]
    },
    {
     "name": "stdout",
     "output_type": "stream",
     "text": [
      "Loaded 1000 results from output/ircot/ircot_results_musique_hipporag_grit-7b_demo_1_gpt-3_5-turbo-1106_doc_ensemble_0.9_step_1_top_10_sim_thresh_0.525_damping_0.5.json\n",
      "R@1: 0.2759 R@2: 0.4233 R@5: 0.5882 R@10: 0.6935 R@15: 0.6935 R@20: 0.6935 R@30: 0.6935 R@40: 0.6935 R@50: 0.6935 R@80: 0.6935 R@100: 0.6935 \n"
     ]
    },
    {
     "name": "stderr",
     "output_type": "stream",
     "text": [
      "IRCoT retrieval: 100%|██████████| 1000/1000 [00:00<00:00, 1164760.90it/s]\n"
     ]
    },
    {
     "name": "stdout",
     "output_type": "stream",
     "text": [
      "Saved 1000 results to output/ircot/ircot_results_musique_hipporag_grit-7b_demo_1_gpt-3_5-turbo-1106_doc_ensemble_0.9_step_1_top_10_sim_thresh_0.525_damping_0.5.json\n"
     ]
    },
    {
     "ename": "NameError",
     "evalue": "name 'calculate_recall_mean' is not defined",
     "output_type": "error",
     "traceback": [
      "\u001b[0;31m---------------------------------------------------------------------------\u001b[0m",
      "\u001b[0;31mNameError\u001b[0m                                 Traceback (most recent call last)",
      "Cell \u001b[0;32mIn[11], line 33\u001b[0m\n\u001b[1;32m     29\u001b[0m output_path \u001b[38;5;241m=\u001b[39m \u001b[38;5;124mf\u001b[39m\u001b[38;5;124m\"\u001b[39m\u001b[38;5;124moutput/ircot/ircot_results_musique_hipporag_grit-7b_demo_1_gpt-3_5-turbo-1106_doc_ensemble_0.9_step_1_top_10_sim_thresh_\u001b[39m\u001b[38;5;132;01m{\u001b[39;00msim_threshold\u001b[38;5;132;01m}\u001b[39;00m\u001b[38;5;124m_damping_0.5.json\u001b[39m\u001b[38;5;124m\"\u001b[39m\n\u001b[1;32m     32\u001b[0m \u001b[38;5;66;03m# Calculate recall mean\u001b[39;00m\n\u001b[0;32m---> 33\u001b[0m recall_mean \u001b[38;5;241m=\u001b[39m \u001b[43mcalculate_recall_mean\u001b[49m(output_path)\n\u001b[1;32m     35\u001b[0m \u001b[38;5;66;03m# Store the result\u001b[39;00m\n\u001b[1;32m     36\u001b[0m results4\u001b[38;5;241m.\u001b[39mappend({\n\u001b[1;32m     37\u001b[0m     \u001b[38;5;124m'\u001b[39m\u001b[38;5;124mfilename\u001b[39m\u001b[38;5;124m'\u001b[39m: output_path,\n\u001b[1;32m     38\u001b[0m     \u001b[38;5;124m'\u001b[39m\u001b[38;5;124msim_threshold\u001b[39m\u001b[38;5;124m'\u001b[39m: sim_threshold,\n\u001b[1;32m     39\u001b[0m     \u001b[38;5;124m'\u001b[39m\u001b[38;5;124mrecognition_threshold\u001b[39m\u001b[38;5;124m'\u001b[39m: \u001b[38;5;241m0.9\u001b[39m,\n\u001b[1;32m     40\u001b[0m     \u001b[38;5;124m'\u001b[39m\u001b[38;5;124mrecall_mean\u001b[39m\u001b[38;5;124m'\u001b[39m: recall_mean\n\u001b[1;32m     41\u001b[0m })\n",
      "\u001b[0;31mNameError\u001b[0m: name 'calculate_recall_mean' is not defined"
     ]
    }
   ],
   "source": [
    "results4 = []\n",
    "for sim_threshold in [0.525, 0.55, 0.575]:\n",
    "    print(\"sim_threshold\", sim_threshold)\n",
    "    # remove_new_files()\n",
    "    create_graph_command = [\n",
    "        'python3', 'src/create_graph.py',\n",
    "        '--dataset', 'musique',\n",
    "        '--model_name', 'grit-7b',\n",
    "        '--extraction_model', 'gpt-3.5-turbo-1106',\n",
    "        '--threshold', str(sim_threshold),\n",
    "        '--extraction_type', 'ner',\n",
    "        '--create_graph', '--cosine_sim_edges'\n",
    "    ]\n",
    "    subprocess.run(create_graph_command, check=True)\n",
    "    ircot_hipporag_command = [\n",
    "        'python3', 'src/ircot_hipporag.py',\n",
    "        '--dataset', 'musique',\n",
    "        '--retriever', 'grit-7b',\n",
    "        '--max_steps', '1',\n",
    "        '--doc_ensemble', 't',\n",
    "        '--top_k', '10',\n",
    "        '--sim_threshold', str(sim_threshold),\n",
    "        '--damping', '0.5',\n",
    "        '--recognition_threshold', '0.9'\n",
    "    ]\n",
    "    subprocess.run(ircot_hipporag_command, check=True)\n",
    "    \n",
    "    # Define output path\n",
    "    output_path = f\"output/ircot/ircot_results_musique_hipporag_grit-7b_demo_1_gpt-3_5-turbo-1106_doc_ensemble_0.9_step_1_top_10_sim_thresh_{sim_threshold}_damping_0.5.json\"\n",
    "\n",
    "    \n",
    "    # Calculate recall mean\n",
    "    recall_mean = calculate_recall_mean(output_path)\n",
    "    \n",
    "    # Store the result\n",
    "    results4.append({\n",
    "        'filename': output_path,\n",
    "        'sim_threshold': sim_threshold,\n",
    "        'recognition_threshold': 0.9,\n",
    "        'recall_mean': recall_mean\n",
    "    })"
   ]
  },
  {
   "cell_type": "code",
   "execution_count": 19,
   "metadata": {},
   "outputs": [
    {
     "data": {
      "text/plain": [
       "[{'filename': 'output/ircot/ircot_results_musique_hipporag_grit-7b_demo_1_gpt-3_5-turbo-1106_doc_ensemble_0.9_step_1_top_10_sim_thresh_0.8_damping_0.5.json',\n",
       "  'sim_threshold': 0.8,\n",
       "  'recognition_threshold': 0.9,\n",
       "  'recall_mean': recall@1      0.270825\n",
       "  recall@2      0.400246\n",
       "  recall@5      0.584085\n",
       "  recall@10     0.684171\n",
       "  recall@15     0.684171\n",
       "  recall@20     0.684171\n",
       "  recall@30     0.684171\n",
       "  recall@40     0.684171\n",
       "  recall@50     0.684171\n",
       "  recall@80     0.684171\n",
       "  recall@100    0.684171\n",
       "  dtype: float64},\n",
       " {'filename': 'output/ircot/ircot_results_musique_hipporag_grit-7b_demo_1_gpt-3_5-turbo-1106_doc_ensemble_0.9_step_1_top_10_sim_thresh_0.7_damping_0.5.json',\n",
       "  'sim_threshold': 0.7,\n",
       "  'recognition_threshold': 0.9,\n",
       "  'recall_mean': recall@1      0.272159\n",
       "  recall@2      0.407246\n",
       "  recall@5      0.586419\n",
       "  recall@10     0.684921\n",
       "  recall@15     0.684921\n",
       "  recall@20     0.684921\n",
       "  recall@30     0.684921\n",
       "  recall@40     0.684921\n",
       "  recall@50     0.684921\n",
       "  recall@80     0.684921\n",
       "  recall@100    0.684921\n",
       "  dtype: float64},\n",
       " {'filename': 'output/ircot/ircot_results_musique_hipporag_grit-7b_demo_1_gpt-3_5-turbo-1106_doc_ensemble_0.9_step_1_top_10_sim_thresh_0.6_damping_0.5.json',\n",
       "  'sim_threshold': 0.6,\n",
       "  'recognition_threshold': 0.9,\n",
       "  'recall_mean': recall@1      0.275075\n",
       "  recall@2      0.409663\n",
       "  recall@5      0.587919\n",
       "  recall@10     0.688088\n",
       "  recall@15     0.688088\n",
       "  recall@20     0.688088\n",
       "  recall@30     0.688088\n",
       "  recall@40     0.688088\n",
       "  recall@50     0.688088\n",
       "  recall@80     0.688088\n",
       "  recall@100    0.688088\n",
       "  dtype: float64},\n",
       " {'filename': 'output/ircot/ircot_results_musique_hipporag_grit-7b_demo_1_gpt-3_5-turbo-1106_doc_ensemble_0.9_step_1_top_10_sim_thresh_0.5_damping_0.5.json',\n",
       "  'sim_threshold': 0.5,\n",
       "  'recognition_threshold': 0.9,\n",
       "  'recall_mean': recall@1      0.280408\n",
       "  recall@2      0.427914\n",
       "  recall@5      0.584086\n",
       "  recall@10     0.691588\n",
       "  recall@15     0.691588\n",
       "  recall@20     0.691588\n",
       "  recall@30     0.691588\n",
       "  recall@40     0.691588\n",
       "  recall@50     0.691588\n",
       "  recall@80     0.691588\n",
       "  recall@100    0.691588\n",
       "  dtype: float64},\n",
       " {'filename': 'output/ircot/ircot_results_musique_hipporag_grit-7b_demo_1_gpt-3_5-turbo-1106_doc_ensemble_0.9_step_1_top_10_sim_thresh_0.4_damping_0.5.json',\n",
       "  'sim_threshold': 0.4,\n",
       "  'recognition_threshold': 0.9,\n",
       "  'recall_mean': recall@1      0.282992\n",
       "  recall@2      0.421331\n",
       "  recall@5      0.579919\n",
       "  recall@10     0.677255\n",
       "  recall@15     0.677255\n",
       "  recall@20     0.677255\n",
       "  recall@30     0.677255\n",
       "  recall@40     0.677255\n",
       "  recall@50     0.677255\n",
       "  recall@80     0.677255\n",
       "  recall@100    0.677255\n",
       "  dtype: float64},\n",
       " {'filename': 'output/ircot/ircot_results_musique_hipporag_grit-7b_demo_1_gpt-3_5-turbo-1106_doc_ensemble_0.9_step_1_top_10_sim_thresh_0.525_damping_0.5.json',\n",
       "  'sim_threshold': 0.525,\n",
       "  'recognition_threshold': 0.9,\n",
       "  'recall_mean': recall@1      0.275909\n",
       "  recall@2      0.423331\n",
       "  recall@5      0.588169\n",
       "  recall@10     0.693504\n",
       "  recall@15     0.693504\n",
       "  recall@20     0.693504\n",
       "  recall@30     0.693504\n",
       "  recall@40     0.693504\n",
       "  recall@50     0.693504\n",
       "  recall@80     0.693504\n",
       "  recall@100    0.693504\n",
       "  dtype: float64},\n",
       " {'filename': 'output/ircot/ircot_results_musique_hipporag_grit-7b_demo_1_gpt-3_5-turbo-1106_doc_ensemble_0.9_step_1_top_10_sim_thresh_0.55_damping_0.5.json',\n",
       "  'sim_threshold': 0.55,\n",
       "  'recognition_threshold': 0.9,\n",
       "  'recall_mean': recall@1      0.277325\n",
       "  recall@2      0.420747\n",
       "  recall@5      0.586336\n",
       "  recall@10     0.690754\n",
       "  recall@15     0.690754\n",
       "  recall@20     0.690754\n",
       "  recall@30     0.690754\n",
       "  recall@40     0.690754\n",
       "  recall@50     0.690754\n",
       "  recall@80     0.690754\n",
       "  recall@100    0.690754\n",
       "  dtype: float64},\n",
       " {'filename': 'output/ircot/ircot_results_musique_hipporag_grit-7b_demo_1_gpt-3_5-turbo-1106_doc_ensemble_0.9_step_1_top_10_sim_thresh_0.575_damping_0.5.json',\n",
       "  'sim_threshold': 0.575,\n",
       "  'recognition_threshold': 0.9,\n",
       "  'recall_mean': recall@1      0.275992\n",
       "  recall@2      0.417413\n",
       "  recall@5      0.586419\n",
       "  recall@10     0.686671\n",
       "  recall@15     0.686671\n",
       "  recall@20     0.686671\n",
       "  recall@30     0.686671\n",
       "  recall@40     0.686671\n",
       "  recall@50     0.686671\n",
       "  recall@80     0.686671\n",
       "  recall@100    0.686671\n",
       "  dtype: float64}]"
      ]
     },
     "execution_count": 19,
     "metadata": {},
     "output_type": "execute_result"
    }
   ],
   "source": [
    "results4"
   ]
  }
 ],
 "metadata": {
  "kernelspec": {
   "display_name": "hipporag",
   "language": "python",
   "name": "python3"
  },
  "language_info": {
   "codemirror_mode": {
    "name": "ipython",
    "version": 3
   },
   "file_extension": ".py",
   "mimetype": "text/x-python",
   "name": "python",
   "nbconvert_exporter": "python",
   "pygments_lexer": "ipython3",
   "version": "3.9.19"
  }
 },
 "nbformat": 4,
 "nbformat_minor": 2
}
